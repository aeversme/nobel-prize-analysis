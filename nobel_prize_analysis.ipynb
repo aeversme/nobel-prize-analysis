{
 "cells": [
  {
   "cell_type": "markdown",
   "metadata": {
    "id": "FuDxBL8UamHp"
   },
   "source": [
    "# Setup and Context"
   ]
  },
  {
   "cell_type": "markdown",
   "metadata": {
    "id": "9vYVhf9vo7LK"
   },
   "source": [
    "### Introduction\n",
    "\n",
    "On November 27, 1895, Alfred Nobel signed his last will in Paris. When it was opened after his death, the will caused a lot of controversy, as Nobel had left much of his wealth for the establishment of a prize.\n",
    "\n",
    "Alfred Nobel dictates that his entire remaining estate should be used to endow “prizes to those who, during the preceding year, have conferred the greatest benefit to humankind”.\n",
    "\n",
    "Every year the Nobel Prize is given to scientists and scholars in the categories chemistry, literature, physics, physiology or medicine, economics, and peace. \n",
    "\n",
    "<img src=https://i.imgur.com/36pCx5Q.jpg>\n",
    "\n",
    "Let's see what patterns we can find in the data of the past Nobel laureates. What can we learn about the Nobel prize and our world more generally?"
   ]
  },
  {
   "cell_type": "markdown",
   "metadata": {
    "id": "QPnGYVYyo7LK"
   },
   "source": [
    "### Import Statements"
   ]
  },
  {
   "cell_type": "code",
   "execution_count": 69,
   "metadata": {
    "id": "dCIwm0dLo7LL"
   },
   "outputs": [],
   "source": [
    "import pandas as pd\n",
    "import numpy as np\n",
    "import plotly.express as px\n",
    "import seaborn as sns\n",
    "import matplotlib.pyplot as plt"
   ]
  },
  {
   "cell_type": "markdown",
   "metadata": {
    "id": "FcJY6qfNo7LN"
   },
   "source": [
    "### Notebook Presentation"
   ]
  },
  {
   "cell_type": "code",
   "execution_count": 70,
   "metadata": {
    "id": "RjzC6BoMo7LO"
   },
   "outputs": [],
   "source": [
    "pd.options.display.float_format = '{:,.2f}'.format"
   ]
  },
  {
   "cell_type": "markdown",
   "metadata": {
    "id": "eoQ5Af4wo7LQ"
   },
   "source": [
    "### Read the Data"
   ]
  },
  {
   "cell_type": "code",
   "execution_count": 71,
   "metadata": {
    "id": "EbVGyi7Eo7LQ"
   },
   "outputs": [],
   "source": [
    "df_data = pd.read_csv('nobel_prize_data.csv')"
   ]
  },
  {
   "cell_type": "markdown",
   "metadata": {
    "id": "XZzHD-1dKKbr"
   },
   "source": [
    "Caveats: The exact birth dates for Michael Houghton, Venkatraman Ramakrishnan, and Nadia Murad are unknown. I've substituted them with mid-year estimate of July 2nd. \n"
   ]
  },
  {
   "cell_type": "markdown",
   "metadata": {
    "id": "rYlGEluAo7LS"
   },
   "source": [
    "# Data Exploration & Cleaning\n",
    "\n",
    "**Challenge**: Preliminary data exploration. \n",
    "* What is the shape of `df_data`? How many rows and columns?\n",
    "* What are the column names?\n",
    "* In which year was the Nobel prize first awarded?\n",
    "* Which year is the latest year included in the dataset?"
   ]
  },
  {
   "cell_type": "code",
   "execution_count": 72,
   "metadata": {
    "id": "4U-OQVRbFOu6"
   },
   "outputs": [
    {
     "name": "stdout",
     "output_type": "stream",
     "text": [
      "Rows: 962\n",
      "Columns: 16\n"
     ]
    },
    {
     "data": {
      "text/plain": [
       "Index(['year', 'category', 'prize', 'motivation', 'prize_share',\n",
       "       'laureate_type', 'full_name', 'birth_date', 'birth_city',\n",
       "       'birth_country', 'birth_country_current', 'sex', 'organization_name',\n",
       "       'organization_city', 'organization_country', 'ISO'],\n",
       "      dtype='object')"
      ]
     },
     "execution_count": 72,
     "metadata": {},
     "output_type": "execute_result"
    }
   ],
   "source": [
    "data = df_data.copy()\n",
    "\n",
    "print(f'Rows: {data.shape[0]}')\n",
    "print(f'Columns: {data.shape[1]}')\n",
    "data.columns"
   ]
  },
  {
   "cell_type": "code",
   "execution_count": 73,
   "metadata": {
    "id": "Iy6cDcXAFOsV"
   },
   "outputs": [
    {
     "data": {
      "text/html": [
       "<div>\n",
       "<style scoped>\n",
       "    .dataframe tbody tr th:only-of-type {\n",
       "        vertical-align: middle;\n",
       "    }\n",
       "\n",
       "    .dataframe tbody tr th {\n",
       "        vertical-align: top;\n",
       "    }\n",
       "\n",
       "    .dataframe thead th {\n",
       "        text-align: right;\n",
       "    }\n",
       "</style>\n",
       "<table border=\"1\" class=\"dataframe\">\n",
       "  <thead>\n",
       "    <tr style=\"text-align: right;\">\n",
       "      <th></th>\n",
       "      <th>year</th>\n",
       "      <th>category</th>\n",
       "      <th>prize</th>\n",
       "      <th>motivation</th>\n",
       "      <th>prize_share</th>\n",
       "      <th>laureate_type</th>\n",
       "      <th>full_name</th>\n",
       "      <th>birth_date</th>\n",
       "      <th>birth_city</th>\n",
       "      <th>birth_country</th>\n",
       "      <th>birth_country_current</th>\n",
       "      <th>sex</th>\n",
       "      <th>organization_name</th>\n",
       "      <th>organization_city</th>\n",
       "      <th>organization_country</th>\n",
       "      <th>ISO</th>\n",
       "    </tr>\n",
       "  </thead>\n",
       "  <tbody>\n",
       "    <tr>\n",
       "      <th>0</th>\n",
       "      <td>1901</td>\n",
       "      <td>Chemistry</td>\n",
       "      <td>The Nobel Prize in Chemistry 1901</td>\n",
       "      <td>\"in recognition of the extraordinary services ...</td>\n",
       "      <td>1/1</td>\n",
       "      <td>Individual</td>\n",
       "      <td>Jacobus Henricus van 't Hoff</td>\n",
       "      <td>1852-08-30</td>\n",
       "      <td>Rotterdam</td>\n",
       "      <td>Netherlands</td>\n",
       "      <td>Netherlands</td>\n",
       "      <td>Male</td>\n",
       "      <td>Berlin University</td>\n",
       "      <td>Berlin</td>\n",
       "      <td>Germany</td>\n",
       "      <td>NLD</td>\n",
       "    </tr>\n",
       "    <tr>\n",
       "      <th>1</th>\n",
       "      <td>1901</td>\n",
       "      <td>Literature</td>\n",
       "      <td>The Nobel Prize in Literature 1901</td>\n",
       "      <td>\"in special recognition of his poetic composit...</td>\n",
       "      <td>1/1</td>\n",
       "      <td>Individual</td>\n",
       "      <td>Sully Prudhomme</td>\n",
       "      <td>1839-03-16</td>\n",
       "      <td>Paris</td>\n",
       "      <td>France</td>\n",
       "      <td>France</td>\n",
       "      <td>Male</td>\n",
       "      <td>NaN</td>\n",
       "      <td>NaN</td>\n",
       "      <td>NaN</td>\n",
       "      <td>FRA</td>\n",
       "    </tr>\n",
       "    <tr>\n",
       "      <th>2</th>\n",
       "      <td>1901</td>\n",
       "      <td>Medicine</td>\n",
       "      <td>The Nobel Prize in Physiology or Medicine 1901</td>\n",
       "      <td>\"for his work on serum therapy, especially its...</td>\n",
       "      <td>1/1</td>\n",
       "      <td>Individual</td>\n",
       "      <td>Emil Adolf von Behring</td>\n",
       "      <td>1854-03-15</td>\n",
       "      <td>Hansdorf (Lawice)</td>\n",
       "      <td>Prussia (Poland)</td>\n",
       "      <td>Poland</td>\n",
       "      <td>Male</td>\n",
       "      <td>Marburg University</td>\n",
       "      <td>Marburg</td>\n",
       "      <td>Germany</td>\n",
       "      <td>POL</td>\n",
       "    </tr>\n",
       "    <tr>\n",
       "      <th>3</th>\n",
       "      <td>1901</td>\n",
       "      <td>Peace</td>\n",
       "      <td>The Nobel Peace Prize 1901</td>\n",
       "      <td>NaN</td>\n",
       "      <td>1/2</td>\n",
       "      <td>Individual</td>\n",
       "      <td>Frédéric Passy</td>\n",
       "      <td>1822-05-20</td>\n",
       "      <td>Paris</td>\n",
       "      <td>France</td>\n",
       "      <td>France</td>\n",
       "      <td>Male</td>\n",
       "      <td>NaN</td>\n",
       "      <td>NaN</td>\n",
       "      <td>NaN</td>\n",
       "      <td>FRA</td>\n",
       "    </tr>\n",
       "    <tr>\n",
       "      <th>4</th>\n",
       "      <td>1901</td>\n",
       "      <td>Peace</td>\n",
       "      <td>The Nobel Peace Prize 1901</td>\n",
       "      <td>NaN</td>\n",
       "      <td>1/2</td>\n",
       "      <td>Individual</td>\n",
       "      <td>Jean Henry Dunant</td>\n",
       "      <td>1828-05-08</td>\n",
       "      <td>Geneva</td>\n",
       "      <td>Switzerland</td>\n",
       "      <td>Switzerland</td>\n",
       "      <td>Male</td>\n",
       "      <td>NaN</td>\n",
       "      <td>NaN</td>\n",
       "      <td>NaN</td>\n",
       "      <td>CHE</td>\n",
       "    </tr>\n",
       "    <tr>\n",
       "      <th>...</th>\n",
       "      <td>...</td>\n",
       "      <td>...</td>\n",
       "      <td>...</td>\n",
       "      <td>...</td>\n",
       "      <td>...</td>\n",
       "      <td>...</td>\n",
       "      <td>...</td>\n",
       "      <td>...</td>\n",
       "      <td>...</td>\n",
       "      <td>...</td>\n",
       "      <td>...</td>\n",
       "      <td>...</td>\n",
       "      <td>...</td>\n",
       "      <td>...</td>\n",
       "      <td>...</td>\n",
       "      <td>...</td>\n",
       "    </tr>\n",
       "    <tr>\n",
       "      <th>951</th>\n",
       "      <td>2020</td>\n",
       "      <td>Chemistry</td>\n",
       "      <td>The Nobel Prize in Chemistry 2020</td>\n",
       "      <td>“for the development of a method for genome ed...</td>\n",
       "      <td>1/2</td>\n",
       "      <td>Individual</td>\n",
       "      <td>Jennifer A. Doudna</td>\n",
       "      <td>1964-02-19</td>\n",
       "      <td>Washington, DC</td>\n",
       "      <td>United States of America</td>\n",
       "      <td>United States of America</td>\n",
       "      <td>Female</td>\n",
       "      <td>University of California</td>\n",
       "      <td>Berkeley, CA</td>\n",
       "      <td>United States of America</td>\n",
       "      <td>USA</td>\n",
       "    </tr>\n",
       "    <tr>\n",
       "      <th>950</th>\n",
       "      <td>2020</td>\n",
       "      <td>Chemistry</td>\n",
       "      <td>The Nobel Prize in Chemistry 2020</td>\n",
       "      <td>“for the development of a method for genome ed...</td>\n",
       "      <td>1/2</td>\n",
       "      <td>Individual</td>\n",
       "      <td>Emmanuelle Charpentier</td>\n",
       "      <td>1968-12-11</td>\n",
       "      <td>Juvisy-sur-Orge</td>\n",
       "      <td>France</td>\n",
       "      <td>France</td>\n",
       "      <td>Female</td>\n",
       "      <td>Max-Planck-Institut</td>\n",
       "      <td>Berlin</td>\n",
       "      <td>Germany</td>\n",
       "      <td>FRA</td>\n",
       "    </tr>\n",
       "    <tr>\n",
       "      <th>960</th>\n",
       "      <td>2020</td>\n",
       "      <td>Physics</td>\n",
       "      <td>The Nobel Prize in Physics 2020</td>\n",
       "      <td>“for the discovery of a supermassive compact o...</td>\n",
       "      <td>1/4</td>\n",
       "      <td>Individual</td>\n",
       "      <td>Reinhard Genzel</td>\n",
       "      <td>1952-03-24</td>\n",
       "      <td>Bad Homburg vor der Höhe</td>\n",
       "      <td>Germany</td>\n",
       "      <td>Germany</td>\n",
       "      <td>Male</td>\n",
       "      <td>University of California</td>\n",
       "      <td>Los Angeles, CA</td>\n",
       "      <td>United States of America</td>\n",
       "      <td>DEU</td>\n",
       "    </tr>\n",
       "    <tr>\n",
       "      <th>954</th>\n",
       "      <td>2020</td>\n",
       "      <td>Literature</td>\n",
       "      <td>The Nobel Prize in Literature 2020</td>\n",
       "      <td>“for her unmistakable poetic voice that with a...</td>\n",
       "      <td>1/1</td>\n",
       "      <td>Individual</td>\n",
       "      <td>Louise Glück</td>\n",
       "      <td>1943-04-22</td>\n",
       "      <td>New York, NY</td>\n",
       "      <td>United States of America</td>\n",
       "      <td>United States of America</td>\n",
       "      <td>Female</td>\n",
       "      <td>NaN</td>\n",
       "      <td>NaN</td>\n",
       "      <td>NaN</td>\n",
       "      <td>USA</td>\n",
       "    </tr>\n",
       "    <tr>\n",
       "      <th>961</th>\n",
       "      <td>2020</td>\n",
       "      <td>Physics</td>\n",
       "      <td>The Nobel Prize in Physics 2020</td>\n",
       "      <td>“for the discovery that black hole formation i...</td>\n",
       "      <td>1/2</td>\n",
       "      <td>Individual</td>\n",
       "      <td>Roger Penrose</td>\n",
       "      <td>1931-08-08</td>\n",
       "      <td>Colchester</td>\n",
       "      <td>United Kingdom</td>\n",
       "      <td>United Kingdom</td>\n",
       "      <td>Male</td>\n",
       "      <td>University of Oxford</td>\n",
       "      <td>Oxford</td>\n",
       "      <td>United Kingdom</td>\n",
       "      <td>GBR</td>\n",
       "    </tr>\n",
       "  </tbody>\n",
       "</table>\n",
       "<p>962 rows × 16 columns</p>\n",
       "</div>"
      ],
      "text/plain": [
       "     year    category                                           prize  \\\n",
       "0    1901   Chemistry               The Nobel Prize in Chemistry 1901   \n",
       "1    1901  Literature              The Nobel Prize in Literature 1901   \n",
       "2    1901    Medicine  The Nobel Prize in Physiology or Medicine 1901   \n",
       "3    1901       Peace                      The Nobel Peace Prize 1901   \n",
       "4    1901       Peace                      The Nobel Peace Prize 1901   \n",
       "..    ...         ...                                             ...   \n",
       "951  2020   Chemistry               The Nobel Prize in Chemistry 2020   \n",
       "950  2020   Chemistry               The Nobel Prize in Chemistry 2020   \n",
       "960  2020     Physics                 The Nobel Prize in Physics 2020   \n",
       "954  2020  Literature              The Nobel Prize in Literature 2020   \n",
       "961  2020     Physics                 The Nobel Prize in Physics 2020   \n",
       "\n",
       "                                            motivation prize_share  \\\n",
       "0    \"in recognition of the extraordinary services ...         1/1   \n",
       "1    \"in special recognition of his poetic composit...         1/1   \n",
       "2    \"for his work on serum therapy, especially its...         1/1   \n",
       "3                                                  NaN         1/2   \n",
       "4                                                  NaN         1/2   \n",
       "..                                                 ...         ...   \n",
       "951  “for the development of a method for genome ed...         1/2   \n",
       "950  “for the development of a method for genome ed...         1/2   \n",
       "960  “for the discovery of a supermassive compact o...         1/4   \n",
       "954  “for her unmistakable poetic voice that with a...         1/1   \n",
       "961  “for the discovery that black hole formation i...         1/2   \n",
       "\n",
       "    laureate_type                     full_name  birth_date  \\\n",
       "0      Individual  Jacobus Henricus van 't Hoff  1852-08-30   \n",
       "1      Individual               Sully Prudhomme  1839-03-16   \n",
       "2      Individual        Emil Adolf von Behring  1854-03-15   \n",
       "3      Individual                Frédéric Passy  1822-05-20   \n",
       "4      Individual             Jean Henry Dunant  1828-05-08   \n",
       "..            ...                           ...         ...   \n",
       "951    Individual            Jennifer A. Doudna  1964-02-19   \n",
       "950    Individual        Emmanuelle Charpentier  1968-12-11   \n",
       "960    Individual               Reinhard Genzel  1952-03-24   \n",
       "954    Individual                  Louise Glück  1943-04-22   \n",
       "961    Individual                 Roger Penrose  1931-08-08   \n",
       "\n",
       "                   birth_city             birth_country  \\\n",
       "0                   Rotterdam               Netherlands   \n",
       "1                       Paris                    France   \n",
       "2           Hansdorf (Lawice)          Prussia (Poland)   \n",
       "3                       Paris                    France   \n",
       "4                      Geneva               Switzerland   \n",
       "..                        ...                       ...   \n",
       "951            Washington, DC  United States of America   \n",
       "950           Juvisy-sur-Orge                    France   \n",
       "960  Bad Homburg vor der Höhe                   Germany   \n",
       "954              New York, NY  United States of America   \n",
       "961                Colchester            United Kingdom   \n",
       "\n",
       "        birth_country_current     sex         organization_name  \\\n",
       "0                 Netherlands    Male         Berlin University   \n",
       "1                      France    Male                       NaN   \n",
       "2                      Poland    Male        Marburg University   \n",
       "3                      France    Male                       NaN   \n",
       "4                 Switzerland    Male                       NaN   \n",
       "..                        ...     ...                       ...   \n",
       "951  United States of America  Female  University of California   \n",
       "950                    France  Female       Max-Planck-Institut   \n",
       "960                   Germany    Male  University of California   \n",
       "954  United States of America  Female                       NaN   \n",
       "961            United Kingdom    Male      University of Oxford   \n",
       "\n",
       "    organization_city      organization_country  ISO  \n",
       "0              Berlin                   Germany  NLD  \n",
       "1                 NaN                       NaN  FRA  \n",
       "2             Marburg                   Germany  POL  \n",
       "3                 NaN                       NaN  FRA  \n",
       "4                 NaN                       NaN  CHE  \n",
       "..                ...                       ...  ...  \n",
       "951      Berkeley, CA  United States of America  USA  \n",
       "950            Berlin                   Germany  FRA  \n",
       "960   Los Angeles, CA  United States of America  DEU  \n",
       "954               NaN                       NaN  USA  \n",
       "961            Oxford            United Kingdom  GBR  \n",
       "\n",
       "[962 rows x 16 columns]"
      ]
     },
     "execution_count": 73,
     "metadata": {},
     "output_type": "execute_result"
    }
   ],
   "source": [
    "data.sort_values('year')"
   ]
  },
  {
   "cell_type": "markdown",
   "metadata": {},
   "source": [
    "The Nobel Prize was first awarded in 1901, and the dataset includes Nobel Prizes as recently-awarded as 2020."
   ]
  },
  {
   "cell_type": "markdown",
   "metadata": {
    "id": "SjA1sZPPMH_Y"
   },
   "source": [
    "**Challange**: \n",
    "* Are there any duplicate values in the dataset?\n",
    "* Are there NaN values in the dataset?\n",
    "* Which columns tend to have NaN values?\n",
    "* How many NaN values are there per column? \n",
    "* Why do these columns have NaN values?  "
   ]
  },
  {
   "cell_type": "markdown",
   "metadata": {
    "id": "q1EuEZV7o7Lb"
   },
   "source": [
    "### Check for Duplicates"
   ]
  },
  {
   "cell_type": "code",
   "execution_count": 74,
   "metadata": {
    "id": "v976ftCaFRFN"
   },
   "outputs": [
    {
     "data": {
      "text/plain": [
       "False"
      ]
     },
     "execution_count": 74,
     "metadata": {},
     "output_type": "execute_result"
    }
   ],
   "source": [
    "data.duplicated().values.any()"
   ]
  },
  {
   "cell_type": "code",
   "execution_count": 75,
   "metadata": {
    "id": "gvpa0A0OFQ4z"
   },
   "outputs": [
    {
     "data": {
      "text/plain": [
       "True"
      ]
     },
     "execution_count": 75,
     "metadata": {},
     "output_type": "execute_result"
    }
   ],
   "source": [
    "data.isna().values.any()"
   ]
  },
  {
   "cell_type": "markdown",
   "metadata": {
    "id": "w69xDtpzo7Ld"
   },
   "source": [
    "### Check for NaN Values"
   ]
  },
  {
   "cell_type": "code",
   "execution_count": 76,
   "metadata": {
    "id": "HgbI5sQNFStg"
   },
   "outputs": [
    {
     "data": {
      "text/plain": [
       "year                     False\n",
       "category                 False\n",
       "prize                    False\n",
       "motivation                True\n",
       "prize_share              False\n",
       "laureate_type            False\n",
       "full_name                False\n",
       "birth_date                True\n",
       "birth_city                True\n",
       "birth_country             True\n",
       "birth_country_current     True\n",
       "sex                       True\n",
       "organization_name         True\n",
       "organization_city         True\n",
       "organization_country      True\n",
       "ISO                       True\n",
       "dtype: bool"
      ]
     },
     "execution_count": 76,
     "metadata": {},
     "output_type": "execute_result"
    }
   ],
   "source": [
    "data.isna().any()"
   ]
  },
  {
   "cell_type": "code",
   "execution_count": 77,
   "metadata": {
    "id": "O2zgruevFSyV"
   },
   "outputs": [
    {
     "data": {
      "text/plain": [
       "1023"
      ]
     },
     "execution_count": 77,
     "metadata": {},
     "output_type": "execute_result"
    }
   ],
   "source": [
    "data.isna().sum().sum()"
   ]
  },
  {
   "cell_type": "code",
   "execution_count": 78,
   "metadata": {
    "id": "aTU9T9xnFTQY"
   },
   "outputs": [
    {
     "data": {
      "text/plain": [
       "year                       0\n",
       "category                   0\n",
       "prize                      0\n",
       "motivation                88\n",
       "prize_share                0\n",
       "laureate_type              0\n",
       "full_name                  0\n",
       "birth_date                28\n",
       "birth_city                31\n",
       "birth_country             28\n",
       "birth_country_current     28\n",
       "sex                       28\n",
       "organization_name        255\n",
       "organization_city        255\n",
       "organization_country     254\n",
       "ISO                       28\n",
       "dtype: int64"
      ]
     },
     "execution_count": 78,
     "metadata": {},
     "output_type": "execute_result"
    }
   ],
   "source": [
    "data.isna().sum()"
   ]
  },
  {
   "cell_type": "code",
   "execution_count": 79,
   "metadata": {},
   "outputs": [
    {
     "data": {
      "text/html": [
       "<div>\n",
       "<style scoped>\n",
       "    .dataframe tbody tr th:only-of-type {\n",
       "        vertical-align: middle;\n",
       "    }\n",
       "\n",
       "    .dataframe tbody tr th {\n",
       "        vertical-align: top;\n",
       "    }\n",
       "\n",
       "    .dataframe thead th {\n",
       "        text-align: right;\n",
       "    }\n",
       "</style>\n",
       "<table border=\"1\" class=\"dataframe\">\n",
       "  <thead>\n",
       "    <tr style=\"text-align: right;\">\n",
       "      <th></th>\n",
       "      <th>year</th>\n",
       "      <th>category</th>\n",
       "      <th>laureate_type</th>\n",
       "      <th>birth_date</th>\n",
       "      <th>full_name</th>\n",
       "      <th>organization_name</th>\n",
       "    </tr>\n",
       "  </thead>\n",
       "  <tbody>\n",
       "    <tr>\n",
       "      <th>24</th>\n",
       "      <td>1904</td>\n",
       "      <td>Peace</td>\n",
       "      <td>Organization</td>\n",
       "      <td>NaN</td>\n",
       "      <td>Institut de droit international (Institute of ...</td>\n",
       "      <td>NaN</td>\n",
       "    </tr>\n",
       "    <tr>\n",
       "      <th>60</th>\n",
       "      <td>1910</td>\n",
       "      <td>Peace</td>\n",
       "      <td>Organization</td>\n",
       "      <td>NaN</td>\n",
       "      <td>Bureau international permanent de la Paix (Per...</td>\n",
       "      <td>NaN</td>\n",
       "    </tr>\n",
       "    <tr>\n",
       "      <th>89</th>\n",
       "      <td>1917</td>\n",
       "      <td>Peace</td>\n",
       "      <td>Organization</td>\n",
       "      <td>NaN</td>\n",
       "      <td>Comité international de la Croix Rouge (Intern...</td>\n",
       "      <td>NaN</td>\n",
       "    </tr>\n",
       "    <tr>\n",
       "      <th>200</th>\n",
       "      <td>1938</td>\n",
       "      <td>Peace</td>\n",
       "      <td>Organization</td>\n",
       "      <td>NaN</td>\n",
       "      <td>Office international Nansen pour les Réfugiés ...</td>\n",
       "      <td>NaN</td>\n",
       "    </tr>\n",
       "    <tr>\n",
       "      <th>215</th>\n",
       "      <td>1944</td>\n",
       "      <td>Peace</td>\n",
       "      <td>Organization</td>\n",
       "      <td>NaN</td>\n",
       "      <td>Comité international de la Croix Rouge (Intern...</td>\n",
       "      <td>NaN</td>\n",
       "    </tr>\n",
       "    <tr>\n",
       "      <th>237</th>\n",
       "      <td>1947</td>\n",
       "      <td>Peace</td>\n",
       "      <td>Organization</td>\n",
       "      <td>NaN</td>\n",
       "      <td>American Friends Service Committee (The Quakers)</td>\n",
       "      <td>NaN</td>\n",
       "    </tr>\n",
       "    <tr>\n",
       "      <th>238</th>\n",
       "      <td>1947</td>\n",
       "      <td>Peace</td>\n",
       "      <td>Organization</td>\n",
       "      <td>NaN</td>\n",
       "      <td>Friends Service Council (The Quakers)</td>\n",
       "      <td>NaN</td>\n",
       "    </tr>\n",
       "    <tr>\n",
       "      <th>283</th>\n",
       "      <td>1954</td>\n",
       "      <td>Peace</td>\n",
       "      <td>Organization</td>\n",
       "      <td>NaN</td>\n",
       "      <td>Office of the United Nations High Commissioner...</td>\n",
       "      <td>NaN</td>\n",
       "    </tr>\n",
       "    <tr>\n",
       "      <th>348</th>\n",
       "      <td>1963</td>\n",
       "      <td>Peace</td>\n",
       "      <td>Organization</td>\n",
       "      <td>NaN</td>\n",
       "      <td>Comité international de la Croix Rouge (Intern...</td>\n",
       "      <td>NaN</td>\n",
       "    </tr>\n",
       "    <tr>\n",
       "      <th>349</th>\n",
       "      <td>1963</td>\n",
       "      <td>Peace</td>\n",
       "      <td>Organization</td>\n",
       "      <td>NaN</td>\n",
       "      <td>Ligue des Sociétés de la Croix-Rouge (League o...</td>\n",
       "      <td>NaN</td>\n",
       "    </tr>\n",
       "    <tr>\n",
       "      <th>366</th>\n",
       "      <td>1965</td>\n",
       "      <td>Peace</td>\n",
       "      <td>Organization</td>\n",
       "      <td>NaN</td>\n",
       "      <td>United Nations Children's Fund (UNICEF)</td>\n",
       "      <td>NaN</td>\n",
       "    </tr>\n",
       "    <tr>\n",
       "      <th>399</th>\n",
       "      <td>1969</td>\n",
       "      <td>Peace</td>\n",
       "      <td>Organization</td>\n",
       "      <td>NaN</td>\n",
       "      <td>International Labour Organization (I.L.O.)</td>\n",
       "      <td>NaN</td>\n",
       "    </tr>\n",
       "    <tr>\n",
       "      <th>479</th>\n",
       "      <td>1977</td>\n",
       "      <td>Peace</td>\n",
       "      <td>Organization</td>\n",
       "      <td>NaN</td>\n",
       "      <td>Amnesty International</td>\n",
       "      <td>NaN</td>\n",
       "    </tr>\n",
       "    <tr>\n",
       "      <th>523</th>\n",
       "      <td>1981</td>\n",
       "      <td>Peace</td>\n",
       "      <td>Organization</td>\n",
       "      <td>NaN</td>\n",
       "      <td>Office of the United Nations High Commissioner...</td>\n",
       "      <td>NaN</td>\n",
       "    </tr>\n",
       "    <tr>\n",
       "      <th>558</th>\n",
       "      <td>1985</td>\n",
       "      <td>Peace</td>\n",
       "      <td>Organization</td>\n",
       "      <td>NaN</td>\n",
       "      <td>International Physicians for the Prevention of...</td>\n",
       "      <td>NaN</td>\n",
       "    </tr>\n",
       "    <tr>\n",
       "      <th>588</th>\n",
       "      <td>1988</td>\n",
       "      <td>Peace</td>\n",
       "      <td>Organization</td>\n",
       "      <td>NaN</td>\n",
       "      <td>United Nations Peacekeeping Forces</td>\n",
       "      <td>NaN</td>\n",
       "    </tr>\n",
       "    <tr>\n",
       "      <th>659</th>\n",
       "      <td>1995</td>\n",
       "      <td>Peace</td>\n",
       "      <td>Organization</td>\n",
       "      <td>NaN</td>\n",
       "      <td>Pugwash Conferences on Science and World Affairs</td>\n",
       "      <td>NaN</td>\n",
       "    </tr>\n",
       "    <tr>\n",
       "      <th>682</th>\n",
       "      <td>1997</td>\n",
       "      <td>Peace</td>\n",
       "      <td>Organization</td>\n",
       "      <td>NaN</td>\n",
       "      <td>International Campaign to Ban Landmines (ICBL)</td>\n",
       "      <td>NaN</td>\n",
       "    </tr>\n",
       "    <tr>\n",
       "      <th>703</th>\n",
       "      <td>1999</td>\n",
       "      <td>Peace</td>\n",
       "      <td>Organization</td>\n",
       "      <td>NaN</td>\n",
       "      <td>Médecins Sans Frontières</td>\n",
       "      <td>NaN</td>\n",
       "    </tr>\n",
       "    <tr>\n",
       "      <th>730</th>\n",
       "      <td>2001</td>\n",
       "      <td>Peace</td>\n",
       "      <td>Organization</td>\n",
       "      <td>NaN</td>\n",
       "      <td>United Nations (U.N.)</td>\n",
       "      <td>NaN</td>\n",
       "    </tr>\n",
       "    <tr>\n",
       "      <th>778</th>\n",
       "      <td>2005</td>\n",
       "      <td>Peace</td>\n",
       "      <td>Organization</td>\n",
       "      <td>NaN</td>\n",
       "      <td>International Atomic Energy Agency (IAEA)</td>\n",
       "      <td>NaN</td>\n",
       "    </tr>\n",
       "    <tr>\n",
       "      <th>788</th>\n",
       "      <td>2006</td>\n",
       "      <td>Peace</td>\n",
       "      <td>Organization</td>\n",
       "      <td>NaN</td>\n",
       "      <td>Grameen Bank</td>\n",
       "      <td>NaN</td>\n",
       "    </tr>\n",
       "    <tr>\n",
       "      <th>801</th>\n",
       "      <td>2007</td>\n",
       "      <td>Peace</td>\n",
       "      <td>Organization</td>\n",
       "      <td>NaN</td>\n",
       "      <td>Intergovernmental Panel on Climate Change (IPCC)</td>\n",
       "      <td>NaN</td>\n",
       "    </tr>\n",
       "    <tr>\n",
       "      <th>860</th>\n",
       "      <td>2012</td>\n",
       "      <td>Peace</td>\n",
       "      <td>Organization</td>\n",
       "      <td>NaN</td>\n",
       "      <td>European Union (EU)</td>\n",
       "      <td>NaN</td>\n",
       "    </tr>\n",
       "    <tr>\n",
       "      <th>873</th>\n",
       "      <td>2013</td>\n",
       "      <td>Peace</td>\n",
       "      <td>Organization</td>\n",
       "      <td>NaN</td>\n",
       "      <td>Organisation for the Prohibition of Chemical W...</td>\n",
       "      <td>NaN</td>\n",
       "    </tr>\n",
       "    <tr>\n",
       "      <th>897</th>\n",
       "      <td>2015</td>\n",
       "      <td>Peace</td>\n",
       "      <td>Organization</td>\n",
       "      <td>NaN</td>\n",
       "      <td>National Dialogue Quartet</td>\n",
       "      <td>NaN</td>\n",
       "    </tr>\n",
       "    <tr>\n",
       "      <th>919</th>\n",
       "      <td>2017</td>\n",
       "      <td>Peace</td>\n",
       "      <td>Organization</td>\n",
       "      <td>NaN</td>\n",
       "      <td>International Campaign to Abolish Nuclear Weap...</td>\n",
       "      <td>NaN</td>\n",
       "    </tr>\n",
       "    <tr>\n",
       "      <th>958</th>\n",
       "      <td>2020</td>\n",
       "      <td>Peace</td>\n",
       "      <td>Organization</td>\n",
       "      <td>NaN</td>\n",
       "      <td>World Food Programme (WFP)</td>\n",
       "      <td>NaN</td>\n",
       "    </tr>\n",
       "  </tbody>\n",
       "</table>\n",
       "</div>"
      ],
      "text/plain": [
       "     year category laureate_type birth_date  \\\n",
       "24   1904    Peace  Organization        NaN   \n",
       "60   1910    Peace  Organization        NaN   \n",
       "89   1917    Peace  Organization        NaN   \n",
       "200  1938    Peace  Organization        NaN   \n",
       "215  1944    Peace  Organization        NaN   \n",
       "237  1947    Peace  Organization        NaN   \n",
       "238  1947    Peace  Organization        NaN   \n",
       "283  1954    Peace  Organization        NaN   \n",
       "348  1963    Peace  Organization        NaN   \n",
       "349  1963    Peace  Organization        NaN   \n",
       "366  1965    Peace  Organization        NaN   \n",
       "399  1969    Peace  Organization        NaN   \n",
       "479  1977    Peace  Organization        NaN   \n",
       "523  1981    Peace  Organization        NaN   \n",
       "558  1985    Peace  Organization        NaN   \n",
       "588  1988    Peace  Organization        NaN   \n",
       "659  1995    Peace  Organization        NaN   \n",
       "682  1997    Peace  Organization        NaN   \n",
       "703  1999    Peace  Organization        NaN   \n",
       "730  2001    Peace  Organization        NaN   \n",
       "778  2005    Peace  Organization        NaN   \n",
       "788  2006    Peace  Organization        NaN   \n",
       "801  2007    Peace  Organization        NaN   \n",
       "860  2012    Peace  Organization        NaN   \n",
       "873  2013    Peace  Organization        NaN   \n",
       "897  2015    Peace  Organization        NaN   \n",
       "919  2017    Peace  Organization        NaN   \n",
       "958  2020    Peace  Organization        NaN   \n",
       "\n",
       "                                             full_name organization_name  \n",
       "24   Institut de droit international (Institute of ...               NaN  \n",
       "60   Bureau international permanent de la Paix (Per...               NaN  \n",
       "89   Comité international de la Croix Rouge (Intern...               NaN  \n",
       "200  Office international Nansen pour les Réfugiés ...               NaN  \n",
       "215  Comité international de la Croix Rouge (Intern...               NaN  \n",
       "237   American Friends Service Committee (The Quakers)               NaN  \n",
       "238              Friends Service Council (The Quakers)               NaN  \n",
       "283  Office of the United Nations High Commissioner...               NaN  \n",
       "348  Comité international de la Croix Rouge (Intern...               NaN  \n",
       "349  Ligue des Sociétés de la Croix-Rouge (League o...               NaN  \n",
       "366            United Nations Children's Fund (UNICEF)               NaN  \n",
       "399         International Labour Organization (I.L.O.)               NaN  \n",
       "479                              Amnesty International               NaN  \n",
       "523  Office of the United Nations High Commissioner...               NaN  \n",
       "558  International Physicians for the Prevention of...               NaN  \n",
       "588                 United Nations Peacekeeping Forces               NaN  \n",
       "659   Pugwash Conferences on Science and World Affairs               NaN  \n",
       "682     International Campaign to Ban Landmines (ICBL)               NaN  \n",
       "703                           Médecins Sans Frontières               NaN  \n",
       "730                              United Nations (U.N.)               NaN  \n",
       "778          International Atomic Energy Agency (IAEA)               NaN  \n",
       "788                                       Grameen Bank               NaN  \n",
       "801   Intergovernmental Panel on Climate Change (IPCC)               NaN  \n",
       "860                                European Union (EU)               NaN  \n",
       "873  Organisation for the Prohibition of Chemical W...               NaN  \n",
       "897                          National Dialogue Quartet               NaN  \n",
       "919  International Campaign to Abolish Nuclear Weap...               NaN  \n",
       "958                         World Food Programme (WFP)               NaN  "
      ]
     },
     "execution_count": 79,
     "metadata": {},
     "output_type": "execute_result"
    }
   ],
   "source": [
    "col_subset = ['year', 'category', 'laureate_type', 'birth_date', 'full_name', 'organization_name']\n",
    "data.loc[data.birth_date.isna()][col_subset]"
   ]
  },
  {
   "cell_type": "markdown",
   "metadata": {
    "id": "0vxjq5N1FSwG"
   },
   "source": [
    "There are 28 NaN values for `birth_date`. These correspond to prizes awarded to organizations (as seen in the `laureate_type` column) as opposed to one individual."
   ]
  },
  {
   "cell_type": "code",
   "execution_count": 80,
   "metadata": {},
   "outputs": [
    {
     "data": {
      "text/html": [
       "<div>\n",
       "<style scoped>\n",
       "    .dataframe tbody tr th:only-of-type {\n",
       "        vertical-align: middle;\n",
       "    }\n",
       "\n",
       "    .dataframe tbody tr th {\n",
       "        vertical-align: top;\n",
       "    }\n",
       "\n",
       "    .dataframe thead th {\n",
       "        text-align: right;\n",
       "    }\n",
       "</style>\n",
       "<table border=\"1\" class=\"dataframe\">\n",
       "  <thead>\n",
       "    <tr style=\"text-align: right;\">\n",
       "      <th></th>\n",
       "      <th>year</th>\n",
       "      <th>category</th>\n",
       "      <th>laureate_type</th>\n",
       "      <th>full_name</th>\n",
       "      <th>organization_name</th>\n",
       "    </tr>\n",
       "  </thead>\n",
       "  <tbody>\n",
       "    <tr>\n",
       "      <th>1</th>\n",
       "      <td>1901</td>\n",
       "      <td>Literature</td>\n",
       "      <td>Individual</td>\n",
       "      <td>Sully Prudhomme</td>\n",
       "      <td>NaN</td>\n",
       "    </tr>\n",
       "    <tr>\n",
       "      <th>3</th>\n",
       "      <td>1901</td>\n",
       "      <td>Peace</td>\n",
       "      <td>Individual</td>\n",
       "      <td>Frédéric Passy</td>\n",
       "      <td>NaN</td>\n",
       "    </tr>\n",
       "    <tr>\n",
       "      <th>4</th>\n",
       "      <td>1901</td>\n",
       "      <td>Peace</td>\n",
       "      <td>Individual</td>\n",
       "      <td>Jean Henry Dunant</td>\n",
       "      <td>NaN</td>\n",
       "    </tr>\n",
       "    <tr>\n",
       "      <th>7</th>\n",
       "      <td>1902</td>\n",
       "      <td>Literature</td>\n",
       "      <td>Individual</td>\n",
       "      <td>Christian Matthias Theodor Mommsen</td>\n",
       "      <td>NaN</td>\n",
       "    </tr>\n",
       "    <tr>\n",
       "      <th>9</th>\n",
       "      <td>1902</td>\n",
       "      <td>Peace</td>\n",
       "      <td>Individual</td>\n",
       "      <td>Charles Albert Gobat</td>\n",
       "      <td>NaN</td>\n",
       "    </tr>\n",
       "    <tr>\n",
       "      <th>10</th>\n",
       "      <td>1902</td>\n",
       "      <td>Peace</td>\n",
       "      <td>Individual</td>\n",
       "      <td>Élie Ducommun</td>\n",
       "      <td>NaN</td>\n",
       "    </tr>\n",
       "    <tr>\n",
       "      <th>14</th>\n",
       "      <td>1903</td>\n",
       "      <td>Literature</td>\n",
       "      <td>Individual</td>\n",
       "      <td>Bjørnstjerne Martinus Bjørnson</td>\n",
       "      <td>NaN</td>\n",
       "    </tr>\n",
       "    <tr>\n",
       "      <th>16</th>\n",
       "      <td>1903</td>\n",
       "      <td>Peace</td>\n",
       "      <td>Individual</td>\n",
       "      <td>William Randal Cremer</td>\n",
       "      <td>NaN</td>\n",
       "    </tr>\n",
       "    <tr>\n",
       "      <th>18</th>\n",
       "      <td>1903</td>\n",
       "      <td>Physics</td>\n",
       "      <td>Individual</td>\n",
       "      <td>Marie Curie, née Sklodowska</td>\n",
       "      <td>NaN</td>\n",
       "    </tr>\n",
       "    <tr>\n",
       "      <th>21</th>\n",
       "      <td>1904</td>\n",
       "      <td>Literature</td>\n",
       "      <td>Individual</td>\n",
       "      <td>Frédéric Mistral</td>\n",
       "      <td>NaN</td>\n",
       "    </tr>\n",
       "  </tbody>\n",
       "</table>\n",
       "</div>"
      ],
      "text/plain": [
       "    year    category laureate_type                           full_name  \\\n",
       "1   1901  Literature    Individual                     Sully Prudhomme   \n",
       "3   1901       Peace    Individual                      Frédéric Passy   \n",
       "4   1901       Peace    Individual                   Jean Henry Dunant   \n",
       "7   1902  Literature    Individual  Christian Matthias Theodor Mommsen   \n",
       "9   1902       Peace    Individual                Charles Albert Gobat   \n",
       "10  1902       Peace    Individual                       Élie Ducommun   \n",
       "14  1903  Literature    Individual      Bjørnstjerne Martinus Bjørnson   \n",
       "16  1903       Peace    Individual               William Randal Cremer   \n",
       "18  1903     Physics    Individual         Marie Curie, née Sklodowska   \n",
       "21  1904  Literature    Individual                    Frédéric Mistral   \n",
       "\n",
       "   organization_name  \n",
       "1                NaN  \n",
       "3                NaN  \n",
       "4                NaN  \n",
       "7                NaN  \n",
       "9                NaN  \n",
       "10               NaN  \n",
       "14               NaN  \n",
       "16               NaN  \n",
       "18               NaN  \n",
       "21               NaN  "
      ]
     },
     "execution_count": 80,
     "metadata": {},
     "output_type": "execute_result"
    }
   ],
   "source": [
    "col_subset = ['year', 'category', 'laureate_type', 'full_name', 'organization_name']\n",
    "data.loc[data.organization_name.isna()][col_subset].head(10)"
   ]
  },
  {
   "cell_type": "markdown",
   "metadata": {},
   "source": [
    "Many other NaN values for `organization_name` correspond to recipients not affiliated with a university or research institution, such as writers or diplomats."
   ]
  },
  {
   "cell_type": "markdown",
   "metadata": {
    "id": "ZyG18tKXo7Lj"
   },
   "source": [
    "### Type Conversions\n",
    "\n",
    "**Challenge**: \n",
    "* Convert the `birth_date` column to Pandas `Datetime` objects\n",
    "* Add a Column called `share_pct` which has the laureates' share as a percentage in the form of a floating-point number."
   ]
  },
  {
   "cell_type": "markdown",
   "metadata": {
    "id": "tTTFo-CXo7Lk"
   },
   "source": [
    "#### Convert Year and Birth Date to Datetime"
   ]
  },
  {
   "cell_type": "code",
   "execution_count": 81,
   "metadata": {
    "id": "Jas4fWv4Fa4_"
   },
   "outputs": [
    {
     "name": "stdout",
     "output_type": "stream",
     "text": [
      "<class 'pandas.core.frame.DataFrame'>\n",
      "RangeIndex: 962 entries, 0 to 961\n",
      "Data columns (total 16 columns):\n",
      " #   Column                 Non-Null Count  Dtype \n",
      "---  ------                 --------------  ----- \n",
      " 0   year                   962 non-null    int64 \n",
      " 1   category               962 non-null    object\n",
      " 2   prize                  962 non-null    object\n",
      " 3   motivation             874 non-null    object\n",
      " 4   prize_share            962 non-null    object\n",
      " 5   laureate_type          962 non-null    object\n",
      " 6   full_name              962 non-null    object\n",
      " 7   birth_date             934 non-null    object\n",
      " 8   birth_city             931 non-null    object\n",
      " 9   birth_country          934 non-null    object\n",
      " 10  birth_country_current  934 non-null    object\n",
      " 11  sex                    934 non-null    object\n",
      " 12  organization_name      707 non-null    object\n",
      " 13  organization_city      707 non-null    object\n",
      " 14  organization_country   708 non-null    object\n",
      " 15  ISO                    934 non-null    object\n",
      "dtypes: int64(1), object(15)\n",
      "memory usage: 120.4+ KB\n"
     ]
    }
   ],
   "source": [
    "data.info()"
   ]
  },
  {
   "cell_type": "code",
   "execution_count": 82,
   "metadata": {},
   "outputs": [],
   "source": [
    "data.birth_date = pd.to_datetime(data.birth_date)"
   ]
  },
  {
   "cell_type": "code",
   "execution_count": 83,
   "metadata": {},
   "outputs": [
    {
     "name": "stdout",
     "output_type": "stream",
     "text": [
      "<class 'pandas.core.frame.DataFrame'>\n",
      "RangeIndex: 962 entries, 0 to 961\n",
      "Data columns (total 16 columns):\n",
      " #   Column                 Non-Null Count  Dtype         \n",
      "---  ------                 --------------  -----         \n",
      " 0   year                   962 non-null    int64         \n",
      " 1   category               962 non-null    object        \n",
      " 2   prize                  962 non-null    object        \n",
      " 3   motivation             874 non-null    object        \n",
      " 4   prize_share            962 non-null    object        \n",
      " 5   laureate_type          962 non-null    object        \n",
      " 6   full_name              962 non-null    object        \n",
      " 7   birth_date             934 non-null    datetime64[ns]\n",
      " 8   birth_city             931 non-null    object        \n",
      " 9   birth_country          934 non-null    object        \n",
      " 10  birth_country_current  934 non-null    object        \n",
      " 11  sex                    934 non-null    object        \n",
      " 12  organization_name      707 non-null    object        \n",
      " 13  organization_city      707 non-null    object        \n",
      " 14  organization_country   708 non-null    object        \n",
      " 15  ISO                    934 non-null    object        \n",
      "dtypes: datetime64[ns](1), int64(1), object(14)\n",
      "memory usage: 120.4+ KB\n"
     ]
    }
   ],
   "source": [
    "data.info()"
   ]
  },
  {
   "cell_type": "markdown",
   "metadata": {
    "id": "i456Gr0io7Lm"
   },
   "source": [
    "#### Add a Column with the Prize Share as a Percentage"
   ]
  },
  {
   "cell_type": "code",
   "execution_count": 84,
   "metadata": {},
   "outputs": [
    {
     "data": {
      "text/plain": [
       "1/1    352\n",
       "1/2    321\n",
       "1/3    219\n",
       "1/4     70\n",
       "Name: prize_share, dtype: int64"
      ]
     },
     "execution_count": 84,
     "metadata": {},
     "output_type": "execute_result"
    }
   ],
   "source": [
    "data.prize_share.value_counts()"
   ]
  },
  {
   "cell_type": "code",
   "execution_count": 85,
   "metadata": {
    "id": "4BNug19-FdHP"
   },
   "outputs": [],
   "source": [
    "def convert_to_pct(x):\n",
    "    if x == '1/1':\n",
    "        x = 1.0\n",
    "    elif x == '1/2':\n",
    "        x = 0.5\n",
    "    elif x == '1/3':\n",
    "        x = 0.33\n",
    "    else:\n",
    "        x = 0.25\n",
    "    return x\n",
    "\n",
    "data['share_pct'] = data.prize_share.apply(convert_to_pct).astype('float')"
   ]
  },
  {
   "cell_type": "code",
   "execution_count": 86,
   "metadata": {},
   "outputs": [
    {
     "data": {
      "text/html": [
       "<div>\n",
       "<style scoped>\n",
       "    .dataframe tbody tr th:only-of-type {\n",
       "        vertical-align: middle;\n",
       "    }\n",
       "\n",
       "    .dataframe tbody tr th {\n",
       "        vertical-align: top;\n",
       "    }\n",
       "\n",
       "    .dataframe thead th {\n",
       "        text-align: right;\n",
       "    }\n",
       "</style>\n",
       "<table border=\"1\" class=\"dataframe\">\n",
       "  <thead>\n",
       "    <tr style=\"text-align: right;\">\n",
       "      <th></th>\n",
       "      <th>year</th>\n",
       "      <th>category</th>\n",
       "      <th>prize</th>\n",
       "      <th>motivation</th>\n",
       "      <th>prize_share</th>\n",
       "      <th>laureate_type</th>\n",
       "      <th>full_name</th>\n",
       "      <th>birth_date</th>\n",
       "      <th>birth_city</th>\n",
       "      <th>birth_country</th>\n",
       "      <th>birth_country_current</th>\n",
       "      <th>sex</th>\n",
       "      <th>organization_name</th>\n",
       "      <th>organization_city</th>\n",
       "      <th>organization_country</th>\n",
       "      <th>ISO</th>\n",
       "      <th>share_pct</th>\n",
       "    </tr>\n",
       "  </thead>\n",
       "  <tbody>\n",
       "    <tr>\n",
       "      <th>0</th>\n",
       "      <td>1901</td>\n",
       "      <td>Chemistry</td>\n",
       "      <td>The Nobel Prize in Chemistry 1901</td>\n",
       "      <td>\"in recognition of the extraordinary services ...</td>\n",
       "      <td>1/1</td>\n",
       "      <td>Individual</td>\n",
       "      <td>Jacobus Henricus van 't Hoff</td>\n",
       "      <td>1852-08-30</td>\n",
       "      <td>Rotterdam</td>\n",
       "      <td>Netherlands</td>\n",
       "      <td>Netherlands</td>\n",
       "      <td>Male</td>\n",
       "      <td>Berlin University</td>\n",
       "      <td>Berlin</td>\n",
       "      <td>Germany</td>\n",
       "      <td>NLD</td>\n",
       "      <td>1.00</td>\n",
       "    </tr>\n",
       "    <tr>\n",
       "      <th>1</th>\n",
       "      <td>1901</td>\n",
       "      <td>Literature</td>\n",
       "      <td>The Nobel Prize in Literature 1901</td>\n",
       "      <td>\"in special recognition of his poetic composit...</td>\n",
       "      <td>1/1</td>\n",
       "      <td>Individual</td>\n",
       "      <td>Sully Prudhomme</td>\n",
       "      <td>1839-03-16</td>\n",
       "      <td>Paris</td>\n",
       "      <td>France</td>\n",
       "      <td>France</td>\n",
       "      <td>Male</td>\n",
       "      <td>NaN</td>\n",
       "      <td>NaN</td>\n",
       "      <td>NaN</td>\n",
       "      <td>FRA</td>\n",
       "      <td>1.00</td>\n",
       "    </tr>\n",
       "    <tr>\n",
       "      <th>2</th>\n",
       "      <td>1901</td>\n",
       "      <td>Medicine</td>\n",
       "      <td>The Nobel Prize in Physiology or Medicine 1901</td>\n",
       "      <td>\"for his work on serum therapy, especially its...</td>\n",
       "      <td>1/1</td>\n",
       "      <td>Individual</td>\n",
       "      <td>Emil Adolf von Behring</td>\n",
       "      <td>1854-03-15</td>\n",
       "      <td>Hansdorf (Lawice)</td>\n",
       "      <td>Prussia (Poland)</td>\n",
       "      <td>Poland</td>\n",
       "      <td>Male</td>\n",
       "      <td>Marburg University</td>\n",
       "      <td>Marburg</td>\n",
       "      <td>Germany</td>\n",
       "      <td>POL</td>\n",
       "      <td>1.00</td>\n",
       "    </tr>\n",
       "    <tr>\n",
       "      <th>3</th>\n",
       "      <td>1901</td>\n",
       "      <td>Peace</td>\n",
       "      <td>The Nobel Peace Prize 1901</td>\n",
       "      <td>NaN</td>\n",
       "      <td>1/2</td>\n",
       "      <td>Individual</td>\n",
       "      <td>Frédéric Passy</td>\n",
       "      <td>1822-05-20</td>\n",
       "      <td>Paris</td>\n",
       "      <td>France</td>\n",
       "      <td>France</td>\n",
       "      <td>Male</td>\n",
       "      <td>NaN</td>\n",
       "      <td>NaN</td>\n",
       "      <td>NaN</td>\n",
       "      <td>FRA</td>\n",
       "      <td>0.50</td>\n",
       "    </tr>\n",
       "    <tr>\n",
       "      <th>4</th>\n",
       "      <td>1901</td>\n",
       "      <td>Peace</td>\n",
       "      <td>The Nobel Peace Prize 1901</td>\n",
       "      <td>NaN</td>\n",
       "      <td>1/2</td>\n",
       "      <td>Individual</td>\n",
       "      <td>Jean Henry Dunant</td>\n",
       "      <td>1828-05-08</td>\n",
       "      <td>Geneva</td>\n",
       "      <td>Switzerland</td>\n",
       "      <td>Switzerland</td>\n",
       "      <td>Male</td>\n",
       "      <td>NaN</td>\n",
       "      <td>NaN</td>\n",
       "      <td>NaN</td>\n",
       "      <td>CHE</td>\n",
       "      <td>0.50</td>\n",
       "    </tr>\n",
       "  </tbody>\n",
       "</table>\n",
       "</div>"
      ],
      "text/plain": [
       "   year    category                                           prize  \\\n",
       "0  1901   Chemistry               The Nobel Prize in Chemistry 1901   \n",
       "1  1901  Literature              The Nobel Prize in Literature 1901   \n",
       "2  1901    Medicine  The Nobel Prize in Physiology or Medicine 1901   \n",
       "3  1901       Peace                      The Nobel Peace Prize 1901   \n",
       "4  1901       Peace                      The Nobel Peace Prize 1901   \n",
       "\n",
       "                                          motivation prize_share  \\\n",
       "0  \"in recognition of the extraordinary services ...         1/1   \n",
       "1  \"in special recognition of his poetic composit...         1/1   \n",
       "2  \"for his work on serum therapy, especially its...         1/1   \n",
       "3                                                NaN         1/2   \n",
       "4                                                NaN         1/2   \n",
       "\n",
       "  laureate_type                     full_name birth_date         birth_city  \\\n",
       "0    Individual  Jacobus Henricus van 't Hoff 1852-08-30          Rotterdam   \n",
       "1    Individual               Sully Prudhomme 1839-03-16              Paris   \n",
       "2    Individual        Emil Adolf von Behring 1854-03-15  Hansdorf (Lawice)   \n",
       "3    Individual                Frédéric Passy 1822-05-20              Paris   \n",
       "4    Individual             Jean Henry Dunant 1828-05-08             Geneva   \n",
       "\n",
       "      birth_country birth_country_current   sex   organization_name  \\\n",
       "0       Netherlands           Netherlands  Male   Berlin University   \n",
       "1            France                France  Male                 NaN   \n",
       "2  Prussia (Poland)                Poland  Male  Marburg University   \n",
       "3            France                France  Male                 NaN   \n",
       "4       Switzerland           Switzerland  Male                 NaN   \n",
       "\n",
       "  organization_city organization_country  ISO  share_pct  \n",
       "0            Berlin              Germany  NLD       1.00  \n",
       "1               NaN                  NaN  FRA       1.00  \n",
       "2           Marburg              Germany  POL       1.00  \n",
       "3               NaN                  NaN  FRA       0.50  \n",
       "4               NaN                  NaN  CHE       0.50  "
      ]
     },
     "execution_count": 86,
     "metadata": {},
     "output_type": "execute_result"
    }
   ],
   "source": [
    "data.head()"
   ]
  },
  {
   "cell_type": "code",
   "execution_count": 87,
   "metadata": {
    "id": "RKZXiaO1Fc9v"
   },
   "outputs": [
    {
     "name": "stdout",
     "output_type": "stream",
     "text": [
      "<class 'pandas.core.frame.DataFrame'>\n",
      "RangeIndex: 962 entries, 0 to 961\n",
      "Data columns (total 17 columns):\n",
      " #   Column                 Non-Null Count  Dtype         \n",
      "---  ------                 --------------  -----         \n",
      " 0   year                   962 non-null    int64         \n",
      " 1   category               962 non-null    object        \n",
      " 2   prize                  962 non-null    object        \n",
      " 3   motivation             874 non-null    object        \n",
      " 4   prize_share            962 non-null    object        \n",
      " 5   laureate_type          962 non-null    object        \n",
      " 6   full_name              962 non-null    object        \n",
      " 7   birth_date             934 non-null    datetime64[ns]\n",
      " 8   birth_city             931 non-null    object        \n",
      " 9   birth_country          934 non-null    object        \n",
      " 10  birth_country_current  934 non-null    object        \n",
      " 11  sex                    934 non-null    object        \n",
      " 12  organization_name      707 non-null    object        \n",
      " 13  organization_city      707 non-null    object        \n",
      " 14  organization_country   708 non-null    object        \n",
      " 15  ISO                    934 non-null    object        \n",
      " 16  share_pct              962 non-null    float64       \n",
      "dtypes: datetime64[ns](1), float64(1), int64(1), object(14)\n",
      "memory usage: 127.9+ KB\n"
     ]
    }
   ],
   "source": [
    "data.info()"
   ]
  },
  {
   "cell_type": "markdown",
   "metadata": {},
   "source": [
    "# Questions to Investigate"
   ]
  },
  {
   "cell_type": "markdown",
   "metadata": {},
   "source": [
    "Come up with at least three questions to explore."
   ]
  },
  {
   "cell_type": "markdown",
   "metadata": {},
   "source": [
    "1. What countries have the most Nobel Prize recipients?"
   ]
  },
  {
   "cell_type": "markdown",
   "metadata": {},
   "source": [
    "2. What is the distribution of awards across all prize categories? "
   ]
  },
  {
   "cell_type": "markdown",
   "metadata": {},
   "source": [
    "3. Are prizes awarded evenly, or are there some years with many more prizes awarded?"
   ]
  },
  {
   "cell_type": "markdown",
   "metadata": {},
   "source": [
    "4. What is the average age of individual recipients?"
   ]
  },
  {
   "cell_type": "markdown",
   "metadata": {},
   "source": [
    "5. What is the gender distribution of individual recipients?"
   ]
  },
  {
   "cell_type": "markdown",
   "metadata": {
    "id": "-x571TLao7Lq"
   },
   "source": [
    "# Plotly Donut Chart: Percentage of Male vs. Female Laureates"
   ]
  },
  {
   "cell_type": "markdown",
   "metadata": {
    "id": "Q5jBv1lUo7Lq"
   },
   "source": [
    "**Challenge**: Create a [donut chart using plotly](https://plotly.com/python/pie-charts/) which shows how many prizes went to men compared to how many prizes went to women. What percentage of all the prizes went to women?"
   ]
  },
  {
   "cell_type": "code",
   "execution_count": 91,
   "metadata": {
    "id": "wxTmkQd-Ff3Q"
   },
   "outputs": [
    {
     "data": {
      "application/vnd.plotly.v1+json": {
       "config": {
        "plotlyServerURL": "https://plot.ly"
       },
       "data": [
        {
         "domain": {
          "x": [
           0,
           1
          ],
          "y": [
           0,
           1
          ]
         },
         "hole": 0.6,
         "hovertemplate": "label=%{label}<br>value=%{value}<extra></extra>",
         "labels": [
          "Male",
          "Female"
         ],
         "legendgroup": "",
         "name": "",
         "showlegend": true,
         "textinfo": "percent+label",
         "textposition": "inside",
         "type": "pie",
         "values": [
          876,
          58
         ]
        }
       ],
       "layout": {
        "legend": {
         "tracegroupgap": 0
        },
        "template": {
         "data": {
          "bar": [
           {
            "error_x": {
             "color": "#2a3f5f"
            },
            "error_y": {
             "color": "#2a3f5f"
            },
            "marker": {
             "line": {
              "color": "#E5ECF6",
              "width": 0.5
             }
            },
            "type": "bar"
           }
          ],
          "barpolar": [
           {
            "marker": {
             "line": {
              "color": "#E5ECF6",
              "width": 0.5
             }
            },
            "type": "barpolar"
           }
          ],
          "carpet": [
           {
            "aaxis": {
             "endlinecolor": "#2a3f5f",
             "gridcolor": "white",
             "linecolor": "white",
             "minorgridcolor": "white",
             "startlinecolor": "#2a3f5f"
            },
            "baxis": {
             "endlinecolor": "#2a3f5f",
             "gridcolor": "white",
             "linecolor": "white",
             "minorgridcolor": "white",
             "startlinecolor": "#2a3f5f"
            },
            "type": "carpet"
           }
          ],
          "choropleth": [
           {
            "colorbar": {
             "outlinewidth": 0,
             "ticks": ""
            },
            "type": "choropleth"
           }
          ],
          "contour": [
           {
            "colorbar": {
             "outlinewidth": 0,
             "ticks": ""
            },
            "colorscale": [
             [
              0,
              "#0d0887"
             ],
             [
              0.1111111111111111,
              "#46039f"
             ],
             [
              0.2222222222222222,
              "#7201a8"
             ],
             [
              0.3333333333333333,
              "#9c179e"
             ],
             [
              0.4444444444444444,
              "#bd3786"
             ],
             [
              0.5555555555555556,
              "#d8576b"
             ],
             [
              0.6666666666666666,
              "#ed7953"
             ],
             [
              0.7777777777777778,
              "#fb9f3a"
             ],
             [
              0.8888888888888888,
              "#fdca26"
             ],
             [
              1,
              "#f0f921"
             ]
            ],
            "type": "contour"
           }
          ],
          "contourcarpet": [
           {
            "colorbar": {
             "outlinewidth": 0,
             "ticks": ""
            },
            "type": "contourcarpet"
           }
          ],
          "heatmap": [
           {
            "colorbar": {
             "outlinewidth": 0,
             "ticks": ""
            },
            "colorscale": [
             [
              0,
              "#0d0887"
             ],
             [
              0.1111111111111111,
              "#46039f"
             ],
             [
              0.2222222222222222,
              "#7201a8"
             ],
             [
              0.3333333333333333,
              "#9c179e"
             ],
             [
              0.4444444444444444,
              "#bd3786"
             ],
             [
              0.5555555555555556,
              "#d8576b"
             ],
             [
              0.6666666666666666,
              "#ed7953"
             ],
             [
              0.7777777777777778,
              "#fb9f3a"
             ],
             [
              0.8888888888888888,
              "#fdca26"
             ],
             [
              1,
              "#f0f921"
             ]
            ],
            "type": "heatmap"
           }
          ],
          "heatmapgl": [
           {
            "colorbar": {
             "outlinewidth": 0,
             "ticks": ""
            },
            "colorscale": [
             [
              0,
              "#0d0887"
             ],
             [
              0.1111111111111111,
              "#46039f"
             ],
             [
              0.2222222222222222,
              "#7201a8"
             ],
             [
              0.3333333333333333,
              "#9c179e"
             ],
             [
              0.4444444444444444,
              "#bd3786"
             ],
             [
              0.5555555555555556,
              "#d8576b"
             ],
             [
              0.6666666666666666,
              "#ed7953"
             ],
             [
              0.7777777777777778,
              "#fb9f3a"
             ],
             [
              0.8888888888888888,
              "#fdca26"
             ],
             [
              1,
              "#f0f921"
             ]
            ],
            "type": "heatmapgl"
           }
          ],
          "histogram": [
           {
            "marker": {
             "colorbar": {
              "outlinewidth": 0,
              "ticks": ""
             }
            },
            "type": "histogram"
           }
          ],
          "histogram2d": [
           {
            "colorbar": {
             "outlinewidth": 0,
             "ticks": ""
            },
            "colorscale": [
             [
              0,
              "#0d0887"
             ],
             [
              0.1111111111111111,
              "#46039f"
             ],
             [
              0.2222222222222222,
              "#7201a8"
             ],
             [
              0.3333333333333333,
              "#9c179e"
             ],
             [
              0.4444444444444444,
              "#bd3786"
             ],
             [
              0.5555555555555556,
              "#d8576b"
             ],
             [
              0.6666666666666666,
              "#ed7953"
             ],
             [
              0.7777777777777778,
              "#fb9f3a"
             ],
             [
              0.8888888888888888,
              "#fdca26"
             ],
             [
              1,
              "#f0f921"
             ]
            ],
            "type": "histogram2d"
           }
          ],
          "histogram2dcontour": [
           {
            "colorbar": {
             "outlinewidth": 0,
             "ticks": ""
            },
            "colorscale": [
             [
              0,
              "#0d0887"
             ],
             [
              0.1111111111111111,
              "#46039f"
             ],
             [
              0.2222222222222222,
              "#7201a8"
             ],
             [
              0.3333333333333333,
              "#9c179e"
             ],
             [
              0.4444444444444444,
              "#bd3786"
             ],
             [
              0.5555555555555556,
              "#d8576b"
             ],
             [
              0.6666666666666666,
              "#ed7953"
             ],
             [
              0.7777777777777778,
              "#fb9f3a"
             ],
             [
              0.8888888888888888,
              "#fdca26"
             ],
             [
              1,
              "#f0f921"
             ]
            ],
            "type": "histogram2dcontour"
           }
          ],
          "mesh3d": [
           {
            "colorbar": {
             "outlinewidth": 0,
             "ticks": ""
            },
            "type": "mesh3d"
           }
          ],
          "parcoords": [
           {
            "line": {
             "colorbar": {
              "outlinewidth": 0,
              "ticks": ""
             }
            },
            "type": "parcoords"
           }
          ],
          "pie": [
           {
            "automargin": true,
            "type": "pie"
           }
          ],
          "scatter": [
           {
            "marker": {
             "colorbar": {
              "outlinewidth": 0,
              "ticks": ""
             }
            },
            "type": "scatter"
           }
          ],
          "scatter3d": [
           {
            "line": {
             "colorbar": {
              "outlinewidth": 0,
              "ticks": ""
             }
            },
            "marker": {
             "colorbar": {
              "outlinewidth": 0,
              "ticks": ""
             }
            },
            "type": "scatter3d"
           }
          ],
          "scattercarpet": [
           {
            "marker": {
             "colorbar": {
              "outlinewidth": 0,
              "ticks": ""
             }
            },
            "type": "scattercarpet"
           }
          ],
          "scattergeo": [
           {
            "marker": {
             "colorbar": {
              "outlinewidth": 0,
              "ticks": ""
             }
            },
            "type": "scattergeo"
           }
          ],
          "scattergl": [
           {
            "marker": {
             "colorbar": {
              "outlinewidth": 0,
              "ticks": ""
             }
            },
            "type": "scattergl"
           }
          ],
          "scattermapbox": [
           {
            "marker": {
             "colorbar": {
              "outlinewidth": 0,
              "ticks": ""
             }
            },
            "type": "scattermapbox"
           }
          ],
          "scatterpolar": [
           {
            "marker": {
             "colorbar": {
              "outlinewidth": 0,
              "ticks": ""
             }
            },
            "type": "scatterpolar"
           }
          ],
          "scatterpolargl": [
           {
            "marker": {
             "colorbar": {
              "outlinewidth": 0,
              "ticks": ""
             }
            },
            "type": "scatterpolargl"
           }
          ],
          "scatterternary": [
           {
            "marker": {
             "colorbar": {
              "outlinewidth": 0,
              "ticks": ""
             }
            },
            "type": "scatterternary"
           }
          ],
          "surface": [
           {
            "colorbar": {
             "outlinewidth": 0,
             "ticks": ""
            },
            "colorscale": [
             [
              0,
              "#0d0887"
             ],
             [
              0.1111111111111111,
              "#46039f"
             ],
             [
              0.2222222222222222,
              "#7201a8"
             ],
             [
              0.3333333333333333,
              "#9c179e"
             ],
             [
              0.4444444444444444,
              "#bd3786"
             ],
             [
              0.5555555555555556,
              "#d8576b"
             ],
             [
              0.6666666666666666,
              "#ed7953"
             ],
             [
              0.7777777777777778,
              "#fb9f3a"
             ],
             [
              0.8888888888888888,
              "#fdca26"
             ],
             [
              1,
              "#f0f921"
             ]
            ],
            "type": "surface"
           }
          ],
          "table": [
           {
            "cells": {
             "fill": {
              "color": "#EBF0F8"
             },
             "line": {
              "color": "white"
             }
            },
            "header": {
             "fill": {
              "color": "#C8D4E3"
             },
             "line": {
              "color": "white"
             }
            },
            "type": "table"
           }
          ]
         },
         "layout": {
          "annotationdefaults": {
           "arrowcolor": "#2a3f5f",
           "arrowhead": 0,
           "arrowwidth": 1
          },
          "autotypenumbers": "strict",
          "coloraxis": {
           "colorbar": {
            "outlinewidth": 0,
            "ticks": ""
           }
          },
          "colorscale": {
           "diverging": [
            [
             0,
             "#8e0152"
            ],
            [
             0.1,
             "#c51b7d"
            ],
            [
             0.2,
             "#de77ae"
            ],
            [
             0.3,
             "#f1b6da"
            ],
            [
             0.4,
             "#fde0ef"
            ],
            [
             0.5,
             "#f7f7f7"
            ],
            [
             0.6,
             "#e6f5d0"
            ],
            [
             0.7,
             "#b8e186"
            ],
            [
             0.8,
             "#7fbc41"
            ],
            [
             0.9,
             "#4d9221"
            ],
            [
             1,
             "#276419"
            ]
           ],
           "sequential": [
            [
             0,
             "#0d0887"
            ],
            [
             0.1111111111111111,
             "#46039f"
            ],
            [
             0.2222222222222222,
             "#7201a8"
            ],
            [
             0.3333333333333333,
             "#9c179e"
            ],
            [
             0.4444444444444444,
             "#bd3786"
            ],
            [
             0.5555555555555556,
             "#d8576b"
            ],
            [
             0.6666666666666666,
             "#ed7953"
            ],
            [
             0.7777777777777778,
             "#fb9f3a"
            ],
            [
             0.8888888888888888,
             "#fdca26"
            ],
            [
             1,
             "#f0f921"
            ]
           ],
           "sequentialminus": [
            [
             0,
             "#0d0887"
            ],
            [
             0.1111111111111111,
             "#46039f"
            ],
            [
             0.2222222222222222,
             "#7201a8"
            ],
            [
             0.3333333333333333,
             "#9c179e"
            ],
            [
             0.4444444444444444,
             "#bd3786"
            ],
            [
             0.5555555555555556,
             "#d8576b"
            ],
            [
             0.6666666666666666,
             "#ed7953"
            ],
            [
             0.7777777777777778,
             "#fb9f3a"
            ],
            [
             0.8888888888888888,
             "#fdca26"
            ],
            [
             1,
             "#f0f921"
            ]
           ]
          },
          "colorway": [
           "#636efa",
           "#EF553B",
           "#00cc96",
           "#ab63fa",
           "#FFA15A",
           "#19d3f3",
           "#FF6692",
           "#B6E880",
           "#FF97FF",
           "#FECB52"
          ],
          "font": {
           "color": "#2a3f5f"
          },
          "geo": {
           "bgcolor": "white",
           "lakecolor": "white",
           "landcolor": "#E5ECF6",
           "showlakes": true,
           "showland": true,
           "subunitcolor": "white"
          },
          "hoverlabel": {
           "align": "left"
          },
          "hovermode": "closest",
          "mapbox": {
           "style": "light"
          },
          "paper_bgcolor": "white",
          "plot_bgcolor": "#E5ECF6",
          "polar": {
           "angularaxis": {
            "gridcolor": "white",
            "linecolor": "white",
            "ticks": ""
           },
           "bgcolor": "#E5ECF6",
           "radialaxis": {
            "gridcolor": "white",
            "linecolor": "white",
            "ticks": ""
           }
          },
          "scene": {
           "xaxis": {
            "backgroundcolor": "#E5ECF6",
            "gridcolor": "white",
            "gridwidth": 2,
            "linecolor": "white",
            "showbackground": true,
            "ticks": "",
            "zerolinecolor": "white"
           },
           "yaxis": {
            "backgroundcolor": "#E5ECF6",
            "gridcolor": "white",
            "gridwidth": 2,
            "linecolor": "white",
            "showbackground": true,
            "ticks": "",
            "zerolinecolor": "white"
           },
           "zaxis": {
            "backgroundcolor": "#E5ECF6",
            "gridcolor": "white",
            "gridwidth": 2,
            "linecolor": "white",
            "showbackground": true,
            "ticks": "",
            "zerolinecolor": "white"
           }
          },
          "shapedefaults": {
           "line": {
            "color": "#2a3f5f"
           }
          },
          "ternary": {
           "aaxis": {
            "gridcolor": "white",
            "linecolor": "white",
            "ticks": ""
           },
           "baxis": {
            "gridcolor": "white",
            "linecolor": "white",
            "ticks": ""
           },
           "bgcolor": "#E5ECF6",
           "caxis": {
            "gridcolor": "white",
            "linecolor": "white",
            "ticks": ""
           }
          },
          "title": {
           "x": 0.05
          },
          "xaxis": {
           "automargin": true,
           "gridcolor": "white",
           "linecolor": "white",
           "ticks": "",
           "title": {
            "standoff": 15
           },
           "zerolinecolor": "white",
           "zerolinewidth": 2
          },
          "yaxis": {
           "automargin": true,
           "gridcolor": "white",
           "linecolor": "white",
           "ticks": "",
           "title": {
            "standoff": 15
           },
           "zerolinecolor": "white",
           "zerolinewidth": 2
          }
         }
        },
        "title": {
         "text": "Nobel Prize Gender Breakdown"
        }
       }
      },
      "text/html": [
       "<div>                            <div id=\"8705d5ca-d5ba-4ecf-91ad-0cc9d436f61d\" class=\"plotly-graph-div\" style=\"height:525px; width:100%;\"></div>            <script type=\"text/javascript\">                require([\"plotly\"], function(Plotly) {                    window.PLOTLYENV=window.PLOTLYENV || {};                                    if (document.getElementById(\"8705d5ca-d5ba-4ecf-91ad-0cc9d436f61d\")) {                    Plotly.newPlot(                        \"8705d5ca-d5ba-4ecf-91ad-0cc9d436f61d\",                        [{\"domain\": {\"x\": [0.0, 1.0], \"y\": [0.0, 1.0]}, \"hole\": 0.6, \"hovertemplate\": \"label=%{label}<br>value=%{value}<extra></extra>\", \"labels\": [\"Male\", \"Female\"], \"legendgroup\": \"\", \"name\": \"\", \"showlegend\": true, \"textinfo\": \"percent+label\", \"textposition\": \"inside\", \"type\": \"pie\", \"values\": [876, 58]}],                        {\"legend\": {\"tracegroupgap\": 0}, \"template\": {\"data\": {\"bar\": [{\"error_x\": {\"color\": \"#2a3f5f\"}, \"error_y\": {\"color\": \"#2a3f5f\"}, \"marker\": {\"line\": {\"color\": \"#E5ECF6\", \"width\": 0.5}}, \"type\": \"bar\"}], \"barpolar\": [{\"marker\": {\"line\": {\"color\": \"#E5ECF6\", \"width\": 0.5}}, \"type\": \"barpolar\"}], \"carpet\": [{\"aaxis\": {\"endlinecolor\": \"#2a3f5f\", \"gridcolor\": \"white\", \"linecolor\": \"white\", \"minorgridcolor\": \"white\", \"startlinecolor\": \"#2a3f5f\"}, \"baxis\": {\"endlinecolor\": \"#2a3f5f\", \"gridcolor\": \"white\", \"linecolor\": \"white\", \"minorgridcolor\": \"white\", \"startlinecolor\": \"#2a3f5f\"}, \"type\": \"carpet\"}], \"choropleth\": [{\"colorbar\": {\"outlinewidth\": 0, \"ticks\": \"\"}, \"type\": \"choropleth\"}], \"contour\": [{\"colorbar\": {\"outlinewidth\": 0, \"ticks\": \"\"}, \"colorscale\": [[0.0, \"#0d0887\"], [0.1111111111111111, \"#46039f\"], [0.2222222222222222, \"#7201a8\"], [0.3333333333333333, \"#9c179e\"], [0.4444444444444444, \"#bd3786\"], [0.5555555555555556, \"#d8576b\"], [0.6666666666666666, \"#ed7953\"], [0.7777777777777778, \"#fb9f3a\"], [0.8888888888888888, \"#fdca26\"], [1.0, \"#f0f921\"]], \"type\": \"contour\"}], \"contourcarpet\": [{\"colorbar\": {\"outlinewidth\": 0, \"ticks\": \"\"}, \"type\": \"contourcarpet\"}], \"heatmap\": [{\"colorbar\": {\"outlinewidth\": 0, \"ticks\": \"\"}, \"colorscale\": [[0.0, \"#0d0887\"], [0.1111111111111111, \"#46039f\"], [0.2222222222222222, \"#7201a8\"], [0.3333333333333333, \"#9c179e\"], [0.4444444444444444, \"#bd3786\"], [0.5555555555555556, \"#d8576b\"], [0.6666666666666666, \"#ed7953\"], [0.7777777777777778, \"#fb9f3a\"], [0.8888888888888888, \"#fdca26\"], [1.0, \"#f0f921\"]], \"type\": \"heatmap\"}], \"heatmapgl\": [{\"colorbar\": {\"outlinewidth\": 0, \"ticks\": \"\"}, \"colorscale\": [[0.0, \"#0d0887\"], [0.1111111111111111, \"#46039f\"], [0.2222222222222222, \"#7201a8\"], [0.3333333333333333, \"#9c179e\"], [0.4444444444444444, \"#bd3786\"], [0.5555555555555556, \"#d8576b\"], [0.6666666666666666, \"#ed7953\"], [0.7777777777777778, \"#fb9f3a\"], [0.8888888888888888, \"#fdca26\"], [1.0, \"#f0f921\"]], \"type\": \"heatmapgl\"}], \"histogram\": [{\"marker\": {\"colorbar\": {\"outlinewidth\": 0, \"ticks\": \"\"}}, \"type\": \"histogram\"}], \"histogram2d\": [{\"colorbar\": {\"outlinewidth\": 0, \"ticks\": \"\"}, \"colorscale\": [[0.0, \"#0d0887\"], [0.1111111111111111, \"#46039f\"], [0.2222222222222222, \"#7201a8\"], [0.3333333333333333, \"#9c179e\"], [0.4444444444444444, \"#bd3786\"], [0.5555555555555556, \"#d8576b\"], [0.6666666666666666, \"#ed7953\"], [0.7777777777777778, \"#fb9f3a\"], [0.8888888888888888, \"#fdca26\"], [1.0, \"#f0f921\"]], \"type\": \"histogram2d\"}], \"histogram2dcontour\": [{\"colorbar\": {\"outlinewidth\": 0, \"ticks\": \"\"}, \"colorscale\": [[0.0, \"#0d0887\"], [0.1111111111111111, \"#46039f\"], [0.2222222222222222, \"#7201a8\"], [0.3333333333333333, \"#9c179e\"], [0.4444444444444444, \"#bd3786\"], [0.5555555555555556, \"#d8576b\"], [0.6666666666666666, \"#ed7953\"], [0.7777777777777778, \"#fb9f3a\"], [0.8888888888888888, \"#fdca26\"], [1.0, \"#f0f921\"]], \"type\": \"histogram2dcontour\"}], \"mesh3d\": [{\"colorbar\": {\"outlinewidth\": 0, \"ticks\": \"\"}, \"type\": \"mesh3d\"}], \"parcoords\": [{\"line\": {\"colorbar\": {\"outlinewidth\": 0, \"ticks\": \"\"}}, \"type\": \"parcoords\"}], \"pie\": [{\"automargin\": true, \"type\": \"pie\"}], \"scatter\": [{\"marker\": {\"colorbar\": {\"outlinewidth\": 0, \"ticks\": \"\"}}, \"type\": \"scatter\"}], \"scatter3d\": [{\"line\": {\"colorbar\": {\"outlinewidth\": 0, \"ticks\": \"\"}}, \"marker\": {\"colorbar\": {\"outlinewidth\": 0, \"ticks\": \"\"}}, \"type\": \"scatter3d\"}], \"scattercarpet\": [{\"marker\": {\"colorbar\": {\"outlinewidth\": 0, \"ticks\": \"\"}}, \"type\": \"scattercarpet\"}], \"scattergeo\": [{\"marker\": {\"colorbar\": {\"outlinewidth\": 0, \"ticks\": \"\"}}, \"type\": \"scattergeo\"}], \"scattergl\": [{\"marker\": {\"colorbar\": {\"outlinewidth\": 0, \"ticks\": \"\"}}, \"type\": \"scattergl\"}], \"scattermapbox\": [{\"marker\": {\"colorbar\": {\"outlinewidth\": 0, \"ticks\": \"\"}}, \"type\": \"scattermapbox\"}], \"scatterpolar\": [{\"marker\": {\"colorbar\": {\"outlinewidth\": 0, \"ticks\": \"\"}}, \"type\": \"scatterpolar\"}], \"scatterpolargl\": [{\"marker\": {\"colorbar\": {\"outlinewidth\": 0, \"ticks\": \"\"}}, \"type\": \"scatterpolargl\"}], \"scatterternary\": [{\"marker\": {\"colorbar\": {\"outlinewidth\": 0, \"ticks\": \"\"}}, \"type\": \"scatterternary\"}], \"surface\": [{\"colorbar\": {\"outlinewidth\": 0, \"ticks\": \"\"}, \"colorscale\": [[0.0, \"#0d0887\"], [0.1111111111111111, \"#46039f\"], [0.2222222222222222, \"#7201a8\"], [0.3333333333333333, \"#9c179e\"], [0.4444444444444444, \"#bd3786\"], [0.5555555555555556, \"#d8576b\"], [0.6666666666666666, \"#ed7953\"], [0.7777777777777778, \"#fb9f3a\"], [0.8888888888888888, \"#fdca26\"], [1.0, \"#f0f921\"]], \"type\": \"surface\"}], \"table\": [{\"cells\": {\"fill\": {\"color\": \"#EBF0F8\"}, \"line\": {\"color\": \"white\"}}, \"header\": {\"fill\": {\"color\": \"#C8D4E3\"}, \"line\": {\"color\": \"white\"}}, \"type\": \"table\"}]}, \"layout\": {\"annotationdefaults\": {\"arrowcolor\": \"#2a3f5f\", \"arrowhead\": 0, \"arrowwidth\": 1}, \"autotypenumbers\": \"strict\", \"coloraxis\": {\"colorbar\": {\"outlinewidth\": 0, \"ticks\": \"\"}}, \"colorscale\": {\"diverging\": [[0, \"#8e0152\"], [0.1, \"#c51b7d\"], [0.2, \"#de77ae\"], [0.3, \"#f1b6da\"], [0.4, \"#fde0ef\"], [0.5, \"#f7f7f7\"], [0.6, \"#e6f5d0\"], [0.7, \"#b8e186\"], [0.8, \"#7fbc41\"], [0.9, \"#4d9221\"], [1, \"#276419\"]], \"sequential\": [[0.0, \"#0d0887\"], [0.1111111111111111, \"#46039f\"], [0.2222222222222222, \"#7201a8\"], [0.3333333333333333, \"#9c179e\"], [0.4444444444444444, \"#bd3786\"], [0.5555555555555556, \"#d8576b\"], [0.6666666666666666, \"#ed7953\"], [0.7777777777777778, \"#fb9f3a\"], [0.8888888888888888, \"#fdca26\"], [1.0, \"#f0f921\"]], \"sequentialminus\": [[0.0, \"#0d0887\"], [0.1111111111111111, \"#46039f\"], [0.2222222222222222, \"#7201a8\"], [0.3333333333333333, \"#9c179e\"], [0.4444444444444444, \"#bd3786\"], [0.5555555555555556, \"#d8576b\"], [0.6666666666666666, \"#ed7953\"], [0.7777777777777778, \"#fb9f3a\"], [0.8888888888888888, \"#fdca26\"], [1.0, \"#f0f921\"]]}, \"colorway\": [\"#636efa\", \"#EF553B\", \"#00cc96\", \"#ab63fa\", \"#FFA15A\", \"#19d3f3\", \"#FF6692\", \"#B6E880\", \"#FF97FF\", \"#FECB52\"], \"font\": {\"color\": \"#2a3f5f\"}, \"geo\": {\"bgcolor\": \"white\", \"lakecolor\": \"white\", \"landcolor\": \"#E5ECF6\", \"showlakes\": true, \"showland\": true, \"subunitcolor\": \"white\"}, \"hoverlabel\": {\"align\": \"left\"}, \"hovermode\": \"closest\", \"mapbox\": {\"style\": \"light\"}, \"paper_bgcolor\": \"white\", \"plot_bgcolor\": \"#E5ECF6\", \"polar\": {\"angularaxis\": {\"gridcolor\": \"white\", \"linecolor\": \"white\", \"ticks\": \"\"}, \"bgcolor\": \"#E5ECF6\", \"radialaxis\": {\"gridcolor\": \"white\", \"linecolor\": \"white\", \"ticks\": \"\"}}, \"scene\": {\"xaxis\": {\"backgroundcolor\": \"#E5ECF6\", \"gridcolor\": \"white\", \"gridwidth\": 2, \"linecolor\": \"white\", \"showbackground\": true, \"ticks\": \"\", \"zerolinecolor\": \"white\"}, \"yaxis\": {\"backgroundcolor\": \"#E5ECF6\", \"gridcolor\": \"white\", \"gridwidth\": 2, \"linecolor\": \"white\", \"showbackground\": true, \"ticks\": \"\", \"zerolinecolor\": \"white\"}, \"zaxis\": {\"backgroundcolor\": \"#E5ECF6\", \"gridcolor\": \"white\", \"gridwidth\": 2, \"linecolor\": \"white\", \"showbackground\": true, \"ticks\": \"\", \"zerolinecolor\": \"white\"}}, \"shapedefaults\": {\"line\": {\"color\": \"#2a3f5f\"}}, \"ternary\": {\"aaxis\": {\"gridcolor\": \"white\", \"linecolor\": \"white\", \"ticks\": \"\"}, \"baxis\": {\"gridcolor\": \"white\", \"linecolor\": \"white\", \"ticks\": \"\"}, \"bgcolor\": \"#E5ECF6\", \"caxis\": {\"gridcolor\": \"white\", \"linecolor\": \"white\", \"ticks\": \"\"}}, \"title\": {\"x\": 0.05}, \"xaxis\": {\"automargin\": true, \"gridcolor\": \"white\", \"linecolor\": \"white\", \"ticks\": \"\", \"title\": {\"standoff\": 15}, \"zerolinecolor\": \"white\", \"zerolinewidth\": 2}, \"yaxis\": {\"automargin\": true, \"gridcolor\": \"white\", \"linecolor\": \"white\", \"ticks\": \"\", \"title\": {\"standoff\": 15}, \"zerolinecolor\": \"white\", \"zerolinewidth\": 2}}}, \"title\": {\"text\": \"Nobel Prize Gender Breakdown\"}},                        {\"responsive\": true}                    ).then(function(){\n",
       "                            \n",
       "var gd = document.getElementById('8705d5ca-d5ba-4ecf-91ad-0cc9d436f61d');\n",
       "var x = new MutationObserver(function (mutations, observer) {{\n",
       "        var display = window.getComputedStyle(gd).display;\n",
       "        if (!display || display === 'none') {{\n",
       "            console.log([gd, 'removed!']);\n",
       "            Plotly.purge(gd);\n",
       "            observer.disconnect();\n",
       "        }}\n",
       "}});\n",
       "\n",
       "// Listen for the removal of the full notebook cells\n",
       "var notebookContainer = gd.closest('#notebook-container');\n",
       "if (notebookContainer) {{\n",
       "    x.observe(notebookContainer, {childList: true});\n",
       "}}\n",
       "\n",
       "// Listen for the clearing of the current output cell\n",
       "var outputEl = gd.closest('.output');\n",
       "if (outputEl) {{\n",
       "    x.observe(outputEl, {childList: true});\n",
       "}}\n",
       "\n",
       "                        })                };                });            </script>        </div>"
      ]
     },
     "metadata": {},
     "output_type": "display_data"
    }
   ],
   "source": [
    "gender_data = data.sex.value_counts()\n",
    "fig = px.pie(labels=gender_data.index, \n",
    "             values=gender_data.values, \n",
    "             title='Nobel Prize Gender Breakdown',\n",
    "             names=gender_data.index,\n",
    "             hole=0.6)\n",
    "fig.update_traces(textposition='inside', textinfo='percent+label')\n",
    "fig.show()"
   ]
  },
  {
   "cell_type": "markdown",
   "metadata": {
    "id": "qVJDd4uhFgGk"
   },
   "source": [
    "Only 6% of all Nobel Prizes have been awarded to women."
   ]
  },
  {
   "cell_type": "markdown",
   "metadata": {
    "dc": {
     "key": "38"
    },
    "id": "dmdB0tCko7Lu",
    "run_control": {
     "frozen": true
    },
    "tags": [
     "context"
    ]
   },
   "source": [
    "# Who were the first 3 Women to Win the Nobel Prize?\n",
    "\n",
    "**Challenge**: \n",
    "* What are the names of the first 3 female Nobel laureates? \n",
    "* What did the win the prize for? \n",
    "* What do you see in their `birth_country`? Were they part of an organisation?"
   ]
  },
  {
   "cell_type": "code",
   "execution_count": 94,
   "metadata": {
    "id": "nk5h-XFcFiJp"
   },
   "outputs": [
    {
     "data": {
      "text/html": [
       "<div>\n",
       "<style scoped>\n",
       "    .dataframe tbody tr th:only-of-type {\n",
       "        vertical-align: middle;\n",
       "    }\n",
       "\n",
       "    .dataframe tbody tr th {\n",
       "        vertical-align: top;\n",
       "    }\n",
       "\n",
       "    .dataframe thead th {\n",
       "        text-align: right;\n",
       "    }\n",
       "</style>\n",
       "<table border=\"1\" class=\"dataframe\">\n",
       "  <thead>\n",
       "    <tr style=\"text-align: right;\">\n",
       "      <th></th>\n",
       "      <th>year</th>\n",
       "      <th>category</th>\n",
       "      <th>prize</th>\n",
       "      <th>motivation</th>\n",
       "      <th>prize_share</th>\n",
       "      <th>laureate_type</th>\n",
       "      <th>full_name</th>\n",
       "      <th>birth_date</th>\n",
       "      <th>birth_city</th>\n",
       "      <th>birth_country</th>\n",
       "      <th>birth_country_current</th>\n",
       "      <th>sex</th>\n",
       "      <th>organization_name</th>\n",
       "      <th>organization_city</th>\n",
       "      <th>organization_country</th>\n",
       "      <th>ISO</th>\n",
       "      <th>share_pct</th>\n",
       "    </tr>\n",
       "  </thead>\n",
       "  <tbody>\n",
       "    <tr>\n",
       "      <th>18</th>\n",
       "      <td>1903</td>\n",
       "      <td>Physics</td>\n",
       "      <td>The Nobel Prize in Physics 1903</td>\n",
       "      <td>\"in recognition of the extraordinary services ...</td>\n",
       "      <td>1/4</td>\n",
       "      <td>Individual</td>\n",
       "      <td>Marie Curie, née Sklodowska</td>\n",
       "      <td>1867-11-07</td>\n",
       "      <td>Warsaw</td>\n",
       "      <td>Russian Empire (Poland)</td>\n",
       "      <td>Poland</td>\n",
       "      <td>Female</td>\n",
       "      <td>NaN</td>\n",
       "      <td>NaN</td>\n",
       "      <td>NaN</td>\n",
       "      <td>POL</td>\n",
       "      <td>0.25</td>\n",
       "    </tr>\n",
       "    <tr>\n",
       "      <th>29</th>\n",
       "      <td>1905</td>\n",
       "      <td>Peace</td>\n",
       "      <td>The Nobel Peace Prize 1905</td>\n",
       "      <td>NaN</td>\n",
       "      <td>1/1</td>\n",
       "      <td>Individual</td>\n",
       "      <td>Baroness Bertha Sophie Felicita von Suttner, n...</td>\n",
       "      <td>1843-06-09</td>\n",
       "      <td>Prague</td>\n",
       "      <td>Austrian Empire (Czech Republic)</td>\n",
       "      <td>Czech Republic</td>\n",
       "      <td>Female</td>\n",
       "      <td>NaN</td>\n",
       "      <td>NaN</td>\n",
       "      <td>NaN</td>\n",
       "      <td>CZE</td>\n",
       "      <td>1.00</td>\n",
       "    </tr>\n",
       "    <tr>\n",
       "      <th>51</th>\n",
       "      <td>1909</td>\n",
       "      <td>Literature</td>\n",
       "      <td>The Nobel Prize in Literature 1909</td>\n",
       "      <td>\"in appreciation of the lofty idealism, vivid ...</td>\n",
       "      <td>1/1</td>\n",
       "      <td>Individual</td>\n",
       "      <td>Selma Ottilia Lovisa Lagerlöf</td>\n",
       "      <td>1858-11-20</td>\n",
       "      <td>Mårbacka</td>\n",
       "      <td>Sweden</td>\n",
       "      <td>Sweden</td>\n",
       "      <td>Female</td>\n",
       "      <td>NaN</td>\n",
       "      <td>NaN</td>\n",
       "      <td>NaN</td>\n",
       "      <td>SWE</td>\n",
       "      <td>1.00</td>\n",
       "    </tr>\n",
       "    <tr>\n",
       "      <th>62</th>\n",
       "      <td>1911</td>\n",
       "      <td>Chemistry</td>\n",
       "      <td>The Nobel Prize in Chemistry 1911</td>\n",
       "      <td>\"in recognition of her services to the advance...</td>\n",
       "      <td>1/1</td>\n",
       "      <td>Individual</td>\n",
       "      <td>Marie Curie, née Sklodowska</td>\n",
       "      <td>1867-11-07</td>\n",
       "      <td>Warsaw</td>\n",
       "      <td>Russian Empire (Poland)</td>\n",
       "      <td>Poland</td>\n",
       "      <td>Female</td>\n",
       "      <td>Sorbonne University</td>\n",
       "      <td>Paris</td>\n",
       "      <td>France</td>\n",
       "      <td>POL</td>\n",
       "      <td>1.00</td>\n",
       "    </tr>\n",
       "    <tr>\n",
       "      <th>128</th>\n",
       "      <td>1926</td>\n",
       "      <td>Literature</td>\n",
       "      <td>The Nobel Prize in Literature 1926</td>\n",
       "      <td>\"for her idealistically inspired writings whic...</td>\n",
       "      <td>1/1</td>\n",
       "      <td>Individual</td>\n",
       "      <td>Grazia Deledda</td>\n",
       "      <td>1871-09-27</td>\n",
       "      <td>Nuoro, Sardinia</td>\n",
       "      <td>Italy</td>\n",
       "      <td>Italy</td>\n",
       "      <td>Female</td>\n",
       "      <td>NaN</td>\n",
       "      <td>NaN</td>\n",
       "      <td>NaN</td>\n",
       "      <td>ITA</td>\n",
       "      <td>1.00</td>\n",
       "    </tr>\n",
       "  </tbody>\n",
       "</table>\n",
       "</div>"
      ],
      "text/plain": [
       "     year    category                               prize  \\\n",
       "18   1903     Physics     The Nobel Prize in Physics 1903   \n",
       "29   1905       Peace          The Nobel Peace Prize 1905   \n",
       "51   1909  Literature  The Nobel Prize in Literature 1909   \n",
       "62   1911   Chemistry   The Nobel Prize in Chemistry 1911   \n",
       "128  1926  Literature  The Nobel Prize in Literature 1926   \n",
       "\n",
       "                                            motivation prize_share  \\\n",
       "18   \"in recognition of the extraordinary services ...         1/4   \n",
       "29                                                 NaN         1/1   \n",
       "51   \"in appreciation of the lofty idealism, vivid ...         1/1   \n",
       "62   \"in recognition of her services to the advance...         1/1   \n",
       "128  \"for her idealistically inspired writings whic...         1/1   \n",
       "\n",
       "    laureate_type                                          full_name  \\\n",
       "18     Individual                        Marie Curie, née Sklodowska   \n",
       "29     Individual  Baroness Bertha Sophie Felicita von Suttner, n...   \n",
       "51     Individual                      Selma Ottilia Lovisa Lagerlöf   \n",
       "62     Individual                        Marie Curie, née Sklodowska   \n",
       "128    Individual                                     Grazia Deledda   \n",
       "\n",
       "    birth_date       birth_city                     birth_country  \\\n",
       "18  1867-11-07           Warsaw           Russian Empire (Poland)   \n",
       "29  1843-06-09           Prague  Austrian Empire (Czech Republic)   \n",
       "51  1858-11-20         Mårbacka                            Sweden   \n",
       "62  1867-11-07           Warsaw           Russian Empire (Poland)   \n",
       "128 1871-09-27  Nuoro, Sardinia                             Italy   \n",
       "\n",
       "    birth_country_current     sex    organization_name organization_city  \\\n",
       "18                 Poland  Female                  NaN               NaN   \n",
       "29         Czech Republic  Female                  NaN               NaN   \n",
       "51                 Sweden  Female                  NaN               NaN   \n",
       "62                 Poland  Female  Sorbonne University             Paris   \n",
       "128                 Italy  Female                  NaN               NaN   \n",
       "\n",
       "    organization_country  ISO  share_pct  \n",
       "18                   NaN  POL       0.25  \n",
       "29                   NaN  CZE       1.00  \n",
       "51                   NaN  SWE       1.00  \n",
       "62                France  POL       1.00  \n",
       "128                  NaN  ITA       1.00  "
      ]
     },
     "execution_count": 94,
     "metadata": {},
     "output_type": "execute_result"
    }
   ],
   "source": [
    "female_winners = data[data.sex == 'Female']\n",
    "female_winners.head()"
   ]
  },
  {
   "cell_type": "markdown",
   "metadata": {
    "id": "dPVD_f1oo7Lw"
   },
   "source": [
    "# Find the Repeat Winners\n",
    "\n",
    "**Challenge**: Did some people get a Nobel Prize more than once? If so, who were they? "
   ]
  },
  {
   "cell_type": "code",
   "execution_count": 110,
   "metadata": {
    "id": "Qqf8_dWUFjpz"
   },
   "outputs": [
    {
     "data": {
      "text/plain": [
       "6"
      ]
     },
     "execution_count": 110,
     "metadata": {},
     "output_type": "execute_result"
    }
   ],
   "source": [
    "repeat_winners = data.duplicated(subset=['full_name'], keep=False)\n",
    "data[repeat_winners]['full_name'].nunique()"
   ]
  },
  {
   "cell_type": "code",
   "execution_count": 112,
   "metadata": {
    "id": "UuIqCxQvFjdF"
   },
   "outputs": [
    {
     "data": {
      "text/plain": [
       "89     Comité international de la Croix Rouge (Intern...\n",
       "215    Comité international de la Croix Rouge (Intern...\n",
       "348    Comité international de la Croix Rouge (Intern...\n",
       "306                                     Frederick Sanger\n",
       "505                                     Frederick Sanger\n",
       "297                                         John Bardeen\n",
       "424                                         John Bardeen\n",
       "278                                   Linus Carl Pauling\n",
       "340                                   Linus Carl Pauling\n",
       "18                           Marie Curie, née Sklodowska\n",
       "62                           Marie Curie, née Sklodowska\n",
       "283    Office of the United Nations High Commissioner...\n",
       "523    Office of the United Nations High Commissioner...\n",
       "Name: full_name, dtype: object"
      ]
     },
     "execution_count": 112,
     "metadata": {},
     "output_type": "execute_result"
    }
   ],
   "source": [
    "data[repeat_winners]['full_name'].sort_values()"
   ]
  },
  {
   "cell_type": "markdown",
   "metadata": {
    "dc": {
     "key": "45"
    },
    "id": "x5NtE05go7L1",
    "tags": [
     "sample_code"
    ]
   },
   "source": [
    "# Number of Prizes per Category\n",
    "\n",
    "**Challenge**: \n",
    "* In how many categories are prizes awarded? \n",
    "* Create a plotly bar chart with the number of prizes awarded by category. \n",
    "* Use the color scale called `Aggrnyl` to colour the chart, but don't show a color axis.\n",
    "* Which category has the most number of prizes awarded? \n",
    "* Which category has the fewest number of prizes awarded? "
   ]
  },
  {
   "cell_type": "code",
   "execution_count": 113,
   "metadata": {
    "id": "EjwqH7bxFm10"
   },
   "outputs": [
    {
     "data": {
      "text/plain": [
       "6"
      ]
     },
     "execution_count": 113,
     "metadata": {},
     "output_type": "execute_result"
    }
   ],
   "source": [
    "data.category.nunique()"
   ]
  },
  {
   "cell_type": "code",
   "execution_count": 120,
   "metadata": {},
   "outputs": [
    {
     "data": {
      "application/vnd.plotly.v1+json": {
       "config": {
        "plotlyServerURL": "https://plot.ly"
       },
       "data": [
        {
         "alignmentgroup": "True",
         "hovertemplate": "x=%{x}<br>y=%{y}<br>color=%{marker.color}<extra></extra>",
         "legendgroup": "",
         "marker": {
          "color": [
           222,
           216,
           186,
           135,
           117,
           86
          ],
          "coloraxis": "coloraxis"
         },
         "name": "",
         "offsetgroup": "",
         "orientation": "v",
         "showlegend": false,
         "textposition": "auto",
         "type": "bar",
         "x": [
          "Medicine",
          "Physics",
          "Chemistry",
          "Peace",
          "Literature",
          "Economics"
         ],
         "xaxis": "x",
         "y": [
          222,
          216,
          186,
          135,
          117,
          86
         ],
         "yaxis": "y"
        }
       ],
       "layout": {
        "barmode": "relative",
        "coloraxis": {
         "colorbar": {
          "title": {
           "text": "color"
          }
         },
         "colorscale": [
          [
           0,
           "rgb(36, 86, 104)"
          ],
          [
           0.16666666666666666,
           "rgb(15, 114, 121)"
          ],
          [
           0.3333333333333333,
           "rgb(13, 143, 129)"
          ],
          [
           0.5,
           "rgb(57, 171, 126)"
          ],
          [
           0.6666666666666666,
           "rgb(110, 197, 116)"
          ],
          [
           0.8333333333333334,
           "rgb(169, 220, 103)"
          ],
          [
           1,
           "rgb(237, 239, 93)"
          ]
         ],
         "showscale": false
        },
        "legend": {
         "tracegroupgap": 0
        },
        "template": {
         "data": {
          "bar": [
           {
            "error_x": {
             "color": "#2a3f5f"
            },
            "error_y": {
             "color": "#2a3f5f"
            },
            "marker": {
             "line": {
              "color": "#E5ECF6",
              "width": 0.5
             }
            },
            "type": "bar"
           }
          ],
          "barpolar": [
           {
            "marker": {
             "line": {
              "color": "#E5ECF6",
              "width": 0.5
             }
            },
            "type": "barpolar"
           }
          ],
          "carpet": [
           {
            "aaxis": {
             "endlinecolor": "#2a3f5f",
             "gridcolor": "white",
             "linecolor": "white",
             "minorgridcolor": "white",
             "startlinecolor": "#2a3f5f"
            },
            "baxis": {
             "endlinecolor": "#2a3f5f",
             "gridcolor": "white",
             "linecolor": "white",
             "minorgridcolor": "white",
             "startlinecolor": "#2a3f5f"
            },
            "type": "carpet"
           }
          ],
          "choropleth": [
           {
            "colorbar": {
             "outlinewidth": 0,
             "ticks": ""
            },
            "type": "choropleth"
           }
          ],
          "contour": [
           {
            "colorbar": {
             "outlinewidth": 0,
             "ticks": ""
            },
            "colorscale": [
             [
              0,
              "#0d0887"
             ],
             [
              0.1111111111111111,
              "#46039f"
             ],
             [
              0.2222222222222222,
              "#7201a8"
             ],
             [
              0.3333333333333333,
              "#9c179e"
             ],
             [
              0.4444444444444444,
              "#bd3786"
             ],
             [
              0.5555555555555556,
              "#d8576b"
             ],
             [
              0.6666666666666666,
              "#ed7953"
             ],
             [
              0.7777777777777778,
              "#fb9f3a"
             ],
             [
              0.8888888888888888,
              "#fdca26"
             ],
             [
              1,
              "#f0f921"
             ]
            ],
            "type": "contour"
           }
          ],
          "contourcarpet": [
           {
            "colorbar": {
             "outlinewidth": 0,
             "ticks": ""
            },
            "type": "contourcarpet"
           }
          ],
          "heatmap": [
           {
            "colorbar": {
             "outlinewidth": 0,
             "ticks": ""
            },
            "colorscale": [
             [
              0,
              "#0d0887"
             ],
             [
              0.1111111111111111,
              "#46039f"
             ],
             [
              0.2222222222222222,
              "#7201a8"
             ],
             [
              0.3333333333333333,
              "#9c179e"
             ],
             [
              0.4444444444444444,
              "#bd3786"
             ],
             [
              0.5555555555555556,
              "#d8576b"
             ],
             [
              0.6666666666666666,
              "#ed7953"
             ],
             [
              0.7777777777777778,
              "#fb9f3a"
             ],
             [
              0.8888888888888888,
              "#fdca26"
             ],
             [
              1,
              "#f0f921"
             ]
            ],
            "type": "heatmap"
           }
          ],
          "heatmapgl": [
           {
            "colorbar": {
             "outlinewidth": 0,
             "ticks": ""
            },
            "colorscale": [
             [
              0,
              "#0d0887"
             ],
             [
              0.1111111111111111,
              "#46039f"
             ],
             [
              0.2222222222222222,
              "#7201a8"
             ],
             [
              0.3333333333333333,
              "#9c179e"
             ],
             [
              0.4444444444444444,
              "#bd3786"
             ],
             [
              0.5555555555555556,
              "#d8576b"
             ],
             [
              0.6666666666666666,
              "#ed7953"
             ],
             [
              0.7777777777777778,
              "#fb9f3a"
             ],
             [
              0.8888888888888888,
              "#fdca26"
             ],
             [
              1,
              "#f0f921"
             ]
            ],
            "type": "heatmapgl"
           }
          ],
          "histogram": [
           {
            "marker": {
             "colorbar": {
              "outlinewidth": 0,
              "ticks": ""
             }
            },
            "type": "histogram"
           }
          ],
          "histogram2d": [
           {
            "colorbar": {
             "outlinewidth": 0,
             "ticks": ""
            },
            "colorscale": [
             [
              0,
              "#0d0887"
             ],
             [
              0.1111111111111111,
              "#46039f"
             ],
             [
              0.2222222222222222,
              "#7201a8"
             ],
             [
              0.3333333333333333,
              "#9c179e"
             ],
             [
              0.4444444444444444,
              "#bd3786"
             ],
             [
              0.5555555555555556,
              "#d8576b"
             ],
             [
              0.6666666666666666,
              "#ed7953"
             ],
             [
              0.7777777777777778,
              "#fb9f3a"
             ],
             [
              0.8888888888888888,
              "#fdca26"
             ],
             [
              1,
              "#f0f921"
             ]
            ],
            "type": "histogram2d"
           }
          ],
          "histogram2dcontour": [
           {
            "colorbar": {
             "outlinewidth": 0,
             "ticks": ""
            },
            "colorscale": [
             [
              0,
              "#0d0887"
             ],
             [
              0.1111111111111111,
              "#46039f"
             ],
             [
              0.2222222222222222,
              "#7201a8"
             ],
             [
              0.3333333333333333,
              "#9c179e"
             ],
             [
              0.4444444444444444,
              "#bd3786"
             ],
             [
              0.5555555555555556,
              "#d8576b"
             ],
             [
              0.6666666666666666,
              "#ed7953"
             ],
             [
              0.7777777777777778,
              "#fb9f3a"
             ],
             [
              0.8888888888888888,
              "#fdca26"
             ],
             [
              1,
              "#f0f921"
             ]
            ],
            "type": "histogram2dcontour"
           }
          ],
          "mesh3d": [
           {
            "colorbar": {
             "outlinewidth": 0,
             "ticks": ""
            },
            "type": "mesh3d"
           }
          ],
          "parcoords": [
           {
            "line": {
             "colorbar": {
              "outlinewidth": 0,
              "ticks": ""
             }
            },
            "type": "parcoords"
           }
          ],
          "pie": [
           {
            "automargin": true,
            "type": "pie"
           }
          ],
          "scatter": [
           {
            "marker": {
             "colorbar": {
              "outlinewidth": 0,
              "ticks": ""
             }
            },
            "type": "scatter"
           }
          ],
          "scatter3d": [
           {
            "line": {
             "colorbar": {
              "outlinewidth": 0,
              "ticks": ""
             }
            },
            "marker": {
             "colorbar": {
              "outlinewidth": 0,
              "ticks": ""
             }
            },
            "type": "scatter3d"
           }
          ],
          "scattercarpet": [
           {
            "marker": {
             "colorbar": {
              "outlinewidth": 0,
              "ticks": ""
             }
            },
            "type": "scattercarpet"
           }
          ],
          "scattergeo": [
           {
            "marker": {
             "colorbar": {
              "outlinewidth": 0,
              "ticks": ""
             }
            },
            "type": "scattergeo"
           }
          ],
          "scattergl": [
           {
            "marker": {
             "colorbar": {
              "outlinewidth": 0,
              "ticks": ""
             }
            },
            "type": "scattergl"
           }
          ],
          "scattermapbox": [
           {
            "marker": {
             "colorbar": {
              "outlinewidth": 0,
              "ticks": ""
             }
            },
            "type": "scattermapbox"
           }
          ],
          "scatterpolar": [
           {
            "marker": {
             "colorbar": {
              "outlinewidth": 0,
              "ticks": ""
             }
            },
            "type": "scatterpolar"
           }
          ],
          "scatterpolargl": [
           {
            "marker": {
             "colorbar": {
              "outlinewidth": 0,
              "ticks": ""
             }
            },
            "type": "scatterpolargl"
           }
          ],
          "scatterternary": [
           {
            "marker": {
             "colorbar": {
              "outlinewidth": 0,
              "ticks": ""
             }
            },
            "type": "scatterternary"
           }
          ],
          "surface": [
           {
            "colorbar": {
             "outlinewidth": 0,
             "ticks": ""
            },
            "colorscale": [
             [
              0,
              "#0d0887"
             ],
             [
              0.1111111111111111,
              "#46039f"
             ],
             [
              0.2222222222222222,
              "#7201a8"
             ],
             [
              0.3333333333333333,
              "#9c179e"
             ],
             [
              0.4444444444444444,
              "#bd3786"
             ],
             [
              0.5555555555555556,
              "#d8576b"
             ],
             [
              0.6666666666666666,
              "#ed7953"
             ],
             [
              0.7777777777777778,
              "#fb9f3a"
             ],
             [
              0.8888888888888888,
              "#fdca26"
             ],
             [
              1,
              "#f0f921"
             ]
            ],
            "type": "surface"
           }
          ],
          "table": [
           {
            "cells": {
             "fill": {
              "color": "#EBF0F8"
             },
             "line": {
              "color": "white"
             }
            },
            "header": {
             "fill": {
              "color": "#C8D4E3"
             },
             "line": {
              "color": "white"
             }
            },
            "type": "table"
           }
          ]
         },
         "layout": {
          "annotationdefaults": {
           "arrowcolor": "#2a3f5f",
           "arrowhead": 0,
           "arrowwidth": 1
          },
          "autotypenumbers": "strict",
          "coloraxis": {
           "colorbar": {
            "outlinewidth": 0,
            "ticks": ""
           }
          },
          "colorscale": {
           "diverging": [
            [
             0,
             "#8e0152"
            ],
            [
             0.1,
             "#c51b7d"
            ],
            [
             0.2,
             "#de77ae"
            ],
            [
             0.3,
             "#f1b6da"
            ],
            [
             0.4,
             "#fde0ef"
            ],
            [
             0.5,
             "#f7f7f7"
            ],
            [
             0.6,
             "#e6f5d0"
            ],
            [
             0.7,
             "#b8e186"
            ],
            [
             0.8,
             "#7fbc41"
            ],
            [
             0.9,
             "#4d9221"
            ],
            [
             1,
             "#276419"
            ]
           ],
           "sequential": [
            [
             0,
             "#0d0887"
            ],
            [
             0.1111111111111111,
             "#46039f"
            ],
            [
             0.2222222222222222,
             "#7201a8"
            ],
            [
             0.3333333333333333,
             "#9c179e"
            ],
            [
             0.4444444444444444,
             "#bd3786"
            ],
            [
             0.5555555555555556,
             "#d8576b"
            ],
            [
             0.6666666666666666,
             "#ed7953"
            ],
            [
             0.7777777777777778,
             "#fb9f3a"
            ],
            [
             0.8888888888888888,
             "#fdca26"
            ],
            [
             1,
             "#f0f921"
            ]
           ],
           "sequentialminus": [
            [
             0,
             "#0d0887"
            ],
            [
             0.1111111111111111,
             "#46039f"
            ],
            [
             0.2222222222222222,
             "#7201a8"
            ],
            [
             0.3333333333333333,
             "#9c179e"
            ],
            [
             0.4444444444444444,
             "#bd3786"
            ],
            [
             0.5555555555555556,
             "#d8576b"
            ],
            [
             0.6666666666666666,
             "#ed7953"
            ],
            [
             0.7777777777777778,
             "#fb9f3a"
            ],
            [
             0.8888888888888888,
             "#fdca26"
            ],
            [
             1,
             "#f0f921"
            ]
           ]
          },
          "colorway": [
           "#636efa",
           "#EF553B",
           "#00cc96",
           "#ab63fa",
           "#FFA15A",
           "#19d3f3",
           "#FF6692",
           "#B6E880",
           "#FF97FF",
           "#FECB52"
          ],
          "font": {
           "color": "#2a3f5f"
          },
          "geo": {
           "bgcolor": "white",
           "lakecolor": "white",
           "landcolor": "#E5ECF6",
           "showlakes": true,
           "showland": true,
           "subunitcolor": "white"
          },
          "hoverlabel": {
           "align": "left"
          },
          "hovermode": "closest",
          "mapbox": {
           "style": "light"
          },
          "paper_bgcolor": "white",
          "plot_bgcolor": "#E5ECF6",
          "polar": {
           "angularaxis": {
            "gridcolor": "white",
            "linecolor": "white",
            "ticks": ""
           },
           "bgcolor": "#E5ECF6",
           "radialaxis": {
            "gridcolor": "white",
            "linecolor": "white",
            "ticks": ""
           }
          },
          "scene": {
           "xaxis": {
            "backgroundcolor": "#E5ECF6",
            "gridcolor": "white",
            "gridwidth": 2,
            "linecolor": "white",
            "showbackground": true,
            "ticks": "",
            "zerolinecolor": "white"
           },
           "yaxis": {
            "backgroundcolor": "#E5ECF6",
            "gridcolor": "white",
            "gridwidth": 2,
            "linecolor": "white",
            "showbackground": true,
            "ticks": "",
            "zerolinecolor": "white"
           },
           "zaxis": {
            "backgroundcolor": "#E5ECF6",
            "gridcolor": "white",
            "gridwidth": 2,
            "linecolor": "white",
            "showbackground": true,
            "ticks": "",
            "zerolinecolor": "white"
           }
          },
          "shapedefaults": {
           "line": {
            "color": "#2a3f5f"
           }
          },
          "ternary": {
           "aaxis": {
            "gridcolor": "white",
            "linecolor": "white",
            "ticks": ""
           },
           "baxis": {
            "gridcolor": "white",
            "linecolor": "white",
            "ticks": ""
           },
           "bgcolor": "#E5ECF6",
           "caxis": {
            "gridcolor": "white",
            "linecolor": "white",
            "ticks": ""
           }
          },
          "title": {
           "x": 0.05
          },
          "xaxis": {
           "automargin": true,
           "gridcolor": "white",
           "linecolor": "white",
           "ticks": "",
           "title": {
            "standoff": 15
           },
           "zerolinecolor": "white",
           "zerolinewidth": 2
          },
          "yaxis": {
           "automargin": true,
           "gridcolor": "white",
           "linecolor": "white",
           "ticks": "",
           "title": {
            "standoff": 15
           },
           "zerolinecolor": "white",
           "zerolinewidth": 2
          }
         }
        },
        "title": {
         "text": "Nobel Prizes by Category"
        },
        "xaxis": {
         "anchor": "y",
         "domain": [
          0,
          1
         ],
         "title": {
          "text": "Categories"
         }
        },
        "yaxis": {
         "anchor": "x",
         "domain": [
          0,
          1
         ],
         "title": {
          "text": "Number of Prizes Awarded"
         }
        }
       }
      },
      "text/html": [
       "<div>                            <div id=\"a6bfda04-4624-4c25-80da-f19bd53d044f\" class=\"plotly-graph-div\" style=\"height:525px; width:100%;\"></div>            <script type=\"text/javascript\">                require([\"plotly\"], function(Plotly) {                    window.PLOTLYENV=window.PLOTLYENV || {};                                    if (document.getElementById(\"a6bfda04-4624-4c25-80da-f19bd53d044f\")) {                    Plotly.newPlot(                        \"a6bfda04-4624-4c25-80da-f19bd53d044f\",                        [{\"alignmentgroup\": \"True\", \"hovertemplate\": \"x=%{x}<br>y=%{y}<br>color=%{marker.color}<extra></extra>\", \"legendgroup\": \"\", \"marker\": {\"color\": [222, 216, 186, 135, 117, 86], \"coloraxis\": \"coloraxis\"}, \"name\": \"\", \"offsetgroup\": \"\", \"orientation\": \"v\", \"showlegend\": false, \"textposition\": \"auto\", \"type\": \"bar\", \"x\": [\"Medicine\", \"Physics\", \"Chemistry\", \"Peace\", \"Literature\", \"Economics\"], \"xaxis\": \"x\", \"y\": [222, 216, 186, 135, 117, 86], \"yaxis\": \"y\"}],                        {\"barmode\": \"relative\", \"coloraxis\": {\"colorbar\": {\"title\": {\"text\": \"color\"}}, \"colorscale\": [[0.0, \"rgb(36, 86, 104)\"], [0.16666666666666666, \"rgb(15, 114, 121)\"], [0.3333333333333333, \"rgb(13, 143, 129)\"], [0.5, \"rgb(57, 171, 126)\"], [0.6666666666666666, \"rgb(110, 197, 116)\"], [0.8333333333333334, \"rgb(169, 220, 103)\"], [1.0, \"rgb(237, 239, 93)\"]], \"showscale\": false}, \"legend\": {\"tracegroupgap\": 0}, \"template\": {\"data\": {\"bar\": [{\"error_x\": {\"color\": \"#2a3f5f\"}, \"error_y\": {\"color\": \"#2a3f5f\"}, \"marker\": {\"line\": {\"color\": \"#E5ECF6\", \"width\": 0.5}}, \"type\": \"bar\"}], \"barpolar\": [{\"marker\": {\"line\": {\"color\": \"#E5ECF6\", \"width\": 0.5}}, \"type\": \"barpolar\"}], \"carpet\": [{\"aaxis\": {\"endlinecolor\": \"#2a3f5f\", \"gridcolor\": \"white\", \"linecolor\": \"white\", \"minorgridcolor\": \"white\", \"startlinecolor\": \"#2a3f5f\"}, \"baxis\": {\"endlinecolor\": \"#2a3f5f\", \"gridcolor\": \"white\", \"linecolor\": \"white\", \"minorgridcolor\": \"white\", \"startlinecolor\": \"#2a3f5f\"}, \"type\": \"carpet\"}], \"choropleth\": [{\"colorbar\": {\"outlinewidth\": 0, \"ticks\": \"\"}, \"type\": \"choropleth\"}], \"contour\": [{\"colorbar\": {\"outlinewidth\": 0, \"ticks\": \"\"}, \"colorscale\": [[0.0, \"#0d0887\"], [0.1111111111111111, \"#46039f\"], [0.2222222222222222, \"#7201a8\"], [0.3333333333333333, \"#9c179e\"], [0.4444444444444444, \"#bd3786\"], [0.5555555555555556, \"#d8576b\"], [0.6666666666666666, \"#ed7953\"], [0.7777777777777778, \"#fb9f3a\"], [0.8888888888888888, \"#fdca26\"], [1.0, \"#f0f921\"]], \"type\": \"contour\"}], \"contourcarpet\": [{\"colorbar\": {\"outlinewidth\": 0, \"ticks\": \"\"}, \"type\": \"contourcarpet\"}], \"heatmap\": [{\"colorbar\": {\"outlinewidth\": 0, \"ticks\": \"\"}, \"colorscale\": [[0.0, \"#0d0887\"], [0.1111111111111111, \"#46039f\"], [0.2222222222222222, \"#7201a8\"], [0.3333333333333333, \"#9c179e\"], [0.4444444444444444, \"#bd3786\"], [0.5555555555555556, \"#d8576b\"], [0.6666666666666666, \"#ed7953\"], [0.7777777777777778, \"#fb9f3a\"], [0.8888888888888888, \"#fdca26\"], [1.0, \"#f0f921\"]], \"type\": \"heatmap\"}], \"heatmapgl\": [{\"colorbar\": {\"outlinewidth\": 0, \"ticks\": \"\"}, \"colorscale\": [[0.0, \"#0d0887\"], [0.1111111111111111, \"#46039f\"], [0.2222222222222222, \"#7201a8\"], [0.3333333333333333, \"#9c179e\"], [0.4444444444444444, \"#bd3786\"], [0.5555555555555556, \"#d8576b\"], [0.6666666666666666, \"#ed7953\"], [0.7777777777777778, \"#fb9f3a\"], [0.8888888888888888, \"#fdca26\"], [1.0, \"#f0f921\"]], \"type\": \"heatmapgl\"}], \"histogram\": [{\"marker\": {\"colorbar\": {\"outlinewidth\": 0, \"ticks\": \"\"}}, \"type\": \"histogram\"}], \"histogram2d\": [{\"colorbar\": {\"outlinewidth\": 0, \"ticks\": \"\"}, \"colorscale\": [[0.0, \"#0d0887\"], [0.1111111111111111, \"#46039f\"], [0.2222222222222222, \"#7201a8\"], [0.3333333333333333, \"#9c179e\"], [0.4444444444444444, \"#bd3786\"], [0.5555555555555556, \"#d8576b\"], [0.6666666666666666, \"#ed7953\"], [0.7777777777777778, \"#fb9f3a\"], [0.8888888888888888, \"#fdca26\"], [1.0, \"#f0f921\"]], \"type\": \"histogram2d\"}], \"histogram2dcontour\": [{\"colorbar\": {\"outlinewidth\": 0, \"ticks\": \"\"}, \"colorscale\": [[0.0, \"#0d0887\"], [0.1111111111111111, \"#46039f\"], [0.2222222222222222, \"#7201a8\"], [0.3333333333333333, \"#9c179e\"], [0.4444444444444444, \"#bd3786\"], [0.5555555555555556, \"#d8576b\"], [0.6666666666666666, \"#ed7953\"], [0.7777777777777778, \"#fb9f3a\"], [0.8888888888888888, \"#fdca26\"], [1.0, \"#f0f921\"]], \"type\": \"histogram2dcontour\"}], \"mesh3d\": [{\"colorbar\": {\"outlinewidth\": 0, \"ticks\": \"\"}, \"type\": \"mesh3d\"}], \"parcoords\": [{\"line\": {\"colorbar\": {\"outlinewidth\": 0, \"ticks\": \"\"}}, \"type\": \"parcoords\"}], \"pie\": [{\"automargin\": true, \"type\": \"pie\"}], \"scatter\": [{\"marker\": {\"colorbar\": {\"outlinewidth\": 0, \"ticks\": \"\"}}, \"type\": \"scatter\"}], \"scatter3d\": [{\"line\": {\"colorbar\": {\"outlinewidth\": 0, \"ticks\": \"\"}}, \"marker\": {\"colorbar\": {\"outlinewidth\": 0, \"ticks\": \"\"}}, \"type\": \"scatter3d\"}], \"scattercarpet\": [{\"marker\": {\"colorbar\": {\"outlinewidth\": 0, \"ticks\": \"\"}}, \"type\": \"scattercarpet\"}], \"scattergeo\": [{\"marker\": {\"colorbar\": {\"outlinewidth\": 0, \"ticks\": \"\"}}, \"type\": \"scattergeo\"}], \"scattergl\": [{\"marker\": {\"colorbar\": {\"outlinewidth\": 0, \"ticks\": \"\"}}, \"type\": \"scattergl\"}], \"scattermapbox\": [{\"marker\": {\"colorbar\": {\"outlinewidth\": 0, \"ticks\": \"\"}}, \"type\": \"scattermapbox\"}], \"scatterpolar\": [{\"marker\": {\"colorbar\": {\"outlinewidth\": 0, \"ticks\": \"\"}}, \"type\": \"scatterpolar\"}], \"scatterpolargl\": [{\"marker\": {\"colorbar\": {\"outlinewidth\": 0, \"ticks\": \"\"}}, \"type\": \"scatterpolargl\"}], \"scatterternary\": [{\"marker\": {\"colorbar\": {\"outlinewidth\": 0, \"ticks\": \"\"}}, \"type\": \"scatterternary\"}], \"surface\": [{\"colorbar\": {\"outlinewidth\": 0, \"ticks\": \"\"}, \"colorscale\": [[0.0, \"#0d0887\"], [0.1111111111111111, \"#46039f\"], [0.2222222222222222, \"#7201a8\"], [0.3333333333333333, \"#9c179e\"], [0.4444444444444444, \"#bd3786\"], [0.5555555555555556, \"#d8576b\"], [0.6666666666666666, \"#ed7953\"], [0.7777777777777778, \"#fb9f3a\"], [0.8888888888888888, \"#fdca26\"], [1.0, \"#f0f921\"]], \"type\": \"surface\"}], \"table\": [{\"cells\": {\"fill\": {\"color\": \"#EBF0F8\"}, \"line\": {\"color\": \"white\"}}, \"header\": {\"fill\": {\"color\": \"#C8D4E3\"}, \"line\": {\"color\": \"white\"}}, \"type\": \"table\"}]}, \"layout\": {\"annotationdefaults\": {\"arrowcolor\": \"#2a3f5f\", \"arrowhead\": 0, \"arrowwidth\": 1}, \"autotypenumbers\": \"strict\", \"coloraxis\": {\"colorbar\": {\"outlinewidth\": 0, \"ticks\": \"\"}}, \"colorscale\": {\"diverging\": [[0, \"#8e0152\"], [0.1, \"#c51b7d\"], [0.2, \"#de77ae\"], [0.3, \"#f1b6da\"], [0.4, \"#fde0ef\"], [0.5, \"#f7f7f7\"], [0.6, \"#e6f5d0\"], [0.7, \"#b8e186\"], [0.8, \"#7fbc41\"], [0.9, \"#4d9221\"], [1, \"#276419\"]], \"sequential\": [[0.0, \"#0d0887\"], [0.1111111111111111, \"#46039f\"], [0.2222222222222222, \"#7201a8\"], [0.3333333333333333, \"#9c179e\"], [0.4444444444444444, \"#bd3786\"], [0.5555555555555556, \"#d8576b\"], [0.6666666666666666, \"#ed7953\"], [0.7777777777777778, \"#fb9f3a\"], [0.8888888888888888, \"#fdca26\"], [1.0, \"#f0f921\"]], \"sequentialminus\": [[0.0, \"#0d0887\"], [0.1111111111111111, \"#46039f\"], [0.2222222222222222, \"#7201a8\"], [0.3333333333333333, \"#9c179e\"], [0.4444444444444444, \"#bd3786\"], [0.5555555555555556, \"#d8576b\"], [0.6666666666666666, \"#ed7953\"], [0.7777777777777778, \"#fb9f3a\"], [0.8888888888888888, \"#fdca26\"], [1.0, \"#f0f921\"]]}, \"colorway\": [\"#636efa\", \"#EF553B\", \"#00cc96\", \"#ab63fa\", \"#FFA15A\", \"#19d3f3\", \"#FF6692\", \"#B6E880\", \"#FF97FF\", \"#FECB52\"], \"font\": {\"color\": \"#2a3f5f\"}, \"geo\": {\"bgcolor\": \"white\", \"lakecolor\": \"white\", \"landcolor\": \"#E5ECF6\", \"showlakes\": true, \"showland\": true, \"subunitcolor\": \"white\"}, \"hoverlabel\": {\"align\": \"left\"}, \"hovermode\": \"closest\", \"mapbox\": {\"style\": \"light\"}, \"paper_bgcolor\": \"white\", \"plot_bgcolor\": \"#E5ECF6\", \"polar\": {\"angularaxis\": {\"gridcolor\": \"white\", \"linecolor\": \"white\", \"ticks\": \"\"}, \"bgcolor\": \"#E5ECF6\", \"radialaxis\": {\"gridcolor\": \"white\", \"linecolor\": \"white\", \"ticks\": \"\"}}, \"scene\": {\"xaxis\": {\"backgroundcolor\": \"#E5ECF6\", \"gridcolor\": \"white\", \"gridwidth\": 2, \"linecolor\": \"white\", \"showbackground\": true, \"ticks\": \"\", \"zerolinecolor\": \"white\"}, \"yaxis\": {\"backgroundcolor\": \"#E5ECF6\", \"gridcolor\": \"white\", \"gridwidth\": 2, \"linecolor\": \"white\", \"showbackground\": true, \"ticks\": \"\", \"zerolinecolor\": \"white\"}, \"zaxis\": {\"backgroundcolor\": \"#E5ECF6\", \"gridcolor\": \"white\", \"gridwidth\": 2, \"linecolor\": \"white\", \"showbackground\": true, \"ticks\": \"\", \"zerolinecolor\": \"white\"}}, \"shapedefaults\": {\"line\": {\"color\": \"#2a3f5f\"}}, \"ternary\": {\"aaxis\": {\"gridcolor\": \"white\", \"linecolor\": \"white\", \"ticks\": \"\"}, \"baxis\": {\"gridcolor\": \"white\", \"linecolor\": \"white\", \"ticks\": \"\"}, \"bgcolor\": \"#E5ECF6\", \"caxis\": {\"gridcolor\": \"white\", \"linecolor\": \"white\", \"ticks\": \"\"}}, \"title\": {\"x\": 0.05}, \"xaxis\": {\"automargin\": true, \"gridcolor\": \"white\", \"linecolor\": \"white\", \"ticks\": \"\", \"title\": {\"standoff\": 15}, \"zerolinecolor\": \"white\", \"zerolinewidth\": 2}, \"yaxis\": {\"automargin\": true, \"gridcolor\": \"white\", \"linecolor\": \"white\", \"ticks\": \"\", \"title\": {\"standoff\": 15}, \"zerolinecolor\": \"white\", \"zerolinewidth\": 2}}}, \"title\": {\"text\": \"Nobel Prizes by Category\"}, \"xaxis\": {\"anchor\": \"y\", \"domain\": [0.0, 1.0], \"title\": {\"text\": \"Categories\"}}, \"yaxis\": {\"anchor\": \"x\", \"domain\": [0.0, 1.0], \"title\": {\"text\": \"Number of Prizes Awarded\"}}},                        {\"responsive\": true}                    ).then(function(){\n",
       "                            \n",
       "var gd = document.getElementById('a6bfda04-4624-4c25-80da-f19bd53d044f');\n",
       "var x = new MutationObserver(function (mutations, observer) {{\n",
       "        var display = window.getComputedStyle(gd).display;\n",
       "        if (!display || display === 'none') {{\n",
       "            console.log([gd, 'removed!']);\n",
       "            Plotly.purge(gd);\n",
       "            observer.disconnect();\n",
       "        }}\n",
       "}});\n",
       "\n",
       "// Listen for the removal of the full notebook cells\n",
       "var notebookContainer = gd.closest('#notebook-container');\n",
       "if (notebookContainer) {{\n",
       "    x.observe(notebookContainer, {childList: true});\n",
       "}}\n",
       "\n",
       "// Listen for the clearing of the current output cell\n",
       "var outputEl = gd.closest('.output');\n",
       "if (outputEl) {{\n",
       "    x.observe(outputEl, {childList: true});\n",
       "}}\n",
       "\n",
       "                        })                };                });            </script>        </div>"
      ]
     },
     "metadata": {},
     "output_type": "display_data"
    }
   ],
   "source": [
    "category_counts = data.category.value_counts()\n",
    "bar = px.bar(x=category_counts.index, \n",
    "             y=category_counts.values, \n",
    "             title='Nobel Prizes by Category',\n",
    "             color=category_counts.values, \n",
    "             color_continuous_scale=px.colors.sequential.Aggrnyl)\n",
    "bar.update_layout(xaxis_title='Categories', \n",
    "                  yaxis_title='Number of Prizes Awarded', \n",
    "                  coloraxis_showscale=False)\n",
    "bar.show()"
   ]
  },
  {
   "cell_type": "markdown",
   "metadata": {
    "id": "nlISAxfXo7L5"
   },
   "source": [
    "**Challenge**: \n",
    "* When was the first prize in the field of Economics awarded?\n",
    "* Who did the prize go to?"
   ]
  },
  {
   "cell_type": "code",
   "execution_count": 126,
   "metadata": {
    "id": "ndzQ8lz6FpSG"
   },
   "outputs": [
    {
     "data": {
      "text/html": [
       "<div>\n",
       "<style scoped>\n",
       "    .dataframe tbody tr th:only-of-type {\n",
       "        vertical-align: middle;\n",
       "    }\n",
       "\n",
       "    .dataframe tbody tr th {\n",
       "        vertical-align: top;\n",
       "    }\n",
       "\n",
       "    .dataframe thead th {\n",
       "        text-align: right;\n",
       "    }\n",
       "</style>\n",
       "<table border=\"1\" class=\"dataframe\">\n",
       "  <thead>\n",
       "    <tr style=\"text-align: right;\">\n",
       "      <th></th>\n",
       "      <th>year</th>\n",
       "      <th>category</th>\n",
       "      <th>prize</th>\n",
       "      <th>motivation</th>\n",
       "      <th>prize_share</th>\n",
       "      <th>laureate_type</th>\n",
       "      <th>full_name</th>\n",
       "      <th>birth_date</th>\n",
       "      <th>birth_city</th>\n",
       "      <th>birth_country</th>\n",
       "      <th>birth_country_current</th>\n",
       "      <th>sex</th>\n",
       "      <th>organization_name</th>\n",
       "      <th>organization_city</th>\n",
       "      <th>organization_country</th>\n",
       "      <th>ISO</th>\n",
       "      <th>share_pct</th>\n",
       "    </tr>\n",
       "  </thead>\n",
       "  <tbody>\n",
       "    <tr>\n",
       "      <th>393</th>\n",
       "      <td>1969</td>\n",
       "      <td>Economics</td>\n",
       "      <td>The Sveriges Riksbank Prize in Economic Scienc...</td>\n",
       "      <td>\"for having developed and applied dynamic mode...</td>\n",
       "      <td>1/2</td>\n",
       "      <td>Individual</td>\n",
       "      <td>Jan Tinbergen</td>\n",
       "      <td>1903-04-12</td>\n",
       "      <td>the Hague</td>\n",
       "      <td>Netherlands</td>\n",
       "      <td>Netherlands</td>\n",
       "      <td>Male</td>\n",
       "      <td>The Netherlands School of Economics</td>\n",
       "      <td>Rotterdam</td>\n",
       "      <td>Netherlands</td>\n",
       "      <td>NLD</td>\n",
       "      <td>0.50</td>\n",
       "    </tr>\n",
       "    <tr>\n",
       "      <th>394</th>\n",
       "      <td>1969</td>\n",
       "      <td>Economics</td>\n",
       "      <td>The Sveriges Riksbank Prize in Economic Scienc...</td>\n",
       "      <td>\"for having developed and applied dynamic mode...</td>\n",
       "      <td>1/2</td>\n",
       "      <td>Individual</td>\n",
       "      <td>Ragnar Frisch</td>\n",
       "      <td>1895-03-03</td>\n",
       "      <td>Oslo</td>\n",
       "      <td>Norway</td>\n",
       "      <td>Norway</td>\n",
       "      <td>Male</td>\n",
       "      <td>University of Oslo</td>\n",
       "      <td>Oslo</td>\n",
       "      <td>Norway</td>\n",
       "      <td>NOR</td>\n",
       "      <td>0.50</td>\n",
       "    </tr>\n",
       "    <tr>\n",
       "      <th>402</th>\n",
       "      <td>1970</td>\n",
       "      <td>Economics</td>\n",
       "      <td>The Sveriges Riksbank Prize in Economic Scienc...</td>\n",
       "      <td>\"for the scientific work through which he has ...</td>\n",
       "      <td>1/1</td>\n",
       "      <td>Individual</td>\n",
       "      <td>Paul A. Samuelson</td>\n",
       "      <td>1915-05-15</td>\n",
       "      <td>Gary, IN</td>\n",
       "      <td>United States of America</td>\n",
       "      <td>United States of America</td>\n",
       "      <td>Male</td>\n",
       "      <td>Massachusetts Institute of Technology (MIT)</td>\n",
       "      <td>Cambridge, MA</td>\n",
       "      <td>United States of America</td>\n",
       "      <td>USA</td>\n",
       "      <td>1.00</td>\n",
       "    </tr>\n",
       "    <tr>\n",
       "      <th>411</th>\n",
       "      <td>1971</td>\n",
       "      <td>Economics</td>\n",
       "      <td>The Sveriges Riksbank Prize in Economic Scienc...</td>\n",
       "      <td>\"for his empirically founded interpretation of...</td>\n",
       "      <td>1/1</td>\n",
       "      <td>Individual</td>\n",
       "      <td>Simon Kuznets</td>\n",
       "      <td>1901-04-30</td>\n",
       "      <td>Pinsk</td>\n",
       "      <td>Russian Empire (Belarus)</td>\n",
       "      <td>Belarus</td>\n",
       "      <td>Male</td>\n",
       "      <td>Harvard University</td>\n",
       "      <td>Cambridge, MA</td>\n",
       "      <td>United States of America</td>\n",
       "      <td>BLR</td>\n",
       "      <td>1.00</td>\n",
       "    </tr>\n",
       "    <tr>\n",
       "      <th>419</th>\n",
       "      <td>1972</td>\n",
       "      <td>Economics</td>\n",
       "      <td>The Sveriges Riksbank Prize in Economic Scienc...</td>\n",
       "      <td>\"for their pioneering contributions to general...</td>\n",
       "      <td>1/2</td>\n",
       "      <td>Individual</td>\n",
       "      <td>John R. Hicks</td>\n",
       "      <td>1904-04-08</td>\n",
       "      <td>Warwick</td>\n",
       "      <td>United Kingdom</td>\n",
       "      <td>United Kingdom</td>\n",
       "      <td>Male</td>\n",
       "      <td>University of Oxford</td>\n",
       "      <td>Oxford</td>\n",
       "      <td>United Kingdom</td>\n",
       "      <td>GBR</td>\n",
       "      <td>0.50</td>\n",
       "    </tr>\n",
       "  </tbody>\n",
       "</table>\n",
       "</div>"
      ],
      "text/plain": [
       "     year   category                                              prize  \\\n",
       "393  1969  Economics  The Sveriges Riksbank Prize in Economic Scienc...   \n",
       "394  1969  Economics  The Sveriges Riksbank Prize in Economic Scienc...   \n",
       "402  1970  Economics  The Sveriges Riksbank Prize in Economic Scienc...   \n",
       "411  1971  Economics  The Sveriges Riksbank Prize in Economic Scienc...   \n",
       "419  1972  Economics  The Sveriges Riksbank Prize in Economic Scienc...   \n",
       "\n",
       "                                            motivation prize_share  \\\n",
       "393  \"for having developed and applied dynamic mode...         1/2   \n",
       "394  \"for having developed and applied dynamic mode...         1/2   \n",
       "402  \"for the scientific work through which he has ...         1/1   \n",
       "411  \"for his empirically founded interpretation of...         1/1   \n",
       "419  \"for their pioneering contributions to general...         1/2   \n",
       "\n",
       "    laureate_type          full_name birth_date birth_city  \\\n",
       "393    Individual      Jan Tinbergen 1903-04-12  the Hague   \n",
       "394    Individual      Ragnar Frisch 1895-03-03       Oslo   \n",
       "402    Individual  Paul A. Samuelson 1915-05-15   Gary, IN   \n",
       "411    Individual      Simon Kuznets 1901-04-30      Pinsk   \n",
       "419    Individual      John R. Hicks 1904-04-08    Warwick   \n",
       "\n",
       "                birth_country     birth_country_current   sex  \\\n",
       "393               Netherlands               Netherlands  Male   \n",
       "394                    Norway                    Norway  Male   \n",
       "402  United States of America  United States of America  Male   \n",
       "411  Russian Empire (Belarus)                   Belarus  Male   \n",
       "419            United Kingdom            United Kingdom  Male   \n",
       "\n",
       "                               organization_name organization_city  \\\n",
       "393          The Netherlands School of Economics         Rotterdam   \n",
       "394                           University of Oslo              Oslo   \n",
       "402  Massachusetts Institute of Technology (MIT)     Cambridge, MA   \n",
       "411                           Harvard University     Cambridge, MA   \n",
       "419                         University of Oxford            Oxford   \n",
       "\n",
       "         organization_country  ISO  share_pct  \n",
       "393               Netherlands  NLD       0.50  \n",
       "394                    Norway  NOR       0.50  \n",
       "402  United States of America  USA       1.00  \n",
       "411  United States of America  BLR       1.00  \n",
       "419            United Kingdom  GBR       0.50  "
      ]
     },
     "execution_count": 126,
     "metadata": {},
     "output_type": "execute_result"
    }
   ],
   "source": [
    "econ_prizes = data[data.category == 'Economics'].sort_values('year')\n",
    "econ_prizes.head()"
   ]
  },
  {
   "cell_type": "markdown",
   "metadata": {
    "dc": {
     "key": "31"
    },
    "id": "COqMa0fIo7L7",
    "run_control": {
     "frozen": true
    },
    "tags": [
     "context"
    ]
   },
   "source": [
    "# Male and Female Winners by Category\n",
    "\n",
    "**Challenge**: Create a [plotly bar chart](https://plotly.com/python/bar-charts/) that shows the split between men and women by category. \n",
    "* Hover over the bar chart. How many prizes went to women in Literature compared to Physics?\n",
    "\n",
    "<img src=https://i.imgur.com/od8TfOp.png width=650>"
   ]
  },
  {
   "cell_type": "code",
   "execution_count": 136,
   "metadata": {
    "id": "5rm03TQmFrlk"
   },
   "outputs": [
    {
     "data": {
      "text/html": [
       "<div>\n",
       "<style scoped>\n",
       "    .dataframe tbody tr th:only-of-type {\n",
       "        vertical-align: middle;\n",
       "    }\n",
       "\n",
       "    .dataframe tbody tr th {\n",
       "        vertical-align: top;\n",
       "    }\n",
       "\n",
       "    .dataframe thead th {\n",
       "        text-align: right;\n",
       "    }\n",
       "</style>\n",
       "<table border=\"1\" class=\"dataframe\">\n",
       "  <thead>\n",
       "    <tr style=\"text-align: right;\">\n",
       "      <th></th>\n",
       "      <th>category</th>\n",
       "      <th>sex</th>\n",
       "      <th>prize</th>\n",
       "    </tr>\n",
       "  </thead>\n",
       "  <tbody>\n",
       "    <tr>\n",
       "      <th>11</th>\n",
       "      <td>Physics</td>\n",
       "      <td>Male</td>\n",
       "      <td>212</td>\n",
       "    </tr>\n",
       "    <tr>\n",
       "      <th>7</th>\n",
       "      <td>Medicine</td>\n",
       "      <td>Male</td>\n",
       "      <td>210</td>\n",
       "    </tr>\n",
       "    <tr>\n",
       "      <th>1</th>\n",
       "      <td>Chemistry</td>\n",
       "      <td>Male</td>\n",
       "      <td>179</td>\n",
       "    </tr>\n",
       "    <tr>\n",
       "      <th>5</th>\n",
       "      <td>Literature</td>\n",
       "      <td>Male</td>\n",
       "      <td>101</td>\n",
       "    </tr>\n",
       "    <tr>\n",
       "      <th>9</th>\n",
       "      <td>Peace</td>\n",
       "      <td>Male</td>\n",
       "      <td>90</td>\n",
       "    </tr>\n",
       "    <tr>\n",
       "      <th>3</th>\n",
       "      <td>Economics</td>\n",
       "      <td>Male</td>\n",
       "      <td>84</td>\n",
       "    </tr>\n",
       "    <tr>\n",
       "      <th>8</th>\n",
       "      <td>Peace</td>\n",
       "      <td>Female</td>\n",
       "      <td>17</td>\n",
       "    </tr>\n",
       "    <tr>\n",
       "      <th>4</th>\n",
       "      <td>Literature</td>\n",
       "      <td>Female</td>\n",
       "      <td>16</td>\n",
       "    </tr>\n",
       "    <tr>\n",
       "      <th>6</th>\n",
       "      <td>Medicine</td>\n",
       "      <td>Female</td>\n",
       "      <td>12</td>\n",
       "    </tr>\n",
       "    <tr>\n",
       "      <th>0</th>\n",
       "      <td>Chemistry</td>\n",
       "      <td>Female</td>\n",
       "      <td>7</td>\n",
       "    </tr>\n",
       "    <tr>\n",
       "      <th>10</th>\n",
       "      <td>Physics</td>\n",
       "      <td>Female</td>\n",
       "      <td>4</td>\n",
       "    </tr>\n",
       "    <tr>\n",
       "      <th>2</th>\n",
       "      <td>Economics</td>\n",
       "      <td>Female</td>\n",
       "      <td>2</td>\n",
       "    </tr>\n",
       "  </tbody>\n",
       "</table>\n",
       "</div>"
      ],
      "text/plain": [
       "      category     sex  prize\n",
       "11     Physics    Male    212\n",
       "7     Medicine    Male    210\n",
       "1    Chemistry    Male    179\n",
       "5   Literature    Male    101\n",
       "9        Peace    Male     90\n",
       "3    Economics    Male     84\n",
       "8        Peace  Female     17\n",
       "4   Literature  Female     16\n",
       "6     Medicine  Female     12\n",
       "0    Chemistry  Female      7\n",
       "10     Physics  Female      4\n",
       "2    Economics  Female      2"
      ]
     },
     "execution_count": 136,
     "metadata": {},
     "output_type": "execute_result"
    }
   ],
   "source": [
    "mf_category = data.groupby(['category', 'sex'], as_index=False).agg({'prize': pd.Series.count})\n",
    "mf_category.sort_values('prize', ascending=False, inplace=True)\n",
    "mf_category"
   ]
  },
  {
   "cell_type": "code",
   "execution_count": 137,
   "metadata": {
    "id": "XTrMUbBmFroT"
   },
   "outputs": [
    {
     "data": {
      "application/vnd.plotly.v1+json": {
       "config": {
        "plotlyServerURL": "https://plot.ly"
       },
       "data": [
        {
         "alignmentgroup": "True",
         "hovertemplate": "color=Male<br>x=%{x}<br>y=%{y}<extra></extra>",
         "legendgroup": "Male",
         "marker": {
          "color": "#636efa"
         },
         "name": "Male",
         "offsetgroup": "Male",
         "orientation": "v",
         "showlegend": true,
         "textposition": "auto",
         "type": "bar",
         "x": [
          "Physics",
          "Medicine",
          "Chemistry",
          "Literature",
          "Peace",
          "Economics"
         ],
         "xaxis": "x",
         "y": [
          212,
          210,
          179,
          101,
          90,
          84
         ],
         "yaxis": "y"
        },
        {
         "alignmentgroup": "True",
         "hovertemplate": "color=Female<br>x=%{x}<br>y=%{y}<extra></extra>",
         "legendgroup": "Female",
         "marker": {
          "color": "#EF553B"
         },
         "name": "Female",
         "offsetgroup": "Female",
         "orientation": "v",
         "showlegend": true,
         "textposition": "auto",
         "type": "bar",
         "x": [
          "Peace",
          "Literature",
          "Medicine",
          "Chemistry",
          "Physics",
          "Economics"
         ],
         "xaxis": "x",
         "y": [
          17,
          16,
          12,
          7,
          4,
          2
         ],
         "yaxis": "y"
        }
       ],
       "layout": {
        "barmode": "relative",
        "legend": {
         "title": {
          "text": "color"
         },
         "tracegroupgap": 0
        },
        "template": {
         "data": {
          "bar": [
           {
            "error_x": {
             "color": "#2a3f5f"
            },
            "error_y": {
             "color": "#2a3f5f"
            },
            "marker": {
             "line": {
              "color": "#E5ECF6",
              "width": 0.5
             }
            },
            "type": "bar"
           }
          ],
          "barpolar": [
           {
            "marker": {
             "line": {
              "color": "#E5ECF6",
              "width": 0.5
             }
            },
            "type": "barpolar"
           }
          ],
          "carpet": [
           {
            "aaxis": {
             "endlinecolor": "#2a3f5f",
             "gridcolor": "white",
             "linecolor": "white",
             "minorgridcolor": "white",
             "startlinecolor": "#2a3f5f"
            },
            "baxis": {
             "endlinecolor": "#2a3f5f",
             "gridcolor": "white",
             "linecolor": "white",
             "minorgridcolor": "white",
             "startlinecolor": "#2a3f5f"
            },
            "type": "carpet"
           }
          ],
          "choropleth": [
           {
            "colorbar": {
             "outlinewidth": 0,
             "ticks": ""
            },
            "type": "choropleth"
           }
          ],
          "contour": [
           {
            "colorbar": {
             "outlinewidth": 0,
             "ticks": ""
            },
            "colorscale": [
             [
              0,
              "#0d0887"
             ],
             [
              0.1111111111111111,
              "#46039f"
             ],
             [
              0.2222222222222222,
              "#7201a8"
             ],
             [
              0.3333333333333333,
              "#9c179e"
             ],
             [
              0.4444444444444444,
              "#bd3786"
             ],
             [
              0.5555555555555556,
              "#d8576b"
             ],
             [
              0.6666666666666666,
              "#ed7953"
             ],
             [
              0.7777777777777778,
              "#fb9f3a"
             ],
             [
              0.8888888888888888,
              "#fdca26"
             ],
             [
              1,
              "#f0f921"
             ]
            ],
            "type": "contour"
           }
          ],
          "contourcarpet": [
           {
            "colorbar": {
             "outlinewidth": 0,
             "ticks": ""
            },
            "type": "contourcarpet"
           }
          ],
          "heatmap": [
           {
            "colorbar": {
             "outlinewidth": 0,
             "ticks": ""
            },
            "colorscale": [
             [
              0,
              "#0d0887"
             ],
             [
              0.1111111111111111,
              "#46039f"
             ],
             [
              0.2222222222222222,
              "#7201a8"
             ],
             [
              0.3333333333333333,
              "#9c179e"
             ],
             [
              0.4444444444444444,
              "#bd3786"
             ],
             [
              0.5555555555555556,
              "#d8576b"
             ],
             [
              0.6666666666666666,
              "#ed7953"
             ],
             [
              0.7777777777777778,
              "#fb9f3a"
             ],
             [
              0.8888888888888888,
              "#fdca26"
             ],
             [
              1,
              "#f0f921"
             ]
            ],
            "type": "heatmap"
           }
          ],
          "heatmapgl": [
           {
            "colorbar": {
             "outlinewidth": 0,
             "ticks": ""
            },
            "colorscale": [
             [
              0,
              "#0d0887"
             ],
             [
              0.1111111111111111,
              "#46039f"
             ],
             [
              0.2222222222222222,
              "#7201a8"
             ],
             [
              0.3333333333333333,
              "#9c179e"
             ],
             [
              0.4444444444444444,
              "#bd3786"
             ],
             [
              0.5555555555555556,
              "#d8576b"
             ],
             [
              0.6666666666666666,
              "#ed7953"
             ],
             [
              0.7777777777777778,
              "#fb9f3a"
             ],
             [
              0.8888888888888888,
              "#fdca26"
             ],
             [
              1,
              "#f0f921"
             ]
            ],
            "type": "heatmapgl"
           }
          ],
          "histogram": [
           {
            "marker": {
             "colorbar": {
              "outlinewidth": 0,
              "ticks": ""
             }
            },
            "type": "histogram"
           }
          ],
          "histogram2d": [
           {
            "colorbar": {
             "outlinewidth": 0,
             "ticks": ""
            },
            "colorscale": [
             [
              0,
              "#0d0887"
             ],
             [
              0.1111111111111111,
              "#46039f"
             ],
             [
              0.2222222222222222,
              "#7201a8"
             ],
             [
              0.3333333333333333,
              "#9c179e"
             ],
             [
              0.4444444444444444,
              "#bd3786"
             ],
             [
              0.5555555555555556,
              "#d8576b"
             ],
             [
              0.6666666666666666,
              "#ed7953"
             ],
             [
              0.7777777777777778,
              "#fb9f3a"
             ],
             [
              0.8888888888888888,
              "#fdca26"
             ],
             [
              1,
              "#f0f921"
             ]
            ],
            "type": "histogram2d"
           }
          ],
          "histogram2dcontour": [
           {
            "colorbar": {
             "outlinewidth": 0,
             "ticks": ""
            },
            "colorscale": [
             [
              0,
              "#0d0887"
             ],
             [
              0.1111111111111111,
              "#46039f"
             ],
             [
              0.2222222222222222,
              "#7201a8"
             ],
             [
              0.3333333333333333,
              "#9c179e"
             ],
             [
              0.4444444444444444,
              "#bd3786"
             ],
             [
              0.5555555555555556,
              "#d8576b"
             ],
             [
              0.6666666666666666,
              "#ed7953"
             ],
             [
              0.7777777777777778,
              "#fb9f3a"
             ],
             [
              0.8888888888888888,
              "#fdca26"
             ],
             [
              1,
              "#f0f921"
             ]
            ],
            "type": "histogram2dcontour"
           }
          ],
          "mesh3d": [
           {
            "colorbar": {
             "outlinewidth": 0,
             "ticks": ""
            },
            "type": "mesh3d"
           }
          ],
          "parcoords": [
           {
            "line": {
             "colorbar": {
              "outlinewidth": 0,
              "ticks": ""
             }
            },
            "type": "parcoords"
           }
          ],
          "pie": [
           {
            "automargin": true,
            "type": "pie"
           }
          ],
          "scatter": [
           {
            "marker": {
             "colorbar": {
              "outlinewidth": 0,
              "ticks": ""
             }
            },
            "type": "scatter"
           }
          ],
          "scatter3d": [
           {
            "line": {
             "colorbar": {
              "outlinewidth": 0,
              "ticks": ""
             }
            },
            "marker": {
             "colorbar": {
              "outlinewidth": 0,
              "ticks": ""
             }
            },
            "type": "scatter3d"
           }
          ],
          "scattercarpet": [
           {
            "marker": {
             "colorbar": {
              "outlinewidth": 0,
              "ticks": ""
             }
            },
            "type": "scattercarpet"
           }
          ],
          "scattergeo": [
           {
            "marker": {
             "colorbar": {
              "outlinewidth": 0,
              "ticks": ""
             }
            },
            "type": "scattergeo"
           }
          ],
          "scattergl": [
           {
            "marker": {
             "colorbar": {
              "outlinewidth": 0,
              "ticks": ""
             }
            },
            "type": "scattergl"
           }
          ],
          "scattermapbox": [
           {
            "marker": {
             "colorbar": {
              "outlinewidth": 0,
              "ticks": ""
             }
            },
            "type": "scattermapbox"
           }
          ],
          "scatterpolar": [
           {
            "marker": {
             "colorbar": {
              "outlinewidth": 0,
              "ticks": ""
             }
            },
            "type": "scatterpolar"
           }
          ],
          "scatterpolargl": [
           {
            "marker": {
             "colorbar": {
              "outlinewidth": 0,
              "ticks": ""
             }
            },
            "type": "scatterpolargl"
           }
          ],
          "scatterternary": [
           {
            "marker": {
             "colorbar": {
              "outlinewidth": 0,
              "ticks": ""
             }
            },
            "type": "scatterternary"
           }
          ],
          "surface": [
           {
            "colorbar": {
             "outlinewidth": 0,
             "ticks": ""
            },
            "colorscale": [
             [
              0,
              "#0d0887"
             ],
             [
              0.1111111111111111,
              "#46039f"
             ],
             [
              0.2222222222222222,
              "#7201a8"
             ],
             [
              0.3333333333333333,
              "#9c179e"
             ],
             [
              0.4444444444444444,
              "#bd3786"
             ],
             [
              0.5555555555555556,
              "#d8576b"
             ],
             [
              0.6666666666666666,
              "#ed7953"
             ],
             [
              0.7777777777777778,
              "#fb9f3a"
             ],
             [
              0.8888888888888888,
              "#fdca26"
             ],
             [
              1,
              "#f0f921"
             ]
            ],
            "type": "surface"
           }
          ],
          "table": [
           {
            "cells": {
             "fill": {
              "color": "#EBF0F8"
             },
             "line": {
              "color": "white"
             }
            },
            "header": {
             "fill": {
              "color": "#C8D4E3"
             },
             "line": {
              "color": "white"
             }
            },
            "type": "table"
           }
          ]
         },
         "layout": {
          "annotationdefaults": {
           "arrowcolor": "#2a3f5f",
           "arrowhead": 0,
           "arrowwidth": 1
          },
          "autotypenumbers": "strict",
          "coloraxis": {
           "colorbar": {
            "outlinewidth": 0,
            "ticks": ""
           }
          },
          "colorscale": {
           "diverging": [
            [
             0,
             "#8e0152"
            ],
            [
             0.1,
             "#c51b7d"
            ],
            [
             0.2,
             "#de77ae"
            ],
            [
             0.3,
             "#f1b6da"
            ],
            [
             0.4,
             "#fde0ef"
            ],
            [
             0.5,
             "#f7f7f7"
            ],
            [
             0.6,
             "#e6f5d0"
            ],
            [
             0.7,
             "#b8e186"
            ],
            [
             0.8,
             "#7fbc41"
            ],
            [
             0.9,
             "#4d9221"
            ],
            [
             1,
             "#276419"
            ]
           ],
           "sequential": [
            [
             0,
             "#0d0887"
            ],
            [
             0.1111111111111111,
             "#46039f"
            ],
            [
             0.2222222222222222,
             "#7201a8"
            ],
            [
             0.3333333333333333,
             "#9c179e"
            ],
            [
             0.4444444444444444,
             "#bd3786"
            ],
            [
             0.5555555555555556,
             "#d8576b"
            ],
            [
             0.6666666666666666,
             "#ed7953"
            ],
            [
             0.7777777777777778,
             "#fb9f3a"
            ],
            [
             0.8888888888888888,
             "#fdca26"
            ],
            [
             1,
             "#f0f921"
            ]
           ],
           "sequentialminus": [
            [
             0,
             "#0d0887"
            ],
            [
             0.1111111111111111,
             "#46039f"
            ],
            [
             0.2222222222222222,
             "#7201a8"
            ],
            [
             0.3333333333333333,
             "#9c179e"
            ],
            [
             0.4444444444444444,
             "#bd3786"
            ],
            [
             0.5555555555555556,
             "#d8576b"
            ],
            [
             0.6666666666666666,
             "#ed7953"
            ],
            [
             0.7777777777777778,
             "#fb9f3a"
            ],
            [
             0.8888888888888888,
             "#fdca26"
            ],
            [
             1,
             "#f0f921"
            ]
           ]
          },
          "colorway": [
           "#636efa",
           "#EF553B",
           "#00cc96",
           "#ab63fa",
           "#FFA15A",
           "#19d3f3",
           "#FF6692",
           "#B6E880",
           "#FF97FF",
           "#FECB52"
          ],
          "font": {
           "color": "#2a3f5f"
          },
          "geo": {
           "bgcolor": "white",
           "lakecolor": "white",
           "landcolor": "#E5ECF6",
           "showlakes": true,
           "showland": true,
           "subunitcolor": "white"
          },
          "hoverlabel": {
           "align": "left"
          },
          "hovermode": "closest",
          "mapbox": {
           "style": "light"
          },
          "paper_bgcolor": "white",
          "plot_bgcolor": "#E5ECF6",
          "polar": {
           "angularaxis": {
            "gridcolor": "white",
            "linecolor": "white",
            "ticks": ""
           },
           "bgcolor": "#E5ECF6",
           "radialaxis": {
            "gridcolor": "white",
            "linecolor": "white",
            "ticks": ""
           }
          },
          "scene": {
           "xaxis": {
            "backgroundcolor": "#E5ECF6",
            "gridcolor": "white",
            "gridwidth": 2,
            "linecolor": "white",
            "showbackground": true,
            "ticks": "",
            "zerolinecolor": "white"
           },
           "yaxis": {
            "backgroundcolor": "#E5ECF6",
            "gridcolor": "white",
            "gridwidth": 2,
            "linecolor": "white",
            "showbackground": true,
            "ticks": "",
            "zerolinecolor": "white"
           },
           "zaxis": {
            "backgroundcolor": "#E5ECF6",
            "gridcolor": "white",
            "gridwidth": 2,
            "linecolor": "white",
            "showbackground": true,
            "ticks": "",
            "zerolinecolor": "white"
           }
          },
          "shapedefaults": {
           "line": {
            "color": "#2a3f5f"
           }
          },
          "ternary": {
           "aaxis": {
            "gridcolor": "white",
            "linecolor": "white",
            "ticks": ""
           },
           "baxis": {
            "gridcolor": "white",
            "linecolor": "white",
            "ticks": ""
           },
           "bgcolor": "#E5ECF6",
           "caxis": {
            "gridcolor": "white",
            "linecolor": "white",
            "ticks": ""
           }
          },
          "title": {
           "x": 0.05
          },
          "xaxis": {
           "automargin": true,
           "gridcolor": "white",
           "linecolor": "white",
           "ticks": "",
           "title": {
            "standoff": 15
           },
           "zerolinecolor": "white",
           "zerolinewidth": 2
          },
          "yaxis": {
           "automargin": true,
           "gridcolor": "white",
           "linecolor": "white",
           "ticks": "",
           "title": {
            "standoff": 15
           },
           "zerolinecolor": "white",
           "zerolinewidth": 2
          }
         }
        },
        "title": {
         "text": "Nobel Prizes Awarded in Each Category by Gender"
        },
        "xaxis": {
         "anchor": "y",
         "categoryorder": "total descending",
         "domain": [
          0,
          1
         ],
         "title": {
          "text": "Category"
         }
        },
        "yaxis": {
         "anchor": "x",
         "domain": [
          0,
          1
         ],
         "title": {
          "text": "Number of Prizes Awarded"
         }
        }
       }
      },
      "text/html": [
       "<div>                            <div id=\"a6820604-73cd-4896-acc0-e68ab5f5ace4\" class=\"plotly-graph-div\" style=\"height:525px; width:100%;\"></div>            <script type=\"text/javascript\">                require([\"plotly\"], function(Plotly) {                    window.PLOTLYENV=window.PLOTLYENV || {};                                    if (document.getElementById(\"a6820604-73cd-4896-acc0-e68ab5f5ace4\")) {                    Plotly.newPlot(                        \"a6820604-73cd-4896-acc0-e68ab5f5ace4\",                        [{\"alignmentgroup\": \"True\", \"hovertemplate\": \"color=Male<br>x=%{x}<br>y=%{y}<extra></extra>\", \"legendgroup\": \"Male\", \"marker\": {\"color\": \"#636efa\"}, \"name\": \"Male\", \"offsetgroup\": \"Male\", \"orientation\": \"v\", \"showlegend\": true, \"textposition\": \"auto\", \"type\": \"bar\", \"x\": [\"Physics\", \"Medicine\", \"Chemistry\", \"Literature\", \"Peace\", \"Economics\"], \"xaxis\": \"x\", \"y\": [212, 210, 179, 101, 90, 84], \"yaxis\": \"y\"}, {\"alignmentgroup\": \"True\", \"hovertemplate\": \"color=Female<br>x=%{x}<br>y=%{y}<extra></extra>\", \"legendgroup\": \"Female\", \"marker\": {\"color\": \"#EF553B\"}, \"name\": \"Female\", \"offsetgroup\": \"Female\", \"orientation\": \"v\", \"showlegend\": true, \"textposition\": \"auto\", \"type\": \"bar\", \"x\": [\"Peace\", \"Literature\", \"Medicine\", \"Chemistry\", \"Physics\", \"Economics\"], \"xaxis\": \"x\", \"y\": [17, 16, 12, 7, 4, 2], \"yaxis\": \"y\"}],                        {\"barmode\": \"relative\", \"legend\": {\"title\": {\"text\": \"color\"}, \"tracegroupgap\": 0}, \"template\": {\"data\": {\"bar\": [{\"error_x\": {\"color\": \"#2a3f5f\"}, \"error_y\": {\"color\": \"#2a3f5f\"}, \"marker\": {\"line\": {\"color\": \"#E5ECF6\", \"width\": 0.5}}, \"type\": \"bar\"}], \"barpolar\": [{\"marker\": {\"line\": {\"color\": \"#E5ECF6\", \"width\": 0.5}}, \"type\": \"barpolar\"}], \"carpet\": [{\"aaxis\": {\"endlinecolor\": \"#2a3f5f\", \"gridcolor\": \"white\", \"linecolor\": \"white\", \"minorgridcolor\": \"white\", \"startlinecolor\": \"#2a3f5f\"}, \"baxis\": {\"endlinecolor\": \"#2a3f5f\", \"gridcolor\": \"white\", \"linecolor\": \"white\", \"minorgridcolor\": \"white\", \"startlinecolor\": \"#2a3f5f\"}, \"type\": \"carpet\"}], \"choropleth\": [{\"colorbar\": {\"outlinewidth\": 0, \"ticks\": \"\"}, \"type\": \"choropleth\"}], \"contour\": [{\"colorbar\": {\"outlinewidth\": 0, \"ticks\": \"\"}, \"colorscale\": [[0.0, \"#0d0887\"], [0.1111111111111111, \"#46039f\"], [0.2222222222222222, \"#7201a8\"], [0.3333333333333333, \"#9c179e\"], [0.4444444444444444, \"#bd3786\"], [0.5555555555555556, \"#d8576b\"], [0.6666666666666666, \"#ed7953\"], [0.7777777777777778, \"#fb9f3a\"], [0.8888888888888888, \"#fdca26\"], [1.0, \"#f0f921\"]], \"type\": \"contour\"}], \"contourcarpet\": [{\"colorbar\": {\"outlinewidth\": 0, \"ticks\": \"\"}, \"type\": \"contourcarpet\"}], \"heatmap\": [{\"colorbar\": {\"outlinewidth\": 0, \"ticks\": \"\"}, \"colorscale\": [[0.0, \"#0d0887\"], [0.1111111111111111, \"#46039f\"], [0.2222222222222222, \"#7201a8\"], [0.3333333333333333, \"#9c179e\"], [0.4444444444444444, \"#bd3786\"], [0.5555555555555556, \"#d8576b\"], [0.6666666666666666, \"#ed7953\"], [0.7777777777777778, \"#fb9f3a\"], [0.8888888888888888, \"#fdca26\"], [1.0, \"#f0f921\"]], \"type\": \"heatmap\"}], \"heatmapgl\": [{\"colorbar\": {\"outlinewidth\": 0, \"ticks\": \"\"}, \"colorscale\": [[0.0, \"#0d0887\"], [0.1111111111111111, \"#46039f\"], [0.2222222222222222, \"#7201a8\"], [0.3333333333333333, \"#9c179e\"], [0.4444444444444444, \"#bd3786\"], [0.5555555555555556, \"#d8576b\"], [0.6666666666666666, \"#ed7953\"], [0.7777777777777778, \"#fb9f3a\"], [0.8888888888888888, \"#fdca26\"], [1.0, \"#f0f921\"]], \"type\": \"heatmapgl\"}], \"histogram\": [{\"marker\": {\"colorbar\": {\"outlinewidth\": 0, \"ticks\": \"\"}}, \"type\": \"histogram\"}], \"histogram2d\": [{\"colorbar\": {\"outlinewidth\": 0, \"ticks\": \"\"}, \"colorscale\": [[0.0, \"#0d0887\"], [0.1111111111111111, \"#46039f\"], [0.2222222222222222, \"#7201a8\"], [0.3333333333333333, \"#9c179e\"], [0.4444444444444444, \"#bd3786\"], [0.5555555555555556, \"#d8576b\"], [0.6666666666666666, \"#ed7953\"], [0.7777777777777778, \"#fb9f3a\"], [0.8888888888888888, \"#fdca26\"], [1.0, \"#f0f921\"]], \"type\": \"histogram2d\"}], \"histogram2dcontour\": [{\"colorbar\": {\"outlinewidth\": 0, \"ticks\": \"\"}, \"colorscale\": [[0.0, \"#0d0887\"], [0.1111111111111111, \"#46039f\"], [0.2222222222222222, \"#7201a8\"], [0.3333333333333333, \"#9c179e\"], [0.4444444444444444, \"#bd3786\"], [0.5555555555555556, \"#d8576b\"], [0.6666666666666666, \"#ed7953\"], [0.7777777777777778, \"#fb9f3a\"], [0.8888888888888888, \"#fdca26\"], [1.0, \"#f0f921\"]], \"type\": \"histogram2dcontour\"}], \"mesh3d\": [{\"colorbar\": {\"outlinewidth\": 0, \"ticks\": \"\"}, \"type\": \"mesh3d\"}], \"parcoords\": [{\"line\": {\"colorbar\": {\"outlinewidth\": 0, \"ticks\": \"\"}}, \"type\": \"parcoords\"}], \"pie\": [{\"automargin\": true, \"type\": \"pie\"}], \"scatter\": [{\"marker\": {\"colorbar\": {\"outlinewidth\": 0, \"ticks\": \"\"}}, \"type\": \"scatter\"}], \"scatter3d\": [{\"line\": {\"colorbar\": {\"outlinewidth\": 0, \"ticks\": \"\"}}, \"marker\": {\"colorbar\": {\"outlinewidth\": 0, \"ticks\": \"\"}}, \"type\": \"scatter3d\"}], \"scattercarpet\": [{\"marker\": {\"colorbar\": {\"outlinewidth\": 0, \"ticks\": \"\"}}, \"type\": \"scattercarpet\"}], \"scattergeo\": [{\"marker\": {\"colorbar\": {\"outlinewidth\": 0, \"ticks\": \"\"}}, \"type\": \"scattergeo\"}], \"scattergl\": [{\"marker\": {\"colorbar\": {\"outlinewidth\": 0, \"ticks\": \"\"}}, \"type\": \"scattergl\"}], \"scattermapbox\": [{\"marker\": {\"colorbar\": {\"outlinewidth\": 0, \"ticks\": \"\"}}, \"type\": \"scattermapbox\"}], \"scatterpolar\": [{\"marker\": {\"colorbar\": {\"outlinewidth\": 0, \"ticks\": \"\"}}, \"type\": \"scatterpolar\"}], \"scatterpolargl\": [{\"marker\": {\"colorbar\": {\"outlinewidth\": 0, \"ticks\": \"\"}}, \"type\": \"scatterpolargl\"}], \"scatterternary\": [{\"marker\": {\"colorbar\": {\"outlinewidth\": 0, \"ticks\": \"\"}}, \"type\": \"scatterternary\"}], \"surface\": [{\"colorbar\": {\"outlinewidth\": 0, \"ticks\": \"\"}, \"colorscale\": [[0.0, \"#0d0887\"], [0.1111111111111111, \"#46039f\"], [0.2222222222222222, \"#7201a8\"], [0.3333333333333333, \"#9c179e\"], [0.4444444444444444, \"#bd3786\"], [0.5555555555555556, \"#d8576b\"], [0.6666666666666666, \"#ed7953\"], [0.7777777777777778, \"#fb9f3a\"], [0.8888888888888888, \"#fdca26\"], [1.0, \"#f0f921\"]], \"type\": \"surface\"}], \"table\": [{\"cells\": {\"fill\": {\"color\": \"#EBF0F8\"}, \"line\": {\"color\": \"white\"}}, \"header\": {\"fill\": {\"color\": \"#C8D4E3\"}, \"line\": {\"color\": \"white\"}}, \"type\": \"table\"}]}, \"layout\": {\"annotationdefaults\": {\"arrowcolor\": \"#2a3f5f\", \"arrowhead\": 0, \"arrowwidth\": 1}, \"autotypenumbers\": \"strict\", \"coloraxis\": {\"colorbar\": {\"outlinewidth\": 0, \"ticks\": \"\"}}, \"colorscale\": {\"diverging\": [[0, \"#8e0152\"], [0.1, \"#c51b7d\"], [0.2, \"#de77ae\"], [0.3, \"#f1b6da\"], [0.4, \"#fde0ef\"], [0.5, \"#f7f7f7\"], [0.6, \"#e6f5d0\"], [0.7, \"#b8e186\"], [0.8, \"#7fbc41\"], [0.9, \"#4d9221\"], [1, \"#276419\"]], \"sequential\": [[0.0, \"#0d0887\"], [0.1111111111111111, \"#46039f\"], [0.2222222222222222, \"#7201a8\"], [0.3333333333333333, \"#9c179e\"], [0.4444444444444444, \"#bd3786\"], [0.5555555555555556, \"#d8576b\"], [0.6666666666666666, \"#ed7953\"], [0.7777777777777778, \"#fb9f3a\"], [0.8888888888888888, \"#fdca26\"], [1.0, \"#f0f921\"]], \"sequentialminus\": [[0.0, \"#0d0887\"], [0.1111111111111111, \"#46039f\"], [0.2222222222222222, \"#7201a8\"], [0.3333333333333333, \"#9c179e\"], [0.4444444444444444, \"#bd3786\"], [0.5555555555555556, \"#d8576b\"], [0.6666666666666666, \"#ed7953\"], [0.7777777777777778, \"#fb9f3a\"], [0.8888888888888888, \"#fdca26\"], [1.0, \"#f0f921\"]]}, \"colorway\": [\"#636efa\", \"#EF553B\", \"#00cc96\", \"#ab63fa\", \"#FFA15A\", \"#19d3f3\", \"#FF6692\", \"#B6E880\", \"#FF97FF\", \"#FECB52\"], \"font\": {\"color\": \"#2a3f5f\"}, \"geo\": {\"bgcolor\": \"white\", \"lakecolor\": \"white\", \"landcolor\": \"#E5ECF6\", \"showlakes\": true, \"showland\": true, \"subunitcolor\": \"white\"}, \"hoverlabel\": {\"align\": \"left\"}, \"hovermode\": \"closest\", \"mapbox\": {\"style\": \"light\"}, \"paper_bgcolor\": \"white\", \"plot_bgcolor\": \"#E5ECF6\", \"polar\": {\"angularaxis\": {\"gridcolor\": \"white\", \"linecolor\": \"white\", \"ticks\": \"\"}, \"bgcolor\": \"#E5ECF6\", \"radialaxis\": {\"gridcolor\": \"white\", \"linecolor\": \"white\", \"ticks\": \"\"}}, \"scene\": {\"xaxis\": {\"backgroundcolor\": \"#E5ECF6\", \"gridcolor\": \"white\", \"gridwidth\": 2, \"linecolor\": \"white\", \"showbackground\": true, \"ticks\": \"\", \"zerolinecolor\": \"white\"}, \"yaxis\": {\"backgroundcolor\": \"#E5ECF6\", \"gridcolor\": \"white\", \"gridwidth\": 2, \"linecolor\": \"white\", \"showbackground\": true, \"ticks\": \"\", \"zerolinecolor\": \"white\"}, \"zaxis\": {\"backgroundcolor\": \"#E5ECF6\", \"gridcolor\": \"white\", \"gridwidth\": 2, \"linecolor\": \"white\", \"showbackground\": true, \"ticks\": \"\", \"zerolinecolor\": \"white\"}}, \"shapedefaults\": {\"line\": {\"color\": \"#2a3f5f\"}}, \"ternary\": {\"aaxis\": {\"gridcolor\": \"white\", \"linecolor\": \"white\", \"ticks\": \"\"}, \"baxis\": {\"gridcolor\": \"white\", \"linecolor\": \"white\", \"ticks\": \"\"}, \"bgcolor\": \"#E5ECF6\", \"caxis\": {\"gridcolor\": \"white\", \"linecolor\": \"white\", \"ticks\": \"\"}}, \"title\": {\"x\": 0.05}, \"xaxis\": {\"automargin\": true, \"gridcolor\": \"white\", \"linecolor\": \"white\", \"ticks\": \"\", \"title\": {\"standoff\": 15}, \"zerolinecolor\": \"white\", \"zerolinewidth\": 2}, \"yaxis\": {\"automargin\": true, \"gridcolor\": \"white\", \"linecolor\": \"white\", \"ticks\": \"\", \"title\": {\"standoff\": 15}, \"zerolinecolor\": \"white\", \"zerolinewidth\": 2}}}, \"title\": {\"text\": \"Nobel Prizes Awarded in Each Category by Gender\"}, \"xaxis\": {\"anchor\": \"y\", \"categoryorder\": \"total descending\", \"domain\": [0.0, 1.0], \"title\": {\"text\": \"Category\"}}, \"yaxis\": {\"anchor\": \"x\", \"domain\": [0.0, 1.0], \"title\": {\"text\": \"Number of Prizes Awarded\"}}},                        {\"responsive\": true}                    ).then(function(){\n",
       "                            \n",
       "var gd = document.getElementById('a6820604-73cd-4896-acc0-e68ab5f5ace4');\n",
       "var x = new MutationObserver(function (mutations, observer) {{\n",
       "        var display = window.getComputedStyle(gd).display;\n",
       "        if (!display || display === 'none') {{\n",
       "            console.log([gd, 'removed!']);\n",
       "            Plotly.purge(gd);\n",
       "            observer.disconnect();\n",
       "        }}\n",
       "}});\n",
       "\n",
       "// Listen for the removal of the full notebook cells\n",
       "var notebookContainer = gd.closest('#notebook-container');\n",
       "if (notebookContainer) {{\n",
       "    x.observe(notebookContainer, {childList: true});\n",
       "}}\n",
       "\n",
       "// Listen for the clearing of the current output cell\n",
       "var outputEl = gd.closest('.output');\n",
       "if (outputEl) {{\n",
       "    x.observe(outputEl, {childList: true});\n",
       "}}\n",
       "\n",
       "                        })                };                });            </script>        </div>"
      ]
     },
     "metadata": {},
     "output_type": "display_data"
    }
   ],
   "source": [
    "mfbar = px.bar(x=mf_category.category, \n",
    "               y=mf_category.prize,\n",
    "               color=mf_category.sex,\n",
    "               title='Nobel Prizes Awarded in Each Category by Gender')\n",
    "mfbar.update_layout(xaxis_title='Category',\n",
    "                    yaxis_title='Number of Prizes Awarded',\n",
    "                    xaxis={'categoryorder': 'total descending'})\n",
    "mfbar.show()"
   ]
  },
  {
   "cell_type": "markdown",
   "metadata": {
    "id": "CpHaV-ZDo7MD"
   },
   "source": [
    "# Number of Prizes Awarded Over Time\n",
    "\n",
    "**Challenge**: Are more prizes awarded recently than when the prize was first created? Show the trend in awards visually. \n",
    "* Count the number of prizes awarded every year. \n",
    "* Create a 5 year rolling average of the number of prizes (Hint: see previous lessons analysing Google Trends).\n",
    "* Using Matplotlib superimpose the rolling average on a scatter plot.\n",
    "* Show a tick mark on the x-axis for every 5 years from 1900 to 2020. (Hint: you'll need to use NumPy). \n",
    "\n",
    "<img src=https://i.imgur.com/4jqYuWC.png width=650>\n",
    "\n",
    "* Use the [named colours](https://matplotlib.org/3.1.0/gallery/color/named_colors.html) to draw the data points in `dogerblue` while the rolling average is coloured in `crimson`. \n",
    "\n",
    "<img src=https://i.imgur.com/u3RlcJn.png width=350>\n",
    "\n",
    "* Looking at the chart, did the first and second world wars have an impact on the number of prizes being given out? \n",
    "* What could be the reason for the trend in the chart?\n"
   ]
  },
  {
   "cell_type": "code",
   "execution_count": 143,
   "metadata": {
    "id": "gD316Xp5Ftsj"
   },
   "outputs": [
    {
     "data": {
      "text/plain": [
       "year\n",
       "1901     6\n",
       "1902     7\n",
       "1903     7\n",
       "1904     6\n",
       "1905     5\n",
       "        ..\n",
       "2016    11\n",
       "2017    12\n",
       "2018    13\n",
       "2019    14\n",
       "2020    12\n",
       "Name: prize, Length: 117, dtype: int64"
      ]
     },
     "execution_count": 143,
     "metadata": {},
     "output_type": "execute_result"
    }
   ],
   "source": [
    "prize_per_year = data.groupby('year').count().prize\n",
    "prize_per_year"
   ]
  },
  {
   "cell_type": "code",
   "execution_count": 144,
   "metadata": {
    "id": "Jjm3G7VHFtx1"
   },
   "outputs": [],
   "source": [
    "prizes_rolling = prize_per_year.rolling(window=5).mean()"
   ]
  },
  {
   "cell_type": "code",
   "execution_count": 167,
   "metadata": {},
   "outputs": [],
   "source": [
    "every_five_years = np.arange(1900, 2021, step=5)"
   ]
  },
  {
   "cell_type": "code",
   "execution_count": 181,
   "metadata": {
    "id": "NgVzgknLFtvP"
   },
   "outputs": [
    {
     "data": {
      "image/png": "[encoded data removed]",
      "text/plain": [
       "<Figure size 1920x960 with 1 Axes>"
      ]
     },
     "metadata": {
      "needs_background": "light"
     },
     "output_type": "display_data"
    }
   ],
   "source": [
    "plt.figure(figsize=(16, 8), dpi=120)\n",
    "plt.suptitle('Number of Nobel Prizes Awarded Over Time', fontsize=24, fontweight='bold')\n",
    "plt.xticks(every_five_years, fontsize=14, rotation=45)\n",
    "plt.yticks(fontsize=14)\n",
    "\n",
    "ax1 = plt.gca()\n",
    "ax1.set_xlim([prize_per_year.index.min(), prize_per_year.index.max()])\n",
    "ax1.set_xlabel('Years', fontsize=14)\n",
    "ax1.set_ylabel('Number of Prizes Awarded', fontsize=14)\n",
    "\n",
    "ax1.scatter(x=prize_per_year.index, y=prize_per_year.values, c='dodgerblue', alpha=0.7, s=100)\n",
    "ax1.plot(prize_per_year.index, prizes_rolling.values, c='crimson', linewidth=3)\n",
    "\n",
    "plt.show()"
   ]
  },
  {
   "cell_type": "markdown",
   "metadata": {
    "id": "gZWAAkdJo7MJ"
   },
   "source": [
    "# Are More Prizes Shared Than Before?\n",
    "\n",
    "**Challenge**: Investigate if more prizes are shared than before. \n",
    "\n",
    "* Calculate the average prize share of the winners on a year by year basis.\n",
    "* Calculate the 5 year rolling average of the percentage share.\n",
    "* Copy-paste the cell from the chart you created above.\n",
    "* Modify the code to add a secondary axis to your Matplotlib chart.\n",
    "* Plot the rolling average of the prize share on this chart. \n",
    "* See if you can invert the secondary y-axis to make the relationship even more clear. "
   ]
  },
  {
   "cell_type": "code",
   "execution_count": 188,
   "metadata": {
    "id": "If8-ZFoOFwph"
   },
   "outputs": [
    {
     "data": {
      "text/html": [
       "<div>\n",
       "<style scoped>\n",
       "    .dataframe tbody tr th:only-of-type {\n",
       "        vertical-align: middle;\n",
       "    }\n",
       "\n",
       "    .dataframe tbody tr th {\n",
       "        vertical-align: top;\n",
       "    }\n",
       "\n",
       "    .dataframe thead th {\n",
       "        text-align: right;\n",
       "    }\n",
       "</style>\n",
       "<table border=\"1\" class=\"dataframe\">\n",
       "  <thead>\n",
       "    <tr style=\"text-align: right;\">\n",
       "      <th></th>\n",
       "      <th>share_pct</th>\n",
       "    </tr>\n",
       "    <tr>\n",
       "      <th>year</th>\n",
       "      <th></th>\n",
       "    </tr>\n",
       "  </thead>\n",
       "  <tbody>\n",
       "    <tr>\n",
       "      <th>1901</th>\n",
       "      <td>0.83</td>\n",
       "    </tr>\n",
       "    <tr>\n",
       "      <th>1902</th>\n",
       "      <td>0.71</td>\n",
       "    </tr>\n",
       "    <tr>\n",
       "      <th>1903</th>\n",
       "      <td>0.71</td>\n",
       "    </tr>\n",
       "    <tr>\n",
       "      <th>1904</th>\n",
       "      <td>0.83</td>\n",
       "    </tr>\n",
       "    <tr>\n",
       "      <th>1905</th>\n",
       "      <td>1.00</td>\n",
       "    </tr>\n",
       "    <tr>\n",
       "      <th>...</th>\n",
       "      <td>...</td>\n",
       "    </tr>\n",
       "    <tr>\n",
       "      <th>2016</th>\n",
       "      <td>0.54</td>\n",
       "    </tr>\n",
       "    <tr>\n",
       "      <th>2017</th>\n",
       "      <td>0.50</td>\n",
       "    </tr>\n",
       "    <tr>\n",
       "      <th>2018</th>\n",
       "      <td>0.46</td>\n",
       "    </tr>\n",
       "    <tr>\n",
       "      <th>2019</th>\n",
       "      <td>0.43</td>\n",
       "    </tr>\n",
       "    <tr>\n",
       "      <th>2020</th>\n",
       "      <td>0.50</td>\n",
       "    </tr>\n",
       "  </tbody>\n",
       "</table>\n",
       "<p>117 rows × 1 columns</p>\n",
       "</div>"
      ],
      "text/plain": [
       "      share_pct\n",
       "year           \n",
       "1901       0.83\n",
       "1902       0.71\n",
       "1903       0.71\n",
       "1904       0.83\n",
       "1905       1.00\n",
       "...         ...\n",
       "2016       0.54\n",
       "2017       0.50\n",
       "2018       0.46\n",
       "2019       0.43\n",
       "2020       0.50\n",
       "\n",
       "[117 rows x 1 columns]"
      ]
     },
     "execution_count": 188,
     "metadata": {},
     "output_type": "execute_result"
    }
   ],
   "source": [
    "average_prize_share = data.groupby('year').agg({'share_pct': pd.Series.mean})\n",
    "# data.groupby('year').mean().share_pct also works, mirroring format above\n",
    "average_prize_share"
   ]
  },
  {
   "cell_type": "code",
   "execution_count": 189,
   "metadata": {
    "id": "QRen05_6Fw0y"
   },
   "outputs": [],
   "source": [
    "rolling_prize_share = average_prize_share.rolling(window=5).mean()"
   ]
  },
  {
   "cell_type": "code",
   "execution_count": 193,
   "metadata": {
    "id": "4kLSGNPkFxPd"
   },
   "outputs": [
    {
     "data": {
      "image/png": "[encoded data removed]",
      "text/plain": [
       "<Figure size 1920x960 with 2 Axes>"
      ]
     },
     "metadata": {
      "needs_background": "light"
     },
     "output_type": "display_data"
    }
   ],
   "source": [
    "plt.figure(figsize=(16, 8), dpi=120)\n",
    "plt.suptitle('Number of Nobel Prizes Awarded Over Time', fontsize=24, fontweight='bold')\n",
    "plt.xticks(every_five_years, fontsize=14, rotation=45)\n",
    "plt.yticks(fontsize=14)\n",
    "\n",
    "ax1 = plt.gca()\n",
    "ax2 = ax1.twinx()\n",
    "\n",
    "ax1.set_xlim([prize_per_year.index.min(), prize_per_year.index.max()])\n",
    "ax1.set_xlabel('Years', fontsize=14)\n",
    "ax1.set_ylabel('Number of Prizes Awarded', fontsize=14)\n",
    "\n",
    "# ax2.invert_yaxis() can also work\n",
    "ax2.set_ylim(1.0, 0.4)\n",
    "ax2.set_ylabel('Average Prize Share', fontsize=14)\n",
    "\n",
    "ax1.scatter(x=prize_per_year.index, y=prize_per_year.values, c='dodgerblue', alpha=0.7, s=100)\n",
    "ax1.plot(prize_per_year.index, prizes_rolling.values, c='crimson', linewidth=3)\n",
    "\n",
    "ax2.plot(prize_per_year.index, rolling_prize_share.values, c='gray', linewidth=3, linestyle='--')\n",
    "\n",
    "plt.show()"
   ]
  },
  {
   "cell_type": "markdown",
   "metadata": {
    "dc": {
     "key": "3"
    },
    "id": "L32lWu0Oo7MM",
    "run_control": {
     "frozen": true
    },
    "tags": [
     "context"
    ]
   },
   "source": [
    "# The Countries with the Most Nobel Prizes"
   ]
  },
  {
   "cell_type": "markdown",
   "metadata": {
    "id": "UipIHU54o7MN"
   },
   "source": [
    "**Challenge**: \n",
    "* Create a Pandas DataFrame called `top20_countries` that has the two columns. The `prize` column should contain the total number of prizes won. \n",
    "\n",
    "<img src=https://i.imgur.com/6HM8rfB.png width=350>\n",
    "\n",
    "* Is it best to use `birth_country`, `birth_country_current` or `organization_country`? \n",
    "* What are some potential problems when using `birth_country` or any of the others? Which column is the least problematic? \n",
    "* Then use plotly to create a horizontal bar chart showing the number of prizes won by each country. Here's what you're after:\n",
    "\n",
    "<img src=https://i.imgur.com/agcJdRS.png width=750>\n",
    "\n",
    "* What is the ranking for the top 20 countries in terms of the number of prizes?"
   ]
  },
  {
   "cell_type": "code",
   "execution_count": 303,
   "metadata": {
    "id": "cscYI4BvFzjC"
   },
   "outputs": [
    {
     "data": {
      "text/html": [
       "<div>\n",
       "<style scoped>\n",
       "    .dataframe tbody tr th:only-of-type {\n",
       "        vertical-align: middle;\n",
       "    }\n",
       "\n",
       "    .dataframe tbody tr th {\n",
       "        vertical-align: top;\n",
       "    }\n",
       "\n",
       "    .dataframe thead th {\n",
       "        text-align: right;\n",
       "    }\n",
       "</style>\n",
       "<table border=\"1\" class=\"dataframe\">\n",
       "  <thead>\n",
       "    <tr style=\"text-align: right;\">\n",
       "      <th></th>\n",
       "      <th>birth_country_current</th>\n",
       "      <th>prize</th>\n",
       "    </tr>\n",
       "  </thead>\n",
       "  <tbody>\n",
       "    <tr>\n",
       "      <th>7</th>\n",
       "      <td>Belgium</td>\n",
       "      <td>9</td>\n",
       "    </tr>\n",
       "    <tr>\n",
       "      <th>31</th>\n",
       "      <td>Hungary</td>\n",
       "      <td>9</td>\n",
       "    </tr>\n",
       "    <tr>\n",
       "      <th>33</th>\n",
       "      <td>India</td>\n",
       "      <td>9</td>\n",
       "    </tr>\n",
       "    <tr>\n",
       "      <th>2</th>\n",
       "      <td>Australia</td>\n",
       "      <td>10</td>\n",
       "    </tr>\n",
       "    <tr>\n",
       "      <th>20</th>\n",
       "      <td>Denmark</td>\n",
       "      <td>12</td>\n",
       "    </tr>\n",
       "    <tr>\n",
       "      <th>54</th>\n",
       "      <td>Norway</td>\n",
       "      <td>12</td>\n",
       "    </tr>\n",
       "    <tr>\n",
       "      <th>13</th>\n",
       "      <td>China</td>\n",
       "      <td>12</td>\n",
       "    </tr>\n",
       "    <tr>\n",
       "      <th>51</th>\n",
       "      <td>Netherlands</td>\n",
       "      <td>18</td>\n",
       "    </tr>\n",
       "    <tr>\n",
       "      <th>3</th>\n",
       "      <td>Austria</td>\n",
       "      <td>18</td>\n",
       "    </tr>\n",
       "    <tr>\n",
       "      <th>39</th>\n",
       "      <td>Italy</td>\n",
       "      <td>19</td>\n",
       "    </tr>\n",
       "    <tr>\n",
       "      <th>68</th>\n",
       "      <td>Switzerland</td>\n",
       "      <td>19</td>\n",
       "    </tr>\n",
       "    <tr>\n",
       "      <th>11</th>\n",
       "      <td>Canada</td>\n",
       "      <td>20</td>\n",
       "    </tr>\n",
       "    <tr>\n",
       "      <th>61</th>\n",
       "      <td>Russia</td>\n",
       "      <td>26</td>\n",
       "    </tr>\n",
       "    <tr>\n",
       "      <th>40</th>\n",
       "      <td>Japan</td>\n",
       "      <td>27</td>\n",
       "    </tr>\n",
       "    <tr>\n",
       "      <th>57</th>\n",
       "      <td>Poland</td>\n",
       "      <td>27</td>\n",
       "    </tr>\n",
       "    <tr>\n",
       "      <th>67</th>\n",
       "      <td>Sweden</td>\n",
       "      <td>29</td>\n",
       "    </tr>\n",
       "    <tr>\n",
       "      <th>25</th>\n",
       "      <td>France</td>\n",
       "      <td>57</td>\n",
       "    </tr>\n",
       "    <tr>\n",
       "      <th>26</th>\n",
       "      <td>Germany</td>\n",
       "      <td>84</td>\n",
       "    </tr>\n",
       "    <tr>\n",
       "      <th>73</th>\n",
       "      <td>United Kingdom</td>\n",
       "      <td>105</td>\n",
       "    </tr>\n",
       "    <tr>\n",
       "      <th>74</th>\n",
       "      <td>United States of America</td>\n",
       "      <td>281</td>\n",
       "    </tr>\n",
       "  </tbody>\n",
       "</table>\n",
       "</div>"
      ],
      "text/plain": [
       "       birth_country_current  prize\n",
       "7                    Belgium      9\n",
       "31                   Hungary      9\n",
       "33                     India      9\n",
       "2                  Australia     10\n",
       "20                   Denmark     12\n",
       "54                    Norway     12\n",
       "13                     China     12\n",
       "51               Netherlands     18\n",
       "3                    Austria     18\n",
       "39                     Italy     19\n",
       "68               Switzerland     19\n",
       "11                    Canada     20\n",
       "61                    Russia     26\n",
       "40                     Japan     27\n",
       "57                    Poland     27\n",
       "67                    Sweden     29\n",
       "25                    France     57\n",
       "26                   Germany     84\n",
       "73            United Kingdom    105\n",
       "74  United States of America    281"
      ]
     },
     "execution_count": 303,
     "metadata": {},
     "output_type": "execute_result"
    }
   ],
   "source": [
    "top20_countries = data.groupby('birth_country_current', as_index=False).agg({'prize': pd.Series.count})\n",
    "top20_countries.sort_values('prize', inplace=True)\n",
    "top20_countries = top20_countries[-20:]\n",
    "top20_countries"
   ]
  },
  {
   "cell_type": "code",
   "execution_count": 304,
   "metadata": {
    "id": "Zl2rqcVKFz9P"
   },
   "outputs": [
    {
     "data": {
      "application/vnd.plotly.v1+json": {
       "config": {
        "plotlyServerURL": "https://plot.ly"
       },
       "data": [
        {
         "alignmentgroup": "True",
         "hovertemplate": "x=%{x}<br>y=%{y}<br>color=%{marker.color}<extra></extra>",
         "legendgroup": "",
         "marker": {
          "color": [
           9,
           9,
           9,
           10,
           12,
           12,
           12,
           18,
           18,
           19,
           19,
           20,
           26,
           27,
           27,
           29,
           57,
           84,
           105,
           281
          ],
          "coloraxis": "coloraxis"
         },
         "name": "",
         "offsetgroup": "",
         "orientation": "h",
         "showlegend": false,
         "textposition": "auto",
         "type": "bar",
         "x": [
          9,
          9,
          9,
          10,
          12,
          12,
          12,
          18,
          18,
          19,
          19,
          20,
          26,
          27,
          27,
          29,
          57,
          84,
          105,
          281
         ],
         "xaxis": "x",
         "y": [
          "Belgium",
          "Hungary",
          "India",
          "Australia",
          "Denmark",
          "Norway",
          "China",
          "Netherlands",
          "Austria",
          "Italy",
          "Switzerland",
          "Canada",
          "Russia",
          "Japan",
          "Poland",
          "Sweden",
          "France",
          "Germany",
          "United Kingdom",
          "United States of America"
         ],
         "yaxis": "y"
        }
       ],
       "layout": {
        "barmode": "relative",
        "coloraxis": {
         "colorbar": {
          "title": {
           "text": "color"
          }
         },
         "colorscale": [
          [
           0,
           "rgb(92, 83, 165)"
          ],
          [
           0.16666666666666666,
           "rgb(160, 89, 160)"
          ],
          [
           0.3333333333333333,
           "rgb(206, 102, 147)"
          ],
          [
           0.5,
           "rgb(235, 127, 134)"
          ],
          [
           0.6666666666666666,
           "rgb(248, 160, 126)"
          ],
          [
           0.8333333333333334,
           "rgb(250, 196, 132)"
          ],
          [
           1,
           "rgb(243, 231, 155)"
          ]
         ],
         "showscale": false
        },
        "legend": {
         "tracegroupgap": 0
        },
        "template": {
         "data": {
          "bar": [
           {
            "error_x": {
             "color": "#2a3f5f"
            },
            "error_y": {
             "color": "#2a3f5f"
            },
            "marker": {
             "line": {
              "color": "#E5ECF6",
              "width": 0.5
             }
            },
            "type": "bar"
           }
          ],
          "barpolar": [
           {
            "marker": {
             "line": {
              "color": "#E5ECF6",
              "width": 0.5
             }
            },
            "type": "barpolar"
           }
          ],
          "carpet": [
           {
            "aaxis": {
             "endlinecolor": "#2a3f5f",
             "gridcolor": "white",
             "linecolor": "white",
             "minorgridcolor": "white",
             "startlinecolor": "#2a3f5f"
            },
            "baxis": {
             "endlinecolor": "#2a3f5f",
             "gridcolor": "white",
             "linecolor": "white",
             "minorgridcolor": "white",
             "startlinecolor": "#2a3f5f"
            },
            "type": "carpet"
           }
          ],
          "choropleth": [
           {
            "colorbar": {
             "outlinewidth": 0,
             "ticks": ""
            },
            "type": "choropleth"
           }
          ],
          "contour": [
           {
            "colorbar": {
             "outlinewidth": 0,
             "ticks": ""
            },
            "colorscale": [
             [
              0,
              "#0d0887"
             ],
             [
              0.1111111111111111,
              "#46039f"
             ],
             [
              0.2222222222222222,
              "#7201a8"
             ],
             [
              0.3333333333333333,
              "#9c179e"
             ],
             [
              0.4444444444444444,
              "#bd3786"
             ],
             [
              0.5555555555555556,
              "#d8576b"
             ],
             [
              0.6666666666666666,
              "#ed7953"
             ],
             [
              0.7777777777777778,
              "#fb9f3a"
             ],
             [
              0.8888888888888888,
              "#fdca26"
             ],
             [
              1,
              "#f0f921"
             ]
            ],
            "type": "contour"
           }
          ],
          "contourcarpet": [
           {
            "colorbar": {
             "outlinewidth": 0,
             "ticks": ""
            },
            "type": "contourcarpet"
           }
          ],
          "heatmap": [
           {
            "colorbar": {
             "outlinewidth": 0,
             "ticks": ""
            },
            "colorscale": [
             [
              0,
              "#0d0887"
             ],
             [
              0.1111111111111111,
              "#46039f"
             ],
             [
              0.2222222222222222,
              "#7201a8"
             ],
             [
              0.3333333333333333,
              "#9c179e"
             ],
             [
              0.4444444444444444,
              "#bd3786"
             ],
             [
              0.5555555555555556,
              "#d8576b"
             ],
             [
              0.6666666666666666,
              "#ed7953"
             ],
             [
              0.7777777777777778,
              "#fb9f3a"
             ],
             [
              0.8888888888888888,
              "#fdca26"
             ],
             [
              1,
              "#f0f921"
             ]
            ],
            "type": "heatmap"
           }
          ],
          "heatmapgl": [
           {
            "colorbar": {
             "outlinewidth": 0,
             "ticks": ""
            },
            "colorscale": [
             [
              0,
              "#0d0887"
             ],
             [
              0.1111111111111111,
              "#46039f"
             ],
             [
              0.2222222222222222,
              "#7201a8"
             ],
             [
              0.3333333333333333,
              "#9c179e"
             ],
             [
              0.4444444444444444,
              "#bd3786"
             ],
             [
              0.5555555555555556,
              "#d8576b"
             ],
             [
              0.6666666666666666,
              "#ed7953"
             ],
             [
              0.7777777777777778,
              "#fb9f3a"
             ],
             [
              0.8888888888888888,
              "#fdca26"
             ],
             [
              1,
              "#f0f921"
             ]
            ],
            "type": "heatmapgl"
           }
          ],
          "histogram": [
           {
            "marker": {
             "colorbar": {
              "outlinewidth": 0,
              "ticks": ""
             }
            },
            "type": "histogram"
           }
          ],
          "histogram2d": [
           {
            "colorbar": {
             "outlinewidth": 0,
             "ticks": ""
            },
            "colorscale": [
             [
              0,
              "#0d0887"
             ],
             [
              0.1111111111111111,
              "#46039f"
             ],
             [
              0.2222222222222222,
              "#7201a8"
             ],
             [
              0.3333333333333333,
              "#9c179e"
             ],
             [
              0.4444444444444444,
              "#bd3786"
             ],
             [
              0.5555555555555556,
              "#d8576b"
             ],
             [
              0.6666666666666666,
              "#ed7953"
             ],
             [
              0.7777777777777778,
              "#fb9f3a"
             ],
             [
              0.8888888888888888,
              "#fdca26"
             ],
             [
              1,
              "#f0f921"
             ]
            ],
            "type": "histogram2d"
           }
          ],
          "histogram2dcontour": [
           {
            "colorbar": {
             "outlinewidth": 0,
             "ticks": ""
            },
            "colorscale": [
             [
              0,
              "#0d0887"
             ],
             [
              0.1111111111111111,
              "#46039f"
             ],
             [
              0.2222222222222222,
              "#7201a8"
             ],
             [
              0.3333333333333333,
              "#9c179e"
             ],
             [
              0.4444444444444444,
              "#bd3786"
             ],
             [
              0.5555555555555556,
              "#d8576b"
             ],
             [
              0.6666666666666666,
              "#ed7953"
             ],
             [
              0.7777777777777778,
              "#fb9f3a"
             ],
             [
              0.8888888888888888,
              "#fdca26"
             ],
             [
              1,
              "#f0f921"
             ]
            ],
            "type": "histogram2dcontour"
           }
          ],
          "mesh3d": [
           {
            "colorbar": {
             "outlinewidth": 0,
             "ticks": ""
            },
            "type": "mesh3d"
           }
          ],
          "parcoords": [
           {
            "line": {
             "colorbar": {
              "outlinewidth": 0,
              "ticks": ""
             }
            },
            "type": "parcoords"
           }
          ],
          "pie": [
           {
            "automargin": true,
            "type": "pie"
           }
          ],
          "scatter": [
           {
            "marker": {
             "colorbar": {
              "outlinewidth": 0,
              "ticks": ""
             }
            },
            "type": "scatter"
           }
          ],
          "scatter3d": [
           {
            "line": {
             "colorbar": {
              "outlinewidth": 0,
              "ticks": ""
             }
            },
            "marker": {
             "colorbar": {
              "outlinewidth": 0,
              "ticks": ""
             }
            },
            "type": "scatter3d"
           }
          ],
          "scattercarpet": [
           {
            "marker": {
             "colorbar": {
              "outlinewidth": 0,
              "ticks": ""
             }
            },
            "type": "scattercarpet"
           }
          ],
          "scattergeo": [
           {
            "marker": {
             "colorbar": {
              "outlinewidth": 0,
              "ticks": ""
             }
            },
            "type": "scattergeo"
           }
          ],
          "scattergl": [
           {
            "marker": {
             "colorbar": {
              "outlinewidth": 0,
              "ticks": ""
             }
            },
            "type": "scattergl"
           }
          ],
          "scattermapbox": [
           {
            "marker": {
             "colorbar": {
              "outlinewidth": 0,
              "ticks": ""
             }
            },
            "type": "scattermapbox"
           }
          ],
          "scatterpolar": [
           {
            "marker": {
             "colorbar": {
              "outlinewidth": 0,
              "ticks": ""
             }
            },
            "type": "scatterpolar"
           }
          ],
          "scatterpolargl": [
           {
            "marker": {
             "colorbar": {
              "outlinewidth": 0,
              "ticks": ""
             }
            },
            "type": "scatterpolargl"
           }
          ],
          "scatterternary": [
           {
            "marker": {
             "colorbar": {
              "outlinewidth": 0,
              "ticks": ""
             }
            },
            "type": "scatterternary"
           }
          ],
          "surface": [
           {
            "colorbar": {
             "outlinewidth": 0,
             "ticks": ""
            },
            "colorscale": [
             [
              0,
              "#0d0887"
             ],
             [
              0.1111111111111111,
              "#46039f"
             ],
             [
              0.2222222222222222,
              "#7201a8"
             ],
             [
              0.3333333333333333,
              "#9c179e"
             ],
             [
              0.4444444444444444,
              "#bd3786"
             ],
             [
              0.5555555555555556,
              "#d8576b"
             ],
             [
              0.6666666666666666,
              "#ed7953"
             ],
             [
              0.7777777777777778,
              "#fb9f3a"
             ],
             [
              0.8888888888888888,
              "#fdca26"
             ],
             [
              1,
              "#f0f921"
             ]
            ],
            "type": "surface"
           }
          ],
          "table": [
           {
            "cells": {
             "fill": {
              "color": "#EBF0F8"
             },
             "line": {
              "color": "white"
             }
            },
            "header": {
             "fill": {
              "color": "#C8D4E3"
             },
             "line": {
              "color": "white"
             }
            },
            "type": "table"
           }
          ]
         },
         "layout": {
          "annotationdefaults": {
           "arrowcolor": "#2a3f5f",
           "arrowhead": 0,
           "arrowwidth": 1
          },
          "autotypenumbers": "strict",
          "coloraxis": {
           "colorbar": {
            "outlinewidth": 0,
            "ticks": ""
           }
          },
          "colorscale": {
           "diverging": [
            [
             0,
             "#8e0152"
            ],
            [
             0.1,
             "#c51b7d"
            ],
            [
             0.2,
             "#de77ae"
            ],
            [
             0.3,
             "#f1b6da"
            ],
            [
             0.4,
             "#fde0ef"
            ],
            [
             0.5,
             "#f7f7f7"
            ],
            [
             0.6,
             "#e6f5d0"
            ],
            [
             0.7,
             "#b8e186"
            ],
            [
             0.8,
             "#7fbc41"
            ],
            [
             0.9,
             "#4d9221"
            ],
            [
             1,
             "#276419"
            ]
           ],
           "sequential": [
            [
             0,
             "#0d0887"
            ],
            [
             0.1111111111111111,
             "#46039f"
            ],
            [
             0.2222222222222222,
             "#7201a8"
            ],
            [
             0.3333333333333333,
             "#9c179e"
            ],
            [
             0.4444444444444444,
             "#bd3786"
            ],
            [
             0.5555555555555556,
             "#d8576b"
            ],
            [
             0.6666666666666666,
             "#ed7953"
            ],
            [
             0.7777777777777778,
             "#fb9f3a"
            ],
            [
             0.8888888888888888,
             "#fdca26"
            ],
            [
             1,
             "#f0f921"
            ]
           ],
           "sequentialminus": [
            [
             0,
             "#0d0887"
            ],
            [
             0.1111111111111111,
             "#46039f"
            ],
            [
             0.2222222222222222,
             "#7201a8"
            ],
            [
             0.3333333333333333,
             "#9c179e"
            ],
            [
             0.4444444444444444,
             "#bd3786"
            ],
            [
             0.5555555555555556,
             "#d8576b"
            ],
            [
             0.6666666666666666,
             "#ed7953"
            ],
            [
             0.7777777777777778,
             "#fb9f3a"
            ],
            [
             0.8888888888888888,
             "#fdca26"
            ],
            [
             1,
             "#f0f921"
            ]
           ]
          },
          "colorway": [
           "#636efa",
           "#EF553B",
           "#00cc96",
           "#ab63fa",
           "#FFA15A",
           "#19d3f3",
           "#FF6692",
           "#B6E880",
           "#FF97FF",
           "#FECB52"
          ],
          "font": {
           "color": "#2a3f5f"
          },
          "geo": {
           "bgcolor": "white",
           "lakecolor": "white",
           "landcolor": "#E5ECF6",
           "showlakes": true,
           "showland": true,
           "subunitcolor": "white"
          },
          "hoverlabel": {
           "align": "left"
          },
          "hovermode": "closest",
          "mapbox": {
           "style": "light"
          },
          "paper_bgcolor": "white",
          "plot_bgcolor": "#E5ECF6",
          "polar": {
           "angularaxis": {
            "gridcolor": "white",
            "linecolor": "white",
            "ticks": ""
           },
           "bgcolor": "#E5ECF6",
           "radialaxis": {
            "gridcolor": "white",
            "linecolor": "white",
            "ticks": ""
           }
          },
          "scene": {
           "xaxis": {
            "backgroundcolor": "#E5ECF6",
            "gridcolor": "white",
            "gridwidth": 2,
            "linecolor": "white",
            "showbackground": true,
            "ticks": "",
            "zerolinecolor": "white"
           },
           "yaxis": {
            "backgroundcolor": "#E5ECF6",
            "gridcolor": "white",
            "gridwidth": 2,
            "linecolor": "white",
            "showbackground": true,
            "ticks": "",
            "zerolinecolor": "white"
           },
           "zaxis": {
            "backgroundcolor": "#E5ECF6",
            "gridcolor": "white",
            "gridwidth": 2,
            "linecolor": "white",
            "showbackground": true,
            "ticks": "",
            "zerolinecolor": "white"
           }
          },
          "shapedefaults": {
           "line": {
            "color": "#2a3f5f"
           }
          },
          "ternary": {
           "aaxis": {
            "gridcolor": "white",
            "linecolor": "white",
            "ticks": ""
           },
           "baxis": {
            "gridcolor": "white",
            "linecolor": "white",
            "ticks": ""
           },
           "bgcolor": "#E5ECF6",
           "caxis": {
            "gridcolor": "white",
            "linecolor": "white",
            "ticks": ""
           }
          },
          "title": {
           "x": 0.05
          },
          "xaxis": {
           "automargin": true,
           "gridcolor": "white",
           "linecolor": "white",
           "ticks": "",
           "title": {
            "standoff": 15
           },
           "zerolinecolor": "white",
           "zerolinewidth": 2
          },
          "yaxis": {
           "automargin": true,
           "gridcolor": "white",
           "linecolor": "white",
           "ticks": "",
           "title": {
            "standoff": 15
           },
           "zerolinecolor": "white",
           "zerolinewidth": 2
          }
         }
        },
        "title": {
         "text": "Top 20 Countries by Number of Prizes"
        },
        "xaxis": {
         "anchor": "y",
         "domain": [
          0,
          1
         ],
         "title": {
          "text": "Number of Prizes"
         }
        },
        "yaxis": {
         "anchor": "x",
         "domain": [
          0,
          1
         ],
         "title": {
          "text": "Birth Country (Current)"
         }
        }
       }
      },
      "text/html": [
       "<div>                            <div id=\"2a35c5dd-b011-47fe-ad52-57e7413e63c3\" class=\"plotly-graph-div\" style=\"height:525px; width:100%;\"></div>            <script type=\"text/javascript\">                require([\"plotly\"], function(Plotly) {                    window.PLOTLYENV=window.PLOTLYENV || {};                                    if (document.getElementById(\"2a35c5dd-b011-47fe-ad52-57e7413e63c3\")) {                    Plotly.newPlot(                        \"2a35c5dd-b011-47fe-ad52-57e7413e63c3\",                        [{\"alignmentgroup\": \"True\", \"hovertemplate\": \"x=%{x}<br>y=%{y}<br>color=%{marker.color}<extra></extra>\", \"legendgroup\": \"\", \"marker\": {\"color\": [9, 9, 9, 10, 12, 12, 12, 18, 18, 19, 19, 20, 26, 27, 27, 29, 57, 84, 105, 281], \"coloraxis\": \"coloraxis\"}, \"name\": \"\", \"offsetgroup\": \"\", \"orientation\": \"h\", \"showlegend\": false, \"textposition\": \"auto\", \"type\": \"bar\", \"x\": [9, 9, 9, 10, 12, 12, 12, 18, 18, 19, 19, 20, 26, 27, 27, 29, 57, 84, 105, 281], \"xaxis\": \"x\", \"y\": [\"Belgium\", \"Hungary\", \"India\", \"Australia\", \"Denmark\", \"Norway\", \"China\", \"Netherlands\", \"Austria\", \"Italy\", \"Switzerland\", \"Canada\", \"Russia\", \"Japan\", \"Poland\", \"Sweden\", \"France\", \"Germany\", \"United Kingdom\", \"United States of America\"], \"yaxis\": \"y\"}],                        {\"barmode\": \"relative\", \"coloraxis\": {\"colorbar\": {\"title\": {\"text\": \"color\"}}, \"colorscale\": [[0.0, \"rgb(92, 83, 165)\"], [0.16666666666666666, \"rgb(160, 89, 160)\"], [0.3333333333333333, \"rgb(206, 102, 147)\"], [0.5, \"rgb(235, 127, 134)\"], [0.6666666666666666, \"rgb(248, 160, 126)\"], [0.8333333333333334, \"rgb(250, 196, 132)\"], [1.0, \"rgb(243, 231, 155)\"]], \"showscale\": false}, \"legend\": {\"tracegroupgap\": 0}, \"template\": {\"data\": {\"bar\": [{\"error_x\": {\"color\": \"#2a3f5f\"}, \"error_y\": {\"color\": \"#2a3f5f\"}, \"marker\": {\"line\": {\"color\": \"#E5ECF6\", \"width\": 0.5}}, \"type\": \"bar\"}], \"barpolar\": [{\"marker\": {\"line\": {\"color\": \"#E5ECF6\", \"width\": 0.5}}, \"type\": \"barpolar\"}], \"carpet\": [{\"aaxis\": {\"endlinecolor\": \"#2a3f5f\", \"gridcolor\": \"white\", \"linecolor\": \"white\", \"minorgridcolor\": \"white\", \"startlinecolor\": \"#2a3f5f\"}, \"baxis\": {\"endlinecolor\": \"#2a3f5f\", \"gridcolor\": \"white\", \"linecolor\": \"white\", \"minorgridcolor\": \"white\", \"startlinecolor\": \"#2a3f5f\"}, \"type\": \"carpet\"}], \"choropleth\": [{\"colorbar\": {\"outlinewidth\": 0, \"ticks\": \"\"}, \"type\": \"choropleth\"}], \"contour\": [{\"colorbar\": {\"outlinewidth\": 0, \"ticks\": \"\"}, \"colorscale\": [[0.0, \"#0d0887\"], [0.1111111111111111, \"#46039f\"], [0.2222222222222222, \"#7201a8\"], [0.3333333333333333, \"#9c179e\"], [0.4444444444444444, \"#bd3786\"], [0.5555555555555556, \"#d8576b\"], [0.6666666666666666, \"#ed7953\"], [0.7777777777777778, \"#fb9f3a\"], [0.8888888888888888, \"#fdca26\"], [1.0, \"#f0f921\"]], \"type\": \"contour\"}], \"contourcarpet\": [{\"colorbar\": {\"outlinewidth\": 0, \"ticks\": \"\"}, \"type\": \"contourcarpet\"}], \"heatmap\": [{\"colorbar\": {\"outlinewidth\": 0, \"ticks\": \"\"}, \"colorscale\": [[0.0, \"#0d0887\"], [0.1111111111111111, \"#46039f\"], [0.2222222222222222, \"#7201a8\"], [0.3333333333333333, \"#9c179e\"], [0.4444444444444444, \"#bd3786\"], [0.5555555555555556, \"#d8576b\"], [0.6666666666666666, \"#ed7953\"], [0.7777777777777778, \"#fb9f3a\"], [0.8888888888888888, \"#fdca26\"], [1.0, \"#f0f921\"]], \"type\": \"heatmap\"}], \"heatmapgl\": [{\"colorbar\": {\"outlinewidth\": 0, \"ticks\": \"\"}, \"colorscale\": [[0.0, \"#0d0887\"], [0.1111111111111111, \"#46039f\"], [0.2222222222222222, \"#7201a8\"], [0.3333333333333333, \"#9c179e\"], [0.4444444444444444, \"#bd3786\"], [0.5555555555555556, \"#d8576b\"], [0.6666666666666666, \"#ed7953\"], [0.7777777777777778, \"#fb9f3a\"], [0.8888888888888888, \"#fdca26\"], [1.0, \"#f0f921\"]], \"type\": \"heatmapgl\"}], \"histogram\": [{\"marker\": {\"colorbar\": {\"outlinewidth\": 0, \"ticks\": \"\"}}, \"type\": \"histogram\"}], \"histogram2d\": [{\"colorbar\": {\"outlinewidth\": 0, \"ticks\": \"\"}, \"colorscale\": [[0.0, \"#0d0887\"], [0.1111111111111111, \"#46039f\"], [0.2222222222222222, \"#7201a8\"], [0.3333333333333333, \"#9c179e\"], [0.4444444444444444, \"#bd3786\"], [0.5555555555555556, \"#d8576b\"], [0.6666666666666666, \"#ed7953\"], [0.7777777777777778, \"#fb9f3a\"], [0.8888888888888888, \"#fdca26\"], [1.0, \"#f0f921\"]], \"type\": \"histogram2d\"}], \"histogram2dcontour\": [{\"colorbar\": {\"outlinewidth\": 0, \"ticks\": \"\"}, \"colorscale\": [[0.0, \"#0d0887\"], [0.1111111111111111, \"#46039f\"], [0.2222222222222222, \"#7201a8\"], [0.3333333333333333, \"#9c179e\"], [0.4444444444444444, \"#bd3786\"], [0.5555555555555556, \"#d8576b\"], [0.6666666666666666, \"#ed7953\"], [0.7777777777777778, \"#fb9f3a\"], [0.8888888888888888, \"#fdca26\"], [1.0, \"#f0f921\"]], \"type\": \"histogram2dcontour\"}], \"mesh3d\": [{\"colorbar\": {\"outlinewidth\": 0, \"ticks\": \"\"}, \"type\": \"mesh3d\"}], \"parcoords\": [{\"line\": {\"colorbar\": {\"outlinewidth\": 0, \"ticks\": \"\"}}, \"type\": \"parcoords\"}], \"pie\": [{\"automargin\": true, \"type\": \"pie\"}], \"scatter\": [{\"marker\": {\"colorbar\": {\"outlinewidth\": 0, \"ticks\": \"\"}}, \"type\": \"scatter\"}], \"scatter3d\": [{\"line\": {\"colorbar\": {\"outlinewidth\": 0, \"ticks\": \"\"}}, \"marker\": {\"colorbar\": {\"outlinewidth\": 0, \"ticks\": \"\"}}, \"type\": \"scatter3d\"}], \"scattercarpet\": [{\"marker\": {\"colorbar\": {\"outlinewidth\": 0, \"ticks\": \"\"}}, \"type\": \"scattercarpet\"}], \"scattergeo\": [{\"marker\": {\"colorbar\": {\"outlinewidth\": 0, \"ticks\": \"\"}}, \"type\": \"scattergeo\"}], \"scattergl\": [{\"marker\": {\"colorbar\": {\"outlinewidth\": 0, \"ticks\": \"\"}}, \"type\": \"scattergl\"}], \"scattermapbox\": [{\"marker\": {\"colorbar\": {\"outlinewidth\": 0, \"ticks\": \"\"}}, \"type\": \"scattermapbox\"}], \"scatterpolar\": [{\"marker\": {\"colorbar\": {\"outlinewidth\": 0, \"ticks\": \"\"}}, \"type\": \"scatterpolar\"}], \"scatterpolargl\": [{\"marker\": {\"colorbar\": {\"outlinewidth\": 0, \"ticks\": \"\"}}, \"type\": \"scatterpolargl\"}], \"scatterternary\": [{\"marker\": {\"colorbar\": {\"outlinewidth\": 0, \"ticks\": \"\"}}, \"type\": \"scatterternary\"}], \"surface\": [{\"colorbar\": {\"outlinewidth\": 0, \"ticks\": \"\"}, \"colorscale\": [[0.0, \"#0d0887\"], [0.1111111111111111, \"#46039f\"], [0.2222222222222222, \"#7201a8\"], [0.3333333333333333, \"#9c179e\"], [0.4444444444444444, \"#bd3786\"], [0.5555555555555556, \"#d8576b\"], [0.6666666666666666, \"#ed7953\"], [0.7777777777777778, \"#fb9f3a\"], [0.8888888888888888, \"#fdca26\"], [1.0, \"#f0f921\"]], \"type\": \"surface\"}], \"table\": [{\"cells\": {\"fill\": {\"color\": \"#EBF0F8\"}, \"line\": {\"color\": \"white\"}}, \"header\": {\"fill\": {\"color\": \"#C8D4E3\"}, \"line\": {\"color\": \"white\"}}, \"type\": \"table\"}]}, \"layout\": {\"annotationdefaults\": {\"arrowcolor\": \"#2a3f5f\", \"arrowhead\": 0, \"arrowwidth\": 1}, \"autotypenumbers\": \"strict\", \"coloraxis\": {\"colorbar\": {\"outlinewidth\": 0, \"ticks\": \"\"}}, \"colorscale\": {\"diverging\": [[0, \"#8e0152\"], [0.1, \"#c51b7d\"], [0.2, \"#de77ae\"], [0.3, \"#f1b6da\"], [0.4, \"#fde0ef\"], [0.5, \"#f7f7f7\"], [0.6, \"#e6f5d0\"], [0.7, \"#b8e186\"], [0.8, \"#7fbc41\"], [0.9, \"#4d9221\"], [1, \"#276419\"]], \"sequential\": [[0.0, \"#0d0887\"], [0.1111111111111111, \"#46039f\"], [0.2222222222222222, \"#7201a8\"], [0.3333333333333333, \"#9c179e\"], [0.4444444444444444, \"#bd3786\"], [0.5555555555555556, \"#d8576b\"], [0.6666666666666666, \"#ed7953\"], [0.7777777777777778, \"#fb9f3a\"], [0.8888888888888888, \"#fdca26\"], [1.0, \"#f0f921\"]], \"sequentialminus\": [[0.0, \"#0d0887\"], [0.1111111111111111, \"#46039f\"], [0.2222222222222222, \"#7201a8\"], [0.3333333333333333, \"#9c179e\"], [0.4444444444444444, \"#bd3786\"], [0.5555555555555556, \"#d8576b\"], [0.6666666666666666, \"#ed7953\"], [0.7777777777777778, \"#fb9f3a\"], [0.8888888888888888, \"#fdca26\"], [1.0, \"#f0f921\"]]}, \"colorway\": [\"#636efa\", \"#EF553B\", \"#00cc96\", \"#ab63fa\", \"#FFA15A\", \"#19d3f3\", \"#FF6692\", \"#B6E880\", \"#FF97FF\", \"#FECB52\"], \"font\": {\"color\": \"#2a3f5f\"}, \"geo\": {\"bgcolor\": \"white\", \"lakecolor\": \"white\", \"landcolor\": \"#E5ECF6\", \"showlakes\": true, \"showland\": true, \"subunitcolor\": \"white\"}, \"hoverlabel\": {\"align\": \"left\"}, \"hovermode\": \"closest\", \"mapbox\": {\"style\": \"light\"}, \"paper_bgcolor\": \"white\", \"plot_bgcolor\": \"#E5ECF6\", \"polar\": {\"angularaxis\": {\"gridcolor\": \"white\", \"linecolor\": \"white\", \"ticks\": \"\"}, \"bgcolor\": \"#E5ECF6\", \"radialaxis\": {\"gridcolor\": \"white\", \"linecolor\": \"white\", \"ticks\": \"\"}}, \"scene\": {\"xaxis\": {\"backgroundcolor\": \"#E5ECF6\", \"gridcolor\": \"white\", \"gridwidth\": 2, \"linecolor\": \"white\", \"showbackground\": true, \"ticks\": \"\", \"zerolinecolor\": \"white\"}, \"yaxis\": {\"backgroundcolor\": \"#E5ECF6\", \"gridcolor\": \"white\", \"gridwidth\": 2, \"linecolor\": \"white\", \"showbackground\": true, \"ticks\": \"\", \"zerolinecolor\": \"white\"}, \"zaxis\": {\"backgroundcolor\": \"#E5ECF6\", \"gridcolor\": \"white\", \"gridwidth\": 2, \"linecolor\": \"white\", \"showbackground\": true, \"ticks\": \"\", \"zerolinecolor\": \"white\"}}, \"shapedefaults\": {\"line\": {\"color\": \"#2a3f5f\"}}, \"ternary\": {\"aaxis\": {\"gridcolor\": \"white\", \"linecolor\": \"white\", \"ticks\": \"\"}, \"baxis\": {\"gridcolor\": \"white\", \"linecolor\": \"white\", \"ticks\": \"\"}, \"bgcolor\": \"#E5ECF6\", \"caxis\": {\"gridcolor\": \"white\", \"linecolor\": \"white\", \"ticks\": \"\"}}, \"title\": {\"x\": 0.05}, \"xaxis\": {\"automargin\": true, \"gridcolor\": \"white\", \"linecolor\": \"white\", \"ticks\": \"\", \"title\": {\"standoff\": 15}, \"zerolinecolor\": \"white\", \"zerolinewidth\": 2}, \"yaxis\": {\"automargin\": true, \"gridcolor\": \"white\", \"linecolor\": \"white\", \"ticks\": \"\", \"title\": {\"standoff\": 15}, \"zerolinecolor\": \"white\", \"zerolinewidth\": 2}}}, \"title\": {\"text\": \"Top 20 Countries by Number of Prizes\"}, \"xaxis\": {\"anchor\": \"y\", \"domain\": [0.0, 1.0], \"title\": {\"text\": \"Number of Prizes\"}}, \"yaxis\": {\"anchor\": \"x\", \"domain\": [0.0, 1.0], \"title\": {\"text\": \"Birth Country (Current)\"}}},                        {\"responsive\": true}                    ).then(function(){\n",
       "                            \n",
       "var gd = document.getElementById('2a35c5dd-b011-47fe-ad52-57e7413e63c3');\n",
       "var x = new MutationObserver(function (mutations, observer) {{\n",
       "        var display = window.getComputedStyle(gd).display;\n",
       "        if (!display || display === 'none') {{\n",
       "            console.log([gd, 'removed!']);\n",
       "            Plotly.purge(gd);\n",
       "            observer.disconnect();\n",
       "        }}\n",
       "}});\n",
       "\n",
       "// Listen for the removal of the full notebook cells\n",
       "var notebookContainer = gd.closest('#notebook-container');\n",
       "if (notebookContainer) {{\n",
       "    x.observe(notebookContainer, {childList: true});\n",
       "}}\n",
       "\n",
       "// Listen for the clearing of the current output cell\n",
       "var outputEl = gd.closest('.output');\n",
       "if (outputEl) {{\n",
       "    x.observe(outputEl, {childList: true});\n",
       "}}\n",
       "\n",
       "                        })                };                });            </script>        </div>"
      ]
     },
     "metadata": {},
     "output_type": "display_data"
    }
   ],
   "source": [
    "h_bar = px.bar(x=top20_countries.prize, \n",
    "               y=top20_countries.birth_country_current, \n",
    "               orientation='h', \n",
    "               title='Top 20 Countries by Number of Prizes',\n",
    "               color=top20_countries.prize,\n",
    "               color_continuous_scale=px.colors.sequential.Sunset_r)\n",
    "h_bar.update_layout(xaxis_title='Number of Prizes', \n",
    "                    yaxis_title='Birth Country (Current)', \n",
    "                    coloraxis_showscale=False)\n",
    "h_bar.show()"
   ]
  },
  {
   "cell_type": "markdown",
   "metadata": {
    "id": "uNTvKsrzo7MR"
   },
   "source": [
    "# Use a Choropleth Map to Show the Number of Prizes Won by Country\n",
    "\n",
    "* Create this choropleth map using [the plotly documentation](https://plotly.com/python/choropleth-maps/):\n",
    "\n",
    "<img src=https://i.imgur.com/s4lqYZH.png>\n",
    "\n",
    "* Experiment with [plotly's available colours](https://plotly.com/python/builtin-colorscales/). I quite like the sequential colour `matter` on this map. \n",
    "\n",
    "Hint: You'll need to use a 3 letter country code for each country. \n"
   ]
  },
  {
   "cell_type": "code",
   "execution_count": 214,
   "metadata": {
    "id": "2YT8MN4sF4Hs"
   },
   "outputs": [
    {
     "data": {
      "text/html": [
       "<div>\n",
       "<style scoped>\n",
       "    .dataframe tbody tr th:only-of-type {\n",
       "        vertical-align: middle;\n",
       "    }\n",
       "\n",
       "    .dataframe tbody tr th {\n",
       "        vertical-align: top;\n",
       "    }\n",
       "\n",
       "    .dataframe thead th {\n",
       "        text-align: right;\n",
       "    }\n",
       "</style>\n",
       "<table border=\"1\" class=\"dataframe\">\n",
       "  <thead>\n",
       "    <tr style=\"text-align: right;\">\n",
       "      <th></th>\n",
       "      <th>birth_country_current</th>\n",
       "      <th>ISO</th>\n",
       "      <th>prize</th>\n",
       "    </tr>\n",
       "  </thead>\n",
       "  <tbody>\n",
       "    <tr>\n",
       "      <th>74</th>\n",
       "      <td>United States of America</td>\n",
       "      <td>USA</td>\n",
       "      <td>281</td>\n",
       "    </tr>\n",
       "    <tr>\n",
       "      <th>73</th>\n",
       "      <td>United Kingdom</td>\n",
       "      <td>GBR</td>\n",
       "      <td>105</td>\n",
       "    </tr>\n",
       "    <tr>\n",
       "      <th>26</th>\n",
       "      <td>Germany</td>\n",
       "      <td>DEU</td>\n",
       "      <td>84</td>\n",
       "    </tr>\n",
       "    <tr>\n",
       "      <th>25</th>\n",
       "      <td>France</td>\n",
       "      <td>FRA</td>\n",
       "      <td>57</td>\n",
       "    </tr>\n",
       "    <tr>\n",
       "      <th>67</th>\n",
       "      <td>Sweden</td>\n",
       "      <td>SWE</td>\n",
       "      <td>29</td>\n",
       "    </tr>\n",
       "    <tr>\n",
       "      <th>...</th>\n",
       "      <td>...</td>\n",
       "      <td>...</td>\n",
       "      <td>...</td>\n",
       "    </tr>\n",
       "    <tr>\n",
       "      <th>32</th>\n",
       "      <td>Iceland</td>\n",
       "      <td>ISL</td>\n",
       "      <td>1</td>\n",
       "    </tr>\n",
       "    <tr>\n",
       "      <th>47</th>\n",
       "      <td>Madagascar</td>\n",
       "      <td>MDG</td>\n",
       "      <td>1</td>\n",
       "    </tr>\n",
       "    <tr>\n",
       "      <th>34</th>\n",
       "      <td>Indonesia</td>\n",
       "      <td>IDN</td>\n",
       "      <td>1</td>\n",
       "    </tr>\n",
       "    <tr>\n",
       "      <th>36</th>\n",
       "      <td>Iraq</td>\n",
       "      <td>IRQ</td>\n",
       "      <td>1</td>\n",
       "    </tr>\n",
       "    <tr>\n",
       "      <th>78</th>\n",
       "      <td>Zimbabwe</td>\n",
       "      <td>ZWE</td>\n",
       "      <td>1</td>\n",
       "    </tr>\n",
       "  </tbody>\n",
       "</table>\n",
       "<p>79 rows × 3 columns</p>\n",
       "</div>"
      ],
      "text/plain": [
       "       birth_country_current  ISO  prize\n",
       "74  United States of America  USA    281\n",
       "73            United Kingdom  GBR    105\n",
       "26                   Germany  DEU     84\n",
       "25                    France  FRA     57\n",
       "67                    Sweden  SWE     29\n",
       "..                       ...  ...    ...\n",
       "32                   Iceland  ISL      1\n",
       "47                Madagascar  MDG      1\n",
       "34                 Indonesia  IDN      1\n",
       "36                      Iraq  IRQ      1\n",
       "78                  Zimbabwe  ZWE      1\n",
       "\n",
       "[79 rows x 3 columns]"
      ]
     },
     "execution_count": 214,
     "metadata": {},
     "output_type": "execute_result"
    }
   ],
   "source": [
    "awards_by_iso = data.groupby(['birth_country_current', 'ISO'], as_index=False).agg({'prize': pd.Series.count})\n",
    "awards_by_iso.sort_values('prize', ascending=False, inplace=True)\n",
    "awards_by_iso"
   ]
  },
  {
   "cell_type": "code",
   "execution_count": 305,
   "metadata": {
    "id": "4O5jNBUYF4pD"
   },
   "outputs": [
    {
     "data": {
      "application/vnd.plotly.v1+json": {
       "config": {
        "plotlyServerURL": "https://plot.ly"
       },
       "data": [
        {
         "coloraxis": "coloraxis",
         "geo": "geo",
         "hovertemplate": "<b>%{hovertext}</b><br><br>ISO=%{location}<br>Prizes Awarded=%{z}<extra></extra>",
         "hovertext": [
          "United States of America",
          "United Kingdom",
          "Germany",
          "France",
          "Sweden",
          "Japan",
          "Poland",
          "Russia",
          "Canada",
          "Switzerland",
          "Italy",
          "Austria",
          "Netherlands",
          "Denmark",
          "China",
          "Norway",
          "Australia",
          "Belgium",
          "India",
          "South Africa",
          "Hungary",
          "Spain",
          "Israel",
          "Egypt",
          "Czech Republic",
          "Finland",
          "Ireland",
          "Ukraine",
          "Romania",
          "Argentina",
          "Belarus",
          "Lithuania",
          "New Zealand",
          "Mexico",
          "Pakistan",
          "Turkey",
          "Luxembourg",
          "Liberia",
          "Saint Lucia",
          "Portugal",
          "Korea (South Korea)",
          "Algeria",
          "Iran",
          "East Timor",
          "Colombia",
          "Chile",
          "Bosnia and Herzegovina",
          "Guatemala",
          "Kenya",
          "Taiwan",
          "Slovenia",
          "Costa Rica",
          "Bulgaria",
          "Brazil",
          "Trinidad",
          "Croatia",
          "Bangladesh",
          "Azerbaijan",
          "Venezuela",
          "Vietnam",
          "Yemen",
          "Slovakia",
          "Democratic Republic of the Congo",
          "Cyprus",
          "Latvia",
          "Republic of Macedonia",
          "Ethiopia",
          "Peru",
          "Ghana",
          "Greece",
          "Nigeria",
          "Guadeloupe Island",
          "Myanmar",
          "Morocco",
          "Iceland",
          "Madagascar",
          "Indonesia",
          "Iraq",
          "Zimbabwe"
         ],
         "locations": [
          "USA",
          "GBR",
          "DEU",
          "FRA",
          "SWE",
          "JPN",
          "POL",
          "RUS",
          "CAN",
          "CHE",
          "ITA",
          "AUT",
          "NLD",
          "DNK",
          "CHN",
          "NOR",
          "AUS",
          "BEL",
          "IND",
          "ZAF",
          "HUN",
          "ESP",
          "ISR",
          "EGY",
          "CZE",
          "FIN",
          "IRL",
          "UKR",
          "ROU",
          "ARG",
          "BLR",
          "LTU",
          "NZL",
          "MEX",
          "PAK",
          "TUR",
          "LUX",
          "LBR",
          "LCA",
          "PRT",
          "KOR",
          "DZA",
          "IRN",
          "DOM",
          "COL",
          "CHL",
          "BIH",
          "GTM",
          "KEN",
          "SYR",
          "SVN",
          "CRI",
          "BGR",
          "BRA",
          "TON",
          "HRV",
          "BGD",
          "AZE",
          "VEN",
          "VNM",
          "YEM",
          "SVK",
          "COD",
          "CYP",
          "LVA",
          "MKD",
          "ETH",
          "PER",
          "GHA",
          "GRC",
          "NGA",
          "GLP",
          "MMR",
          "MAR",
          "ISL",
          "MDG",
          "IDN",
          "IRQ",
          "ZWE"
         ],
         "name": "",
         "type": "choropleth",
         "z": [
          281,
          105,
          84,
          57,
          29,
          27,
          27,
          26,
          20,
          19,
          19,
          18,
          18,
          12,
          12,
          12,
          10,
          9,
          9,
          9,
          9,
          7,
          6,
          6,
          6,
          5,
          5,
          5,
          4,
          4,
          4,
          3,
          3,
          3,
          3,
          3,
          2,
          2,
          2,
          2,
          2,
          2,
          2,
          2,
          2,
          2,
          2,
          2,
          1,
          1,
          1,
          1,
          1,
          1,
          1,
          1,
          1,
          1,
          1,
          1,
          1,
          1,
          1,
          1,
          1,
          1,
          1,
          1,
          1,
          1,
          1,
          1,
          1,
          1,
          1,
          1,
          1,
          1,
          1
         ]
        }
       ],
       "layout": {
        "coloraxis": {
         "colorbar": {
          "title": {
           "text": "Prizes Awarded"
          }
         },
         "colorscale": [
          [
           0,
           "rgb(253, 237, 176)"
          ],
          [
           0.09090909090909091,
           "rgb(250, 205, 145)"
          ],
          [
           0.18181818181818182,
           "rgb(246, 173, 119)"
          ],
          [
           0.2727272727272727,
           "rgb(240, 142, 98)"
          ],
          [
           0.36363636363636365,
           "rgb(231, 109, 84)"
          ],
          [
           0.45454545454545453,
           "rgb(216, 80, 83)"
          ],
          [
           0.5454545454545454,
           "rgb(195, 56, 90)"
          ],
          [
           0.6363636363636364,
           "rgb(168, 40, 96)"
          ],
          [
           0.7272727272727273,
           "rgb(138, 29, 99)"
          ],
          [
           0.8181818181818182,
           "rgb(107, 24, 93)"
          ],
          [
           0.9090909090909091,
           "rgb(76, 21, 80)"
          ],
          [
           1,
           "rgb(47, 15, 61)"
          ]
         ]
        },
        "geo": {
         "center": {},
         "domain": {
          "x": [
           0,
           1
          ],
          "y": [
           0,
           1
          ]
         }
        },
        "legend": {
         "tracegroupgap": 0
        },
        "margin": {
         "t": 60
        },
        "template": {
         "data": {
          "bar": [
           {
            "error_x": {
             "color": "#2a3f5f"
            },
            "error_y": {
             "color": "#2a3f5f"
            },
            "marker": {
             "line": {
              "color": "#E5ECF6",
              "width": 0.5
             }
            },
            "type": "bar"
           }
          ],
          "barpolar": [
           {
            "marker": {
             "line": {
              "color": "#E5ECF6",
              "width": 0.5
             }
            },
            "type": "barpolar"
           }
          ],
          "carpet": [
           {
            "aaxis": {
             "endlinecolor": "#2a3f5f",
             "gridcolor": "white",
             "linecolor": "white",
             "minorgridcolor": "white",
             "startlinecolor": "#2a3f5f"
            },
            "baxis": {
             "endlinecolor": "#2a3f5f",
             "gridcolor": "white",
             "linecolor": "white",
             "minorgridcolor": "white",
             "startlinecolor": "#2a3f5f"
            },
            "type": "carpet"
           }
          ],
          "choropleth": [
           {
            "colorbar": {
             "outlinewidth": 0,
             "ticks": ""
            },
            "type": "choropleth"
           }
          ],
          "contour": [
           {
            "colorbar": {
             "outlinewidth": 0,
             "ticks": ""
            },
            "colorscale": [
             [
              0,
              "#0d0887"
             ],
             [
              0.1111111111111111,
              "#46039f"
             ],
             [
              0.2222222222222222,
              "#7201a8"
             ],
             [
              0.3333333333333333,
              "#9c179e"
             ],
             [
              0.4444444444444444,
              "#bd3786"
             ],
             [
              0.5555555555555556,
              "#d8576b"
             ],
             [
              0.6666666666666666,
              "#ed7953"
             ],
             [
              0.7777777777777778,
              "#fb9f3a"
             ],
             [
              0.8888888888888888,
              "#fdca26"
             ],
             [
              1,
              "#f0f921"
             ]
            ],
            "type": "contour"
           }
          ],
          "contourcarpet": [
           {
            "colorbar": {
             "outlinewidth": 0,
             "ticks": ""
            },
            "type": "contourcarpet"
           }
          ],
          "heatmap": [
           {
            "colorbar": {
             "outlinewidth": 0,
             "ticks": ""
            },
            "colorscale": [
             [
              0,
              "#0d0887"
             ],
             [
              0.1111111111111111,
              "#46039f"
             ],
             [
              0.2222222222222222,
              "#7201a8"
             ],
             [
              0.3333333333333333,
              "#9c179e"
             ],
             [
              0.4444444444444444,
              "#bd3786"
             ],
             [
              0.5555555555555556,
              "#d8576b"
             ],
             [
              0.6666666666666666,
              "#ed7953"
             ],
             [
              0.7777777777777778,
              "#fb9f3a"
             ],
             [
              0.8888888888888888,
              "#fdca26"
             ],
             [
              1,
              "#f0f921"
             ]
            ],
            "type": "heatmap"
           }
          ],
          "heatmapgl": [
           {
            "colorbar": {
             "outlinewidth": 0,
             "ticks": ""
            },
            "colorscale": [
             [
              0,
              "#0d0887"
             ],
             [
              0.1111111111111111,
              "#46039f"
             ],
             [
              0.2222222222222222,
              "#7201a8"
             ],
             [
              0.3333333333333333,
              "#9c179e"
             ],
             [
              0.4444444444444444,
              "#bd3786"
             ],
             [
              0.5555555555555556,
              "#d8576b"
             ],
             [
              0.6666666666666666,
              "#ed7953"
             ],
             [
              0.7777777777777778,
              "#fb9f3a"
             ],
             [
              0.8888888888888888,
              "#fdca26"
             ],
             [
              1,
              "#f0f921"
             ]
            ],
            "type": "heatmapgl"
           }
          ],
          "histogram": [
           {
            "marker": {
             "colorbar": {
              "outlinewidth": 0,
              "ticks": ""
             }
            },
            "type": "histogram"
           }
          ],
          "histogram2d": [
           {
            "colorbar": {
             "outlinewidth": 0,
             "ticks": ""
            },
            "colorscale": [
             [
              0,
              "#0d0887"
             ],
             [
              0.1111111111111111,
              "#46039f"
             ],
             [
              0.2222222222222222,
              "#7201a8"
             ],
             [
              0.3333333333333333,
              "#9c179e"
             ],
             [
              0.4444444444444444,
              "#bd3786"
             ],
             [
              0.5555555555555556,
              "#d8576b"
             ],
             [
              0.6666666666666666,
              "#ed7953"
             ],
             [
              0.7777777777777778,
              "#fb9f3a"
             ],
             [
              0.8888888888888888,
              "#fdca26"
             ],
             [
              1,
              "#f0f921"
             ]
            ],
            "type": "histogram2d"
           }
          ],
          "histogram2dcontour": [
           {
            "colorbar": {
             "outlinewidth": 0,
             "ticks": ""
            },
            "colorscale": [
             [
              0,
              "#0d0887"
             ],
             [
              0.1111111111111111,
              "#46039f"
             ],
             [
              0.2222222222222222,
              "#7201a8"
             ],
             [
              0.3333333333333333,
              "#9c179e"
             ],
             [
              0.4444444444444444,
              "#bd3786"
             ],
             [
              0.5555555555555556,
              "#d8576b"
             ],
             [
              0.6666666666666666,
              "#ed7953"
             ],
             [
              0.7777777777777778,
              "#fb9f3a"
             ],
             [
              0.8888888888888888,
              "#fdca26"
             ],
             [
              1,
              "#f0f921"
             ]
            ],
            "type": "histogram2dcontour"
           }
          ],
          "mesh3d": [
           {
            "colorbar": {
             "outlinewidth": 0,
             "ticks": ""
            },
            "type": "mesh3d"
           }
          ],
          "parcoords": [
           {
            "line": {
             "colorbar": {
              "outlinewidth": 0,
              "ticks": ""
             }
            },
            "type": "parcoords"
           }
          ],
          "pie": [
           {
            "automargin": true,
            "type": "pie"
           }
          ],
          "scatter": [
           {
            "marker": {
             "colorbar": {
              "outlinewidth": 0,
              "ticks": ""
             }
            },
            "type": "scatter"
           }
          ],
          "scatter3d": [
           {
            "line": {
             "colorbar": {
              "outlinewidth": 0,
              "ticks": ""
             }
            },
            "marker": {
             "colorbar": {
              "outlinewidth": 0,
              "ticks": ""
             }
            },
            "type": "scatter3d"
           }
          ],
          "scattercarpet": [
           {
            "marker": {
             "colorbar": {
              "outlinewidth": 0,
              "ticks": ""
             }
            },
            "type": "scattercarpet"
           }
          ],
          "scattergeo": [
           {
            "marker": {
             "colorbar": {
              "outlinewidth": 0,
              "ticks": ""
             }
            },
            "type": "scattergeo"
           }
          ],
          "scattergl": [
           {
            "marker": {
             "colorbar": {
              "outlinewidth": 0,
              "ticks": ""
             }
            },
            "type": "scattergl"
           }
          ],
          "scattermapbox": [
           {
            "marker": {
             "colorbar": {
              "outlinewidth": 0,
              "ticks": ""
             }
            },
            "type": "scattermapbox"
           }
          ],
          "scatterpolar": [
           {
            "marker": {
             "colorbar": {
              "outlinewidth": 0,
              "ticks": ""
             }
            },
            "type": "scatterpolar"
           }
          ],
          "scatterpolargl": [
           {
            "marker": {
             "colorbar": {
              "outlinewidth": 0,
              "ticks": ""
             }
            },
            "type": "scatterpolargl"
           }
          ],
          "scatterternary": [
           {
            "marker": {
             "colorbar": {
              "outlinewidth": 0,
              "ticks": ""
             }
            },
            "type": "scatterternary"
           }
          ],
          "surface": [
           {
            "colorbar": {
             "outlinewidth": 0,
             "ticks": ""
            },
            "colorscale": [
             [
              0,
              "#0d0887"
             ],
             [
              0.1111111111111111,
              "#46039f"
             ],
             [
              0.2222222222222222,
              "#7201a8"
             ],
             [
              0.3333333333333333,
              "#9c179e"
             ],
             [
              0.4444444444444444,
              "#bd3786"
             ],
             [
              0.5555555555555556,
              "#d8576b"
             ],
             [
              0.6666666666666666,
              "#ed7953"
             ],
             [
              0.7777777777777778,
              "#fb9f3a"
             ],
             [
              0.8888888888888888,
              "#fdca26"
             ],
             [
              1,
              "#f0f921"
             ]
            ],
            "type": "surface"
           }
          ],
          "table": [
           {
            "cells": {
             "fill": {
              "color": "#EBF0F8"
             },
             "line": {
              "color": "white"
             }
            },
            "header": {
             "fill": {
              "color": "#C8D4E3"
             },
             "line": {
              "color": "white"
             }
            },
            "type": "table"
           }
          ]
         },
         "layout": {
          "annotationdefaults": {
           "arrowcolor": "#2a3f5f",
           "arrowhead": 0,
           "arrowwidth": 1
          },
          "autotypenumbers": "strict",
          "coloraxis": {
           "colorbar": {
            "outlinewidth": 0,
            "ticks": ""
           }
          },
          "colorscale": {
           "diverging": [
            [
             0,
             "#8e0152"
            ],
            [
             0.1,
             "#c51b7d"
            ],
            [
             0.2,
             "#de77ae"
            ],
            [
             0.3,
             "#f1b6da"
            ],
            [
             0.4,
             "#fde0ef"
            ],
            [
             0.5,
             "#f7f7f7"
            ],
            [
             0.6,
             "#e6f5d0"
            ],
            [
             0.7,
             "#b8e186"
            ],
            [
             0.8,
             "#7fbc41"
            ],
            [
             0.9,
             "#4d9221"
            ],
            [
             1,
             "#276419"
            ]
           ],
           "sequential": [
            [
             0,
             "#0d0887"
            ],
            [
             0.1111111111111111,
             "#46039f"
            ],
            [
             0.2222222222222222,
             "#7201a8"
            ],
            [
             0.3333333333333333,
             "#9c179e"
            ],
            [
             0.4444444444444444,
             "#bd3786"
            ],
            [
             0.5555555555555556,
             "#d8576b"
            ],
            [
             0.6666666666666666,
             "#ed7953"
            ],
            [
             0.7777777777777778,
             "#fb9f3a"
            ],
            [
             0.8888888888888888,
             "#fdca26"
            ],
            [
             1,
             "#f0f921"
            ]
           ],
           "sequentialminus": [
            [
             0,
             "#0d0887"
            ],
            [
             0.1111111111111111,
             "#46039f"
            ],
            [
             0.2222222222222222,
             "#7201a8"
            ],
            [
             0.3333333333333333,
             "#9c179e"
            ],
            [
             0.4444444444444444,
             "#bd3786"
            ],
            [
             0.5555555555555556,
             "#d8576b"
            ],
            [
             0.6666666666666666,
             "#ed7953"
            ],
            [
             0.7777777777777778,
             "#fb9f3a"
            ],
            [
             0.8888888888888888,
             "#fdca26"
            ],
            [
             1,
             "#f0f921"
            ]
           ]
          },
          "colorway": [
           "#636efa",
           "#EF553B",
           "#00cc96",
           "#ab63fa",
           "#FFA15A",
           "#19d3f3",
           "#FF6692",
           "#B6E880",
           "#FF97FF",
           "#FECB52"
          ],
          "font": {
           "color": "#2a3f5f"
          },
          "geo": {
           "bgcolor": "white",
           "lakecolor": "white",
           "landcolor": "#E5ECF6",
           "showlakes": true,
           "showland": true,
           "subunitcolor": "white"
          },
          "hoverlabel": {
           "align": "left"
          },
          "hovermode": "closest",
          "mapbox": {
           "style": "light"
          },
          "paper_bgcolor": "white",
          "plot_bgcolor": "#E5ECF6",
          "polar": {
           "angularaxis": {
            "gridcolor": "white",
            "linecolor": "white",
            "ticks": ""
           },
           "bgcolor": "#E5ECF6",
           "radialaxis": {
            "gridcolor": "white",
            "linecolor": "white",
            "ticks": ""
           }
          },
          "scene": {
           "xaxis": {
            "backgroundcolor": "#E5ECF6",
            "gridcolor": "white",
            "gridwidth": 2,
            "linecolor": "white",
            "showbackground": true,
            "ticks": "",
            "zerolinecolor": "white"
           },
           "yaxis": {
            "backgroundcolor": "#E5ECF6",
            "gridcolor": "white",
            "gridwidth": 2,
            "linecolor": "white",
            "showbackground": true,
            "ticks": "",
            "zerolinecolor": "white"
           },
           "zaxis": {
            "backgroundcolor": "#E5ECF6",
            "gridcolor": "white",
            "gridwidth": 2,
            "linecolor": "white",
            "showbackground": true,
            "ticks": "",
            "zerolinecolor": "white"
           }
          },
          "shapedefaults": {
           "line": {
            "color": "#2a3f5f"
           }
          },
          "ternary": {
           "aaxis": {
            "gridcolor": "white",
            "linecolor": "white",
            "ticks": ""
           },
           "baxis": {
            "gridcolor": "white",
            "linecolor": "white",
            "ticks": ""
           },
           "bgcolor": "#E5ECF6",
           "caxis": {
            "gridcolor": "white",
            "linecolor": "white",
            "ticks": ""
           }
          },
          "title": {
           "x": 0.05
          },
          "xaxis": {
           "automargin": true,
           "gridcolor": "white",
           "linecolor": "white",
           "ticks": "",
           "title": {
            "standoff": 15
           },
           "zerolinecolor": "white",
           "zerolinewidth": 2
          },
          "yaxis": {
           "automargin": true,
           "gridcolor": "white",
           "linecolor": "white",
           "ticks": "",
           "title": {
            "standoff": 15
           },
           "zerolinecolor": "white",
           "zerolinewidth": 2
          }
         }
        }
       }
      },
      "text/html": [
       "<div>                            <div id=\"fef6aed7-434d-469e-9beb-a19b5923aa10\" class=\"plotly-graph-div\" style=\"height:525px; width:100%;\"></div>            <script type=\"text/javascript\">                require([\"plotly\"], function(Plotly) {                    window.PLOTLYENV=window.PLOTLYENV || {};                                    if (document.getElementById(\"fef6aed7-434d-469e-9beb-a19b5923aa10\")) {                    Plotly.newPlot(                        \"fef6aed7-434d-469e-9beb-a19b5923aa10\",                        [{\"coloraxis\": \"coloraxis\", \"geo\": \"geo\", \"hovertemplate\": \"<b>%{hovertext}</b><br><br>ISO=%{location}<br>Prizes Awarded=%{z}<extra></extra>\", \"hovertext\": [\"United States of America\", \"United Kingdom\", \"Germany\", \"France\", \"Sweden\", \"Japan\", \"Poland\", \"Russia\", \"Canada\", \"Switzerland\", \"Italy\", \"Austria\", \"Netherlands\", \"Denmark\", \"China\", \"Norway\", \"Australia\", \"Belgium\", \"India\", \"South Africa\", \"Hungary\", \"Spain\", \"Israel\", \"Egypt\", \"Czech Republic\", \"Finland\", \"Ireland\", \"Ukraine\", \"Romania\", \"Argentina\", \"Belarus\", \"Lithuania\", \"New Zealand\", \"Mexico\", \"Pakistan\", \"Turkey\", \"Luxembourg\", \"Liberia\", \"Saint Lucia\", \"Portugal\", \"Korea (South Korea)\", \"Algeria\", \"Iran\", \"East Timor\", \"Colombia\", \"Chile\", \"Bosnia and Herzegovina\", \"Guatemala\", \"Kenya\", \"Taiwan\", \"Slovenia\", \"Costa Rica\", \"Bulgaria\", \"Brazil\", \"Trinidad\", \"Croatia\", \"Bangladesh\", \"Azerbaijan\", \"Venezuela\", \"Vietnam\", \"Yemen\", \"Slovakia\", \"Democratic Republic of the Congo\", \"Cyprus\", \"Latvia\", \"Republic of Macedonia\", \"Ethiopia\", \"Peru\", \"Ghana\", \"Greece\", \"Nigeria\", \"Guadeloupe Island\", \"Myanmar\", \"Morocco\", \"Iceland\", \"Madagascar\", \"Indonesia\", \"Iraq\", \"Zimbabwe\"], \"locations\": [\"USA\", \"GBR\", \"DEU\", \"FRA\", \"SWE\", \"JPN\", \"POL\", \"RUS\", \"CAN\", \"CHE\", \"ITA\", \"AUT\", \"NLD\", \"DNK\", \"CHN\", \"NOR\", \"AUS\", \"BEL\", \"IND\", \"ZAF\", \"HUN\", \"ESP\", \"ISR\", \"EGY\", \"CZE\", \"FIN\", \"IRL\", \"UKR\", \"ROU\", \"ARG\", \"BLR\", \"LTU\", \"NZL\", \"MEX\", \"PAK\", \"TUR\", \"LUX\", \"LBR\", \"LCA\", \"PRT\", \"KOR\", \"DZA\", \"IRN\", \"DOM\", \"COL\", \"CHL\", \"BIH\", \"GTM\", \"KEN\", \"SYR\", \"SVN\", \"CRI\", \"BGR\", \"BRA\", \"TON\", \"HRV\", \"BGD\", \"AZE\", \"VEN\", \"VNM\", \"YEM\", \"SVK\", \"COD\", \"CYP\", \"LVA\", \"MKD\", \"ETH\", \"PER\", \"GHA\", \"GRC\", \"NGA\", \"GLP\", \"MMR\", \"MAR\", \"ISL\", \"MDG\", \"IDN\", \"IRQ\", \"ZWE\"], \"name\": \"\", \"type\": \"choropleth\", \"z\": [281, 105, 84, 57, 29, 27, 27, 26, 20, 19, 19, 18, 18, 12, 12, 12, 10, 9, 9, 9, 9, 7, 6, 6, 6, 5, 5, 5, 4, 4, 4, 3, 3, 3, 3, 3, 2, 2, 2, 2, 2, 2, 2, 2, 2, 2, 2, 2, 1, 1, 1, 1, 1, 1, 1, 1, 1, 1, 1, 1, 1, 1, 1, 1, 1, 1, 1, 1, 1, 1, 1, 1, 1, 1, 1, 1, 1, 1, 1]}],                        {\"coloraxis\": {\"colorbar\": {\"title\": {\"text\": \"Prizes Awarded\"}}, \"colorscale\": [[0.0, \"rgb(253, 237, 176)\"], [0.09090909090909091, \"rgb(250, 205, 145)\"], [0.18181818181818182, \"rgb(246, 173, 119)\"], [0.2727272727272727, \"rgb(240, 142, 98)\"], [0.36363636363636365, \"rgb(231, 109, 84)\"], [0.45454545454545453, \"rgb(216, 80, 83)\"], [0.5454545454545454, \"rgb(195, 56, 90)\"], [0.6363636363636364, \"rgb(168, 40, 96)\"], [0.7272727272727273, \"rgb(138, 29, 99)\"], [0.8181818181818182, \"rgb(107, 24, 93)\"], [0.9090909090909091, \"rgb(76, 21, 80)\"], [1.0, \"rgb(47, 15, 61)\"]]}, \"geo\": {\"center\": {}, \"domain\": {\"x\": [0.0, 1.0], \"y\": [0.0, 1.0]}}, \"legend\": {\"tracegroupgap\": 0}, \"margin\": {\"t\": 60}, \"template\": {\"data\": {\"bar\": [{\"error_x\": {\"color\": \"#2a3f5f\"}, \"error_y\": {\"color\": \"#2a3f5f\"}, \"marker\": {\"line\": {\"color\": \"#E5ECF6\", \"width\": 0.5}}, \"type\": \"bar\"}], \"barpolar\": [{\"marker\": {\"line\": {\"color\": \"#E5ECF6\", \"width\": 0.5}}, \"type\": \"barpolar\"}], \"carpet\": [{\"aaxis\": {\"endlinecolor\": \"#2a3f5f\", \"gridcolor\": \"white\", \"linecolor\": \"white\", \"minorgridcolor\": \"white\", \"startlinecolor\": \"#2a3f5f\"}, \"baxis\": {\"endlinecolor\": \"#2a3f5f\", \"gridcolor\": \"white\", \"linecolor\": \"white\", \"minorgridcolor\": \"white\", \"startlinecolor\": \"#2a3f5f\"}, \"type\": \"carpet\"}], \"choropleth\": [{\"colorbar\": {\"outlinewidth\": 0, \"ticks\": \"\"}, \"type\": \"choropleth\"}], \"contour\": [{\"colorbar\": {\"outlinewidth\": 0, \"ticks\": \"\"}, \"colorscale\": [[0.0, \"#0d0887\"], [0.1111111111111111, \"#46039f\"], [0.2222222222222222, \"#7201a8\"], [0.3333333333333333, \"#9c179e\"], [0.4444444444444444, \"#bd3786\"], [0.5555555555555556, \"#d8576b\"], [0.6666666666666666, \"#ed7953\"], [0.7777777777777778, \"#fb9f3a\"], [0.8888888888888888, \"#fdca26\"], [1.0, \"#f0f921\"]], \"type\": \"contour\"}], \"contourcarpet\": [{\"colorbar\": {\"outlinewidth\": 0, \"ticks\": \"\"}, \"type\": \"contourcarpet\"}], \"heatmap\": [{\"colorbar\": {\"outlinewidth\": 0, \"ticks\": \"\"}, \"colorscale\": [[0.0, \"#0d0887\"], [0.1111111111111111, \"#46039f\"], [0.2222222222222222, \"#7201a8\"], [0.3333333333333333, \"#9c179e\"], [0.4444444444444444, \"#bd3786\"], [0.5555555555555556, \"#d8576b\"], [0.6666666666666666, \"#ed7953\"], [0.7777777777777778, \"#fb9f3a\"], [0.8888888888888888, \"#fdca26\"], [1.0, \"#f0f921\"]], \"type\": \"heatmap\"}], \"heatmapgl\": [{\"colorbar\": {\"outlinewidth\": 0, \"ticks\": \"\"}, \"colorscale\": [[0.0, \"#0d0887\"], [0.1111111111111111, \"#46039f\"], [0.2222222222222222, \"#7201a8\"], [0.3333333333333333, \"#9c179e\"], [0.4444444444444444, \"#bd3786\"], [0.5555555555555556, \"#d8576b\"], [0.6666666666666666, \"#ed7953\"], [0.7777777777777778, \"#fb9f3a\"], [0.8888888888888888, \"#fdca26\"], [1.0, \"#f0f921\"]], \"type\": \"heatmapgl\"}], \"histogram\": [{\"marker\": {\"colorbar\": {\"outlinewidth\": 0, \"ticks\": \"\"}}, \"type\": \"histogram\"}], \"histogram2d\": [{\"colorbar\": {\"outlinewidth\": 0, \"ticks\": \"\"}, \"colorscale\": [[0.0, \"#0d0887\"], [0.1111111111111111, \"#46039f\"], [0.2222222222222222, \"#7201a8\"], [0.3333333333333333, \"#9c179e\"], [0.4444444444444444, \"#bd3786\"], [0.5555555555555556, \"#d8576b\"], [0.6666666666666666, \"#ed7953\"], [0.7777777777777778, \"#fb9f3a\"], [0.8888888888888888, \"#fdca26\"], [1.0, \"#f0f921\"]], \"type\": \"histogram2d\"}], \"histogram2dcontour\": [{\"colorbar\": {\"outlinewidth\": 0, \"ticks\": \"\"}, \"colorscale\": [[0.0, \"#0d0887\"], [0.1111111111111111, \"#46039f\"], [0.2222222222222222, \"#7201a8\"], [0.3333333333333333, \"#9c179e\"], [0.4444444444444444, \"#bd3786\"], [0.5555555555555556, \"#d8576b\"], [0.6666666666666666, \"#ed7953\"], [0.7777777777777778, \"#fb9f3a\"], [0.8888888888888888, \"#fdca26\"], [1.0, \"#f0f921\"]], \"type\": \"histogram2dcontour\"}], \"mesh3d\": [{\"colorbar\": {\"outlinewidth\": 0, \"ticks\": \"\"}, \"type\": \"mesh3d\"}], \"parcoords\": [{\"line\": {\"colorbar\": {\"outlinewidth\": 0, \"ticks\": \"\"}}, \"type\": \"parcoords\"}], \"pie\": [{\"automargin\": true, \"type\": \"pie\"}], \"scatter\": [{\"marker\": {\"colorbar\": {\"outlinewidth\": 0, \"ticks\": \"\"}}, \"type\": \"scatter\"}], \"scatter3d\": [{\"line\": {\"colorbar\": {\"outlinewidth\": 0, \"ticks\": \"\"}}, \"marker\": {\"colorbar\": {\"outlinewidth\": 0, \"ticks\": \"\"}}, \"type\": \"scatter3d\"}], \"scattercarpet\": [{\"marker\": {\"colorbar\": {\"outlinewidth\": 0, \"ticks\": \"\"}}, \"type\": \"scattercarpet\"}], \"scattergeo\": [{\"marker\": {\"colorbar\": {\"outlinewidth\": 0, \"ticks\": \"\"}}, \"type\": \"scattergeo\"}], \"scattergl\": [{\"marker\": {\"colorbar\": {\"outlinewidth\": 0, \"ticks\": \"\"}}, \"type\": \"scattergl\"}], \"scattermapbox\": [{\"marker\": {\"colorbar\": {\"outlinewidth\": 0, \"ticks\": \"\"}}, \"type\": \"scattermapbox\"}], \"scatterpolar\": [{\"marker\": {\"colorbar\": {\"outlinewidth\": 0, \"ticks\": \"\"}}, \"type\": \"scatterpolar\"}], \"scatterpolargl\": [{\"marker\": {\"colorbar\": {\"outlinewidth\": 0, \"ticks\": \"\"}}, \"type\": \"scatterpolargl\"}], \"scatterternary\": [{\"marker\": {\"colorbar\": {\"outlinewidth\": 0, \"ticks\": \"\"}}, \"type\": \"scatterternary\"}], \"surface\": [{\"colorbar\": {\"outlinewidth\": 0, \"ticks\": \"\"}, \"colorscale\": [[0.0, \"#0d0887\"], [0.1111111111111111, \"#46039f\"], [0.2222222222222222, \"#7201a8\"], [0.3333333333333333, \"#9c179e\"], [0.4444444444444444, \"#bd3786\"], [0.5555555555555556, \"#d8576b\"], [0.6666666666666666, \"#ed7953\"], [0.7777777777777778, \"#fb9f3a\"], [0.8888888888888888, \"#fdca26\"], [1.0, \"#f0f921\"]], \"type\": \"surface\"}], \"table\": [{\"cells\": {\"fill\": {\"color\": \"#EBF0F8\"}, \"line\": {\"color\": \"white\"}}, \"header\": {\"fill\": {\"color\": \"#C8D4E3\"}, \"line\": {\"color\": \"white\"}}, \"type\": \"table\"}]}, \"layout\": {\"annotationdefaults\": {\"arrowcolor\": \"#2a3f5f\", \"arrowhead\": 0, \"arrowwidth\": 1}, \"autotypenumbers\": \"strict\", \"coloraxis\": {\"colorbar\": {\"outlinewidth\": 0, \"ticks\": \"\"}}, \"colorscale\": {\"diverging\": [[0, \"#8e0152\"], [0.1, \"#c51b7d\"], [0.2, \"#de77ae\"], [0.3, \"#f1b6da\"], [0.4, \"#fde0ef\"], [0.5, \"#f7f7f7\"], [0.6, \"#e6f5d0\"], [0.7, \"#b8e186\"], [0.8, \"#7fbc41\"], [0.9, \"#4d9221\"], [1, \"#276419\"]], \"sequential\": [[0.0, \"#0d0887\"], [0.1111111111111111, \"#46039f\"], [0.2222222222222222, \"#7201a8\"], [0.3333333333333333, \"#9c179e\"], [0.4444444444444444, \"#bd3786\"], [0.5555555555555556, \"#d8576b\"], [0.6666666666666666, \"#ed7953\"], [0.7777777777777778, \"#fb9f3a\"], [0.8888888888888888, \"#fdca26\"], [1.0, \"#f0f921\"]], \"sequentialminus\": [[0.0, \"#0d0887\"], [0.1111111111111111, \"#46039f\"], [0.2222222222222222, \"#7201a8\"], [0.3333333333333333, \"#9c179e\"], [0.4444444444444444, \"#bd3786\"], [0.5555555555555556, \"#d8576b\"], [0.6666666666666666, \"#ed7953\"], [0.7777777777777778, \"#fb9f3a\"], [0.8888888888888888, \"#fdca26\"], [1.0, \"#f0f921\"]]}, \"colorway\": [\"#636efa\", \"#EF553B\", \"#00cc96\", \"#ab63fa\", \"#FFA15A\", \"#19d3f3\", \"#FF6692\", \"#B6E880\", \"#FF97FF\", \"#FECB52\"], \"font\": {\"color\": \"#2a3f5f\"}, \"geo\": {\"bgcolor\": \"white\", \"lakecolor\": \"white\", \"landcolor\": \"#E5ECF6\", \"showlakes\": true, \"showland\": true, \"subunitcolor\": \"white\"}, \"hoverlabel\": {\"align\": \"left\"}, \"hovermode\": \"closest\", \"mapbox\": {\"style\": \"light\"}, \"paper_bgcolor\": \"white\", \"plot_bgcolor\": \"#E5ECF6\", \"polar\": {\"angularaxis\": {\"gridcolor\": \"white\", \"linecolor\": \"white\", \"ticks\": \"\"}, \"bgcolor\": \"#E5ECF6\", \"radialaxis\": {\"gridcolor\": \"white\", \"linecolor\": \"white\", \"ticks\": \"\"}}, \"scene\": {\"xaxis\": {\"backgroundcolor\": \"#E5ECF6\", \"gridcolor\": \"white\", \"gridwidth\": 2, \"linecolor\": \"white\", \"showbackground\": true, \"ticks\": \"\", \"zerolinecolor\": \"white\"}, \"yaxis\": {\"backgroundcolor\": \"#E5ECF6\", \"gridcolor\": \"white\", \"gridwidth\": 2, \"linecolor\": \"white\", \"showbackground\": true, \"ticks\": \"\", \"zerolinecolor\": \"white\"}, \"zaxis\": {\"backgroundcolor\": \"#E5ECF6\", \"gridcolor\": \"white\", \"gridwidth\": 2, \"linecolor\": \"white\", \"showbackground\": true, \"ticks\": \"\", \"zerolinecolor\": \"white\"}}, \"shapedefaults\": {\"line\": {\"color\": \"#2a3f5f\"}}, \"ternary\": {\"aaxis\": {\"gridcolor\": \"white\", \"linecolor\": \"white\", \"ticks\": \"\"}, \"baxis\": {\"gridcolor\": \"white\", \"linecolor\": \"white\", \"ticks\": \"\"}, \"bgcolor\": \"#E5ECF6\", \"caxis\": {\"gridcolor\": \"white\", \"linecolor\": \"white\", \"ticks\": \"\"}}, \"title\": {\"x\": 0.05}, \"xaxis\": {\"automargin\": true, \"gridcolor\": \"white\", \"linecolor\": \"white\", \"ticks\": \"\", \"title\": {\"standoff\": 15}, \"zerolinecolor\": \"white\", \"zerolinewidth\": 2}, \"yaxis\": {\"automargin\": true, \"gridcolor\": \"white\", \"linecolor\": \"white\", \"ticks\": \"\", \"title\": {\"standoff\": 15}, \"zerolinecolor\": \"white\", \"zerolinewidth\": 2}}}},                        {\"responsive\": true}                    ).then(function(){\n",
       "                            \n",
       "var gd = document.getElementById('fef6aed7-434d-469e-9beb-a19b5923aa10');\n",
       "var x = new MutationObserver(function (mutations, observer) {{\n",
       "        var display = window.getComputedStyle(gd).display;\n",
       "        if (!display || display === 'none') {{\n",
       "            console.log([gd, 'removed!']);\n",
       "            Plotly.purge(gd);\n",
       "            observer.disconnect();\n",
       "        }}\n",
       "}});\n",
       "\n",
       "// Listen for the removal of the full notebook cells\n",
       "var notebookContainer = gd.closest('#notebook-container');\n",
       "if (notebookContainer) {{\n",
       "    x.observe(notebookContainer, {childList: true});\n",
       "}}\n",
       "\n",
       "// Listen for the clearing of the current output cell\n",
       "var outputEl = gd.closest('.output');\n",
       "if (outputEl) {{\n",
       "    x.observe(outputEl, {childList: true});\n",
       "}}\n",
       "\n",
       "                        })                };                });            </script>        </div>"
      ]
     },
     "metadata": {},
     "output_type": "display_data"
    }
   ],
   "source": [
    "world_map = px.choropleth(awards_by_iso, \n",
    "                    locations='ISO', \n",
    "                    color='prize', \n",
    "                    labels={'prize': 'Prizes Awarded'}, \n",
    "                    hover_name='birth_country_current',\n",
    "                    color_continuous_scale=px.colors.sequential.matter)\n",
    "world_map.show()"
   ]
  },
  {
   "cell_type": "markdown",
   "metadata": {
    "id": "hNB-HUw0o7MU"
   },
   "source": [
    "# In Which Categories are the Different Countries Winning Prizes? \n",
    "\n",
    "**Challenge**: See if you can divide up the plotly bar chart you created above to show the which categories made up the total number of prizes. Here's what you're aiming for:\n",
    "\n",
    "<img src=https://i.imgur.com/iGaIKCL.png>\n",
    "\n",
    "* In which category are Germany and Japan the weakest compared to the United States?\n",
    "* In which category does Germany have more prizes than the UK?\n",
    "* In which categories does France have more prizes than Germany?\n",
    "* Which category makes up most of Australia's nobel prizes?\n",
    "* Which category makes up half of the prizes in the Netherlands?\n",
    "* Does the United States have more prizes in Economics than all of France? What about in Physics or Medicine?\n",
    "\n",
    "\n",
    "The hard part is preparing the data for this chart! \n",
    "\n",
    "\n",
    "*Hint*: Take a two-step approach. The first step is grouping the data by country and category. Then you can create a DataFrame that looks something like this:\n",
    "\n",
    "<img src=https://i.imgur.com/VKjzKa1.png width=450>\n"
   ]
  },
  {
   "cell_type": "code",
   "execution_count": 315,
   "metadata": {
    "id": "_BuNdpmEF7wR"
   },
   "outputs": [
    {
     "data": {
      "text/html": [
       "<div>\n",
       "<style scoped>\n",
       "    .dataframe tbody tr th:only-of-type {\n",
       "        vertical-align: middle;\n",
       "    }\n",
       "\n",
       "    .dataframe tbody tr th {\n",
       "        vertical-align: top;\n",
       "    }\n",
       "\n",
       "    .dataframe thead th {\n",
       "        text-align: right;\n",
       "    }\n",
       "</style>\n",
       "<table border=\"1\" class=\"dataframe\">\n",
       "  <thead>\n",
       "    <tr style=\"text-align: right;\">\n",
       "      <th></th>\n",
       "      <th>birth_country_current</th>\n",
       "      <th>category</th>\n",
       "      <th>cat_prize</th>\n",
       "      <th>total_prize</th>\n",
       "    </tr>\n",
       "  </thead>\n",
       "  <tbody>\n",
       "    <tr>\n",
       "      <th>109</th>\n",
       "      <td>India</td>\n",
       "      <td>Physics</td>\n",
       "      <td>1</td>\n",
       "      <td>9</td>\n",
       "    </tr>\n",
       "    <tr>\n",
       "      <th>108</th>\n",
       "      <td>India</td>\n",
       "      <td>Peace</td>\n",
       "      <td>1</td>\n",
       "      <td>9</td>\n",
       "    </tr>\n",
       "    <tr>\n",
       "      <th>88</th>\n",
       "      <td>Belgium</td>\n",
       "      <td>Peace</td>\n",
       "      <td>3</td>\n",
       "      <td>9</td>\n",
       "    </tr>\n",
       "    <tr>\n",
       "      <th>89</th>\n",
       "      <td>Belgium</td>\n",
       "      <td>Medicine</td>\n",
       "      <td>3</td>\n",
       "      <td>9</td>\n",
       "    </tr>\n",
       "    <tr>\n",
       "      <th>90</th>\n",
       "      <td>Belgium</td>\n",
       "      <td>Chemistry</td>\n",
       "      <td>1</td>\n",
       "      <td>9</td>\n",
       "    </tr>\n",
       "    <tr>\n",
       "      <th>...</th>\n",
       "      <td>...</td>\n",
       "      <td>...</td>\n",
       "      <td>...</td>\n",
       "      <td>...</td>\n",
       "    </tr>\n",
       "    <tr>\n",
       "      <th>4</th>\n",
       "      <td>United States of America</td>\n",
       "      <td>Peace</td>\n",
       "      <td>19</td>\n",
       "      <td>281</td>\n",
       "    </tr>\n",
       "    <tr>\n",
       "      <th>3</th>\n",
       "      <td>United States of America</td>\n",
       "      <td>Economics</td>\n",
       "      <td>49</td>\n",
       "      <td>281</td>\n",
       "    </tr>\n",
       "    <tr>\n",
       "      <th>2</th>\n",
       "      <td>United States of America</td>\n",
       "      <td>Chemistry</td>\n",
       "      <td>55</td>\n",
       "      <td>281</td>\n",
       "    </tr>\n",
       "    <tr>\n",
       "      <th>1</th>\n",
       "      <td>United States of America</td>\n",
       "      <td>Physics</td>\n",
       "      <td>70</td>\n",
       "      <td>281</td>\n",
       "    </tr>\n",
       "    <tr>\n",
       "      <th>0</th>\n",
       "      <td>United States of America</td>\n",
       "      <td>Medicine</td>\n",
       "      <td>78</td>\n",
       "      <td>281</td>\n",
       "    </tr>\n",
       "  </tbody>\n",
       "</table>\n",
       "<p>110 rows × 4 columns</p>\n",
       "</div>"
      ],
      "text/plain": [
       "        birth_country_current   category  cat_prize  total_prize\n",
       "109                     India    Physics          1            9\n",
       "108                     India      Peace          1            9\n",
       "88                    Belgium      Peace          3            9\n",
       "89                    Belgium   Medicine          3            9\n",
       "90                    Belgium  Chemistry          1            9\n",
       "..                        ...        ...        ...          ...\n",
       "4    United States of America      Peace         19          281\n",
       "3    United States of America  Economics         49          281\n",
       "2    United States of America  Chemistry         55          281\n",
       "1    United States of America    Physics         70          281\n",
       "0    United States of America   Medicine         78          281\n",
       "\n",
       "[110 rows x 4 columns]"
      ]
     },
     "execution_count": 315,
     "metadata": {},
     "output_type": "execute_result"
    }
   ],
   "source": [
    "prize_cat_by_country = data.groupby(['birth_country_current', 'category'], as_index=False).agg({'prize': pd.Series.count})\n",
    "prize_cat_by_country.sort_values('prize', ascending=False, inplace=True)\n",
    "\n",
    "prize_merged = pd.merge(prize_cat_by_country, top20_countries, on='birth_country_current')\n",
    "\n",
    "prize_merged.columns = ['birth_country_current', 'category', 'cat_prize', 'total_prize']\n",
    "prize_merged.sort_values('total_prize', inplace=True)\n",
    "\n",
    "prize_merged"
   ]
  },
  {
   "cell_type": "code",
   "execution_count": 316,
   "metadata": {
    "id": "l5eYtGIXF8Mn"
   },
   "outputs": [
    {
     "data": {
      "application/vnd.plotly.v1+json": {
       "config": {
        "plotlyServerURL": "https://plot.ly"
       },
       "data": [
        {
         "alignmentgroup": "True",
         "hovertemplate": "color=Physics<br>x=%{x}<br>y=%{y}<extra></extra>",
         "legendgroup": "Physics",
         "marker": {
          "color": "#636efa"
         },
         "name": "Physics",
         "offsetgroup": "Physics",
         "orientation": "h",
         "showlegend": true,
         "textposition": "auto",
         "type": "bar",
         "x": [
          1,
          1,
          2,
          2,
          5,
          2,
          1,
          3,
          9,
          6,
          5,
          6,
          10,
          8,
          11,
          4,
          10,
          26,
          24,
          70
         ],
         "xaxis": "x",
         "y": [
          "India",
          "Belgium",
          "Hungary",
          "Australia",
          "China",
          "Denmark",
          "Norway",
          "Austria",
          "Netherlands",
          "Switzerland",
          "Italy",
          "Canada",
          "Russia",
          "Poland",
          "Japan",
          "Sweden",
          "France",
          "Germany",
          "United Kingdom",
          "United States of America"
         ],
         "yaxis": "y"
        },
        {
         "alignmentgroup": "True",
         "hovertemplate": "color=Peace<br>x=%{x}<br>y=%{y}<extra></extra>",
         "legendgroup": "Peace",
         "marker": {
          "color": "#EF553B"
         },
         "name": "Peace",
         "offsetgroup": "Peace",
         "orientation": "h",
         "showlegend": true,
         "textposition": "auto",
         "type": "bar",
         "x": [
          1,
          3,
          2,
          1,
          2,
          1,
          1,
          1,
          3,
          1,
          2,
          1,
          2,
          5,
          10,
          5,
          11,
          19
         ],
         "xaxis": "x",
         "y": [
          "India",
          "Belgium",
          "China",
          "Denmark",
          "Norway",
          "Austria",
          "Netherlands",
          "Italy",
          "Switzerland",
          "Canada",
          "Russia",
          "Japan",
          "Poland",
          "Sweden",
          "France",
          "Germany",
          "United Kingdom",
          "United States of America"
         ],
         "yaxis": "y"
        },
        {
         "alignmentgroup": "True",
         "hovertemplate": "color=Medicine<br>x=%{x}<br>y=%{y}<extra></extra>",
         "legendgroup": "Medicine",
         "marker": {
          "color": "#00cc96"
         },
         "name": "Medicine",
         "offsetgroup": "Medicine",
         "orientation": "h",
         "showlegend": true,
         "textposition": "auto",
         "type": "bar",
         "x": [
          3,
          2,
          2,
          7,
          4,
          2,
          2,
          6,
          2,
          6,
          5,
          4,
          2,
          6,
          5,
          7,
          12,
          18,
          28,
          78
         ],
         "xaxis": "x",
         "y": [
          "Belgium",
          "Hungary",
          "India",
          "Australia",
          "Denmark",
          "China",
          "Norway",
          "Austria",
          "Netherlands",
          "Switzerland",
          "Italy",
          "Canada",
          "Russia",
          "Poland",
          "Japan",
          "Sweden",
          "France",
          "Germany",
          "United Kingdom",
          "United States of America"
         ],
         "yaxis": "y"
        },
        {
         "alignmentgroup": "True",
         "hovertemplate": "color=Chemistry<br>x=%{x}<br>y=%{y}<extra></extra>",
         "legendgroup": "Chemistry",
         "marker": {
          "color": "#ab63fa"
         },
         "name": "Chemistry",
         "offsetgroup": "Chemistry",
         "orientation": "h",
         "showlegend": true,
         "textposition": "auto",
         "type": "bar",
         "x": [
          1,
          3,
          1,
          1,
          1,
          1,
          2,
          5,
          4,
          1,
          3,
          4,
          4,
          7,
          4,
          4,
          10,
          26,
          27,
          55
         ],
         "xaxis": "x",
         "y": [
          "Belgium",
          "Hungary",
          "India",
          "Australia",
          "China",
          "Denmark",
          "Norway",
          "Austria",
          "Netherlands",
          "Italy",
          "Switzerland",
          "Canada",
          "Russia",
          "Japan",
          "Poland",
          "Sweden",
          "France",
          "Germany",
          "United Kingdom",
          "United States of America"
         ],
         "yaxis": "y"
        },
        {
         "alignmentgroup": "True",
         "hovertemplate": "color=Literature<br>x=%{x}<br>y=%{y}<extra></extra>",
         "legendgroup": "Literature",
         "marker": {
          "color": "#FFA15A"
         },
         "name": "Literature",
         "offsetgroup": "Literature",
         "orientation": "h",
         "showlegend": true,
         "textposition": "auto",
         "type": "bar",
         "x": [
          1,
          1,
          2,
          2,
          2,
          4,
          2,
          1,
          6,
          2,
          5,
          3,
          6,
          7,
          11,
          8,
          7,
          10
         ],
         "xaxis": "x",
         "y": [
          "Belgium",
          "Hungary",
          "India",
          "Norway",
          "China",
          "Denmark",
          "Austria",
          "Switzerland",
          "Italy",
          "Canada",
          "Russia",
          "Japan",
          "Poland",
          "Sweden",
          "France",
          "Germany",
          "United Kingdom",
          "United States of America"
         ],
         "yaxis": "y"
        },
        {
         "alignmentgroup": "True",
         "hovertemplate": "color=Economics<br>x=%{x}<br>y=%{y}<extra></extra>",
         "legendgroup": "Economics",
         "marker": {
          "color": "#19d3f3"
         },
         "name": "Economics",
         "offsetgroup": "Economics",
         "orientation": "h",
         "showlegend": true,
         "textposition": "auto",
         "type": "bar",
         "x": [
          1,
          2,
          3,
          1,
          2,
          1,
          3,
          3,
          1,
          2,
          4,
          1,
          8,
          49
         ],
         "xaxis": "x",
         "y": [
          "Hungary",
          "India",
          "Norway",
          "Austria",
          "Netherlands",
          "Italy",
          "Canada",
          "Russia",
          "Poland",
          "Sweden",
          "France",
          "Germany",
          "United Kingdom",
          "United States of America"
         ],
         "yaxis": "y"
        }
       ],
       "layout": {
        "barmode": "relative",
        "legend": {
         "title": {
          "text": "color"
         },
         "tracegroupgap": 0
        },
        "template": {
         "data": {
          "bar": [
           {
            "error_x": {
             "color": "#2a3f5f"
            },
            "error_y": {
             "color": "#2a3f5f"
            },
            "marker": {
             "line": {
              "color": "#E5ECF6",
              "width": 0.5
             }
            },
            "type": "bar"
           }
          ],
          "barpolar": [
           {
            "marker": {
             "line": {
              "color": "#E5ECF6",
              "width": 0.5
             }
            },
            "type": "barpolar"
           }
          ],
          "carpet": [
           {
            "aaxis": {
             "endlinecolor": "#2a3f5f",
             "gridcolor": "white",
             "linecolor": "white",
             "minorgridcolor": "white",
             "startlinecolor": "#2a3f5f"
            },
            "baxis": {
             "endlinecolor": "#2a3f5f",
             "gridcolor": "white",
             "linecolor": "white",
             "minorgridcolor": "white",
             "startlinecolor": "#2a3f5f"
            },
            "type": "carpet"
           }
          ],
          "choropleth": [
           {
            "colorbar": {
             "outlinewidth": 0,
             "ticks": ""
            },
            "type": "choropleth"
           }
          ],
          "contour": [
           {
            "colorbar": {
             "outlinewidth": 0,
             "ticks": ""
            },
            "colorscale": [
             [
              0,
              "#0d0887"
             ],
             [
              0.1111111111111111,
              "#46039f"
             ],
             [
              0.2222222222222222,
              "#7201a8"
             ],
             [
              0.3333333333333333,
              "#9c179e"
             ],
             [
              0.4444444444444444,
              "#bd3786"
             ],
             [
              0.5555555555555556,
              "#d8576b"
             ],
             [
              0.6666666666666666,
              "#ed7953"
             ],
             [
              0.7777777777777778,
              "#fb9f3a"
             ],
             [
              0.8888888888888888,
              "#fdca26"
             ],
             [
              1,
              "#f0f921"
             ]
            ],
            "type": "contour"
           }
          ],
          "contourcarpet": [
           {
            "colorbar": {
             "outlinewidth": 0,
             "ticks": ""
            },
            "type": "contourcarpet"
           }
          ],
          "heatmap": [
           {
            "colorbar": {
             "outlinewidth": 0,
             "ticks": ""
            },
            "colorscale": [
             [
              0,
              "#0d0887"
             ],
             [
              0.1111111111111111,
              "#46039f"
             ],
             [
              0.2222222222222222,
              "#7201a8"
             ],
             [
              0.3333333333333333,
              "#9c179e"
             ],
             [
              0.4444444444444444,
              "#bd3786"
             ],
             [
              0.5555555555555556,
              "#d8576b"
             ],
             [
              0.6666666666666666,
              "#ed7953"
             ],
             [
              0.7777777777777778,
              "#fb9f3a"
             ],
             [
              0.8888888888888888,
              "#fdca26"
             ],
             [
              1,
              "#f0f921"
             ]
            ],
            "type": "heatmap"
           }
          ],
          "heatmapgl": [
           {
            "colorbar": {
             "outlinewidth": 0,
             "ticks": ""
            },
            "colorscale": [
             [
              0,
              "#0d0887"
             ],
             [
              0.1111111111111111,
              "#46039f"
             ],
             [
              0.2222222222222222,
              "#7201a8"
             ],
             [
              0.3333333333333333,
              "#9c179e"
             ],
             [
              0.4444444444444444,
              "#bd3786"
             ],
             [
              0.5555555555555556,
              "#d8576b"
             ],
             [
              0.6666666666666666,
              "#ed7953"
             ],
             [
              0.7777777777777778,
              "#fb9f3a"
             ],
             [
              0.8888888888888888,
              "#fdca26"
             ],
             [
              1,
              "#f0f921"
             ]
            ],
            "type": "heatmapgl"
           }
          ],
          "histogram": [
           {
            "marker": {
             "colorbar": {
              "outlinewidth": 0,
              "ticks": ""
             }
            },
            "type": "histogram"
           }
          ],
          "histogram2d": [
           {
            "colorbar": {
             "outlinewidth": 0,
             "ticks": ""
            },
            "colorscale": [
             [
              0,
              "#0d0887"
             ],
             [
              0.1111111111111111,
              "#46039f"
             ],
             [
              0.2222222222222222,
              "#7201a8"
             ],
             [
              0.3333333333333333,
              "#9c179e"
             ],
             [
              0.4444444444444444,
              "#bd3786"
             ],
             [
              0.5555555555555556,
              "#d8576b"
             ],
             [
              0.6666666666666666,
              "#ed7953"
             ],
             [
              0.7777777777777778,
              "#fb9f3a"
             ],
             [
              0.8888888888888888,
              "#fdca26"
             ],
             [
              1,
              "#f0f921"
             ]
            ],
            "type": "histogram2d"
           }
          ],
          "histogram2dcontour": [
           {
            "colorbar": {
             "outlinewidth": 0,
             "ticks": ""
            },
            "colorscale": [
             [
              0,
              "#0d0887"
             ],
             [
              0.1111111111111111,
              "#46039f"
             ],
             [
              0.2222222222222222,
              "#7201a8"
             ],
             [
              0.3333333333333333,
              "#9c179e"
             ],
             [
              0.4444444444444444,
              "#bd3786"
             ],
             [
              0.5555555555555556,
              "#d8576b"
             ],
             [
              0.6666666666666666,
              "#ed7953"
             ],
             [
              0.7777777777777778,
              "#fb9f3a"
             ],
             [
              0.8888888888888888,
              "#fdca26"
             ],
             [
              1,
              "#f0f921"
             ]
            ],
            "type": "histogram2dcontour"
           }
          ],
          "mesh3d": [
           {
            "colorbar": {
             "outlinewidth": 0,
             "ticks": ""
            },
            "type": "mesh3d"
           }
          ],
          "parcoords": [
           {
            "line": {
             "colorbar": {
              "outlinewidth": 0,
              "ticks": ""
             }
            },
            "type": "parcoords"
           }
          ],
          "pie": [
           {
            "automargin": true,
            "type": "pie"
           }
          ],
          "scatter": [
           {
            "marker": {
             "colorbar": {
              "outlinewidth": 0,
              "ticks": ""
             }
            },
            "type": "scatter"
           }
          ],
          "scatter3d": [
           {
            "line": {
             "colorbar": {
              "outlinewidth": 0,
              "ticks": ""
             }
            },
            "marker": {
             "colorbar": {
              "outlinewidth": 0,
              "ticks": ""
             }
            },
            "type": "scatter3d"
           }
          ],
          "scattercarpet": [
           {
            "marker": {
             "colorbar": {
              "outlinewidth": 0,
              "ticks": ""
             }
            },
            "type": "scattercarpet"
           }
          ],
          "scattergeo": [
           {
            "marker": {
             "colorbar": {
              "outlinewidth": 0,
              "ticks": ""
             }
            },
            "type": "scattergeo"
           }
          ],
          "scattergl": [
           {
            "marker": {
             "colorbar": {
              "outlinewidth": 0,
              "ticks": ""
             }
            },
            "type": "scattergl"
           }
          ],
          "scattermapbox": [
           {
            "marker": {
             "colorbar": {
              "outlinewidth": 0,
              "ticks": ""
             }
            },
            "type": "scattermapbox"
           }
          ],
          "scatterpolar": [
           {
            "marker": {
             "colorbar": {
              "outlinewidth": 0,
              "ticks": ""
             }
            },
            "type": "scatterpolar"
           }
          ],
          "scatterpolargl": [
           {
            "marker": {
             "colorbar": {
              "outlinewidth": 0,
              "ticks": ""
             }
            },
            "type": "scatterpolargl"
           }
          ],
          "scatterternary": [
           {
            "marker": {
             "colorbar": {
              "outlinewidth": 0,
              "ticks": ""
             }
            },
            "type": "scatterternary"
           }
          ],
          "surface": [
           {
            "colorbar": {
             "outlinewidth": 0,
             "ticks": ""
            },
            "colorscale": [
             [
              0,
              "#0d0887"
             ],
             [
              0.1111111111111111,
              "#46039f"
             ],
             [
              0.2222222222222222,
              "#7201a8"
             ],
             [
              0.3333333333333333,
              "#9c179e"
             ],
             [
              0.4444444444444444,
              "#bd3786"
             ],
             [
              0.5555555555555556,
              "#d8576b"
             ],
             [
              0.6666666666666666,
              "#ed7953"
             ],
             [
              0.7777777777777778,
              "#fb9f3a"
             ],
             [
              0.8888888888888888,
              "#fdca26"
             ],
             [
              1,
              "#f0f921"
             ]
            ],
            "type": "surface"
           }
          ],
          "table": [
           {
            "cells": {
             "fill": {
              "color": "#EBF0F8"
             },
             "line": {
              "color": "white"
             }
            },
            "header": {
             "fill": {
              "color": "#C8D4E3"
             },
             "line": {
              "color": "white"
             }
            },
            "type": "table"
           }
          ]
         },
         "layout": {
          "annotationdefaults": {
           "arrowcolor": "#2a3f5f",
           "arrowhead": 0,
           "arrowwidth": 1
          },
          "autotypenumbers": "strict",
          "coloraxis": {
           "colorbar": {
            "outlinewidth": 0,
            "ticks": ""
           }
          },
          "colorscale": {
           "diverging": [
            [
             0,
             "#8e0152"
            ],
            [
             0.1,
             "#c51b7d"
            ],
            [
             0.2,
             "#de77ae"
            ],
            [
             0.3,
             "#f1b6da"
            ],
            [
             0.4,
             "#fde0ef"
            ],
            [
             0.5,
             "#f7f7f7"
            ],
            [
             0.6,
             "#e6f5d0"
            ],
            [
             0.7,
             "#b8e186"
            ],
            [
             0.8,
             "#7fbc41"
            ],
            [
             0.9,
             "#4d9221"
            ],
            [
             1,
             "#276419"
            ]
           ],
           "sequential": [
            [
             0,
             "#0d0887"
            ],
            [
             0.1111111111111111,
             "#46039f"
            ],
            [
             0.2222222222222222,
             "#7201a8"
            ],
            [
             0.3333333333333333,
             "#9c179e"
            ],
            [
             0.4444444444444444,
             "#bd3786"
            ],
            [
             0.5555555555555556,
             "#d8576b"
            ],
            [
             0.6666666666666666,
             "#ed7953"
            ],
            [
             0.7777777777777778,
             "#fb9f3a"
            ],
            [
             0.8888888888888888,
             "#fdca26"
            ],
            [
             1,
             "#f0f921"
            ]
           ],
           "sequentialminus": [
            [
             0,
             "#0d0887"
            ],
            [
             0.1111111111111111,
             "#46039f"
            ],
            [
             0.2222222222222222,
             "#7201a8"
            ],
            [
             0.3333333333333333,
             "#9c179e"
            ],
            [
             0.4444444444444444,
             "#bd3786"
            ],
            [
             0.5555555555555556,
             "#d8576b"
            ],
            [
             0.6666666666666666,
             "#ed7953"
            ],
            [
             0.7777777777777778,
             "#fb9f3a"
            ],
            [
             0.8888888888888888,
             "#fdca26"
            ],
            [
             1,
             "#f0f921"
            ]
           ]
          },
          "colorway": [
           "#636efa",
           "#EF553B",
           "#00cc96",
           "#ab63fa",
           "#FFA15A",
           "#19d3f3",
           "#FF6692",
           "#B6E880",
           "#FF97FF",
           "#FECB52"
          ],
          "font": {
           "color": "#2a3f5f"
          },
          "geo": {
           "bgcolor": "white",
           "lakecolor": "white",
           "landcolor": "#E5ECF6",
           "showlakes": true,
           "showland": true,
           "subunitcolor": "white"
          },
          "hoverlabel": {
           "align": "left"
          },
          "hovermode": "closest",
          "mapbox": {
           "style": "light"
          },
          "paper_bgcolor": "white",
          "plot_bgcolor": "#E5ECF6",
          "polar": {
           "angularaxis": {
            "gridcolor": "white",
            "linecolor": "white",
            "ticks": ""
           },
           "bgcolor": "#E5ECF6",
           "radialaxis": {
            "gridcolor": "white",
            "linecolor": "white",
            "ticks": ""
           }
          },
          "scene": {
           "xaxis": {
            "backgroundcolor": "#E5ECF6",
            "gridcolor": "white",
            "gridwidth": 2,
            "linecolor": "white",
            "showbackground": true,
            "ticks": "",
            "zerolinecolor": "white"
           },
           "yaxis": {
            "backgroundcolor": "#E5ECF6",
            "gridcolor": "white",
            "gridwidth": 2,
            "linecolor": "white",
            "showbackground": true,
            "ticks": "",
            "zerolinecolor": "white"
           },
           "zaxis": {
            "backgroundcolor": "#E5ECF6",
            "gridcolor": "white",
            "gridwidth": 2,
            "linecolor": "white",
            "showbackground": true,
            "ticks": "",
            "zerolinecolor": "white"
           }
          },
          "shapedefaults": {
           "line": {
            "color": "#2a3f5f"
           }
          },
          "ternary": {
           "aaxis": {
            "gridcolor": "white",
            "linecolor": "white",
            "ticks": ""
           },
           "baxis": {
            "gridcolor": "white",
            "linecolor": "white",
            "ticks": ""
           },
           "bgcolor": "#E5ECF6",
           "caxis": {
            "gridcolor": "white",
            "linecolor": "white",
            "ticks": ""
           }
          },
          "title": {
           "x": 0.05
          },
          "xaxis": {
           "automargin": true,
           "gridcolor": "white",
           "linecolor": "white",
           "ticks": "",
           "title": {
            "standoff": 15
           },
           "zerolinecolor": "white",
           "zerolinewidth": 2
          },
          "yaxis": {
           "automargin": true,
           "gridcolor": "white",
           "linecolor": "white",
           "ticks": "",
           "title": {
            "standoff": 15
           },
           "zerolinecolor": "white",
           "zerolinewidth": 2
          }
         }
        },
        "title": {
         "text": "Prizes Per Country by Category"
        },
        "xaxis": {
         "anchor": "y",
         "domain": [
          0,
          1
         ],
         "title": {
          "text": "Number of Prizes"
         }
        },
        "yaxis": {
         "anchor": "x",
         "domain": [
          0,
          1
         ],
         "title": {
          "text": "Country"
         }
        }
       }
      },
      "text/html": [
       "<div>                            <div id=\"7e2592db-a325-46b8-a854-5c407ca866ae\" class=\"plotly-graph-div\" style=\"height:525px; width:100%;\"></div>            <script type=\"text/javascript\">                require([\"plotly\"], function(Plotly) {                    window.PLOTLYENV=window.PLOTLYENV || {};                                    if (document.getElementById(\"7e2592db-a325-46b8-a854-5c407ca866ae\")) {                    Plotly.newPlot(                        \"7e2592db-a325-46b8-a854-5c407ca866ae\",                        [{\"alignmentgroup\": \"True\", \"hovertemplate\": \"color=Physics<br>x=%{x}<br>y=%{y}<extra></extra>\", \"legendgroup\": \"Physics\", \"marker\": {\"color\": \"#636efa\"}, \"name\": \"Physics\", \"offsetgroup\": \"Physics\", \"orientation\": \"h\", \"showlegend\": true, \"textposition\": \"auto\", \"type\": \"bar\", \"x\": [1, 1, 2, 2, 5, 2, 1, 3, 9, 6, 5, 6, 10, 8, 11, 4, 10, 26, 24, 70], \"xaxis\": \"x\", \"y\": [\"India\", \"Belgium\", \"Hungary\", \"Australia\", \"China\", \"Denmark\", \"Norway\", \"Austria\", \"Netherlands\", \"Switzerland\", \"Italy\", \"Canada\", \"Russia\", \"Poland\", \"Japan\", \"Sweden\", \"France\", \"Germany\", \"United Kingdom\", \"United States of America\"], \"yaxis\": \"y\"}, {\"alignmentgroup\": \"True\", \"hovertemplate\": \"color=Peace<br>x=%{x}<br>y=%{y}<extra></extra>\", \"legendgroup\": \"Peace\", \"marker\": {\"color\": \"#EF553B\"}, \"name\": \"Peace\", \"offsetgroup\": \"Peace\", \"orientation\": \"h\", \"showlegend\": true, \"textposition\": \"auto\", \"type\": \"bar\", \"x\": [1, 3, 2, 1, 2, 1, 1, 1, 3, 1, 2, 1, 2, 5, 10, 5, 11, 19], \"xaxis\": \"x\", \"y\": [\"India\", \"Belgium\", \"China\", \"Denmark\", \"Norway\", \"Austria\", \"Netherlands\", \"Italy\", \"Switzerland\", \"Canada\", \"Russia\", \"Japan\", \"Poland\", \"Sweden\", \"France\", \"Germany\", \"United Kingdom\", \"United States of America\"], \"yaxis\": \"y\"}, {\"alignmentgroup\": \"True\", \"hovertemplate\": \"color=Medicine<br>x=%{x}<br>y=%{y}<extra></extra>\", \"legendgroup\": \"Medicine\", \"marker\": {\"color\": \"#00cc96\"}, \"name\": \"Medicine\", \"offsetgroup\": \"Medicine\", \"orientation\": \"h\", \"showlegend\": true, \"textposition\": \"auto\", \"type\": \"bar\", \"x\": [3, 2, 2, 7, 4, 2, 2, 6, 2, 6, 5, 4, 2, 6, 5, 7, 12, 18, 28, 78], \"xaxis\": \"x\", \"y\": [\"Belgium\", \"Hungary\", \"India\", \"Australia\", \"Denmark\", \"China\", \"Norway\", \"Austria\", \"Netherlands\", \"Switzerland\", \"Italy\", \"Canada\", \"Russia\", \"Poland\", \"Japan\", \"Sweden\", \"France\", \"Germany\", \"United Kingdom\", \"United States of America\"], \"yaxis\": \"y\"}, {\"alignmentgroup\": \"True\", \"hovertemplate\": \"color=Chemistry<br>x=%{x}<br>y=%{y}<extra></extra>\", \"legendgroup\": \"Chemistry\", \"marker\": {\"color\": \"#ab63fa\"}, \"name\": \"Chemistry\", \"offsetgroup\": \"Chemistry\", \"orientation\": \"h\", \"showlegend\": true, \"textposition\": \"auto\", \"type\": \"bar\", \"x\": [1, 3, 1, 1, 1, 1, 2, 5, 4, 1, 3, 4, 4, 7, 4, 4, 10, 26, 27, 55], \"xaxis\": \"x\", \"y\": [\"Belgium\", \"Hungary\", \"India\", \"Australia\", \"China\", \"Denmark\", \"Norway\", \"Austria\", \"Netherlands\", \"Italy\", \"Switzerland\", \"Canada\", \"Russia\", \"Japan\", \"Poland\", \"Sweden\", \"France\", \"Germany\", \"United Kingdom\", \"United States of America\"], \"yaxis\": \"y\"}, {\"alignmentgroup\": \"True\", \"hovertemplate\": \"color=Literature<br>x=%{x}<br>y=%{y}<extra></extra>\", \"legendgroup\": \"Literature\", \"marker\": {\"color\": \"#FFA15A\"}, \"name\": \"Literature\", \"offsetgroup\": \"Literature\", \"orientation\": \"h\", \"showlegend\": true, \"textposition\": \"auto\", \"type\": \"bar\", \"x\": [1, 1, 2, 2, 2, 4, 2, 1, 6, 2, 5, 3, 6, 7, 11, 8, 7, 10], \"xaxis\": \"x\", \"y\": [\"Belgium\", \"Hungary\", \"India\", \"Norway\", \"China\", \"Denmark\", \"Austria\", \"Switzerland\", \"Italy\", \"Canada\", \"Russia\", \"Japan\", \"Poland\", \"Sweden\", \"France\", \"Germany\", \"United Kingdom\", \"United States of America\"], \"yaxis\": \"y\"}, {\"alignmentgroup\": \"True\", \"hovertemplate\": \"color=Economics<br>x=%{x}<br>y=%{y}<extra></extra>\", \"legendgroup\": \"Economics\", \"marker\": {\"color\": \"#19d3f3\"}, \"name\": \"Economics\", \"offsetgroup\": \"Economics\", \"orientation\": \"h\", \"showlegend\": true, \"textposition\": \"auto\", \"type\": \"bar\", \"x\": [1, 2, 3, 1, 2, 1, 3, 3, 1, 2, 4, 1, 8, 49], \"xaxis\": \"x\", \"y\": [\"Hungary\", \"India\", \"Norway\", \"Austria\", \"Netherlands\", \"Italy\", \"Canada\", \"Russia\", \"Poland\", \"Sweden\", \"France\", \"Germany\", \"United Kingdom\", \"United States of America\"], \"yaxis\": \"y\"}],                        {\"barmode\": \"relative\", \"legend\": {\"title\": {\"text\": \"color\"}, \"tracegroupgap\": 0}, \"template\": {\"data\": {\"bar\": [{\"error_x\": {\"color\": \"#2a3f5f\"}, \"error_y\": {\"color\": \"#2a3f5f\"}, \"marker\": {\"line\": {\"color\": \"#E5ECF6\", \"width\": 0.5}}, \"type\": \"bar\"}], \"barpolar\": [{\"marker\": {\"line\": {\"color\": \"#E5ECF6\", \"width\": 0.5}}, \"type\": \"barpolar\"}], \"carpet\": [{\"aaxis\": {\"endlinecolor\": \"#2a3f5f\", \"gridcolor\": \"white\", \"linecolor\": \"white\", \"minorgridcolor\": \"white\", \"startlinecolor\": \"#2a3f5f\"}, \"baxis\": {\"endlinecolor\": \"#2a3f5f\", \"gridcolor\": \"white\", \"linecolor\": \"white\", \"minorgridcolor\": \"white\", \"startlinecolor\": \"#2a3f5f\"}, \"type\": \"carpet\"}], \"choropleth\": [{\"colorbar\": {\"outlinewidth\": 0, \"ticks\": \"\"}, \"type\": \"choropleth\"}], \"contour\": [{\"colorbar\": {\"outlinewidth\": 0, \"ticks\": \"\"}, \"colorscale\": [[0.0, \"#0d0887\"], [0.1111111111111111, \"#46039f\"], [0.2222222222222222, \"#7201a8\"], [0.3333333333333333, \"#9c179e\"], [0.4444444444444444, \"#bd3786\"], [0.5555555555555556, \"#d8576b\"], [0.6666666666666666, \"#ed7953\"], [0.7777777777777778, \"#fb9f3a\"], [0.8888888888888888, \"#fdca26\"], [1.0, \"#f0f921\"]], \"type\": \"contour\"}], \"contourcarpet\": [{\"colorbar\": {\"outlinewidth\": 0, \"ticks\": \"\"}, \"type\": \"contourcarpet\"}], \"heatmap\": [{\"colorbar\": {\"outlinewidth\": 0, \"ticks\": \"\"}, \"colorscale\": [[0.0, \"#0d0887\"], [0.1111111111111111, \"#46039f\"], [0.2222222222222222, \"#7201a8\"], [0.3333333333333333, \"#9c179e\"], [0.4444444444444444, \"#bd3786\"], [0.5555555555555556, \"#d8576b\"], [0.6666666666666666, \"#ed7953\"], [0.7777777777777778, \"#fb9f3a\"], [0.8888888888888888, \"#fdca26\"], [1.0, \"#f0f921\"]], \"type\": \"heatmap\"}], \"heatmapgl\": [{\"colorbar\": {\"outlinewidth\": 0, \"ticks\": \"\"}, \"colorscale\": [[0.0, \"#0d0887\"], [0.1111111111111111, \"#46039f\"], [0.2222222222222222, \"#7201a8\"], [0.3333333333333333, \"#9c179e\"], [0.4444444444444444, \"#bd3786\"], [0.5555555555555556, \"#d8576b\"], [0.6666666666666666, \"#ed7953\"], [0.7777777777777778, \"#fb9f3a\"], [0.8888888888888888, \"#fdca26\"], [1.0, \"#f0f921\"]], \"type\": \"heatmapgl\"}], \"histogram\": [{\"marker\": {\"colorbar\": {\"outlinewidth\": 0, \"ticks\": \"\"}}, \"type\": \"histogram\"}], \"histogram2d\": [{\"colorbar\": {\"outlinewidth\": 0, \"ticks\": \"\"}, \"colorscale\": [[0.0, \"#0d0887\"], [0.1111111111111111, \"#46039f\"], [0.2222222222222222, \"#7201a8\"], [0.3333333333333333, \"#9c179e\"], [0.4444444444444444, \"#bd3786\"], [0.5555555555555556, \"#d8576b\"], [0.6666666666666666, \"#ed7953\"], [0.7777777777777778, \"#fb9f3a\"], [0.8888888888888888, \"#fdca26\"], [1.0, \"#f0f921\"]], \"type\": \"histogram2d\"}], \"histogram2dcontour\": [{\"colorbar\": {\"outlinewidth\": 0, \"ticks\": \"\"}, \"colorscale\": [[0.0, \"#0d0887\"], [0.1111111111111111, \"#46039f\"], [0.2222222222222222, \"#7201a8\"], [0.3333333333333333, \"#9c179e\"], [0.4444444444444444, \"#bd3786\"], [0.5555555555555556, \"#d8576b\"], [0.6666666666666666, \"#ed7953\"], [0.7777777777777778, \"#fb9f3a\"], [0.8888888888888888, \"#fdca26\"], [1.0, \"#f0f921\"]], \"type\": \"histogram2dcontour\"}], \"mesh3d\": [{\"colorbar\": {\"outlinewidth\": 0, \"ticks\": \"\"}, \"type\": \"mesh3d\"}], \"parcoords\": [{\"line\": {\"colorbar\": {\"outlinewidth\": 0, \"ticks\": \"\"}}, \"type\": \"parcoords\"}], \"pie\": [{\"automargin\": true, \"type\": \"pie\"}], \"scatter\": [{\"marker\": {\"colorbar\": {\"outlinewidth\": 0, \"ticks\": \"\"}}, \"type\": \"scatter\"}], \"scatter3d\": [{\"line\": {\"colorbar\": {\"outlinewidth\": 0, \"ticks\": \"\"}}, \"marker\": {\"colorbar\": {\"outlinewidth\": 0, \"ticks\": \"\"}}, \"type\": \"scatter3d\"}], \"scattercarpet\": [{\"marker\": {\"colorbar\": {\"outlinewidth\": 0, \"ticks\": \"\"}}, \"type\": \"scattercarpet\"}], \"scattergeo\": [{\"marker\": {\"colorbar\": {\"outlinewidth\": 0, \"ticks\": \"\"}}, \"type\": \"scattergeo\"}], \"scattergl\": [{\"marker\": {\"colorbar\": {\"outlinewidth\": 0, \"ticks\": \"\"}}, \"type\": \"scattergl\"}], \"scattermapbox\": [{\"marker\": {\"colorbar\": {\"outlinewidth\": 0, \"ticks\": \"\"}}, \"type\": \"scattermapbox\"}], \"scatterpolar\": [{\"marker\": {\"colorbar\": {\"outlinewidth\": 0, \"ticks\": \"\"}}, \"type\": \"scatterpolar\"}], \"scatterpolargl\": [{\"marker\": {\"colorbar\": {\"outlinewidth\": 0, \"ticks\": \"\"}}, \"type\": \"scatterpolargl\"}], \"scatterternary\": [{\"marker\": {\"colorbar\": {\"outlinewidth\": 0, \"ticks\": \"\"}}, \"type\": \"scatterternary\"}], \"surface\": [{\"colorbar\": {\"outlinewidth\": 0, \"ticks\": \"\"}, \"colorscale\": [[0.0, \"#0d0887\"], [0.1111111111111111, \"#46039f\"], [0.2222222222222222, \"#7201a8\"], [0.3333333333333333, \"#9c179e\"], [0.4444444444444444, \"#bd3786\"], [0.5555555555555556, \"#d8576b\"], [0.6666666666666666, \"#ed7953\"], [0.7777777777777778, \"#fb9f3a\"], [0.8888888888888888, \"#fdca26\"], [1.0, \"#f0f921\"]], \"type\": \"surface\"}], \"table\": [{\"cells\": {\"fill\": {\"color\": \"#EBF0F8\"}, \"line\": {\"color\": \"white\"}}, \"header\": {\"fill\": {\"color\": \"#C8D4E3\"}, \"line\": {\"color\": \"white\"}}, \"type\": \"table\"}]}, \"layout\": {\"annotationdefaults\": {\"arrowcolor\": \"#2a3f5f\", \"arrowhead\": 0, \"arrowwidth\": 1}, \"autotypenumbers\": \"strict\", \"coloraxis\": {\"colorbar\": {\"outlinewidth\": 0, \"ticks\": \"\"}}, \"colorscale\": {\"diverging\": [[0, \"#8e0152\"], [0.1, \"#c51b7d\"], [0.2, \"#de77ae\"], [0.3, \"#f1b6da\"], [0.4, \"#fde0ef\"], [0.5, \"#f7f7f7\"], [0.6, \"#e6f5d0\"], [0.7, \"#b8e186\"], [0.8, \"#7fbc41\"], [0.9, \"#4d9221\"], [1, \"#276419\"]], \"sequential\": [[0.0, \"#0d0887\"], [0.1111111111111111, \"#46039f\"], [0.2222222222222222, \"#7201a8\"], [0.3333333333333333, \"#9c179e\"], [0.4444444444444444, \"#bd3786\"], [0.5555555555555556, \"#d8576b\"], [0.6666666666666666, \"#ed7953\"], [0.7777777777777778, \"#fb9f3a\"], [0.8888888888888888, \"#fdca26\"], [1.0, \"#f0f921\"]], \"sequentialminus\": [[0.0, \"#0d0887\"], [0.1111111111111111, \"#46039f\"], [0.2222222222222222, \"#7201a8\"], [0.3333333333333333, \"#9c179e\"], [0.4444444444444444, \"#bd3786\"], [0.5555555555555556, \"#d8576b\"], [0.6666666666666666, \"#ed7953\"], [0.7777777777777778, \"#fb9f3a\"], [0.8888888888888888, \"#fdca26\"], [1.0, \"#f0f921\"]]}, \"colorway\": [\"#636efa\", \"#EF553B\", \"#00cc96\", \"#ab63fa\", \"#FFA15A\", \"#19d3f3\", \"#FF6692\", \"#B6E880\", \"#FF97FF\", \"#FECB52\"], \"font\": {\"color\": \"#2a3f5f\"}, \"geo\": {\"bgcolor\": \"white\", \"lakecolor\": \"white\", \"landcolor\": \"#E5ECF6\", \"showlakes\": true, \"showland\": true, \"subunitcolor\": \"white\"}, \"hoverlabel\": {\"align\": \"left\"}, \"hovermode\": \"closest\", \"mapbox\": {\"style\": \"light\"}, \"paper_bgcolor\": \"white\", \"plot_bgcolor\": \"#E5ECF6\", \"polar\": {\"angularaxis\": {\"gridcolor\": \"white\", \"linecolor\": \"white\", \"ticks\": \"\"}, \"bgcolor\": \"#E5ECF6\", \"radialaxis\": {\"gridcolor\": \"white\", \"linecolor\": \"white\", \"ticks\": \"\"}}, \"scene\": {\"xaxis\": {\"backgroundcolor\": \"#E5ECF6\", \"gridcolor\": \"white\", \"gridwidth\": 2, \"linecolor\": \"white\", \"showbackground\": true, \"ticks\": \"\", \"zerolinecolor\": \"white\"}, \"yaxis\": {\"backgroundcolor\": \"#E5ECF6\", \"gridcolor\": \"white\", \"gridwidth\": 2, \"linecolor\": \"white\", \"showbackground\": true, \"ticks\": \"\", \"zerolinecolor\": \"white\"}, \"zaxis\": {\"backgroundcolor\": \"#E5ECF6\", \"gridcolor\": \"white\", \"gridwidth\": 2, \"linecolor\": \"white\", \"showbackground\": true, \"ticks\": \"\", \"zerolinecolor\": \"white\"}}, \"shapedefaults\": {\"line\": {\"color\": \"#2a3f5f\"}}, \"ternary\": {\"aaxis\": {\"gridcolor\": \"white\", \"linecolor\": \"white\", \"ticks\": \"\"}, \"baxis\": {\"gridcolor\": \"white\", \"linecolor\": \"white\", \"ticks\": \"\"}, \"bgcolor\": \"#E5ECF6\", \"caxis\": {\"gridcolor\": \"white\", \"linecolor\": \"white\", \"ticks\": \"\"}}, \"title\": {\"x\": 0.05}, \"xaxis\": {\"automargin\": true, \"gridcolor\": \"white\", \"linecolor\": \"white\", \"ticks\": \"\", \"title\": {\"standoff\": 15}, \"zerolinecolor\": \"white\", \"zerolinewidth\": 2}, \"yaxis\": {\"automargin\": true, \"gridcolor\": \"white\", \"linecolor\": \"white\", \"ticks\": \"\", \"title\": {\"standoff\": 15}, \"zerolinecolor\": \"white\", \"zerolinewidth\": 2}}}, \"title\": {\"text\": \"Prizes Per Country by Category\"}, \"xaxis\": {\"anchor\": \"y\", \"domain\": [0.0, 1.0], \"title\": {\"text\": \"Number of Prizes\"}}, \"yaxis\": {\"anchor\": \"x\", \"domain\": [0.0, 1.0], \"title\": {\"text\": \"Country\"}}},                        {\"responsive\": true}                    ).then(function(){\n",
       "                            \n",
       "var gd = document.getElementById('7e2592db-a325-46b8-a854-5c407ca866ae');\n",
       "var x = new MutationObserver(function (mutations, observer) {{\n",
       "        var display = window.getComputedStyle(gd).display;\n",
       "        if (!display || display === 'none') {{\n",
       "            console.log([gd, 'removed!']);\n",
       "            Plotly.purge(gd);\n",
       "            observer.disconnect();\n",
       "        }}\n",
       "}});\n",
       "\n",
       "// Listen for the removal of the full notebook cells\n",
       "var notebookContainer = gd.closest('#notebook-container');\n",
       "if (notebookContainer) {{\n",
       "    x.observe(notebookContainer, {childList: true});\n",
       "}}\n",
       "\n",
       "// Listen for the clearing of the current output cell\n",
       "var outputEl = gd.closest('.output');\n",
       "if (outputEl) {{\n",
       "    x.observe(outputEl, {childList: true});\n",
       "}}\n",
       "\n",
       "                        })                };                });            </script>        </div>"
      ]
     },
     "metadata": {},
     "output_type": "display_data"
    }
   ],
   "source": [
    "pm_bar = px.bar(x=prize_merged.cat_prize, \n",
    "               y=prize_merged.birth_country_current, \n",
    "               orientation='h', \n",
    "               title='Prizes Per Country by Category',\n",
    "               color=prize_merged.category)\n",
    "pm_bar.update_layout(xaxis_title='Number of Prizes', yaxis_title='Country')\n",
    "pm_bar.show()"
   ]
  },
  {
   "cell_type": "markdown",
   "metadata": {
    "id": "AJO038bkF8YK"
   },
   "source": [
    "- In which category are Germany and Japan the weakest compared to the United States? **Economics**\n",
    "- In which category does Germany have more prizes than the UK? **Literature and Physics**\n",
    "- In which categories does France have more prizes than Germany? **Literature, Peace, Economics**\n",
    "- Which category makes up most of Australia's nobel prizes? **Medicine**\n",
    "- Which category makes up half of the prizes in the Netherlands? **Physics**\n",
    "- Does the United States have more prizes in Economics than all of France? **No** What about in Physics or Medicine? **Yes**"
   ]
  },
  {
   "cell_type": "markdown",
   "metadata": {
    "dc": {
     "key": "10"
    },
    "id": "Ic-LN14bo7Mb",
    "run_control": {
     "frozen": true
    },
    "tags": [
     "context"
    ]
   },
   "source": [
    "### Number of Prizes Won by Each Country Over Time\n",
    "\n",
    "* When did the United States eclipse every other country in terms of the number of prizes won? \n",
    "* Which country or countries were leading previously?\n",
    "* Calculate the cumulative number of prizes won by each country in every year. Again, use the `birth_country_current` of the winner to calculate this. \n",
    "* Create a [plotly line chart](https://plotly.com/python/line-charts/) where each country is a coloured line. "
   ]
  },
  {
   "cell_type": "code",
   "execution_count": 286,
   "metadata": {
    "id": "VA7NVxrwF-1d"
   },
   "outputs": [
    {
     "data": {
      "text/html": [
       "<div>\n",
       "<style scoped>\n",
       "    .dataframe tbody tr th:only-of-type {\n",
       "        vertical-align: middle;\n",
       "    }\n",
       "\n",
       "    .dataframe tbody tr th {\n",
       "        vertical-align: top;\n",
       "    }\n",
       "\n",
       "    .dataframe thead th {\n",
       "        text-align: right;\n",
       "    }\n",
       "</style>\n",
       "<table border=\"1\" class=\"dataframe\">\n",
       "  <thead>\n",
       "    <tr style=\"text-align: right;\">\n",
       "      <th></th>\n",
       "      <th>birth_country_current</th>\n",
       "      <th>year</th>\n",
       "      <th>prize</th>\n",
       "    </tr>\n",
       "  </thead>\n",
       "  <tbody>\n",
       "    <tr>\n",
       "      <th>0</th>\n",
       "      <td>Algeria</td>\n",
       "      <td>1957</td>\n",
       "      <td>1</td>\n",
       "    </tr>\n",
       "    <tr>\n",
       "      <th>1</th>\n",
       "      <td>Algeria</td>\n",
       "      <td>1997</td>\n",
       "      <td>2</td>\n",
       "    </tr>\n",
       "    <tr>\n",
       "      <th>2</th>\n",
       "      <td>Argentina</td>\n",
       "      <td>1936</td>\n",
       "      <td>1</td>\n",
       "    </tr>\n",
       "    <tr>\n",
       "      <th>3</th>\n",
       "      <td>Argentina</td>\n",
       "      <td>1947</td>\n",
       "      <td>2</td>\n",
       "    </tr>\n",
       "    <tr>\n",
       "      <th>4</th>\n",
       "      <td>Argentina</td>\n",
       "      <td>1980</td>\n",
       "      <td>3</td>\n",
       "    </tr>\n",
       "    <tr>\n",
       "      <th>...</th>\n",
       "      <td>...</td>\n",
       "      <td>...</td>\n",
       "      <td>...</td>\n",
       "    </tr>\n",
       "    <tr>\n",
       "      <th>622</th>\n",
       "      <td>United States of America</td>\n",
       "      <td>2020</td>\n",
       "      <td>281</td>\n",
       "    </tr>\n",
       "    <tr>\n",
       "      <th>623</th>\n",
       "      <td>Venezuela</td>\n",
       "      <td>1980</td>\n",
       "      <td>1</td>\n",
       "    </tr>\n",
       "    <tr>\n",
       "      <th>624</th>\n",
       "      <td>Vietnam</td>\n",
       "      <td>1973</td>\n",
       "      <td>1</td>\n",
       "    </tr>\n",
       "    <tr>\n",
       "      <th>625</th>\n",
       "      <td>Yemen</td>\n",
       "      <td>2011</td>\n",
       "      <td>1</td>\n",
       "    </tr>\n",
       "    <tr>\n",
       "      <th>626</th>\n",
       "      <td>Zimbabwe</td>\n",
       "      <td>1960</td>\n",
       "      <td>1</td>\n",
       "    </tr>\n",
       "  </tbody>\n",
       "</table>\n",
       "<p>627 rows × 3 columns</p>\n",
       "</div>"
      ],
      "text/plain": [
       "        birth_country_current  year  prize\n",
       "0                     Algeria  1957      1\n",
       "1                     Algeria  1997      2\n",
       "2                   Argentina  1936      1\n",
       "3                   Argentina  1947      2\n",
       "4                   Argentina  1980      3\n",
       "..                        ...   ...    ...\n",
       "622  United States of America  2020    281\n",
       "623                 Venezuela  1980      1\n",
       "624                   Vietnam  1973      1\n",
       "625                     Yemen  2011      1\n",
       "626                  Zimbabwe  1960      1\n",
       "\n",
       "[627 rows x 3 columns]"
      ]
     },
     "execution_count": 286,
     "metadata": {},
     "output_type": "execute_result"
    }
   ],
   "source": [
    "prize_per_year = data.groupby(['birth_country_current', 'year']).agg({'prize': pd.Series.count})\n",
    "cumulative_prizes = prizes_over_time.groupby(['birth_country_current', 'year']).sum().groupby(level=[0]).cumsum()\n",
    "cumulative_prizes.reset_index(inplace=True)\n",
    "cumulative_prizes"
   ]
  },
  {
   "cell_type": "code",
   "execution_count": 290,
   "metadata": {
    "id": "_IWG-gi0F_O4"
   },
   "outputs": [
    {
     "data": {
      "application/vnd.plotly.v1+json": {
       "config": {
        "plotlyServerURL": "https://plot.ly"
       },
       "data": [
        {
         "hovertemplate": "<b>%{hovertext}</b><br><br>birth_country_current=Algeria<br>year=%{x}<br>prize=%{y}<extra></extra>",
         "hovertext": [
          "Algeria",
          "Algeria"
         ],
         "legendgroup": "Algeria",
         "line": {
          "color": "#636efa",
          "dash": "solid"
         },
         "mode": "lines",
         "name": "Algeria",
         "orientation": "v",
         "showlegend": true,
         "type": "scatter",
         "x": [
          1957,
          1997
         ],
         "xaxis": "x",
         "y": [
          1,
          2
         ],
         "yaxis": "y"
        },
        {
         "hovertemplate": "<b>%{hovertext}</b><br><br>birth_country_current=Argentina<br>year=%{x}<br>prize=%{y}<extra></extra>",
         "hovertext": [
          "Argentina",
          "Argentina",
          "Argentina",
          "Argentina"
         ],
         "legendgroup": "Argentina",
         "line": {
          "color": "#EF553B",
          "dash": "solid"
         },
         "mode": "lines",
         "name": "Argentina",
         "orientation": "v",
         "showlegend": true,
         "type": "scatter",
         "x": [
          1936,
          1947,
          1980,
          1984
         ],
         "xaxis": "x",
         "y": [
          1,
          2,
          3,
          4
         ],
         "yaxis": "y"
        },
        {
         "hovertemplate": "<b>%{hovertext}</b><br><br>birth_country_current=Australia<br>year=%{x}<br>prize=%{y}<extra></extra>",
         "hovertext": [
          "Australia",
          "Australia",
          "Australia",
          "Australia",
          "Australia",
          "Australia",
          "Australia",
          "Australia",
          "Australia"
         ],
         "legendgroup": "Australia",
         "line": {
          "color": "#00cc96",
          "dash": "solid"
         },
         "mode": "lines",
         "name": "Australia",
         "orientation": "v",
         "showlegend": true,
         "type": "scatter",
         "x": [
          1915,
          1945,
          1960,
          1963,
          1964,
          1975,
          1996,
          2005,
          2009
         ],
         "xaxis": "x",
         "y": [
          1,
          2,
          3,
          4,
          5,
          6,
          7,
          9,
          10
         ],
         "yaxis": "y"
        },
        {
         "hovertemplate": "<b>%{hovertext}</b><br><br>birth_country_current=Austria<br>year=%{x}<br>prize=%{y}<extra></extra>",
         "hovertext": [
          "Austria",
          "Austria",
          "Austria",
          "Austria",
          "Austria",
          "Austria",
          "Austria",
          "Austria",
          "Austria",
          "Austria",
          "Austria",
          "Austria",
          "Austria",
          "Austria",
          "Austria",
          "Austria",
          "Austria"
         ],
         "legendgroup": "Austria",
         "line": {
          "color": "#ab63fa",
          "dash": "solid"
         },
         "mode": "lines",
         "name": "Austria",
         "orientation": "v",
         "showlegend": true,
         "type": "scatter",
         "x": [
          1911,
          1914,
          1925,
          1927,
          1930,
          1933,
          1936,
          1938,
          1945,
          1962,
          1973,
          1974,
          1998,
          2000,
          2004,
          2013,
          2019
         ],
         "xaxis": "x",
         "y": [
          1,
          2,
          3,
          4,
          5,
          6,
          7,
          8,
          9,
          10,
          12,
          13,
          14,
          15,
          16,
          17,
          18
         ],
         "yaxis": "y"
        },
        {
         "hovertemplate": "<b>%{hovertext}</b><br><br>birth_country_current=Azerbaijan<br>year=%{x}<br>prize=%{y}<extra></extra>",
         "hovertext": [
          "Azerbaijan"
         ],
         "legendgroup": "Azerbaijan",
         "line": {
          "color": "#FFA15A",
          "dash": "solid"
         },
         "mode": "lines",
         "name": "Azerbaijan",
         "orientation": "v",
         "showlegend": true,
         "type": "scatter",
         "x": [
          1962
         ],
         "xaxis": "x",
         "y": [
          1
         ],
         "yaxis": "y"
        },
        {
         "hovertemplate": "<b>%{hovertext}</b><br><br>birth_country_current=Bangladesh<br>year=%{x}<br>prize=%{y}<extra></extra>",
         "hovertext": [
          "Bangladesh"
         ],
         "legendgroup": "Bangladesh",
         "line": {
          "color": "#19d3f3",
          "dash": "solid"
         },
         "mode": "lines",
         "name": "Bangladesh",
         "orientation": "v",
         "showlegend": true,
         "type": "scatter",
         "x": [
          2006
         ],
         "xaxis": "x",
         "y": [
          1
         ],
         "yaxis": "y"
        },
        {
         "hovertemplate": "<b>%{hovertext}</b><br><br>birth_country_current=Belarus<br>year=%{x}<br>prize=%{y}<extra></extra>",
         "hovertext": [
          "Belarus",
          "Belarus",
          "Belarus",
          "Belarus"
         ],
         "legendgroup": "Belarus",
         "line": {
          "color": "#FF6692",
          "dash": "solid"
         },
         "mode": "lines",
         "name": "Belarus",
         "orientation": "v",
         "showlegend": true,
         "type": "scatter",
         "x": [
          1971,
          1978,
          1994,
          2000
         ],
         "xaxis": "x",
         "y": [
          1,
          2,
          3,
          4
         ],
         "yaxis": "y"
        },
        {
         "hovertemplate": "<b>%{hovertext}</b><br><br>birth_country_current=Belgium<br>year=%{x}<br>prize=%{y}<extra></extra>",
         "hovertext": [
          "Belgium",
          "Belgium",
          "Belgium",
          "Belgium",
          "Belgium",
          "Belgium",
          "Belgium",
          "Belgium",
          "Belgium"
         ],
         "legendgroup": "Belgium",
         "line": {
          "color": "#B6E880",
          "dash": "solid"
         },
         "mode": "lines",
         "name": "Belgium",
         "orientation": "v",
         "showlegend": true,
         "type": "scatter",
         "x": [
          1909,
          1911,
          1913,
          1919,
          1938,
          1958,
          1974,
          2005,
          2013
         ],
         "xaxis": "x",
         "y": [
          1,
          2,
          3,
          4,
          5,
          6,
          7,
          8,
          9
         ],
         "yaxis": "y"
        },
        {
         "hovertemplate": "<b>%{hovertext}</b><br><br>birth_country_current=Bosnia and Herzegovina<br>year=%{x}<br>prize=%{y}<extra></extra>",
         "hovertext": [
          "Bosnia and Herzegovina",
          "Bosnia and Herzegovina"
         ],
         "legendgroup": "Bosnia and Herzegovina",
         "line": {
          "color": "#FF97FF",
          "dash": "solid"
         },
         "mode": "lines",
         "name": "Bosnia and Herzegovina",
         "orientation": "v",
         "showlegend": true,
         "type": "scatter",
         "x": [
          1961,
          1975
         ],
         "xaxis": "x",
         "y": [
          1,
          2
         ],
         "yaxis": "y"
        },
        {
         "hovertemplate": "<b>%{hovertext}</b><br><br>birth_country_current=Brazil<br>year=%{x}<br>prize=%{y}<extra></extra>",
         "hovertext": [
          "Brazil"
         ],
         "legendgroup": "Brazil",
         "line": {
          "color": "#FECB52",
          "dash": "solid"
         },
         "mode": "lines",
         "name": "Brazil",
         "orientation": "v",
         "showlegend": true,
         "type": "scatter",
         "x": [
          1960
         ],
         "xaxis": "x",
         "y": [
          1
         ],
         "yaxis": "y"
        },
        {
         "hovertemplate": "<b>%{hovertext}</b><br><br>birth_country_current=Bulgaria<br>year=%{x}<br>prize=%{y}<extra></extra>",
         "hovertext": [
          "Bulgaria"
         ],
         "legendgroup": "Bulgaria",
         "line": {
          "color": "#636efa",
          "dash": "solid"
         },
         "mode": "lines",
         "name": "Bulgaria",
         "orientation": "v",
         "showlegend": true,
         "type": "scatter",
         "x": [
          1981
         ],
         "xaxis": "x",
         "y": [
          1
         ],
         "yaxis": "y"
        },
        {
         "hovertemplate": "<b>%{hovertext}</b><br><br>birth_country_current=Canada<br>year=%{x}<br>prize=%{y}<extra></extra>",
         "hovertext": [
          "Canada",
          "Canada",
          "Canada",
          "Canada",
          "Canada",
          "Canada",
          "Canada",
          "Canada",
          "Canada",
          "Canada",
          "Canada",
          "Canada",
          "Canada",
          "Canada",
          "Canada",
          "Canada",
          "Canada",
          "Canada",
          "Canada",
          "Canada"
         ],
         "legendgroup": "Canada",
         "line": {
          "color": "#EF553B",
          "dash": "solid"
         },
         "mode": "lines",
         "name": "Canada",
         "orientation": "v",
         "showlegend": true,
         "type": "scatter",
         "x": [
          1923,
          1949,
          1957,
          1966,
          1976,
          1981,
          1983,
          1989,
          1990,
          1992,
          1994,
          1996,
          1997,
          1999,
          2009,
          2011,
          2013,
          2015,
          2018,
          2019
         ],
         "xaxis": "x",
         "y": [
          1,
          2,
          3,
          4,
          5,
          6,
          7,
          8,
          9,
          10,
          11,
          12,
          13,
          14,
          15,
          16,
          17,
          18,
          19,
          20
         ],
         "yaxis": "y"
        },
        {
         "hovertemplate": "<b>%{hovertext}</b><br><br>birth_country_current=Chile<br>year=%{x}<br>prize=%{y}<extra></extra>",
         "hovertext": [
          "Chile",
          "Chile"
         ],
         "legendgroup": "Chile",
         "line": {
          "color": "#00cc96",
          "dash": "solid"
         },
         "mode": "lines",
         "name": "Chile",
         "orientation": "v",
         "showlegend": true,
         "type": "scatter",
         "x": [
          1945,
          1971
         ],
         "xaxis": "x",
         "y": [
          1,
          2
         ],
         "yaxis": "y"
        },
        {
         "hovertemplate": "<b>%{hovertext}</b><br><br>birth_country_current=China<br>year=%{x}<br>prize=%{y}<extra></extra>",
         "hovertext": [
          "China",
          "China",
          "China",
          "China",
          "China",
          "China",
          "China",
          "China",
          "China",
          "China"
         ],
         "legendgroup": "China",
         "line": {
          "color": "#ab63fa",
          "dash": "solid"
         },
         "mode": "lines",
         "name": "China",
         "orientation": "v",
         "showlegend": true,
         "type": "scatter",
         "x": [
          1956,
          1957,
          1989,
          1992,
          1998,
          2000,
          2009,
          2010,
          2012,
          2015
         ],
         "xaxis": "x",
         "y": [
          1,
          3,
          4,
          5,
          6,
          7,
          8,
          10,
          11,
          12
         ],
         "yaxis": "y"
        },
        {
         "hovertemplate": "<b>%{hovertext}</b><br><br>birth_country_current=Colombia<br>year=%{x}<br>prize=%{y}<extra></extra>",
         "hovertext": [
          "Colombia",
          "Colombia"
         ],
         "legendgroup": "Colombia",
         "line": {
          "color": "#FFA15A",
          "dash": "solid"
         },
         "mode": "lines",
         "name": "Colombia",
         "orientation": "v",
         "showlegend": true,
         "type": "scatter",
         "x": [
          1982,
          2016
         ],
         "xaxis": "x",
         "y": [
          1,
          2
         ],
         "yaxis": "y"
        },
        {
         "hovertemplate": "<b>%{hovertext}</b><br><br>birth_country_current=Costa Rica<br>year=%{x}<br>prize=%{y}<extra></extra>",
         "hovertext": [
          "Costa Rica"
         ],
         "legendgroup": "Costa Rica",
         "line": {
          "color": "#19d3f3",
          "dash": "solid"
         },
         "mode": "lines",
         "name": "Costa Rica",
         "orientation": "v",
         "showlegend": true,
         "type": "scatter",
         "x": [
          1987
         ],
         "xaxis": "x",
         "y": [
          1
         ],
         "yaxis": "y"
        },
        {
         "hovertemplate": "<b>%{hovertext}</b><br><br>birth_country_current=Croatia<br>year=%{x}<br>prize=%{y}<extra></extra>",
         "hovertext": [
          "Croatia"
         ],
         "legendgroup": "Croatia",
         "line": {
          "color": "#FF6692",
          "dash": "solid"
         },
         "mode": "lines",
         "name": "Croatia",
         "orientation": "v",
         "showlegend": true,
         "type": "scatter",
         "x": [
          1939
         ],
         "xaxis": "x",
         "y": [
          1
         ],
         "yaxis": "y"
        },
        {
         "hovertemplate": "<b>%{hovertext}</b><br><br>birth_country_current=Cyprus<br>year=%{x}<br>prize=%{y}<extra></extra>",
         "hovertext": [
          "Cyprus"
         ],
         "legendgroup": "Cyprus",
         "line": {
          "color": "#B6E880",
          "dash": "solid"
         },
         "mode": "lines",
         "name": "Cyprus",
         "orientation": "v",
         "showlegend": true,
         "type": "scatter",
         "x": [
          2010
         ],
         "xaxis": "x",
         "y": [
          1
         ],
         "yaxis": "y"
        },
        {
         "hovertemplate": "<b>%{hovertext}</b><br><br>birth_country_current=Czech Republic<br>year=%{x}<br>prize=%{y}<extra></extra>",
         "hovertext": [
          "Czech Republic",
          "Czech Republic",
          "Czech Republic",
          "Czech Republic",
          "Czech Republic"
         ],
         "legendgroup": "Czech Republic",
         "line": {
          "color": "#FF97FF",
          "dash": "solid"
         },
         "mode": "lines",
         "name": "Czech Republic",
         "orientation": "v",
         "showlegend": true,
         "type": "scatter",
         "x": [
          1905,
          1947,
          1959,
          1984,
          2007
         ],
         "xaxis": "x",
         "y": [
          1,
          3,
          4,
          5,
          6
         ],
         "yaxis": "y"
        },
        {
         "hovertemplate": "<b>%{hovertext}</b><br><br>birth_country_current=Democratic Republic of the Congo<br>year=%{x}<br>prize=%{y}<extra></extra>",
         "hovertext": [
          "Democratic Republic of the Congo"
         ],
         "legendgroup": "Democratic Republic of the Congo",
         "line": {
          "color": "#FECB52",
          "dash": "solid"
         },
         "mode": "lines",
         "name": "Democratic Republic of the Congo",
         "orientation": "v",
         "showlegend": true,
         "type": "scatter",
         "x": [
          2018
         ],
         "xaxis": "x",
         "y": [
          1
         ],
         "yaxis": "y"
        },
        {
         "hovertemplate": "<b>%{hovertext}</b><br><br>birth_country_current=Denmark<br>year=%{x}<br>prize=%{y}<extra></extra>",
         "hovertext": [
          "Denmark",
          "Denmark",
          "Denmark",
          "Denmark",
          "Denmark",
          "Denmark",
          "Denmark",
          "Denmark",
          "Denmark",
          "Denmark",
          "Denmark"
         ],
         "legendgroup": "Denmark",
         "line": {
          "color": "#636efa",
          "dash": "solid"
         },
         "mode": "lines",
         "name": "Denmark",
         "orientation": "v",
         "showlegend": true,
         "type": "scatter",
         "x": [
          1903,
          1908,
          1917,
          1920,
          1922,
          1926,
          1928,
          1943,
          1944,
          1975,
          1997
         ],
         "xaxis": "x",
         "y": [
          1,
          2,
          4,
          5,
          6,
          7,
          8,
          9,
          10,
          11,
          12
         ],
         "yaxis": "y"
        },
        {
         "hovertemplate": "<b>%{hovertext}</b><br><br>birth_country_current=East Timor<br>year=%{x}<br>prize=%{y}<extra></extra>",
         "hovertext": [
          "East Timor"
         ],
         "legendgroup": "East Timor",
         "line": {
          "color": "#EF553B",
          "dash": "solid"
         },
         "mode": "lines",
         "name": "East Timor",
         "orientation": "v",
         "showlegend": true,
         "type": "scatter",
         "x": [
          1996
         ],
         "xaxis": "x",
         "y": [
          2
         ],
         "yaxis": "y"
        },
        {
         "hovertemplate": "<b>%{hovertext}</b><br><br>birth_country_current=Egypt<br>year=%{x}<br>prize=%{y}<extra></extra>",
         "hovertext": [
          "Egypt",
          "Egypt",
          "Egypt",
          "Egypt",
          "Egypt",
          "Egypt"
         ],
         "legendgroup": "Egypt",
         "line": {
          "color": "#00cc96",
          "dash": "solid"
         },
         "mode": "lines",
         "name": "Egypt",
         "orientation": "v",
         "showlegend": true,
         "type": "scatter",
         "x": [
          1964,
          1978,
          1988,
          1994,
          1999,
          2005
         ],
         "xaxis": "x",
         "y": [
          1,
          2,
          3,
          4,
          5,
          6
         ],
         "yaxis": "y"
        },
        {
         "hovertemplate": "<b>%{hovertext}</b><br><br>birth_country_current=Ethiopia<br>year=%{x}<br>prize=%{y}<extra></extra>",
         "hovertext": [
          "Ethiopia"
         ],
         "legendgroup": "Ethiopia",
         "line": {
          "color": "#ab63fa",
          "dash": "solid"
         },
         "mode": "lines",
         "name": "Ethiopia",
         "orientation": "v",
         "showlegend": true,
         "type": "scatter",
         "x": [
          2019
         ],
         "xaxis": "x",
         "y": [
          1
         ],
         "yaxis": "y"
        },
        {
         "hovertemplate": "<b>%{hovertext}</b><br><br>birth_country_current=Finland<br>year=%{x}<br>prize=%{y}<extra></extra>",
         "hovertext": [
          "Finland",
          "Finland",
          "Finland",
          "Finland",
          "Finland"
         ],
         "legendgroup": "Finland",
         "line": {
          "color": "#FFA15A",
          "dash": "solid"
         },
         "mode": "lines",
         "name": "Finland",
         "orientation": "v",
         "showlegend": true,
         "type": "scatter",
         "x": [
          1939,
          1945,
          1967,
          2008,
          2016
         ],
         "xaxis": "x",
         "y": [
          1,
          2,
          3,
          4,
          5
         ],
         "yaxis": "y"
        },
        {
         "hovertemplate": "<b>%{hovertext}</b><br><br>birth_country_current=France<br>year=%{x}<br>prize=%{y}<extra></extra>",
         "hovertext": [
          "France",
          "France",
          "France",
          "France",
          "France",
          "France",
          "France",
          "France",
          "France",
          "France",
          "France",
          "France",
          "France",
          "France",
          "France",
          "France",
          "France",
          "France",
          "France",
          "France",
          "France",
          "France",
          "France",
          "France",
          "France",
          "France",
          "France",
          "France",
          "France",
          "France",
          "France",
          "France",
          "France",
          "France",
          "France",
          "France",
          "France",
          "France",
          "France",
          "France",
          "France"
         ],
         "legendgroup": "France",
         "line": {
          "color": "#19d3f3",
          "dash": "solid"
         },
         "mode": "lines",
         "name": "France",
         "orientation": "v",
         "showlegend": true,
         "type": "scatter",
         "x": [
          1901,
          1903,
          1904,
          1906,
          1907,
          1909,
          1912,
          1913,
          1915,
          1920,
          1921,
          1926,
          1927,
          1928,
          1929,
          1935,
          1937,
          1947,
          1951,
          1952,
          1956,
          1964,
          1965,
          1966,
          1967,
          1968,
          1970,
          1974,
          1977,
          1980,
          1983,
          1987,
          1988,
          1991,
          2007,
          2008,
          2014,
          2016,
          2018,
          2019,
          2020
         ],
         "xaxis": "x",
         "y": [
          2,
          4,
          5,
          6,
          8,
          9,
          12,
          14,
          15,
          16,
          17,
          19,
          21,
          22,
          23,
          25,
          26,
          27,
          28,
          30,
          31,
          32,
          35,
          36,
          37,
          38,
          40,
          41,
          42,
          43,
          44,
          45,
          46,
          47,
          48,
          51,
          53,
          54,
          55,
          56,
          57
         ],
         "yaxis": "y"
        },
        {
         "hovertemplate": "<b>%{hovertext}</b><br><br>birth_country_current=Germany<br>year=%{x}<br>prize=%{y}<extra></extra>",
         "hovertext": [
          "Germany",
          "Germany",
          "Germany",
          "Germany",
          "Germany",
          "Germany",
          "Germany",
          "Germany",
          "Germany",
          "Germany",
          "Germany",
          "Germany",
          "Germany",
          "Germany",
          "Germany",
          "Germany",
          "Germany",
          "Germany",
          "Germany",
          "Germany",
          "Germany",
          "Germany",
          "Germany",
          "Germany",
          "Germany",
          "Germany",
          "Germany",
          "Germany",
          "Germany",
          "Germany",
          "Germany",
          "Germany",
          "Germany",
          "Germany",
          "Germany",
          "Germany",
          "Germany",
          "Germany",
          "Germany",
          "Germany",
          "Germany",
          "Germany",
          "Germany",
          "Germany",
          "Germany",
          "Germany",
          "Germany",
          "Germany",
          "Germany",
          "Germany",
          "Germany",
          "Germany",
          "Germany",
          "Germany",
          "Germany",
          "Germany",
          "Germany",
          "Germany",
          "Germany",
          "Germany",
          "Germany",
          "Germany",
          "Germany"
         ],
         "legendgroup": "Germany",
         "line": {
          "color": "#FF6692",
          "dash": "solid"
         },
         "mode": "lines",
         "name": "Germany",
         "orientation": "v",
         "showlegend": true,
         "type": "scatter",
         "x": [
          1901,
          1902,
          1905,
          1907,
          1908,
          1909,
          1910,
          1912,
          1914,
          1915,
          1918,
          1919,
          1920,
          1921,
          1922,
          1925,
          1926,
          1927,
          1928,
          1929,
          1930,
          1931,
          1932,
          1935,
          1936,
          1939,
          1944,
          1945,
          1946,
          1950,
          1953,
          1954,
          1955,
          1956,
          1961,
          1963,
          1964,
          1966,
          1967,
          1969,
          1970,
          1971,
          1972,
          1973,
          1978,
          1979,
          1984,
          1986,
          1987,
          1988,
          1989,
          1991,
          1995,
          1998,
          2000,
          2001,
          2005,
          2007,
          2008,
          2013,
          2017,
          2019,
          2020
         ],
         "xaxis": "x",
         "y": [
          1,
          3,
          5,
          6,
          7,
          8,
          10,
          11,
          12,
          13,
          14,
          15,
          16,
          17,
          18,
          20,
          21,
          23,
          24,
          26,
          27,
          29,
          30,
          32,
          33,
          34,
          35,
          36,
          37,
          38,
          40,
          41,
          42,
          43,
          44,
          46,
          47,
          48,
          49,
          50,
          51,
          53,
          54,
          56,
          57,
          58,
          59,
          62,
          63,
          67,
          69,
          71,
          72,
          73,
          74,
          75,
          77,
          78,
          79,
          80,
          82,
          83,
          84
         ],
         "yaxis": "y"
        },
        {
         "hovertemplate": "<b>%{hovertext}</b><br><br>birth_country_current=Ghana<br>year=%{x}<br>prize=%{y}<extra></extra>",
         "hovertext": [
          "Ghana"
         ],
         "legendgroup": "Ghana",
         "line": {
          "color": "#B6E880",
          "dash": "solid"
         },
         "mode": "lines",
         "name": "Ghana",
         "orientation": "v",
         "showlegend": true,
         "type": "scatter",
         "x": [
          2001
         ],
         "xaxis": "x",
         "y": [
          1
         ],
         "yaxis": "y"
        },
        {
         "hovertemplate": "<b>%{hovertext}</b><br><br>birth_country_current=Greece<br>year=%{x}<br>prize=%{y}<extra></extra>",
         "hovertext": [
          "Greece"
         ],
         "legendgroup": "Greece",
         "line": {
          "color": "#FF97FF",
          "dash": "solid"
         },
         "mode": "lines",
         "name": "Greece",
         "orientation": "v",
         "showlegend": true,
         "type": "scatter",
         "x": [
          1979
         ],
         "xaxis": "x",
         "y": [
          1
         ],
         "yaxis": "y"
        },
        {
         "hovertemplate": "<b>%{hovertext}</b><br><br>birth_country_current=Guadeloupe Island<br>year=%{x}<br>prize=%{y}<extra></extra>",
         "hovertext": [
          "Guadeloupe Island"
         ],
         "legendgroup": "Guadeloupe Island",
         "line": {
          "color": "#FECB52",
          "dash": "solid"
         },
         "mode": "lines",
         "name": "Guadeloupe Island",
         "orientation": "v",
         "showlegend": true,
         "type": "scatter",
         "x": [
          1960
         ],
         "xaxis": "x",
         "y": [
          1
         ],
         "yaxis": "y"
        },
        {
         "hovertemplate": "<b>%{hovertext}</b><br><br>birth_country_current=Guatemala<br>year=%{x}<br>prize=%{y}<extra></extra>",
         "hovertext": [
          "Guatemala",
          "Guatemala"
         ],
         "legendgroup": "Guatemala",
         "line": {
          "color": "#636efa",
          "dash": "solid"
         },
         "mode": "lines",
         "name": "Guatemala",
         "orientation": "v",
         "showlegend": true,
         "type": "scatter",
         "x": [
          1967,
          1992
         ],
         "xaxis": "x",
         "y": [
          1,
          2
         ],
         "yaxis": "y"
        },
        {
         "hovertemplate": "<b>%{hovertext}</b><br><br>birth_country_current=Hungary<br>year=%{x}<br>prize=%{y}<extra></extra>",
         "hovertext": [
          "Hungary",
          "Hungary",
          "Hungary",
          "Hungary",
          "Hungary",
          "Hungary",
          "Hungary",
          "Hungary"
         ],
         "legendgroup": "Hungary",
         "line": {
          "color": "#EF553B",
          "dash": "solid"
         },
         "mode": "lines",
         "name": "Hungary",
         "orientation": "v",
         "showlegend": true,
         "type": "scatter",
         "x": [
          1937,
          1943,
          1961,
          1963,
          1971,
          1994,
          2002,
          2004
         ],
         "xaxis": "x",
         "y": [
          1,
          2,
          3,
          4,
          5,
          7,
          8,
          9
         ],
         "yaxis": "y"
        },
        {
         "hovertemplate": "<b>%{hovertext}</b><br><br>birth_country_current=Iceland<br>year=%{x}<br>prize=%{y}<extra></extra>",
         "hovertext": [
          "Iceland"
         ],
         "legendgroup": "Iceland",
         "line": {
          "color": "#00cc96",
          "dash": "solid"
         },
         "mode": "lines",
         "name": "Iceland",
         "orientation": "v",
         "showlegend": true,
         "type": "scatter",
         "x": [
          1955
         ],
         "xaxis": "x",
         "y": [
          1
         ],
         "yaxis": "y"
        },
        {
         "hovertemplate": "<b>%{hovertext}</b><br><br>birth_country_current=India<br>year=%{x}<br>prize=%{y}<extra></extra>",
         "hovertext": [
          "India",
          "India",
          "India",
          "India",
          "India",
          "India",
          "India",
          "India",
          "India"
         ],
         "legendgroup": "India",
         "line": {
          "color": "#ab63fa",
          "dash": "solid"
         },
         "mode": "lines",
         "name": "India",
         "orientation": "v",
         "showlegend": true,
         "type": "scatter",
         "x": [
          1902,
          1907,
          1913,
          1930,
          1968,
          1998,
          2009,
          2014,
          2019
         ],
         "xaxis": "x",
         "y": [
          1,
          2,
          3,
          4,
          5,
          6,
          7,
          8,
          9
         ],
         "yaxis": "y"
        },
        {
         "hovertemplate": "<b>%{hovertext}</b><br><br>birth_country_current=Indonesia<br>year=%{x}<br>prize=%{y}<extra></extra>",
         "hovertext": [
          "Indonesia"
         ],
         "legendgroup": "Indonesia",
         "line": {
          "color": "#FFA15A",
          "dash": "solid"
         },
         "mode": "lines",
         "name": "Indonesia",
         "orientation": "v",
         "showlegend": true,
         "type": "scatter",
         "x": [
          1924
         ],
         "xaxis": "x",
         "y": [
          1
         ],
         "yaxis": "y"
        },
        {
         "hovertemplate": "<b>%{hovertext}</b><br><br>birth_country_current=Iran<br>year=%{x}<br>prize=%{y}<extra></extra>",
         "hovertext": [
          "Iran",
          "Iran"
         ],
         "legendgroup": "Iran",
         "line": {
          "color": "#19d3f3",
          "dash": "solid"
         },
         "mode": "lines",
         "name": "Iran",
         "orientation": "v",
         "showlegend": true,
         "type": "scatter",
         "x": [
          2003,
          2007
         ],
         "xaxis": "x",
         "y": [
          1,
          2
         ],
         "yaxis": "y"
        },
        {
         "hovertemplate": "<b>%{hovertext}</b><br><br>birth_country_current=Iraq<br>year=%{x}<br>prize=%{y}<extra></extra>",
         "hovertext": [
          "Iraq"
         ],
         "legendgroup": "Iraq",
         "line": {
          "color": "#FF6692",
          "dash": "solid"
         },
         "mode": "lines",
         "name": "Iraq",
         "orientation": "v",
         "showlegend": true,
         "type": "scatter",
         "x": [
          2018
         ],
         "xaxis": "x",
         "y": [
          1
         ],
         "yaxis": "y"
        },
        {
         "hovertemplate": "<b>%{hovertext}</b><br><br>birth_country_current=Ireland<br>year=%{x}<br>prize=%{y}<extra></extra>",
         "hovertext": [
          "Ireland",
          "Ireland",
          "Ireland",
          "Ireland",
          "Ireland"
         ],
         "legendgroup": "Ireland",
         "line": {
          "color": "#B6E880",
          "dash": "solid"
         },
         "mode": "lines",
         "name": "Ireland",
         "orientation": "v",
         "showlegend": true,
         "type": "scatter",
         "x": [
          1923,
          1925,
          1951,
          1969,
          2015
         ],
         "xaxis": "x",
         "y": [
          1,
          2,
          3,
          4,
          5
         ],
         "yaxis": "y"
        },
        {
         "hovertemplate": "<b>%{hovertext}</b><br><br>birth_country_current=Israel<br>year=%{x}<br>prize=%{y}<extra></extra>",
         "hovertext": [
          "Israel",
          "Israel",
          "Israel",
          "Israel",
          "Israel",
          "Israel"
         ],
         "legendgroup": "Israel",
         "line": {
          "color": "#FF97FF",
          "dash": "solid"
         },
         "mode": "lines",
         "name": "Israel",
         "orientation": "v",
         "showlegend": true,
         "type": "scatter",
         "x": [
          1994,
          2002,
          2004,
          2009,
          2011,
          2013
         ],
         "xaxis": "x",
         "y": [
          1,
          2,
          3,
          4,
          5,
          6
         ],
         "yaxis": "y"
        },
        {
         "hovertemplate": "<b>%{hovertext}</b><br><br>birth_country_current=Italy<br>year=%{x}<br>prize=%{y}<extra></extra>",
         "hovertext": [
          "Italy",
          "Italy",
          "Italy",
          "Italy",
          "Italy",
          "Italy",
          "Italy",
          "Italy",
          "Italy",
          "Italy",
          "Italy",
          "Italy",
          "Italy",
          "Italy",
          "Italy",
          "Italy"
         ],
         "legendgroup": "Italy",
         "line": {
          "color": "#FECB52",
          "dash": "solid"
         },
         "mode": "lines",
         "name": "Italy",
         "orientation": "v",
         "showlegend": true,
         "type": "scatter",
         "x": [
          1906,
          1907,
          1909,
          1926,
          1934,
          1938,
          1959,
          1963,
          1969,
          1975,
          1984,
          1985,
          1986,
          1997,
          2002,
          2007
         ],
         "xaxis": "x",
         "y": [
          2,
          3,
          4,
          5,
          6,
          7,
          9,
          10,
          11,
          13,
          14,
          15,
          16,
          17,
          18,
          19
         ],
         "yaxis": "y"
        },
        {
         "hovertemplate": "<b>%{hovertext}</b><br><br>birth_country_current=Japan<br>year=%{x}<br>prize=%{y}<extra></extra>",
         "hovertext": [
          "Japan",
          "Japan",
          "Japan",
          "Japan",
          "Japan",
          "Japan",
          "Japan",
          "Japan",
          "Japan",
          "Japan",
          "Japan",
          "Japan",
          "Japan",
          "Japan",
          "Japan",
          "Japan",
          "Japan",
          "Japan",
          "Japan",
          "Japan"
         ],
         "legendgroup": "Japan",
         "line": {
          "color": "#636efa",
          "dash": "solid"
         },
         "mode": "lines",
         "name": "Japan",
         "orientation": "v",
         "showlegend": true,
         "type": "scatter",
         "x": [
          1949,
          1965,
          1968,
          1973,
          1974,
          1981,
          1987,
          1994,
          2000,
          2001,
          2002,
          2008,
          2010,
          2012,
          2014,
          2015,
          2016,
          2017,
          2018,
          2019
         ],
         "xaxis": "x",
         "y": [
          1,
          2,
          3,
          4,
          5,
          6,
          7,
          8,
          9,
          10,
          12,
          16,
          17,
          18,
          21,
          23,
          24,
          25,
          26,
          27
         ],
         "yaxis": "y"
        },
        {
         "hovertemplate": "<b>%{hovertext}</b><br><br>birth_country_current=Kenya<br>year=%{x}<br>prize=%{y}<extra></extra>",
         "hovertext": [
          "Kenya"
         ],
         "legendgroup": "Kenya",
         "line": {
          "color": "#EF553B",
          "dash": "solid"
         },
         "mode": "lines",
         "name": "Kenya",
         "orientation": "v",
         "showlegend": true,
         "type": "scatter",
         "x": [
          2004
         ],
         "xaxis": "x",
         "y": [
          1
         ],
         "yaxis": "y"
        },
        {
         "hovertemplate": "<b>%{hovertext}</b><br><br>birth_country_current=Korea (South Korea)<br>year=%{x}<br>prize=%{y}<extra></extra>",
         "hovertext": [
          "Korea (South Korea)",
          "Korea (South Korea)"
         ],
         "legendgroup": "Korea (South Korea)",
         "line": {
          "color": "#00cc96",
          "dash": "solid"
         },
         "mode": "lines",
         "name": "Korea (South Korea)",
         "orientation": "v",
         "showlegend": true,
         "type": "scatter",
         "x": [
          1987,
          2000
         ],
         "xaxis": "x",
         "y": [
          1,
          2
         ],
         "yaxis": "y"
        },
        {
         "hovertemplate": "<b>%{hovertext}</b><br><br>birth_country_current=Latvia<br>year=%{x}<br>prize=%{y}<extra></extra>",
         "hovertext": [
          "Latvia"
         ],
         "legendgroup": "Latvia",
         "line": {
          "color": "#ab63fa",
          "dash": "solid"
         },
         "mode": "lines",
         "name": "Latvia",
         "orientation": "v",
         "showlegend": true,
         "type": "scatter",
         "x": [
          1909
         ],
         "xaxis": "x",
         "y": [
          1
         ],
         "yaxis": "y"
        },
        {
         "hovertemplate": "<b>%{hovertext}</b><br><br>birth_country_current=Liberia<br>year=%{x}<br>prize=%{y}<extra></extra>",
         "hovertext": [
          "Liberia"
         ],
         "legendgroup": "Liberia",
         "line": {
          "color": "#FFA15A",
          "dash": "solid"
         },
         "mode": "lines",
         "name": "Liberia",
         "orientation": "v",
         "showlegend": true,
         "type": "scatter",
         "x": [
          2011
         ],
         "xaxis": "x",
         "y": [
          2
         ],
         "yaxis": "y"
        },
        {
         "hovertemplate": "<b>%{hovertext}</b><br><br>birth_country_current=Lithuania<br>year=%{x}<br>prize=%{y}<extra></extra>",
         "hovertext": [
          "Lithuania",
          "Lithuania",
          "Lithuania"
         ],
         "legendgroup": "Lithuania",
         "line": {
          "color": "#19d3f3",
          "dash": "solid"
         },
         "mode": "lines",
         "name": "Lithuania",
         "orientation": "v",
         "showlegend": true,
         "type": "scatter",
         "x": [
          1977,
          1980,
          1982
         ],
         "xaxis": "x",
         "y": [
          1,
          2,
          3
         ],
         "yaxis": "y"
        },
        {
         "hovertemplate": "<b>%{hovertext}</b><br><br>birth_country_current=Luxembourg<br>year=%{x}<br>prize=%{y}<extra></extra>",
         "hovertext": [
          "Luxembourg",
          "Luxembourg"
         ],
         "legendgroup": "Luxembourg",
         "line": {
          "color": "#FF6692",
          "dash": "solid"
         },
         "mode": "lines",
         "name": "Luxembourg",
         "orientation": "v",
         "showlegend": true,
         "type": "scatter",
         "x": [
          1908,
          2011
         ],
         "xaxis": "x",
         "y": [
          1,
          2
         ],
         "yaxis": "y"
        },
        {
         "hovertemplate": "<b>%{hovertext}</b><br><br>birth_country_current=Madagascar<br>year=%{x}<br>prize=%{y}<extra></extra>",
         "hovertext": [
          "Madagascar"
         ],
         "legendgroup": "Madagascar",
         "line": {
          "color": "#B6E880",
          "dash": "solid"
         },
         "mode": "lines",
         "name": "Madagascar",
         "orientation": "v",
         "showlegend": true,
         "type": "scatter",
         "x": [
          1985
         ],
         "xaxis": "x",
         "y": [
          1
         ],
         "yaxis": "y"
        },
        {
         "hovertemplate": "<b>%{hovertext}</b><br><br>birth_country_current=Mexico<br>year=%{x}<br>prize=%{y}<extra></extra>",
         "hovertext": [
          "Mexico",
          "Mexico",
          "Mexico"
         ],
         "legendgroup": "Mexico",
         "line": {
          "color": "#FF97FF",
          "dash": "solid"
         },
         "mode": "lines",
         "name": "Mexico",
         "orientation": "v",
         "showlegend": true,
         "type": "scatter",
         "x": [
          1982,
          1990,
          1995
         ],
         "xaxis": "x",
         "y": [
          1,
          2,
          3
         ],
         "yaxis": "y"
        },
        {
         "hovertemplate": "<b>%{hovertext}</b><br><br>birth_country_current=Morocco<br>year=%{x}<br>prize=%{y}<extra></extra>",
         "hovertext": [
          "Morocco"
         ],
         "legendgroup": "Morocco",
         "line": {
          "color": "#FECB52",
          "dash": "solid"
         },
         "mode": "lines",
         "name": "Morocco",
         "orientation": "v",
         "showlegend": true,
         "type": "scatter",
         "x": [
          2012
         ],
         "xaxis": "x",
         "y": [
          1
         ],
         "yaxis": "y"
        },
        {
         "hovertemplate": "<b>%{hovertext}</b><br><br>birth_country_current=Myanmar<br>year=%{x}<br>prize=%{y}<extra></extra>",
         "hovertext": [
          "Myanmar"
         ],
         "legendgroup": "Myanmar",
         "line": {
          "color": "#636efa",
          "dash": "solid"
         },
         "mode": "lines",
         "name": "Myanmar",
         "orientation": "v",
         "showlegend": true,
         "type": "scatter",
         "x": [
          1991
         ],
         "xaxis": "x",
         "y": [
          1
         ],
         "yaxis": "y"
        },
        {
         "hovertemplate": "<b>%{hovertext}</b><br><br>birth_country_current=Netherlands<br>year=%{x}<br>prize=%{y}<extra></extra>",
         "hovertext": [
          "Netherlands",
          "Netherlands",
          "Netherlands",
          "Netherlands",
          "Netherlands",
          "Netherlands",
          "Netherlands",
          "Netherlands",
          "Netherlands",
          "Netherlands",
          "Netherlands",
          "Netherlands",
          "Netherlands",
          "Netherlands",
          "Netherlands",
          "Netherlands"
         ],
         "legendgroup": "Netherlands",
         "line": {
          "color": "#EF553B",
          "dash": "solid"
         },
         "mode": "lines",
         "name": "Netherlands",
         "orientation": "v",
         "showlegend": true,
         "type": "scatter",
         "x": [
          1901,
          1902,
          1910,
          1911,
          1913,
          1929,
          1936,
          1953,
          1969,
          1973,
          1975,
          1981,
          1984,
          1995,
          1999,
          2016
         ],
         "xaxis": "x",
         "y": [
          1,
          3,
          4,
          5,
          6,
          7,
          8,
          9,
          10,
          11,
          12,
          13,
          14,
          15,
          17,
          18
         ],
         "yaxis": "y"
        },
        {
         "hovertemplate": "<b>%{hovertext}</b><br><br>birth_country_current=New Zealand<br>year=%{x}<br>prize=%{y}<extra></extra>",
         "hovertext": [
          "New Zealand",
          "New Zealand",
          "New Zealand"
         ],
         "legendgroup": "New Zealand",
         "line": {
          "color": "#00cc96",
          "dash": "solid"
         },
         "mode": "lines",
         "name": "New Zealand",
         "orientation": "v",
         "showlegend": true,
         "type": "scatter",
         "x": [
          1908,
          1962,
          2000
         ],
         "xaxis": "x",
         "y": [
          1,
          2,
          3
         ],
         "yaxis": "y"
        },
        {
         "hovertemplate": "<b>%{hovertext}</b><br><br>birth_country_current=Nigeria<br>year=%{x}<br>prize=%{y}<extra></extra>",
         "hovertext": [
          "Nigeria"
         ],
         "legendgroup": "Nigeria",
         "line": {
          "color": "#ab63fa",
          "dash": "solid"
         },
         "mode": "lines",
         "name": "Nigeria",
         "orientation": "v",
         "showlegend": true,
         "type": "scatter",
         "x": [
          1986
         ],
         "xaxis": "x",
         "y": [
          1
         ],
         "yaxis": "y"
        },
        {
         "hovertemplate": "<b>%{hovertext}</b><br><br>birth_country_current=Norway<br>year=%{x}<br>prize=%{y}<extra></extra>",
         "hovertext": [
          "Norway",
          "Norway",
          "Norway",
          "Norway",
          "Norway",
          "Norway",
          "Norway",
          "Norway",
          "Norway",
          "Norway"
         ],
         "legendgroup": "Norway",
         "line": {
          "color": "#FFA15A",
          "dash": "solid"
         },
         "mode": "lines",
         "name": "Norway",
         "orientation": "v",
         "showlegend": true,
         "type": "scatter",
         "x": [
          1903,
          1920,
          1921,
          1922,
          1968,
          1969,
          1973,
          1989,
          2004,
          2014
         ],
         "xaxis": "x",
         "y": [
          1,
          2,
          3,
          4,
          5,
          7,
          8,
          9,
          10,
          12
         ],
         "yaxis": "y"
        },
        {
         "hovertemplate": "<b>%{hovertext}</b><br><br>birth_country_current=Pakistan<br>year=%{x}<br>prize=%{y}<extra></extra>",
         "hovertext": [
          "Pakistan",
          "Pakistan",
          "Pakistan"
         ],
         "legendgroup": "Pakistan",
         "line": {
          "color": "#19d3f3",
          "dash": "solid"
         },
         "mode": "lines",
         "name": "Pakistan",
         "orientation": "v",
         "showlegend": true,
         "type": "scatter",
         "x": [
          1979,
          1983,
          2014
         ],
         "xaxis": "x",
         "y": [
          1,
          2,
          3
         ],
         "yaxis": "y"
        },
        {
         "hovertemplate": "<b>%{hovertext}</b><br><br>birth_country_current=Peru<br>year=%{x}<br>prize=%{y}<extra></extra>",
         "hovertext": [
          "Peru"
         ],
         "legendgroup": "Peru",
         "line": {
          "color": "#FF6692",
          "dash": "solid"
         },
         "mode": "lines",
         "name": "Peru",
         "orientation": "v",
         "showlegend": true,
         "type": "scatter",
         "x": [
          2010
         ],
         "xaxis": "x",
         "y": [
          1
         ],
         "yaxis": "y"
        },
        {
         "hovertemplate": "<b>%{hovertext}</b><br><br>birth_country_current=Poland<br>year=%{x}<br>prize=%{y}<extra></extra>",
         "hovertext": [
          "Poland",
          "Poland",
          "Poland",
          "Poland",
          "Poland",
          "Poland",
          "Poland",
          "Poland",
          "Poland",
          "Poland",
          "Poland",
          "Poland",
          "Poland",
          "Poland",
          "Poland",
          "Poland",
          "Poland",
          "Poland",
          "Poland",
          "Poland",
          "Poland",
          "Poland",
          "Poland",
          "Poland",
          "Poland"
         ],
         "legendgroup": "Poland",
         "line": {
          "color": "#B6E880",
          "dash": "solid"
         },
         "mode": "lines",
         "name": "Poland",
         "orientation": "v",
         "showlegend": true,
         "type": "scatter",
         "x": [
          1901,
          1903,
          1905,
          1907,
          1908,
          1911,
          1918,
          1924,
          1931,
          1939,
          1943,
          1944,
          1950,
          1954,
          1963,
          1964,
          1978,
          1983,
          1985,
          1992,
          1994,
          1995,
          1996,
          1999,
          2018
         ],
         "xaxis": "x",
         "y": [
          1,
          2,
          3,
          4,
          5,
          6,
          7,
          8,
          9,
          10,
          11,
          12,
          14,
          15,
          16,
          17,
          18,
          19,
          20,
          21,
          22,
          23,
          24,
          26,
          27
         ],
         "yaxis": "y"
        },
        {
         "hovertemplate": "<b>%{hovertext}</b><br><br>birth_country_current=Portugal<br>year=%{x}<br>prize=%{y}<extra></extra>",
         "hovertext": [
          "Portugal",
          "Portugal"
         ],
         "legendgroup": "Portugal",
         "line": {
          "color": "#FF97FF",
          "dash": "solid"
         },
         "mode": "lines",
         "name": "Portugal",
         "orientation": "v",
         "showlegend": true,
         "type": "scatter",
         "x": [
          1949,
          1998
         ],
         "xaxis": "x",
         "y": [
          1,
          2
         ],
         "yaxis": "y"
        },
        {
         "hovertemplate": "<b>%{hovertext}</b><br><br>birth_country_current=Republic of Macedonia<br>year=%{x}<br>prize=%{y}<extra></extra>",
         "hovertext": [
          "Republic of Macedonia"
         ],
         "legendgroup": "Republic of Macedonia",
         "line": {
          "color": "#FECB52",
          "dash": "solid"
         },
         "mode": "lines",
         "name": "Republic of Macedonia",
         "orientation": "v",
         "showlegend": true,
         "type": "scatter",
         "x": [
          1979
         ],
         "xaxis": "x",
         "y": [
          1
         ],
         "yaxis": "y"
        },
        {
         "hovertemplate": "<b>%{hovertext}</b><br><br>birth_country_current=Romania<br>year=%{x}<br>prize=%{y}<extra></extra>",
         "hovertext": [
          "Romania",
          "Romania",
          "Romania",
          "Romania"
         ],
         "legendgroup": "Romania",
         "line": {
          "color": "#636efa",
          "dash": "solid"
         },
         "mode": "lines",
         "name": "Romania",
         "orientation": "v",
         "showlegend": true,
         "type": "scatter",
         "x": [
          1974,
          1986,
          2009,
          2014
         ],
         "xaxis": "x",
         "y": [
          1,
          2,
          3,
          4
         ],
         "yaxis": "y"
        },
        {
         "hovertemplate": "<b>%{hovertext}</b><br><br>birth_country_current=Russia<br>year=%{x}<br>prize=%{y}<extra></extra>",
         "hovertext": [
          "Russia",
          "Russia",
          "Russia",
          "Russia",
          "Russia",
          "Russia",
          "Russia",
          "Russia",
          "Russia",
          "Russia",
          "Russia",
          "Russia",
          "Russia",
          "Russia",
          "Russia",
          "Russia",
          "Russia",
          "Russia",
          "Russia",
          "Russia"
         ],
         "legendgroup": "Russia",
         "line": {
          "color": "#EF553B",
          "dash": "solid"
         },
         "mode": "lines",
         "name": "Russia",
         "orientation": "v",
         "showlegend": true,
         "type": "scatter",
         "x": [
          1904,
          1910,
          1911,
          1933,
          1937,
          1953,
          1956,
          1958,
          1964,
          1965,
          1970,
          1973,
          1975,
          1977,
          1978,
          1987,
          1990,
          2003,
          2007,
          2010
         ],
         "xaxis": "x",
         "y": [
          1,
          2,
          3,
          4,
          5,
          6,
          7,
          11,
          12,
          13,
          14,
          15,
          17,
          18,
          19,
          20,
          21,
          23,
          24,
          26
         ],
         "yaxis": "y"
        },
        {
         "hovertemplate": "<b>%{hovertext}</b><br><br>birth_country_current=Saint Lucia<br>year=%{x}<br>prize=%{y}<extra></extra>",
         "hovertext": [
          "Saint Lucia",
          "Saint Lucia"
         ],
         "legendgroup": "Saint Lucia",
         "line": {
          "color": "#00cc96",
          "dash": "solid"
         },
         "mode": "lines",
         "name": "Saint Lucia",
         "orientation": "v",
         "showlegend": true,
         "type": "scatter",
         "x": [
          1979,
          1992
         ],
         "xaxis": "x",
         "y": [
          1,
          2
         ],
         "yaxis": "y"
        },
        {
         "hovertemplate": "<b>%{hovertext}</b><br><br>birth_country_current=Slovakia<br>year=%{x}<br>prize=%{y}<extra></extra>",
         "hovertext": [
          "Slovakia"
         ],
         "legendgroup": "Slovakia",
         "line": {
          "color": "#ab63fa",
          "dash": "solid"
         },
         "mode": "lines",
         "name": "Slovakia",
         "orientation": "v",
         "showlegend": true,
         "type": "scatter",
         "x": [
          1905
         ],
         "xaxis": "x",
         "y": [
          1
         ],
         "yaxis": "y"
        },
        {
         "hovertemplate": "<b>%{hovertext}</b><br><br>birth_country_current=Slovenia<br>year=%{x}<br>prize=%{y}<extra></extra>",
         "hovertext": [
          "Slovenia"
         ],
         "legendgroup": "Slovenia",
         "line": {
          "color": "#FFA15A",
          "dash": "solid"
         },
         "mode": "lines",
         "name": "Slovenia",
         "orientation": "v",
         "showlegend": true,
         "type": "scatter",
         "x": [
          1923
         ],
         "xaxis": "x",
         "y": [
          1
         ],
         "yaxis": "y"
        },
        {
         "hovertemplate": "<b>%{hovertext}</b><br><br>birth_country_current=South Africa<br>year=%{x}<br>prize=%{y}<extra></extra>",
         "hovertext": [
          "South Africa",
          "South Africa",
          "South Africa",
          "South Africa",
          "South Africa",
          "South Africa",
          "South Africa",
          "South Africa"
         ],
         "legendgroup": "South Africa",
         "line": {
          "color": "#19d3f3",
          "dash": "solid"
         },
         "mode": "lines",
         "name": "South Africa",
         "orientation": "v",
         "showlegend": true,
         "type": "scatter",
         "x": [
          1951,
          1979,
          1984,
          1991,
          1993,
          2002,
          2003,
          2013
         ],
         "xaxis": "x",
         "y": [
          1,
          2,
          3,
          4,
          6,
          7,
          8,
          9
         ],
         "yaxis": "y"
        },
        {
         "hovertemplate": "<b>%{hovertext}</b><br><br>birth_country_current=Spain<br>year=%{x}<br>prize=%{y}<extra></extra>",
         "hovertext": [
          "Spain",
          "Spain",
          "Spain",
          "Spain",
          "Spain",
          "Spain",
          "Spain"
         ],
         "legendgroup": "Spain",
         "line": {
          "color": "#FF6692",
          "dash": "solid"
         },
         "mode": "lines",
         "name": "Spain",
         "orientation": "v",
         "showlegend": true,
         "type": "scatter",
         "x": [
          1904,
          1906,
          1922,
          1956,
          1959,
          1977,
          1989
         ],
         "xaxis": "x",
         "y": [
          1,
          2,
          3,
          4,
          5,
          6,
          7
         ],
         "yaxis": "y"
        },
        {
         "hovertemplate": "<b>%{hovertext}</b><br><br>birth_country_current=Sweden<br>year=%{x}<br>prize=%{y}<extra></extra>",
         "hovertext": [
          "Sweden",
          "Sweden",
          "Sweden",
          "Sweden",
          "Sweden",
          "Sweden",
          "Sweden",
          "Sweden",
          "Sweden",
          "Sweden",
          "Sweden",
          "Sweden",
          "Sweden",
          "Sweden",
          "Sweden",
          "Sweden",
          "Sweden",
          "Sweden",
          "Sweden",
          "Sweden",
          "Sweden",
          "Sweden",
          "Sweden"
         ],
         "legendgroup": "Sweden",
         "line": {
          "color": "#B6E880",
          "dash": "solid"
         },
         "mode": "lines",
         "name": "Sweden",
         "orientation": "v",
         "showlegend": true,
         "type": "scatter",
         "x": [
          1903,
          1908,
          1909,
          1911,
          1912,
          1916,
          1921,
          1924,
          1926,
          1930,
          1931,
          1948,
          1951,
          1955,
          1961,
          1970,
          1974,
          1977,
          1981,
          1982,
          2000,
          2011,
          2015
         ],
         "xaxis": "x",
         "y": [
          1,
          2,
          3,
          4,
          5,
          6,
          7,
          8,
          9,
          10,
          11,
          12,
          13,
          14,
          15,
          17,
          20,
          21,
          23,
          26,
          27,
          28,
          29
         ],
         "yaxis": "y"
        },
        {
         "hovertemplate": "<b>%{hovertext}</b><br><br>birth_country_current=Switzerland<br>year=%{x}<br>prize=%{y}<extra></extra>",
         "hovertext": [
          "Switzerland",
          "Switzerland",
          "Switzerland",
          "Switzerland",
          "Switzerland",
          "Switzerland",
          "Switzerland",
          "Switzerland",
          "Switzerland",
          "Switzerland",
          "Switzerland",
          "Switzerland",
          "Switzerland",
          "Switzerland",
          "Switzerland",
          "Switzerland",
          "Switzerland"
         ],
         "legendgroup": "Switzerland",
         "line": {
          "color": "#FF97FF",
          "dash": "solid"
         },
         "mode": "lines",
         "name": "Switzerland",
         "orientation": "v",
         "showlegend": true,
         "type": "scatter",
         "x": [
          1901,
          1902,
          1909,
          1919,
          1920,
          1948,
          1949,
          1952,
          1957,
          1978,
          1986,
          1987,
          1991,
          1996,
          2002,
          2017,
          2019
         ],
         "xaxis": "x",
         "y": [
          1,
          3,
          4,
          5,
          6,
          7,
          8,
          9,
          10,
          11,
          12,
          13,
          14,
          15,
          16,
          17,
          19
         ],
         "yaxis": "y"
        },
        {
         "hovertemplate": "<b>%{hovertext}</b><br><br>birth_country_current=Taiwan<br>year=%{x}<br>prize=%{y}<extra></extra>",
         "hovertext": [
          "Taiwan"
         ],
         "legendgroup": "Taiwan",
         "line": {
          "color": "#FECB52",
          "dash": "solid"
         },
         "mode": "lines",
         "name": "Taiwan",
         "orientation": "v",
         "showlegend": true,
         "type": "scatter",
         "x": [
          1986
         ],
         "xaxis": "x",
         "y": [
          1
         ],
         "yaxis": "y"
        },
        {
         "hovertemplate": "<b>%{hovertext}</b><br><br>birth_country_current=Trinidad<br>year=%{x}<br>prize=%{y}<extra></extra>",
         "hovertext": [
          "Trinidad"
         ],
         "legendgroup": "Trinidad",
         "line": {
          "color": "#636efa",
          "dash": "solid"
         },
         "mode": "lines",
         "name": "Trinidad",
         "orientation": "v",
         "showlegend": true,
         "type": "scatter",
         "x": [
          2001
         ],
         "xaxis": "x",
         "y": [
          1
         ],
         "yaxis": "y"
        },
        {
         "hovertemplate": "<b>%{hovertext}</b><br><br>birth_country_current=Turkey<br>year=%{x}<br>prize=%{y}<extra></extra>",
         "hovertext": [
          "Turkey",
          "Turkey",
          "Turkey"
         ],
         "legendgroup": "Turkey",
         "line": {
          "color": "#EF553B",
          "dash": "solid"
         },
         "mode": "lines",
         "name": "Turkey",
         "orientation": "v",
         "showlegend": true,
         "type": "scatter",
         "x": [
          1963,
          2006,
          2015
         ],
         "xaxis": "x",
         "y": [
          1,
          2,
          3
         ],
         "yaxis": "y"
        },
        {
         "hovertemplate": "<b>%{hovertext}</b><br><br>birth_country_current=Ukraine<br>year=%{x}<br>prize=%{y}<extra></extra>",
         "hovertext": [
          "Ukraine",
          "Ukraine",
          "Ukraine",
          "Ukraine",
          "Ukraine"
         ],
         "legendgroup": "Ukraine",
         "line": {
          "color": "#00cc96",
          "dash": "solid"
         },
         "mode": "lines",
         "name": "Ukraine",
         "orientation": "v",
         "showlegend": true,
         "type": "scatter",
         "x": [
          1908,
          1952,
          1966,
          1981,
          2015
         ],
         "xaxis": "x",
         "y": [
          1,
          2,
          3,
          4,
          5
         ],
         "yaxis": "y"
        },
        {
         "hovertemplate": "<b>%{hovertext}</b><br><br>birth_country_current=United Kingdom<br>year=%{x}<br>prize=%{y}<extra></extra>",
         "hovertext": [
          "United Kingdom",
          "United Kingdom",
          "United Kingdom",
          "United Kingdom",
          "United Kingdom",
          "United Kingdom",
          "United Kingdom",
          "United Kingdom",
          "United Kingdom",
          "United Kingdom",
          "United Kingdom",
          "United Kingdom",
          "United Kingdom",
          "United Kingdom",
          "United Kingdom",
          "United Kingdom",
          "United Kingdom",
          "United Kingdom",
          "United Kingdom",
          "United Kingdom",
          "United Kingdom",
          "United Kingdom",
          "United Kingdom",
          "United Kingdom",
          "United Kingdom",
          "United Kingdom",
          "United Kingdom",
          "United Kingdom",
          "United Kingdom",
          "United Kingdom",
          "United Kingdom",
          "United Kingdom",
          "United Kingdom",
          "United Kingdom",
          "United Kingdom",
          "United Kingdom",
          "United Kingdom",
          "United Kingdom",
          "United Kingdom",
          "United Kingdom",
          "United Kingdom",
          "United Kingdom",
          "United Kingdom",
          "United Kingdom",
          "United Kingdom",
          "United Kingdom",
          "United Kingdom",
          "United Kingdom",
          "United Kingdom",
          "United Kingdom",
          "United Kingdom",
          "United Kingdom",
          "United Kingdom",
          "United Kingdom",
          "United Kingdom",
          "United Kingdom",
          "United Kingdom",
          "United Kingdom",
          "United Kingdom",
          "United Kingdom",
          "United Kingdom",
          "United Kingdom",
          "United Kingdom",
          "United Kingdom",
          "United Kingdom",
          "United Kingdom",
          "United Kingdom"
         ],
         "legendgroup": "United Kingdom",
         "line": {
          "color": "#ab63fa",
          "dash": "solid"
         },
         "mode": "lines",
         "name": "United Kingdom",
         "orientation": "v",
         "showlegend": true,
         "type": "scatter",
         "x": [
          1903,
          1904,
          1906,
          1915,
          1917,
          1921,
          1922,
          1923,
          1925,
          1927,
          1928,
          1929,
          1932,
          1933,
          1934,
          1935,
          1936,
          1937,
          1945,
          1947,
          1948,
          1949,
          1950,
          1951,
          1952,
          1953,
          1956,
          1957,
          1958,
          1959,
          1962,
          1963,
          1967,
          1969,
          1972,
          1973,
          1974,
          1976,
          1977,
          1978,
          1979,
          1980,
          1982,
          1983,
          1984,
          1988,
          1991,
          1993,
          1995,
          1996,
          1997,
          1998,
          2001,
          2002,
          2003,
          2005,
          2007,
          2009,
          2010,
          2012,
          2013,
          2015,
          2016,
          2017,
          2018,
          2019,
          2020
         ],
         "xaxis": "x",
         "y": [
          1,
          3,
          4,
          5,
          6,
          7,
          9,
          10,
          11,
          12,
          13,
          15,
          18,
          20,
          21,
          22,
          23,
          26,
          27,
          29,
          30,
          31,
          33,
          34,
          36,
          37,
          39,
          40,
          41,
          42,
          44,
          46,
          48,
          49,
          51,
          54,
          57,
          59,
          61,
          62,
          64,
          65,
          66,
          67,
          69,
          70,
          71,
          73,
          74,
          76,
          77,
          80,
          82,
          83,
          86,
          87,
          89,
          90,
          91,
          92,
          93,
          94,
          99,
          100,
          101,
          103,
          105
         ],
         "yaxis": "y"
        },
        {
         "hovertemplate": "<b>%{hovertext}</b><br><br>birth_country_current=United States of America<br>year=%{x}<br>prize=%{y}<extra></extra>",
         "hovertext": [
          "United States of America",
          "United States of America",
          "United States of America",
          "United States of America",
          "United States of America",
          "United States of America",
          "United States of America",
          "United States of America",
          "United States of America",
          "United States of America",
          "United States of America",
          "United States of America",
          "United States of America",
          "United States of America",
          "United States of America",
          "United States of America",
          "United States of America",
          "United States of America",
          "United States of America",
          "United States of America",
          "United States of America",
          "United States of America",
          "United States of America",
          "United States of America",
          "United States of America",
          "United States of America",
          "United States of America",
          "United States of America",
          "United States of America",
          "United States of America",
          "United States of America",
          "United States of America",
          "United States of America",
          "United States of America",
          "United States of America",
          "United States of America",
          "United States of America",
          "United States of America",
          "United States of America",
          "United States of America",
          "United States of America",
          "United States of America",
          "United States of America",
          "United States of America",
          "United States of America",
          "United States of America",
          "United States of America",
          "United States of America",
          "United States of America",
          "United States of America",
          "United States of America",
          "United States of America",
          "United States of America",
          "United States of America",
          "United States of America",
          "United States of America",
          "United States of America",
          "United States of America",
          "United States of America",
          "United States of America",
          "United States of America",
          "United States of America",
          "United States of America",
          "United States of America",
          "United States of America",
          "United States of America",
          "United States of America",
          "United States of America",
          "United States of America",
          "United States of America",
          "United States of America",
          "United States of America",
          "United States of America",
          "United States of America",
          "United States of America",
          "United States of America",
          "United States of America",
          "United States of America",
          "United States of America",
          "United States of America",
          "United States of America",
          "United States of America",
          "United States of America",
          "United States of America",
          "United States of America",
          "United States of America",
          "United States of America",
          "United States of America",
          "United States of America"
         ],
         "legendgroup": "United States of America",
         "line": {
          "color": "#FFA15A",
          "dash": "solid"
         },
         "mode": "lines",
         "name": "United States of America",
         "orientation": "v",
         "showlegend": true,
         "type": "scatter",
         "x": [
          1906,
          1912,
          1914,
          1919,
          1923,
          1925,
          1927,
          1929,
          1930,
          1931,
          1932,
          1933,
          1934,
          1936,
          1937,
          1938,
          1939,
          1943,
          1944,
          1945,
          1946,
          1948,
          1949,
          1950,
          1951,
          1952,
          1953,
          1954,
          1955,
          1956,
          1958,
          1959,
          1960,
          1961,
          1962,
          1964,
          1965,
          1966,
          1967,
          1968,
          1969,
          1970,
          1971,
          1972,
          1974,
          1975,
          1976,
          1977,
          1978,
          1979,
          1980,
          1981,
          1982,
          1983,
          1984,
          1985,
          1986,
          1987,
          1988,
          1989,
          1990,
          1992,
          1993,
          1994,
          1995,
          1996,
          1997,
          1998,
          2000,
          2001,
          2002,
          2003,
          2004,
          2005,
          2006,
          2007,
          2008,
          2009,
          2010,
          2011,
          2012,
          2013,
          2014,
          2015,
          2016,
          2017,
          2018,
          2019,
          2020
         ],
         "xaxis": "x",
         "y": [
          1,
          2,
          3,
          4,
          5,
          6,
          7,
          8,
          9,
          11,
          12,
          13,
          17,
          19,
          20,
          21,
          22,
          23,
          25,
          26,
          33,
          34,
          35,
          38,
          40,
          41,
          42,
          47,
          49,
          51,
          54,
          56,
          58,
          60,
          63,
          65,
          68,
          70,
          72,
          75,
          77,
          80,
          81,
          89,
          90,
          94,
          100,
          103,
          107,
          110,
          116,
          119,
          121,
          123,
          124,
          128,
          131,
          133,
          137,
          141,
          149,
          151,
          158,
          162,
          168,
          173,
          179,
          183,
          188,
          196,
          201,
          205,
          212,
          217,
          223,
          226,
          229,
          235,
          238,
          244,
          249,
          254,
          257,
          258,
          259,
          265,
          271,
          274,
          281
         ],
         "yaxis": "y"
        },
        {
         "hovertemplate": "<b>%{hovertext}</b><br><br>birth_country_current=Venezuela<br>year=%{x}<br>prize=%{y}<extra></extra>",
         "hovertext": [
          "Venezuela"
         ],
         "legendgroup": "Venezuela",
         "line": {
          "color": "#19d3f3",
          "dash": "solid"
         },
         "mode": "lines",
         "name": "Venezuela",
         "orientation": "v",
         "showlegend": true,
         "type": "scatter",
         "x": [
          1980
         ],
         "xaxis": "x",
         "y": [
          1
         ],
         "yaxis": "y"
        },
        {
         "hovertemplate": "<b>%{hovertext}</b><br><br>birth_country_current=Vietnam<br>year=%{x}<br>prize=%{y}<extra></extra>",
         "hovertext": [
          "Vietnam"
         ],
         "legendgroup": "Vietnam",
         "line": {
          "color": "#FF6692",
          "dash": "solid"
         },
         "mode": "lines",
         "name": "Vietnam",
         "orientation": "v",
         "showlegend": true,
         "type": "scatter",
         "x": [
          1973
         ],
         "xaxis": "x",
         "y": [
          1
         ],
         "yaxis": "y"
        },
        {
         "hovertemplate": "<b>%{hovertext}</b><br><br>birth_country_current=Yemen<br>year=%{x}<br>prize=%{y}<extra></extra>",
         "hovertext": [
          "Yemen"
         ],
         "legendgroup": "Yemen",
         "line": {
          "color": "#B6E880",
          "dash": "solid"
         },
         "mode": "lines",
         "name": "Yemen",
         "orientation": "v",
         "showlegend": true,
         "type": "scatter",
         "x": [
          2011
         ],
         "xaxis": "x",
         "y": [
          1
         ],
         "yaxis": "y"
        },
        {
         "hovertemplate": "<b>%{hovertext}</b><br><br>birth_country_current=Zimbabwe<br>year=%{x}<br>prize=%{y}<extra></extra>",
         "hovertext": [
          "Zimbabwe"
         ],
         "legendgroup": "Zimbabwe",
         "line": {
          "color": "#FF97FF",
          "dash": "solid"
         },
         "mode": "lines",
         "name": "Zimbabwe",
         "orientation": "v",
         "showlegend": true,
         "type": "scatter",
         "x": [
          1960
         ],
         "xaxis": "x",
         "y": [
          1
         ],
         "yaxis": "y"
        }
       ],
       "layout": {
        "legend": {
         "title": {
          "text": "birth_country_current"
         },
         "tracegroupgap": 0
        },
        "template": {
         "data": {
          "bar": [
           {
            "error_x": {
             "color": "#2a3f5f"
            },
            "error_y": {
             "color": "#2a3f5f"
            },
            "marker": {
             "line": {
              "color": "#E5ECF6",
              "width": 0.5
             }
            },
            "type": "bar"
           }
          ],
          "barpolar": [
           {
            "marker": {
             "line": {
              "color": "#E5ECF6",
              "width": 0.5
             }
            },
            "type": "barpolar"
           }
          ],
          "carpet": [
           {
            "aaxis": {
             "endlinecolor": "#2a3f5f",
             "gridcolor": "white",
             "linecolor": "white",
             "minorgridcolor": "white",
             "startlinecolor": "#2a3f5f"
            },
            "baxis": {
             "endlinecolor": "#2a3f5f",
             "gridcolor": "white",
             "linecolor": "white",
             "minorgridcolor": "white",
             "startlinecolor": "#2a3f5f"
            },
            "type": "carpet"
           }
          ],
          "choropleth": [
           {
            "colorbar": {
             "outlinewidth": 0,
             "ticks": ""
            },
            "type": "choropleth"
           }
          ],
          "contour": [
           {
            "colorbar": {
             "outlinewidth": 0,
             "ticks": ""
            },
            "colorscale": [
             [
              0,
              "#0d0887"
             ],
             [
              0.1111111111111111,
              "#46039f"
             ],
             [
              0.2222222222222222,
              "#7201a8"
             ],
             [
              0.3333333333333333,
              "#9c179e"
             ],
             [
              0.4444444444444444,
              "#bd3786"
             ],
             [
              0.5555555555555556,
              "#d8576b"
             ],
             [
              0.6666666666666666,
              "#ed7953"
             ],
             [
              0.7777777777777778,
              "#fb9f3a"
             ],
             [
              0.8888888888888888,
              "#fdca26"
             ],
             [
              1,
              "#f0f921"
             ]
            ],
            "type": "contour"
           }
          ],
          "contourcarpet": [
           {
            "colorbar": {
             "outlinewidth": 0,
             "ticks": ""
            },
            "type": "contourcarpet"
           }
          ],
          "heatmap": [
           {
            "colorbar": {
             "outlinewidth": 0,
             "ticks": ""
            },
            "colorscale": [
             [
              0,
              "#0d0887"
             ],
             [
              0.1111111111111111,
              "#46039f"
             ],
             [
              0.2222222222222222,
              "#7201a8"
             ],
             [
              0.3333333333333333,
              "#9c179e"
             ],
             [
              0.4444444444444444,
              "#bd3786"
             ],
             [
              0.5555555555555556,
              "#d8576b"
             ],
             [
              0.6666666666666666,
              "#ed7953"
             ],
             [
              0.7777777777777778,
              "#fb9f3a"
             ],
             [
              0.8888888888888888,
              "#fdca26"
             ],
             [
              1,
              "#f0f921"
             ]
            ],
            "type": "heatmap"
           }
          ],
          "heatmapgl": [
           {
            "colorbar": {
             "outlinewidth": 0,
             "ticks": ""
            },
            "colorscale": [
             [
              0,
              "#0d0887"
             ],
             [
              0.1111111111111111,
              "#46039f"
             ],
             [
              0.2222222222222222,
              "#7201a8"
             ],
             [
              0.3333333333333333,
              "#9c179e"
             ],
             [
              0.4444444444444444,
              "#bd3786"
             ],
             [
              0.5555555555555556,
              "#d8576b"
             ],
             [
              0.6666666666666666,
              "#ed7953"
             ],
             [
              0.7777777777777778,
              "#fb9f3a"
             ],
             [
              0.8888888888888888,
              "#fdca26"
             ],
             [
              1,
              "#f0f921"
             ]
            ],
            "type": "heatmapgl"
           }
          ],
          "histogram": [
           {
            "marker": {
             "colorbar": {
              "outlinewidth": 0,
              "ticks": ""
             }
            },
            "type": "histogram"
           }
          ],
          "histogram2d": [
           {
            "colorbar": {
             "outlinewidth": 0,
             "ticks": ""
            },
            "colorscale": [
             [
              0,
              "#0d0887"
             ],
             [
              0.1111111111111111,
              "#46039f"
             ],
             [
              0.2222222222222222,
              "#7201a8"
             ],
             [
              0.3333333333333333,
              "#9c179e"
             ],
             [
              0.4444444444444444,
              "#bd3786"
             ],
             [
              0.5555555555555556,
              "#d8576b"
             ],
             [
              0.6666666666666666,
              "#ed7953"
             ],
             [
              0.7777777777777778,
              "#fb9f3a"
             ],
             [
              0.8888888888888888,
              "#fdca26"
             ],
             [
              1,
              "#f0f921"
             ]
            ],
            "type": "histogram2d"
           }
          ],
          "histogram2dcontour": [
           {
            "colorbar": {
             "outlinewidth": 0,
             "ticks": ""
            },
            "colorscale": [
             [
              0,
              "#0d0887"
             ],
             [
              0.1111111111111111,
              "#46039f"
             ],
             [
              0.2222222222222222,
              "#7201a8"
             ],
             [
              0.3333333333333333,
              "#9c179e"
             ],
             [
              0.4444444444444444,
              "#bd3786"
             ],
             [
              0.5555555555555556,
              "#d8576b"
             ],
             [
              0.6666666666666666,
              "#ed7953"
             ],
             [
              0.7777777777777778,
              "#fb9f3a"
             ],
             [
              0.8888888888888888,
              "#fdca26"
             ],
             [
              1,
              "#f0f921"
             ]
            ],
            "type": "histogram2dcontour"
           }
          ],
          "mesh3d": [
           {
            "colorbar": {
             "outlinewidth": 0,
             "ticks": ""
            },
            "type": "mesh3d"
           }
          ],
          "parcoords": [
           {
            "line": {
             "colorbar": {
              "outlinewidth": 0,
              "ticks": ""
             }
            },
            "type": "parcoords"
           }
          ],
          "pie": [
           {
            "automargin": true,
            "type": "pie"
           }
          ],
          "scatter": [
           {
            "marker": {
             "colorbar": {
              "outlinewidth": 0,
              "ticks": ""
             }
            },
            "type": "scatter"
           }
          ],
          "scatter3d": [
           {
            "line": {
             "colorbar": {
              "outlinewidth": 0,
              "ticks": ""
             }
            },
            "marker": {
             "colorbar": {
              "outlinewidth": 0,
              "ticks": ""
             }
            },
            "type": "scatter3d"
           }
          ],
          "scattercarpet": [
           {
            "marker": {
             "colorbar": {
              "outlinewidth": 0,
              "ticks": ""
             }
            },
            "type": "scattercarpet"
           }
          ],
          "scattergeo": [
           {
            "marker": {
             "colorbar": {
              "outlinewidth": 0,
              "ticks": ""
             }
            },
            "type": "scattergeo"
           }
          ],
          "scattergl": [
           {
            "marker": {
             "colorbar": {
              "outlinewidth": 0,
              "ticks": ""
             }
            },
            "type": "scattergl"
           }
          ],
          "scattermapbox": [
           {
            "marker": {
             "colorbar": {
              "outlinewidth": 0,
              "ticks": ""
             }
            },
            "type": "scattermapbox"
           }
          ],
          "scatterpolar": [
           {
            "marker": {
             "colorbar": {
              "outlinewidth": 0,
              "ticks": ""
             }
            },
            "type": "scatterpolar"
           }
          ],
          "scatterpolargl": [
           {
            "marker": {
             "colorbar": {
              "outlinewidth": 0,
              "ticks": ""
             }
            },
            "type": "scatterpolargl"
           }
          ],
          "scatterternary": [
           {
            "marker": {
             "colorbar": {
              "outlinewidth": 0,
              "ticks": ""
             }
            },
            "type": "scatterternary"
           }
          ],
          "surface": [
           {
            "colorbar": {
             "outlinewidth": 0,
             "ticks": ""
            },
            "colorscale": [
             [
              0,
              "#0d0887"
             ],
             [
              0.1111111111111111,
              "#46039f"
             ],
             [
              0.2222222222222222,
              "#7201a8"
             ],
             [
              0.3333333333333333,
              "#9c179e"
             ],
             [
              0.4444444444444444,
              "#bd3786"
             ],
             [
              0.5555555555555556,
              "#d8576b"
             ],
             [
              0.6666666666666666,
              "#ed7953"
             ],
             [
              0.7777777777777778,
              "#fb9f3a"
             ],
             [
              0.8888888888888888,
              "#fdca26"
             ],
             [
              1,
              "#f0f921"
             ]
            ],
            "type": "surface"
           }
          ],
          "table": [
           {
            "cells": {
             "fill": {
              "color": "#EBF0F8"
             },
             "line": {
              "color": "white"
             }
            },
            "header": {
             "fill": {
              "color": "#C8D4E3"
             },
             "line": {
              "color": "white"
             }
            },
            "type": "table"
           }
          ]
         },
         "layout": {
          "annotationdefaults": {
           "arrowcolor": "#2a3f5f",
           "arrowhead": 0,
           "arrowwidth": 1
          },
          "autotypenumbers": "strict",
          "coloraxis": {
           "colorbar": {
            "outlinewidth": 0,
            "ticks": ""
           }
          },
          "colorscale": {
           "diverging": [
            [
             0,
             "#8e0152"
            ],
            [
             0.1,
             "#c51b7d"
            ],
            [
             0.2,
             "#de77ae"
            ],
            [
             0.3,
             "#f1b6da"
            ],
            [
             0.4,
             "#fde0ef"
            ],
            [
             0.5,
             "#f7f7f7"
            ],
            [
             0.6,
             "#e6f5d0"
            ],
            [
             0.7,
             "#b8e186"
            ],
            [
             0.8,
             "#7fbc41"
            ],
            [
             0.9,
             "#4d9221"
            ],
            [
             1,
             "#276419"
            ]
           ],
           "sequential": [
            [
             0,
             "#0d0887"
            ],
            [
             0.1111111111111111,
             "#46039f"
            ],
            [
             0.2222222222222222,
             "#7201a8"
            ],
            [
             0.3333333333333333,
             "#9c179e"
            ],
            [
             0.4444444444444444,
             "#bd3786"
            ],
            [
             0.5555555555555556,
             "#d8576b"
            ],
            [
             0.6666666666666666,
             "#ed7953"
            ],
            [
             0.7777777777777778,
             "#fb9f3a"
            ],
            [
             0.8888888888888888,
             "#fdca26"
            ],
            [
             1,
             "#f0f921"
            ]
           ],
           "sequentialminus": [
            [
             0,
             "#0d0887"
            ],
            [
             0.1111111111111111,
             "#46039f"
            ],
            [
             0.2222222222222222,
             "#7201a8"
            ],
            [
             0.3333333333333333,
             "#9c179e"
            ],
            [
             0.4444444444444444,
             "#bd3786"
            ],
            [
             0.5555555555555556,
             "#d8576b"
            ],
            [
             0.6666666666666666,
             "#ed7953"
            ],
            [
             0.7777777777777778,
             "#fb9f3a"
            ],
            [
             0.8888888888888888,
             "#fdca26"
            ],
            [
             1,
             "#f0f921"
            ]
           ]
          },
          "colorway": [
           "#636efa",
           "#EF553B",
           "#00cc96",
           "#ab63fa",
           "#FFA15A",
           "#19d3f3",
           "#FF6692",
           "#B6E880",
           "#FF97FF",
           "#FECB52"
          ],
          "font": {
           "color": "#2a3f5f"
          },
          "geo": {
           "bgcolor": "white",
           "lakecolor": "white",
           "landcolor": "#E5ECF6",
           "showlakes": true,
           "showland": true,
           "subunitcolor": "white"
          },
          "hoverlabel": {
           "align": "left"
          },
          "hovermode": "closest",
          "mapbox": {
           "style": "light"
          },
          "paper_bgcolor": "white",
          "plot_bgcolor": "#E5ECF6",
          "polar": {
           "angularaxis": {
            "gridcolor": "white",
            "linecolor": "white",
            "ticks": ""
           },
           "bgcolor": "#E5ECF6",
           "radialaxis": {
            "gridcolor": "white",
            "linecolor": "white",
            "ticks": ""
           }
          },
          "scene": {
           "xaxis": {
            "backgroundcolor": "#E5ECF6",
            "gridcolor": "white",
            "gridwidth": 2,
            "linecolor": "white",
            "showbackground": true,
            "ticks": "",
            "zerolinecolor": "white"
           },
           "yaxis": {
            "backgroundcolor": "#E5ECF6",
            "gridcolor": "white",
            "gridwidth": 2,
            "linecolor": "white",
            "showbackground": true,
            "ticks": "",
            "zerolinecolor": "white"
           },
           "zaxis": {
            "backgroundcolor": "#E5ECF6",
            "gridcolor": "white",
            "gridwidth": 2,
            "linecolor": "white",
            "showbackground": true,
            "ticks": "",
            "zerolinecolor": "white"
           }
          },
          "shapedefaults": {
           "line": {
            "color": "#2a3f5f"
           }
          },
          "ternary": {
           "aaxis": {
            "gridcolor": "white",
            "linecolor": "white",
            "ticks": ""
           },
           "baxis": {
            "gridcolor": "white",
            "linecolor": "white",
            "ticks": ""
           },
           "bgcolor": "#E5ECF6",
           "caxis": {
            "gridcolor": "white",
            "linecolor": "white",
            "ticks": ""
           }
          },
          "title": {
           "x": 0.05
          },
          "xaxis": {
           "automargin": true,
           "gridcolor": "white",
           "linecolor": "white",
           "ticks": "",
           "title": {
            "standoff": 15
           },
           "zerolinecolor": "white",
           "zerolinewidth": 2
          },
          "yaxis": {
           "automargin": true,
           "gridcolor": "white",
           "linecolor": "white",
           "ticks": "",
           "title": {
            "standoff": 15
           },
           "zerolinecolor": "white",
           "zerolinewidth": 2
          }
         }
        },
        "title": {
         "text": "Number of Prizes Won by Each Country Over Time"
        },
        "xaxis": {
         "anchor": "y",
         "domain": [
          0,
          1
         ],
         "title": {
          "text": "Year"
         }
        },
        "yaxis": {
         "anchor": "x",
         "domain": [
          0,
          1
         ],
         "title": {
          "text": "Number of Prizes"
         }
        }
       }
      },
      "text/html": [
       "<div>                            <div id=\"d0b72c72-12ae-4e86-82f9-4edb811ab346\" class=\"plotly-graph-div\" style=\"height:525px; width:100%;\"></div>            <script type=\"text/javascript\">                require([\"plotly\"], function(Plotly) {                    window.PLOTLYENV=window.PLOTLYENV || {};                                    if (document.getElementById(\"d0b72c72-12ae-4e86-82f9-4edb811ab346\")) {                    Plotly.newPlot(                        \"d0b72c72-12ae-4e86-82f9-4edb811ab346\",                        [{\"hovertemplate\": \"<b>%{hovertext}</b><br><br>birth_country_current=Algeria<br>year=%{x}<br>prize=%{y}<extra></extra>\", \"hovertext\": [\"Algeria\", \"Algeria\"], \"legendgroup\": \"Algeria\", \"line\": {\"color\": \"#636efa\", \"dash\": \"solid\"}, \"mode\": \"lines\", \"name\": \"Algeria\", \"orientation\": \"v\", \"showlegend\": true, \"type\": \"scatter\", \"x\": [1957, 1997], \"xaxis\": \"x\", \"y\": [1, 2], \"yaxis\": \"y\"}, {\"hovertemplate\": \"<b>%{hovertext}</b><br><br>birth_country_current=Argentina<br>year=%{x}<br>prize=%{y}<extra></extra>\", \"hovertext\": [\"Argentina\", \"Argentina\", \"Argentina\", \"Argentina\"], \"legendgroup\": \"Argentina\", \"line\": {\"color\": \"#EF553B\", \"dash\": \"solid\"}, \"mode\": \"lines\", \"name\": \"Argentina\", \"orientation\": \"v\", \"showlegend\": true, \"type\": \"scatter\", \"x\": [1936, 1947, 1980, 1984], \"xaxis\": \"x\", \"y\": [1, 2, 3, 4], \"yaxis\": \"y\"}, {\"hovertemplate\": \"<b>%{hovertext}</b><br><br>birth_country_current=Australia<br>year=%{x}<br>prize=%{y}<extra></extra>\", \"hovertext\": [\"Australia\", \"Australia\", \"Australia\", \"Australia\", \"Australia\", \"Australia\", \"Australia\", \"Australia\", \"Australia\"], \"legendgroup\": \"Australia\", \"line\": {\"color\": \"#00cc96\", \"dash\": \"solid\"}, \"mode\": \"lines\", \"name\": \"Australia\", \"orientation\": \"v\", \"showlegend\": true, \"type\": \"scatter\", \"x\": [1915, 1945, 1960, 1963, 1964, 1975, 1996, 2005, 2009], \"xaxis\": \"x\", \"y\": [1, 2, 3, 4, 5, 6, 7, 9, 10], \"yaxis\": \"y\"}, {\"hovertemplate\": \"<b>%{hovertext}</b><br><br>birth_country_current=Austria<br>year=%{x}<br>prize=%{y}<extra></extra>\", \"hovertext\": [\"Austria\", \"Austria\", \"Austria\", \"Austria\", \"Austria\", \"Austria\", \"Austria\", \"Austria\", \"Austria\", \"Austria\", \"Austria\", \"Austria\", \"Austria\", \"Austria\", \"Austria\", \"Austria\", \"Austria\"], \"legendgroup\": \"Austria\", \"line\": {\"color\": \"#ab63fa\", \"dash\": \"solid\"}, \"mode\": \"lines\", \"name\": \"Austria\", \"orientation\": \"v\", \"showlegend\": true, \"type\": \"scatter\", \"x\": [1911, 1914, 1925, 1927, 1930, 1933, 1936, 1938, 1945, 1962, 1973, 1974, 1998, 2000, 2004, 2013, 2019], \"xaxis\": \"x\", \"y\": [1, 2, 3, 4, 5, 6, 7, 8, 9, 10, 12, 13, 14, 15, 16, 17, 18], \"yaxis\": \"y\"}, {\"hovertemplate\": \"<b>%{hovertext}</b><br><br>birth_country_current=Azerbaijan<br>year=%{x}<br>prize=%{y}<extra></extra>\", \"hovertext\": [\"Azerbaijan\"], \"legendgroup\": \"Azerbaijan\", \"line\": {\"color\": \"#FFA15A\", \"dash\": \"solid\"}, \"mode\": \"lines\", \"name\": \"Azerbaijan\", \"orientation\": \"v\", \"showlegend\": true, \"type\": \"scatter\", \"x\": [1962], \"xaxis\": \"x\", \"y\": [1], \"yaxis\": \"y\"}, {\"hovertemplate\": \"<b>%{hovertext}</b><br><br>birth_country_current=Bangladesh<br>year=%{x}<br>prize=%{y}<extra></extra>\", \"hovertext\": [\"Bangladesh\"], \"legendgroup\": \"Bangladesh\", \"line\": {\"color\": \"#19d3f3\", \"dash\": \"solid\"}, \"mode\": \"lines\", \"name\": \"Bangladesh\", \"orientation\": \"v\", \"showlegend\": true, \"type\": \"scatter\", \"x\": [2006], \"xaxis\": \"x\", \"y\": [1], \"yaxis\": \"y\"}, {\"hovertemplate\": \"<b>%{hovertext}</b><br><br>birth_country_current=Belarus<br>year=%{x}<br>prize=%{y}<extra></extra>\", \"hovertext\": [\"Belarus\", \"Belarus\", \"Belarus\", \"Belarus\"], \"legendgroup\": \"Belarus\", \"line\": {\"color\": \"#FF6692\", \"dash\": \"solid\"}, \"mode\": \"lines\", \"name\": \"Belarus\", \"orientation\": \"v\", \"showlegend\": true, \"type\": \"scatter\", \"x\": [1971, 1978, 1994, 2000], \"xaxis\": \"x\", \"y\": [1, 2, 3, 4], \"yaxis\": \"y\"}, {\"hovertemplate\": \"<b>%{hovertext}</b><br><br>birth_country_current=Belgium<br>year=%{x}<br>prize=%{y}<extra></extra>\", \"hovertext\": [\"Belgium\", \"Belgium\", \"Belgium\", \"Belgium\", \"Belgium\", \"Belgium\", \"Belgium\", \"Belgium\", \"Belgium\"], \"legendgroup\": \"Belgium\", \"line\": {\"color\": \"#B6E880\", \"dash\": \"solid\"}, \"mode\": \"lines\", \"name\": \"Belgium\", \"orientation\": \"v\", \"showlegend\": true, \"type\": \"scatter\", \"x\": [1909, 1911, 1913, 1919, 1938, 1958, 1974, 2005, 2013], \"xaxis\": \"x\", \"y\": [1, 2, 3, 4, 5, 6, 7, 8, 9], \"yaxis\": \"y\"}, {\"hovertemplate\": \"<b>%{hovertext}</b><br><br>birth_country_current=Bosnia and Herzegovina<br>year=%{x}<br>prize=%{y}<extra></extra>\", \"hovertext\": [\"Bosnia and Herzegovina\", \"Bosnia and Herzegovina\"], \"legendgroup\": \"Bosnia and Herzegovina\", \"line\": {\"color\": \"#FF97FF\", \"dash\": \"solid\"}, \"mode\": \"lines\", \"name\": \"Bosnia and Herzegovina\", \"orientation\": \"v\", \"showlegend\": true, \"type\": \"scatter\", \"x\": [1961, 1975], \"xaxis\": \"x\", \"y\": [1, 2], \"yaxis\": \"y\"}, {\"hovertemplate\": \"<b>%{hovertext}</b><br><br>birth_country_current=Brazil<br>year=%{x}<br>prize=%{y}<extra></extra>\", \"hovertext\": [\"Brazil\"], \"legendgroup\": \"Brazil\", \"line\": {\"color\": \"#FECB52\", \"dash\": \"solid\"}, \"mode\": \"lines\", \"name\": \"Brazil\", \"orientation\": \"v\", \"showlegend\": true, \"type\": \"scatter\", \"x\": [1960], \"xaxis\": \"x\", \"y\": [1], \"yaxis\": \"y\"}, {\"hovertemplate\": \"<b>%{hovertext}</b><br><br>birth_country_current=Bulgaria<br>year=%{x}<br>prize=%{y}<extra></extra>\", \"hovertext\": [\"Bulgaria\"], \"legendgroup\": \"Bulgaria\", \"line\": {\"color\": \"#636efa\", \"dash\": \"solid\"}, \"mode\": \"lines\", \"name\": \"Bulgaria\", \"orientation\": \"v\", \"showlegend\": true, \"type\": \"scatter\", \"x\": [1981], \"xaxis\": \"x\", \"y\": [1], \"yaxis\": \"y\"}, {\"hovertemplate\": \"<b>%{hovertext}</b><br><br>birth_country_current=Canada<br>year=%{x}<br>prize=%{y}<extra></extra>\", \"hovertext\": [\"Canada\", \"Canada\", \"Canada\", \"Canada\", \"Canada\", \"Canada\", \"Canada\", \"Canada\", \"Canada\", \"Canada\", \"Canada\", \"Canada\", \"Canada\", \"Canada\", \"Canada\", \"Canada\", \"Canada\", \"Canada\", \"Canada\", \"Canada\"], \"legendgroup\": \"Canada\", \"line\": {\"color\": \"#EF553B\", \"dash\": \"solid\"}, \"mode\": \"lines\", \"name\": \"Canada\", \"orientation\": \"v\", \"showlegend\": true, \"type\": \"scatter\", \"x\": [1923, 1949, 1957, 1966, 1976, 1981, 1983, 1989, 1990, 1992, 1994, 1996, 1997, 1999, 2009, 2011, 2013, 2015, 2018, 2019], \"xaxis\": \"x\", \"y\": [1, 2, 3, 4, 5, 6, 7, 8, 9, 10, 11, 12, 13, 14, 15, 16, 17, 18, 19, 20], \"yaxis\": \"y\"}, {\"hovertemplate\": \"<b>%{hovertext}</b><br><br>birth_country_current=Chile<br>year=%{x}<br>prize=%{y}<extra></extra>\", \"hovertext\": [\"Chile\", \"Chile\"], \"legendgroup\": \"Chile\", \"line\": {\"color\": \"#00cc96\", \"dash\": \"solid\"}, \"mode\": \"lines\", \"name\": \"Chile\", \"orientation\": \"v\", \"showlegend\": true, \"type\": \"scatter\", \"x\": [1945, 1971], \"xaxis\": \"x\", \"y\": [1, 2], \"yaxis\": \"y\"}, {\"hovertemplate\": \"<b>%{hovertext}</b><br><br>birth_country_current=China<br>year=%{x}<br>prize=%{y}<extra></extra>\", \"hovertext\": [\"China\", \"China\", \"China\", \"China\", \"China\", \"China\", \"China\", \"China\", \"China\", \"China\"], \"legendgroup\": \"China\", \"line\": {\"color\": \"#ab63fa\", \"dash\": \"solid\"}, \"mode\": \"lines\", \"name\": \"China\", \"orientation\": \"v\", \"showlegend\": true, \"type\": \"scatter\", \"x\": [1956, 1957, 1989, 1992, 1998, 2000, 2009, 2010, 2012, 2015], \"xaxis\": \"x\", \"y\": [1, 3, 4, 5, 6, 7, 8, 10, 11, 12], \"yaxis\": \"y\"}, {\"hovertemplate\": \"<b>%{hovertext}</b><br><br>birth_country_current=Colombia<br>year=%{x}<br>prize=%{y}<extra></extra>\", \"hovertext\": [\"Colombia\", \"Colombia\"], \"legendgroup\": \"Colombia\", \"line\": {\"color\": \"#FFA15A\", \"dash\": \"solid\"}, \"mode\": \"lines\", \"name\": \"Colombia\", \"orientation\": \"v\", \"showlegend\": true, \"type\": \"scatter\", \"x\": [1982, 2016], \"xaxis\": \"x\", \"y\": [1, 2], \"yaxis\": \"y\"}, {\"hovertemplate\": \"<b>%{hovertext}</b><br><br>birth_country_current=Costa Rica<br>year=%{x}<br>prize=%{y}<extra></extra>\", \"hovertext\": [\"Costa Rica\"], \"legendgroup\": \"Costa Rica\", \"line\": {\"color\": \"#19d3f3\", \"dash\": \"solid\"}, \"mode\": \"lines\", \"name\": \"Costa Rica\", \"orientation\": \"v\", \"showlegend\": true, \"type\": \"scatter\", \"x\": [1987], \"xaxis\": \"x\", \"y\": [1], \"yaxis\": \"y\"}, {\"hovertemplate\": \"<b>%{hovertext}</b><br><br>birth_country_current=Croatia<br>year=%{x}<br>prize=%{y}<extra></extra>\", \"hovertext\": [\"Croatia\"], \"legendgroup\": \"Croatia\", \"line\": {\"color\": \"#FF6692\", \"dash\": \"solid\"}, \"mode\": \"lines\", \"name\": \"Croatia\", \"orientation\": \"v\", \"showlegend\": true, \"type\": \"scatter\", \"x\": [1939], \"xaxis\": \"x\", \"y\": [1], \"yaxis\": \"y\"}, {\"hovertemplate\": \"<b>%{hovertext}</b><br><br>birth_country_current=Cyprus<br>year=%{x}<br>prize=%{y}<extra></extra>\", \"hovertext\": [\"Cyprus\"], \"legendgroup\": \"Cyprus\", \"line\": {\"color\": \"#B6E880\", \"dash\": \"solid\"}, \"mode\": \"lines\", \"name\": \"Cyprus\", \"orientation\": \"v\", \"showlegend\": true, \"type\": \"scatter\", \"x\": [2010], \"xaxis\": \"x\", \"y\": [1], \"yaxis\": \"y\"}, {\"hovertemplate\": \"<b>%{hovertext}</b><br><br>birth_country_current=Czech Republic<br>year=%{x}<br>prize=%{y}<extra></extra>\", \"hovertext\": [\"Czech Republic\", \"Czech Republic\", \"Czech Republic\", \"Czech Republic\", \"Czech Republic\"], \"legendgroup\": \"Czech Republic\", \"line\": {\"color\": \"#FF97FF\", \"dash\": \"solid\"}, \"mode\": \"lines\", \"name\": \"Czech Republic\", \"orientation\": \"v\", \"showlegend\": true, \"type\": \"scatter\", \"x\": [1905, 1947, 1959, 1984, 2007], \"xaxis\": \"x\", \"y\": [1, 3, 4, 5, 6], \"yaxis\": \"y\"}, {\"hovertemplate\": \"<b>%{hovertext}</b><br><br>birth_country_current=Democratic Republic of the Congo<br>year=%{x}<br>prize=%{y}<extra></extra>\", \"hovertext\": [\"Democratic Republic of the Congo\"], \"legendgroup\": \"Democratic Republic of the Congo\", \"line\": {\"color\": \"#FECB52\", \"dash\": \"solid\"}, \"mode\": \"lines\", \"name\": \"Democratic Republic of the Congo\", \"orientation\": \"v\", \"showlegend\": true, \"type\": \"scatter\", \"x\": [2018], \"xaxis\": \"x\", \"y\": [1], \"yaxis\": \"y\"}, {\"hovertemplate\": \"<b>%{hovertext}</b><br><br>birth_country_current=Denmark<br>year=%{x}<br>prize=%{y}<extra></extra>\", \"hovertext\": [\"Denmark\", \"Denmark\", \"Denmark\", \"Denmark\", \"Denmark\", \"Denmark\", \"Denmark\", \"Denmark\", \"Denmark\", \"Denmark\", \"Denmark\"], \"legendgroup\": \"Denmark\", \"line\": {\"color\": \"#636efa\", \"dash\": \"solid\"}, \"mode\": \"lines\", \"name\": \"Denmark\", \"orientation\": \"v\", \"showlegend\": true, \"type\": \"scatter\", \"x\": [1903, 1908, 1917, 1920, 1922, 1926, 1928, 1943, 1944, 1975, 1997], \"xaxis\": \"x\", \"y\": [1, 2, 4, 5, 6, 7, 8, 9, 10, 11, 12], \"yaxis\": \"y\"}, {\"hovertemplate\": \"<b>%{hovertext}</b><br><br>birth_country_current=East Timor<br>year=%{x}<br>prize=%{y}<extra></extra>\", \"hovertext\": [\"East Timor\"], \"legendgroup\": \"East Timor\", \"line\": {\"color\": \"#EF553B\", \"dash\": \"solid\"}, \"mode\": \"lines\", \"name\": \"East Timor\", \"orientation\": \"v\", \"showlegend\": true, \"type\": \"scatter\", \"x\": [1996], \"xaxis\": \"x\", \"y\": [2], \"yaxis\": \"y\"}, {\"hovertemplate\": \"<b>%{hovertext}</b><br><br>birth_country_current=Egypt<br>year=%{x}<br>prize=%{y}<extra></extra>\", \"hovertext\": [\"Egypt\", \"Egypt\", \"Egypt\", \"Egypt\", \"Egypt\", \"Egypt\"], \"legendgroup\": \"Egypt\", \"line\": {\"color\": \"#00cc96\", \"dash\": \"solid\"}, \"mode\": \"lines\", \"name\": \"Egypt\", \"orientation\": \"v\", \"showlegend\": true, \"type\": \"scatter\", \"x\": [1964, 1978, 1988, 1994, 1999, 2005], \"xaxis\": \"x\", \"y\": [1, 2, 3, 4, 5, 6], \"yaxis\": \"y\"}, {\"hovertemplate\": \"<b>%{hovertext}</b><br><br>birth_country_current=Ethiopia<br>year=%{x}<br>prize=%{y}<extra></extra>\", \"hovertext\": [\"Ethiopia\"], \"legendgroup\": \"Ethiopia\", \"line\": {\"color\": \"#ab63fa\", \"dash\": \"solid\"}, \"mode\": \"lines\", \"name\": \"Ethiopia\", \"orientation\": \"v\", \"showlegend\": true, \"type\": \"scatter\", \"x\": [2019], \"xaxis\": \"x\", \"y\": [1], \"yaxis\": \"y\"}, {\"hovertemplate\": \"<b>%{hovertext}</b><br><br>birth_country_current=Finland<br>year=%{x}<br>prize=%{y}<extra></extra>\", \"hovertext\": [\"Finland\", \"Finland\", \"Finland\", \"Finland\", \"Finland\"], \"legendgroup\": \"Finland\", \"line\": {\"color\": \"#FFA15A\", \"dash\": \"solid\"}, \"mode\": \"lines\", \"name\": \"Finland\", \"orientation\": \"v\", \"showlegend\": true, \"type\": \"scatter\", \"x\": [1939, 1945, 1967, 2008, 2016], \"xaxis\": \"x\", \"y\": [1, 2, 3, 4, 5], \"yaxis\": \"y\"}, {\"hovertemplate\": \"<b>%{hovertext}</b><br><br>birth_country_current=France<br>year=%{x}<br>prize=%{y}<extra></extra>\", \"hovertext\": [\"France\", \"France\", \"France\", \"France\", \"France\", \"France\", \"France\", \"France\", \"France\", \"France\", \"France\", \"France\", \"France\", \"France\", \"France\", \"France\", \"France\", \"France\", \"France\", \"France\", \"France\", \"France\", \"France\", \"France\", \"France\", \"France\", \"France\", \"France\", \"France\", \"France\", \"France\", \"France\", \"France\", \"France\", \"France\", \"France\", \"France\", \"France\", \"France\", \"France\", \"France\"], \"legendgroup\": \"France\", \"line\": {\"color\": \"#19d3f3\", \"dash\": \"solid\"}, \"mode\": \"lines\", \"name\": \"France\", \"orientation\": \"v\", \"showlegend\": true, \"type\": \"scatter\", \"x\": [1901, 1903, 1904, 1906, 1907, 1909, 1912, 1913, 1915, 1920, 1921, 1926, 1927, 1928, 1929, 1935, 1937, 1947, 1951, 1952, 1956, 1964, 1965, 1966, 1967, 1968, 1970, 1974, 1977, 1980, 1983, 1987, 1988, 1991, 2007, 2008, 2014, 2016, 2018, 2019, 2020], \"xaxis\": \"x\", \"y\": [2, 4, 5, 6, 8, 9, 12, 14, 15, 16, 17, 19, 21, 22, 23, 25, 26, 27, 28, 30, 31, 32, 35, 36, 37, 38, 40, 41, 42, 43, 44, 45, 46, 47, 48, 51, 53, 54, 55, 56, 57], \"yaxis\": \"y\"}, {\"hovertemplate\": \"<b>%{hovertext}</b><br><br>birth_country_current=Germany<br>year=%{x}<br>prize=%{y}<extra></extra>\", \"hovertext\": [\"Germany\", \"Germany\", \"Germany\", \"Germany\", \"Germany\", \"Germany\", \"Germany\", \"Germany\", \"Germany\", \"Germany\", \"Germany\", \"Germany\", \"Germany\", \"Germany\", \"Germany\", \"Germany\", \"Germany\", \"Germany\", \"Germany\", \"Germany\", \"Germany\", \"Germany\", \"Germany\", \"Germany\", \"Germany\", \"Germany\", \"Germany\", \"Germany\", \"Germany\", \"Germany\", \"Germany\", \"Germany\", \"Germany\", \"Germany\", \"Germany\", \"Germany\", \"Germany\", \"Germany\", \"Germany\", \"Germany\", \"Germany\", \"Germany\", \"Germany\", \"Germany\", \"Germany\", \"Germany\", \"Germany\", \"Germany\", \"Germany\", \"Germany\", \"Germany\", \"Germany\", \"Germany\", \"Germany\", \"Germany\", \"Germany\", \"Germany\", \"Germany\", \"Germany\", \"Germany\", \"Germany\", \"Germany\", \"Germany\"], \"legendgroup\": \"Germany\", \"line\": {\"color\": \"#FF6692\", \"dash\": \"solid\"}, \"mode\": \"lines\", \"name\": \"Germany\", \"orientation\": \"v\", \"showlegend\": true, \"type\": \"scatter\", \"x\": [1901, 1902, 1905, 1907, 1908, 1909, 1910, 1912, 1914, 1915, 1918, 1919, 1920, 1921, 1922, 1925, 1926, 1927, 1928, 1929, 1930, 1931, 1932, 1935, 1936, 1939, 1944, 1945, 1946, 1950, 1953, 1954, 1955, 1956, 1961, 1963, 1964, 1966, 1967, 1969, 1970, 1971, 1972, 1973, 1978, 1979, 1984, 1986, 1987, 1988, 1989, 1991, 1995, 1998, 2000, 2001, 2005, 2007, 2008, 2013, 2017, 2019, 2020], \"xaxis\": \"x\", \"y\": [1, 3, 5, 6, 7, 8, 10, 11, 12, 13, 14, 15, 16, 17, 18, 20, 21, 23, 24, 26, 27, 29, 30, 32, 33, 34, 35, 36, 37, 38, 40, 41, 42, 43, 44, 46, 47, 48, 49, 50, 51, 53, 54, 56, 57, 58, 59, 62, 63, 67, 69, 71, 72, 73, 74, 75, 77, 78, 79, 80, 82, 83, 84], \"yaxis\": \"y\"}, {\"hovertemplate\": \"<b>%{hovertext}</b><br><br>birth_country_current=Ghana<br>year=%{x}<br>prize=%{y}<extra></extra>\", \"hovertext\": [\"Ghana\"], \"legendgroup\": \"Ghana\", \"line\": {\"color\": \"#B6E880\", \"dash\": \"solid\"}, \"mode\": \"lines\", \"name\": \"Ghana\", \"orientation\": \"v\", \"showlegend\": true, \"type\": \"scatter\", \"x\": [2001], \"xaxis\": \"x\", \"y\": [1], \"yaxis\": \"y\"}, {\"hovertemplate\": \"<b>%{hovertext}</b><br><br>birth_country_current=Greece<br>year=%{x}<br>prize=%{y}<extra></extra>\", \"hovertext\": [\"Greece\"], \"legendgroup\": \"Greece\", \"line\": {\"color\": \"#FF97FF\", \"dash\": \"solid\"}, \"mode\": \"lines\", \"name\": \"Greece\", \"orientation\": \"v\", \"showlegend\": true, \"type\": \"scatter\", \"x\": [1979], \"xaxis\": \"x\", \"y\": [1], \"yaxis\": \"y\"}, {\"hovertemplate\": \"<b>%{hovertext}</b><br><br>birth_country_current=Guadeloupe Island<br>year=%{x}<br>prize=%{y}<extra></extra>\", \"hovertext\": [\"Guadeloupe Island\"], \"legendgroup\": \"Guadeloupe Island\", \"line\": {\"color\": \"#FECB52\", \"dash\": \"solid\"}, \"mode\": \"lines\", \"name\": \"Guadeloupe Island\", \"orientation\": \"v\", \"showlegend\": true, \"type\": \"scatter\", \"x\": [1960], \"xaxis\": \"x\", \"y\": [1], \"yaxis\": \"y\"}, {\"hovertemplate\": \"<b>%{hovertext}</b><br><br>birth_country_current=Guatemala<br>year=%{x}<br>prize=%{y}<extra></extra>\", \"hovertext\": [\"Guatemala\", \"Guatemala\"], \"legendgroup\": \"Guatemala\", \"line\": {\"color\": \"#636efa\", \"dash\": \"solid\"}, \"mode\": \"lines\", \"name\": \"Guatemala\", \"orientation\": \"v\", \"showlegend\": true, \"type\": \"scatter\", \"x\": [1967, 1992], \"xaxis\": \"x\", \"y\": [1, 2], \"yaxis\": \"y\"}, {\"hovertemplate\": \"<b>%{hovertext}</b><br><br>birth_country_current=Hungary<br>year=%{x}<br>prize=%{y}<extra></extra>\", \"hovertext\": [\"Hungary\", \"Hungary\", \"Hungary\", \"Hungary\", \"Hungary\", \"Hungary\", \"Hungary\", \"Hungary\"], \"legendgroup\": \"Hungary\", \"line\": {\"color\": \"#EF553B\", \"dash\": \"solid\"}, \"mode\": \"lines\", \"name\": \"Hungary\", \"orientation\": \"v\", \"showlegend\": true, \"type\": \"scatter\", \"x\": [1937, 1943, 1961, 1963, 1971, 1994, 2002, 2004], \"xaxis\": \"x\", \"y\": [1, 2, 3, 4, 5, 7, 8, 9], \"yaxis\": \"y\"}, {\"hovertemplate\": \"<b>%{hovertext}</b><br><br>birth_country_current=Iceland<br>year=%{x}<br>prize=%{y}<extra></extra>\", \"hovertext\": [\"Iceland\"], \"legendgroup\": \"Iceland\", \"line\": {\"color\": \"#00cc96\", \"dash\": \"solid\"}, \"mode\": \"lines\", \"name\": \"Iceland\", \"orientation\": \"v\", \"showlegend\": true, \"type\": \"scatter\", \"x\": [1955], \"xaxis\": \"x\", \"y\": [1], \"yaxis\": \"y\"}, {\"hovertemplate\": \"<b>%{hovertext}</b><br><br>birth_country_current=India<br>year=%{x}<br>prize=%{y}<extra></extra>\", \"hovertext\": [\"India\", \"India\", \"India\", \"India\", \"India\", \"India\", \"India\", \"India\", \"India\"], \"legendgroup\": \"India\", \"line\": {\"color\": \"#ab63fa\", \"dash\": \"solid\"}, \"mode\": \"lines\", \"name\": \"India\", \"orientation\": \"v\", \"showlegend\": true, \"type\": \"scatter\", \"x\": [1902, 1907, 1913, 1930, 1968, 1998, 2009, 2014, 2019], \"xaxis\": \"x\", \"y\": [1, 2, 3, 4, 5, 6, 7, 8, 9], \"yaxis\": \"y\"}, {\"hovertemplate\": \"<b>%{hovertext}</b><br><br>birth_country_current=Indonesia<br>year=%{x}<br>prize=%{y}<extra></extra>\", \"hovertext\": [\"Indonesia\"], \"legendgroup\": \"Indonesia\", \"line\": {\"color\": \"#FFA15A\", \"dash\": \"solid\"}, \"mode\": \"lines\", \"name\": \"Indonesia\", \"orientation\": \"v\", \"showlegend\": true, \"type\": \"scatter\", \"x\": [1924], \"xaxis\": \"x\", \"y\": [1], \"yaxis\": \"y\"}, {\"hovertemplate\": \"<b>%{hovertext}</b><br><br>birth_country_current=Iran<br>year=%{x}<br>prize=%{y}<extra></extra>\", \"hovertext\": [\"Iran\", \"Iran\"], \"legendgroup\": \"Iran\", \"line\": {\"color\": \"#19d3f3\", \"dash\": \"solid\"}, \"mode\": \"lines\", \"name\": \"Iran\", \"orientation\": \"v\", \"showlegend\": true, \"type\": \"scatter\", \"x\": [2003, 2007], \"xaxis\": \"x\", \"y\": [1, 2], \"yaxis\": \"y\"}, {\"hovertemplate\": \"<b>%{hovertext}</b><br><br>birth_country_current=Iraq<br>year=%{x}<br>prize=%{y}<extra></extra>\", \"hovertext\": [\"Iraq\"], \"legendgroup\": \"Iraq\", \"line\": {\"color\": \"#FF6692\", \"dash\": \"solid\"}, \"mode\": \"lines\", \"name\": \"Iraq\", \"orientation\": \"v\", \"showlegend\": true, \"type\": \"scatter\", \"x\": [2018], \"xaxis\": \"x\", \"y\": [1], \"yaxis\": \"y\"}, {\"hovertemplate\": \"<b>%{hovertext}</b><br><br>birth_country_current=Ireland<br>year=%{x}<br>prize=%{y}<extra></extra>\", \"hovertext\": [\"Ireland\", \"Ireland\", \"Ireland\", \"Ireland\", \"Ireland\"], \"legendgroup\": \"Ireland\", \"line\": {\"color\": \"#B6E880\", \"dash\": \"solid\"}, \"mode\": \"lines\", \"name\": \"Ireland\", \"orientation\": \"v\", \"showlegend\": true, \"type\": \"scatter\", \"x\": [1923, 1925, 1951, 1969, 2015], \"xaxis\": \"x\", \"y\": [1, 2, 3, 4, 5], \"yaxis\": \"y\"}, {\"hovertemplate\": \"<b>%{hovertext}</b><br><br>birth_country_current=Israel<br>year=%{x}<br>prize=%{y}<extra></extra>\", \"hovertext\": [\"Israel\", \"Israel\", \"Israel\", \"Israel\", \"Israel\", \"Israel\"], \"legendgroup\": \"Israel\", \"line\": {\"color\": \"#FF97FF\", \"dash\": \"solid\"}, \"mode\": \"lines\", \"name\": \"Israel\", \"orientation\": \"v\", \"showlegend\": true, \"type\": \"scatter\", \"x\": [1994, 2002, 2004, 2009, 2011, 2013], \"xaxis\": \"x\", \"y\": [1, 2, 3, 4, 5, 6], \"yaxis\": \"y\"}, {\"hovertemplate\": \"<b>%{hovertext}</b><br><br>birth_country_current=Italy<br>year=%{x}<br>prize=%{y}<extra></extra>\", \"hovertext\": [\"Italy\", \"Italy\", \"Italy\", \"Italy\", \"Italy\", \"Italy\", \"Italy\", \"Italy\", \"Italy\", \"Italy\", \"Italy\", \"Italy\", \"Italy\", \"Italy\", \"Italy\", \"Italy\"], \"legendgroup\": \"Italy\", \"line\": {\"color\": \"#FECB52\", \"dash\": \"solid\"}, \"mode\": \"lines\", \"name\": \"Italy\", \"orientation\": \"v\", \"showlegend\": true, \"type\": \"scatter\", \"x\": [1906, 1907, 1909, 1926, 1934, 1938, 1959, 1963, 1969, 1975, 1984, 1985, 1986, 1997, 2002, 2007], \"xaxis\": \"x\", \"y\": [2, 3, 4, 5, 6, 7, 9, 10, 11, 13, 14, 15, 16, 17, 18, 19], \"yaxis\": \"y\"}, {\"hovertemplate\": \"<b>%{hovertext}</b><br><br>birth_country_current=Japan<br>year=%{x}<br>prize=%{y}<extra></extra>\", \"hovertext\": [\"Japan\", \"Japan\", \"Japan\", \"Japan\", \"Japan\", \"Japan\", \"Japan\", \"Japan\", \"Japan\", \"Japan\", \"Japan\", \"Japan\", \"Japan\", \"Japan\", \"Japan\", \"Japan\", \"Japan\", \"Japan\", \"Japan\", \"Japan\"], \"legendgroup\": \"Japan\", \"line\": {\"color\": \"#636efa\", \"dash\": \"solid\"}, \"mode\": \"lines\", \"name\": \"Japan\", \"orientation\": \"v\", \"showlegend\": true, \"type\": \"scatter\", \"x\": [1949, 1965, 1968, 1973, 1974, 1981, 1987, 1994, 2000, 2001, 2002, 2008, 2010, 2012, 2014, 2015, 2016, 2017, 2018, 2019], \"xaxis\": \"x\", \"y\": [1, 2, 3, 4, 5, 6, 7, 8, 9, 10, 12, 16, 17, 18, 21, 23, 24, 25, 26, 27], \"yaxis\": \"y\"}, {\"hovertemplate\": \"<b>%{hovertext}</b><br><br>birth_country_current=Kenya<br>year=%{x}<br>prize=%{y}<extra></extra>\", \"hovertext\": [\"Kenya\"], \"legendgroup\": \"Kenya\", \"line\": {\"color\": \"#EF553B\", \"dash\": \"solid\"}, \"mode\": \"lines\", \"name\": \"Kenya\", \"orientation\": \"v\", \"showlegend\": true, \"type\": \"scatter\", \"x\": [2004], \"xaxis\": \"x\", \"y\": [1], \"yaxis\": \"y\"}, {\"hovertemplate\": \"<b>%{hovertext}</b><br><br>birth_country_current=Korea (South Korea)<br>year=%{x}<br>prize=%{y}<extra></extra>\", \"hovertext\": [\"Korea (South Korea)\", \"Korea (South Korea)\"], \"legendgroup\": \"Korea (South Korea)\", \"line\": {\"color\": \"#00cc96\", \"dash\": \"solid\"}, \"mode\": \"lines\", \"name\": \"Korea (South Korea)\", \"orientation\": \"v\", \"showlegend\": true, \"type\": \"scatter\", \"x\": [1987, 2000], \"xaxis\": \"x\", \"y\": [1, 2], \"yaxis\": \"y\"}, {\"hovertemplate\": \"<b>%{hovertext}</b><br><br>birth_country_current=Latvia<br>year=%{x}<br>prize=%{y}<extra></extra>\", \"hovertext\": [\"Latvia\"], \"legendgroup\": \"Latvia\", \"line\": {\"color\": \"#ab63fa\", \"dash\": \"solid\"}, \"mode\": \"lines\", \"name\": \"Latvia\", \"orientation\": \"v\", \"showlegend\": true, \"type\": \"scatter\", \"x\": [1909], \"xaxis\": \"x\", \"y\": [1], \"yaxis\": \"y\"}, {\"hovertemplate\": \"<b>%{hovertext}</b><br><br>birth_country_current=Liberia<br>year=%{x}<br>prize=%{y}<extra></extra>\", \"hovertext\": [\"Liberia\"], \"legendgroup\": \"Liberia\", \"line\": {\"color\": \"#FFA15A\", \"dash\": \"solid\"}, \"mode\": \"lines\", \"name\": \"Liberia\", \"orientation\": \"v\", \"showlegend\": true, \"type\": \"scatter\", \"x\": [2011], \"xaxis\": \"x\", \"y\": [2], \"yaxis\": \"y\"}, {\"hovertemplate\": \"<b>%{hovertext}</b><br><br>birth_country_current=Lithuania<br>year=%{x}<br>prize=%{y}<extra></extra>\", \"hovertext\": [\"Lithuania\", \"Lithuania\", \"Lithuania\"], \"legendgroup\": \"Lithuania\", \"line\": {\"color\": \"#19d3f3\", \"dash\": \"solid\"}, \"mode\": \"lines\", \"name\": \"Lithuania\", \"orientation\": \"v\", \"showlegend\": true, \"type\": \"scatter\", \"x\": [1977, 1980, 1982], \"xaxis\": \"x\", \"y\": [1, 2, 3], \"yaxis\": \"y\"}, {\"hovertemplate\": \"<b>%{hovertext}</b><br><br>birth_country_current=Luxembourg<br>year=%{x}<br>prize=%{y}<extra></extra>\", \"hovertext\": [\"Luxembourg\", \"Luxembourg\"], \"legendgroup\": \"Luxembourg\", \"line\": {\"color\": \"#FF6692\", \"dash\": \"solid\"}, \"mode\": \"lines\", \"name\": \"Luxembourg\", \"orientation\": \"v\", \"showlegend\": true, \"type\": \"scatter\", \"x\": [1908, 2011], \"xaxis\": \"x\", \"y\": [1, 2], \"yaxis\": \"y\"}, {\"hovertemplate\": \"<b>%{hovertext}</b><br><br>birth_country_current=Madagascar<br>year=%{x}<br>prize=%{y}<extra></extra>\", \"hovertext\": [\"Madagascar\"], \"legendgroup\": \"Madagascar\", \"line\": {\"color\": \"#B6E880\", \"dash\": \"solid\"}, \"mode\": \"lines\", \"name\": \"Madagascar\", \"orientation\": \"v\", \"showlegend\": true, \"type\": \"scatter\", \"x\": [1985], \"xaxis\": \"x\", \"y\": [1], \"yaxis\": \"y\"}, {\"hovertemplate\": \"<b>%{hovertext}</b><br><br>birth_country_current=Mexico<br>year=%{x}<br>prize=%{y}<extra></extra>\", \"hovertext\": [\"Mexico\", \"Mexico\", \"Mexico\"], \"legendgroup\": \"Mexico\", \"line\": {\"color\": \"#FF97FF\", \"dash\": \"solid\"}, \"mode\": \"lines\", \"name\": \"Mexico\", \"orientation\": \"v\", \"showlegend\": true, \"type\": \"scatter\", \"x\": [1982, 1990, 1995], \"xaxis\": \"x\", \"y\": [1, 2, 3], \"yaxis\": \"y\"}, {\"hovertemplate\": \"<b>%{hovertext}</b><br><br>birth_country_current=Morocco<br>year=%{x}<br>prize=%{y}<extra></extra>\", \"hovertext\": [\"Morocco\"], \"legendgroup\": \"Morocco\", \"line\": {\"color\": \"#FECB52\", \"dash\": \"solid\"}, \"mode\": \"lines\", \"name\": \"Morocco\", \"orientation\": \"v\", \"showlegend\": true, \"type\": \"scatter\", \"x\": [2012], \"xaxis\": \"x\", \"y\": [1], \"yaxis\": \"y\"}, {\"hovertemplate\": \"<b>%{hovertext}</b><br><br>birth_country_current=Myanmar<br>year=%{x}<br>prize=%{y}<extra></extra>\", \"hovertext\": [\"Myanmar\"], \"legendgroup\": \"Myanmar\", \"line\": {\"color\": \"#636efa\", \"dash\": \"solid\"}, \"mode\": \"lines\", \"name\": \"Myanmar\", \"orientation\": \"v\", \"showlegend\": true, \"type\": \"scatter\", \"x\": [1991], \"xaxis\": \"x\", \"y\": [1], \"yaxis\": \"y\"}, {\"hovertemplate\": \"<b>%{hovertext}</b><br><br>birth_country_current=Netherlands<br>year=%{x}<br>prize=%{y}<extra></extra>\", \"hovertext\": [\"Netherlands\", \"Netherlands\", \"Netherlands\", \"Netherlands\", \"Netherlands\", \"Netherlands\", \"Netherlands\", \"Netherlands\", \"Netherlands\", \"Netherlands\", \"Netherlands\", \"Netherlands\", \"Netherlands\", \"Netherlands\", \"Netherlands\", \"Netherlands\"], \"legendgroup\": \"Netherlands\", \"line\": {\"color\": \"#EF553B\", \"dash\": \"solid\"}, \"mode\": \"lines\", \"name\": \"Netherlands\", \"orientation\": \"v\", \"showlegend\": true, \"type\": \"scatter\", \"x\": [1901, 1902, 1910, 1911, 1913, 1929, 1936, 1953, 1969, 1973, 1975, 1981, 1984, 1995, 1999, 2016], \"xaxis\": \"x\", \"y\": [1, 3, 4, 5, 6, 7, 8, 9, 10, 11, 12, 13, 14, 15, 17, 18], \"yaxis\": \"y\"}, {\"hovertemplate\": \"<b>%{hovertext}</b><br><br>birth_country_current=New Zealand<br>year=%{x}<br>prize=%{y}<extra></extra>\", \"hovertext\": [\"New Zealand\", \"New Zealand\", \"New Zealand\"], \"legendgroup\": \"New Zealand\", \"line\": {\"color\": \"#00cc96\", \"dash\": \"solid\"}, \"mode\": \"lines\", \"name\": \"New Zealand\", \"orientation\": \"v\", \"showlegend\": true, \"type\": \"scatter\", \"x\": [1908, 1962, 2000], \"xaxis\": \"x\", \"y\": [1, 2, 3], \"yaxis\": \"y\"}, {\"hovertemplate\": \"<b>%{hovertext}</b><br><br>birth_country_current=Nigeria<br>year=%{x}<br>prize=%{y}<extra></extra>\", \"hovertext\": [\"Nigeria\"], \"legendgroup\": \"Nigeria\", \"line\": {\"color\": \"#ab63fa\", \"dash\": \"solid\"}, \"mode\": \"lines\", \"name\": \"Nigeria\", \"orientation\": \"v\", \"showlegend\": true, \"type\": \"scatter\", \"x\": [1986], \"xaxis\": \"x\", \"y\": [1], \"yaxis\": \"y\"}, {\"hovertemplate\": \"<b>%{hovertext}</b><br><br>birth_country_current=Norway<br>year=%{x}<br>prize=%{y}<extra></extra>\", \"hovertext\": [\"Norway\", \"Norway\", \"Norway\", \"Norway\", \"Norway\", \"Norway\", \"Norway\", \"Norway\", \"Norway\", \"Norway\"], \"legendgroup\": \"Norway\", \"line\": {\"color\": \"#FFA15A\", \"dash\": \"solid\"}, \"mode\": \"lines\", \"name\": \"Norway\", \"orientation\": \"v\", \"showlegend\": true, \"type\": \"scatter\", \"x\": [1903, 1920, 1921, 1922, 1968, 1969, 1973, 1989, 2004, 2014], \"xaxis\": \"x\", \"y\": [1, 2, 3, 4, 5, 7, 8, 9, 10, 12], \"yaxis\": \"y\"}, {\"hovertemplate\": \"<b>%{hovertext}</b><br><br>birth_country_current=Pakistan<br>year=%{x}<br>prize=%{y}<extra></extra>\", \"hovertext\": [\"Pakistan\", \"Pakistan\", \"Pakistan\"], \"legendgroup\": \"Pakistan\", \"line\": {\"color\": \"#19d3f3\", \"dash\": \"solid\"}, \"mode\": \"lines\", \"name\": \"Pakistan\", \"orientation\": \"v\", \"showlegend\": true, \"type\": \"scatter\", \"x\": [1979, 1983, 2014], \"xaxis\": \"x\", \"y\": [1, 2, 3], \"yaxis\": \"y\"}, {\"hovertemplate\": \"<b>%{hovertext}</b><br><br>birth_country_current=Peru<br>year=%{x}<br>prize=%{y}<extra></extra>\", \"hovertext\": [\"Peru\"], \"legendgroup\": \"Peru\", \"line\": {\"color\": \"#FF6692\", \"dash\": \"solid\"}, \"mode\": \"lines\", \"name\": \"Peru\", \"orientation\": \"v\", \"showlegend\": true, \"type\": \"scatter\", \"x\": [2010], \"xaxis\": \"x\", \"y\": [1], \"yaxis\": \"y\"}, {\"hovertemplate\": \"<b>%{hovertext}</b><br><br>birth_country_current=Poland<br>year=%{x}<br>prize=%{y}<extra></extra>\", \"hovertext\": [\"Poland\", \"Poland\", \"Poland\", \"Poland\", \"Poland\", \"Poland\", \"Poland\", \"Poland\", \"Poland\", \"Poland\", \"Poland\", \"Poland\", \"Poland\", \"Poland\", \"Poland\", \"Poland\", \"Poland\", \"Poland\", \"Poland\", \"Poland\", \"Poland\", \"Poland\", \"Poland\", \"Poland\", \"Poland\"], \"legendgroup\": \"Poland\", \"line\": {\"color\": \"#B6E880\", \"dash\": \"solid\"}, \"mode\": \"lines\", \"name\": \"Poland\", \"orientation\": \"v\", \"showlegend\": true, \"type\": \"scatter\", \"x\": [1901, 1903, 1905, 1907, 1908, 1911, 1918, 1924, 1931, 1939, 1943, 1944, 1950, 1954, 1963, 1964, 1978, 1983, 1985, 1992, 1994, 1995, 1996, 1999, 2018], \"xaxis\": \"x\", \"y\": [1, 2, 3, 4, 5, 6, 7, 8, 9, 10, 11, 12, 14, 15, 16, 17, 18, 19, 20, 21, 22, 23, 24, 26, 27], \"yaxis\": \"y\"}, {\"hovertemplate\": \"<b>%{hovertext}</b><br><br>birth_country_current=Portugal<br>year=%{x}<br>prize=%{y}<extra></extra>\", \"hovertext\": [\"Portugal\", \"Portugal\"], \"legendgroup\": \"Portugal\", \"line\": {\"color\": \"#FF97FF\", \"dash\": \"solid\"}, \"mode\": \"lines\", \"name\": \"Portugal\", \"orientation\": \"v\", \"showlegend\": true, \"type\": \"scatter\", \"x\": [1949, 1998], \"xaxis\": \"x\", \"y\": [1, 2], \"yaxis\": \"y\"}, {\"hovertemplate\": \"<b>%{hovertext}</b><br><br>birth_country_current=Republic of Macedonia<br>year=%{x}<br>prize=%{y}<extra></extra>\", \"hovertext\": [\"Republic of Macedonia\"], \"legendgroup\": \"Republic of Macedonia\", \"line\": {\"color\": \"#FECB52\", \"dash\": \"solid\"}, \"mode\": \"lines\", \"name\": \"Republic of Macedonia\", \"orientation\": \"v\", \"showlegend\": true, \"type\": \"scatter\", \"x\": [1979], \"xaxis\": \"x\", \"y\": [1], \"yaxis\": \"y\"}, {\"hovertemplate\": \"<b>%{hovertext}</b><br><br>birth_country_current=Romania<br>year=%{x}<br>prize=%{y}<extra></extra>\", \"hovertext\": [\"Romania\", \"Romania\", \"Romania\", \"Romania\"], \"legendgroup\": \"Romania\", \"line\": {\"color\": \"#636efa\", \"dash\": \"solid\"}, \"mode\": \"lines\", \"name\": \"Romania\", \"orientation\": \"v\", \"showlegend\": true, \"type\": \"scatter\", \"x\": [1974, 1986, 2009, 2014], \"xaxis\": \"x\", \"y\": [1, 2, 3, 4], \"yaxis\": \"y\"}, {\"hovertemplate\": \"<b>%{hovertext}</b><br><br>birth_country_current=Russia<br>year=%{x}<br>prize=%{y}<extra></extra>\", \"hovertext\": [\"Russia\", \"Russia\", \"Russia\", \"Russia\", \"Russia\", \"Russia\", \"Russia\", \"Russia\", \"Russia\", \"Russia\", \"Russia\", \"Russia\", \"Russia\", \"Russia\", \"Russia\", \"Russia\", \"Russia\", \"Russia\", \"Russia\", \"Russia\"], \"legendgroup\": \"Russia\", \"line\": {\"color\": \"#EF553B\", \"dash\": \"solid\"}, \"mode\": \"lines\", \"name\": \"Russia\", \"orientation\": \"v\", \"showlegend\": true, \"type\": \"scatter\", \"x\": [1904, 1910, 1911, 1933, 1937, 1953, 1956, 1958, 1964, 1965, 1970, 1973, 1975, 1977, 1978, 1987, 1990, 2003, 2007, 2010], \"xaxis\": \"x\", \"y\": [1, 2, 3, 4, 5, 6, 7, 11, 12, 13, 14, 15, 17, 18, 19, 20, 21, 23, 24, 26], \"yaxis\": \"y\"}, {\"hovertemplate\": \"<b>%{hovertext}</b><br><br>birth_country_current=Saint Lucia<br>year=%{x}<br>prize=%{y}<extra></extra>\", \"hovertext\": [\"Saint Lucia\", \"Saint Lucia\"], \"legendgroup\": \"Saint Lucia\", \"line\": {\"color\": \"#00cc96\", \"dash\": \"solid\"}, \"mode\": \"lines\", \"name\": \"Saint Lucia\", \"orientation\": \"v\", \"showlegend\": true, \"type\": \"scatter\", \"x\": [1979, 1992], \"xaxis\": \"x\", \"y\": [1, 2], \"yaxis\": \"y\"}, {\"hovertemplate\": \"<b>%{hovertext}</b><br><br>birth_country_current=Slovakia<br>year=%{x}<br>prize=%{y}<extra></extra>\", \"hovertext\": [\"Slovakia\"], \"legendgroup\": \"Slovakia\", \"line\": {\"color\": \"#ab63fa\", \"dash\": \"solid\"}, \"mode\": \"lines\", \"name\": \"Slovakia\", \"orientation\": \"v\", \"showlegend\": true, \"type\": \"scatter\", \"x\": [1905], \"xaxis\": \"x\", \"y\": [1], \"yaxis\": \"y\"}, {\"hovertemplate\": \"<b>%{hovertext}</b><br><br>birth_country_current=Slovenia<br>year=%{x}<br>prize=%{y}<extra></extra>\", \"hovertext\": [\"Slovenia\"], \"legendgroup\": \"Slovenia\", \"line\": {\"color\": \"#FFA15A\", \"dash\": \"solid\"}, \"mode\": \"lines\", \"name\": \"Slovenia\", \"orientation\": \"v\", \"showlegend\": true, \"type\": \"scatter\", \"x\": [1923], \"xaxis\": \"x\", \"y\": [1], \"yaxis\": \"y\"}, {\"hovertemplate\": \"<b>%{hovertext}</b><br><br>birth_country_current=South Africa<br>year=%{x}<br>prize=%{y}<extra></extra>\", \"hovertext\": [\"South Africa\", \"South Africa\", \"South Africa\", \"South Africa\", \"South Africa\", \"South Africa\", \"South Africa\", \"South Africa\"], \"legendgroup\": \"South Africa\", \"line\": {\"color\": \"#19d3f3\", \"dash\": \"solid\"}, \"mode\": \"lines\", \"name\": \"South Africa\", \"orientation\": \"v\", \"showlegend\": true, \"type\": \"scatter\", \"x\": [1951, 1979, 1984, 1991, 1993, 2002, 2003, 2013], \"xaxis\": \"x\", \"y\": [1, 2, 3, 4, 6, 7, 8, 9], \"yaxis\": \"y\"}, {\"hovertemplate\": \"<b>%{hovertext}</b><br><br>birth_country_current=Spain<br>year=%{x}<br>prize=%{y}<extra></extra>\", \"hovertext\": [\"Spain\", \"Spain\", \"Spain\", \"Spain\", \"Spain\", \"Spain\", \"Spain\"], \"legendgroup\": \"Spain\", \"line\": {\"color\": \"#FF6692\", \"dash\": \"solid\"}, \"mode\": \"lines\", \"name\": \"Spain\", \"orientation\": \"v\", \"showlegend\": true, \"type\": \"scatter\", \"x\": [1904, 1906, 1922, 1956, 1959, 1977, 1989], \"xaxis\": \"x\", \"y\": [1, 2, 3, 4, 5, 6, 7], \"yaxis\": \"y\"}, {\"hovertemplate\": \"<b>%{hovertext}</b><br><br>birth_country_current=Sweden<br>year=%{x}<br>prize=%{y}<extra></extra>\", \"hovertext\": [\"Sweden\", \"Sweden\", \"Sweden\", \"Sweden\", \"Sweden\", \"Sweden\", \"Sweden\", \"Sweden\", \"Sweden\", \"Sweden\", \"Sweden\", \"Sweden\", \"Sweden\", \"Sweden\", \"Sweden\", \"Sweden\", \"Sweden\", \"Sweden\", \"Sweden\", \"Sweden\", \"Sweden\", \"Sweden\", \"Sweden\"], \"legendgroup\": \"Sweden\", \"line\": {\"color\": \"#B6E880\", \"dash\": \"solid\"}, \"mode\": \"lines\", \"name\": \"Sweden\", \"orientation\": \"v\", \"showlegend\": true, \"type\": \"scatter\", \"x\": [1903, 1908, 1909, 1911, 1912, 1916, 1921, 1924, 1926, 1930, 1931, 1948, 1951, 1955, 1961, 1970, 1974, 1977, 1981, 1982, 2000, 2011, 2015], \"xaxis\": \"x\", \"y\": [1, 2, 3, 4, 5, 6, 7, 8, 9, 10, 11, 12, 13, 14, 15, 17, 20, 21, 23, 26, 27, 28, 29], \"yaxis\": \"y\"}, {\"hovertemplate\": \"<b>%{hovertext}</b><br><br>birth_country_current=Switzerland<br>year=%{x}<br>prize=%{y}<extra></extra>\", \"hovertext\": [\"Switzerland\", \"Switzerland\", \"Switzerland\", \"Switzerland\", \"Switzerland\", \"Switzerland\", \"Switzerland\", \"Switzerland\", \"Switzerland\", \"Switzerland\", \"Switzerland\", \"Switzerland\", \"Switzerland\", \"Switzerland\", \"Switzerland\", \"Switzerland\", \"Switzerland\"], \"legendgroup\": \"Switzerland\", \"line\": {\"color\": \"#FF97FF\", \"dash\": \"solid\"}, \"mode\": \"lines\", \"name\": \"Switzerland\", \"orientation\": \"v\", \"showlegend\": true, \"type\": \"scatter\", \"x\": [1901, 1902, 1909, 1919, 1920, 1948, 1949, 1952, 1957, 1978, 1986, 1987, 1991, 1996, 2002, 2017, 2019], \"xaxis\": \"x\", \"y\": [1, 3, 4, 5, 6, 7, 8, 9, 10, 11, 12, 13, 14, 15, 16, 17, 19], \"yaxis\": \"y\"}, {\"hovertemplate\": \"<b>%{hovertext}</b><br><br>birth_country_current=Taiwan<br>year=%{x}<br>prize=%{y}<extra></extra>\", \"hovertext\": [\"Taiwan\"], \"legendgroup\": \"Taiwan\", \"line\": {\"color\": \"#FECB52\", \"dash\": \"solid\"}, \"mode\": \"lines\", \"name\": \"Taiwan\", \"orientation\": \"v\", \"showlegend\": true, \"type\": \"scatter\", \"x\": [1986], \"xaxis\": \"x\", \"y\": [1], \"yaxis\": \"y\"}, {\"hovertemplate\": \"<b>%{hovertext}</b><br><br>birth_country_current=Trinidad<br>year=%{x}<br>prize=%{y}<extra></extra>\", \"hovertext\": [\"Trinidad\"], \"legendgroup\": \"Trinidad\", \"line\": {\"color\": \"#636efa\", \"dash\": \"solid\"}, \"mode\": \"lines\", \"name\": \"Trinidad\", \"orientation\": \"v\", \"showlegend\": true, \"type\": \"scatter\", \"x\": [2001], \"xaxis\": \"x\", \"y\": [1], \"yaxis\": \"y\"}, {\"hovertemplate\": \"<b>%{hovertext}</b><br><br>birth_country_current=Turkey<br>year=%{x}<br>prize=%{y}<extra></extra>\", \"hovertext\": [\"Turkey\", \"Turkey\", \"Turkey\"], \"legendgroup\": \"Turkey\", \"line\": {\"color\": \"#EF553B\", \"dash\": \"solid\"}, \"mode\": \"lines\", \"name\": \"Turkey\", \"orientation\": \"v\", \"showlegend\": true, \"type\": \"scatter\", \"x\": [1963, 2006, 2015], \"xaxis\": \"x\", \"y\": [1, 2, 3], \"yaxis\": \"y\"}, {\"hovertemplate\": \"<b>%{hovertext}</b><br><br>birth_country_current=Ukraine<br>year=%{x}<br>prize=%{y}<extra></extra>\", \"hovertext\": [\"Ukraine\", \"Ukraine\", \"Ukraine\", \"Ukraine\", \"Ukraine\"], \"legendgroup\": \"Ukraine\", \"line\": {\"color\": \"#00cc96\", \"dash\": \"solid\"}, \"mode\": \"lines\", \"name\": \"Ukraine\", \"orientation\": \"v\", \"showlegend\": true, \"type\": \"scatter\", \"x\": [1908, 1952, 1966, 1981, 2015], \"xaxis\": \"x\", \"y\": [1, 2, 3, 4, 5], \"yaxis\": \"y\"}, {\"hovertemplate\": \"<b>%{hovertext}</b><br><br>birth_country_current=United Kingdom<br>year=%{x}<br>prize=%{y}<extra></extra>\", \"hovertext\": [\"United Kingdom\", \"United Kingdom\", \"United Kingdom\", \"United Kingdom\", \"United Kingdom\", \"United Kingdom\", \"United Kingdom\", \"United Kingdom\", \"United Kingdom\", \"United Kingdom\", \"United Kingdom\", \"United Kingdom\", \"United Kingdom\", \"United Kingdom\", \"United Kingdom\", \"United Kingdom\", \"United Kingdom\", \"United Kingdom\", \"United Kingdom\", \"United Kingdom\", \"United Kingdom\", \"United Kingdom\", \"United Kingdom\", \"United Kingdom\", \"United Kingdom\", \"United Kingdom\", \"United Kingdom\", \"United Kingdom\", \"United Kingdom\", \"United Kingdom\", \"United Kingdom\", \"United Kingdom\", \"United Kingdom\", \"United Kingdom\", \"United Kingdom\", \"United Kingdom\", \"United Kingdom\", \"United Kingdom\", \"United Kingdom\", \"United Kingdom\", \"United Kingdom\", \"United Kingdom\", \"United Kingdom\", \"United Kingdom\", \"United Kingdom\", \"United Kingdom\", \"United Kingdom\", \"United Kingdom\", \"United Kingdom\", \"United Kingdom\", \"United Kingdom\", \"United Kingdom\", \"United Kingdom\", \"United Kingdom\", \"United Kingdom\", \"United Kingdom\", \"United Kingdom\", \"United Kingdom\", \"United Kingdom\", \"United Kingdom\", \"United Kingdom\", \"United Kingdom\", \"United Kingdom\", \"United Kingdom\", \"United Kingdom\", \"United Kingdom\", \"United Kingdom\"], \"legendgroup\": \"United Kingdom\", \"line\": {\"color\": \"#ab63fa\", \"dash\": \"solid\"}, \"mode\": \"lines\", \"name\": \"United Kingdom\", \"orientation\": \"v\", \"showlegend\": true, \"type\": \"scatter\", \"x\": [1903, 1904, 1906, 1915, 1917, 1921, 1922, 1923, 1925, 1927, 1928, 1929, 1932, 1933, 1934, 1935, 1936, 1937, 1945, 1947, 1948, 1949, 1950, 1951, 1952, 1953, 1956, 1957, 1958, 1959, 1962, 1963, 1967, 1969, 1972, 1973, 1974, 1976, 1977, 1978, 1979, 1980, 1982, 1983, 1984, 1988, 1991, 1993, 1995, 1996, 1997, 1998, 2001, 2002, 2003, 2005, 2007, 2009, 2010, 2012, 2013, 2015, 2016, 2017, 2018, 2019, 2020], \"xaxis\": \"x\", \"y\": [1, 3, 4, 5, 6, 7, 9, 10, 11, 12, 13, 15, 18, 20, 21, 22, 23, 26, 27, 29, 30, 31, 33, 34, 36, 37, 39, 40, 41, 42, 44, 46, 48, 49, 51, 54, 57, 59, 61, 62, 64, 65, 66, 67, 69, 70, 71, 73, 74, 76, 77, 80, 82, 83, 86, 87, 89, 90, 91, 92, 93, 94, 99, 100, 101, 103, 105], \"yaxis\": \"y\"}, {\"hovertemplate\": \"<b>%{hovertext}</b><br><br>birth_country_current=United States of America<br>year=%{x}<br>prize=%{y}<extra></extra>\", \"hovertext\": [\"United States of America\", \"United States of America\", \"United States of America\", \"United States of America\", \"United States of America\", \"United States of America\", \"United States of America\", \"United States of America\", \"United States of America\", \"United States of America\", \"United States of America\", \"United States of America\", \"United States of America\", \"United States of America\", \"United States of America\", \"United States of America\", \"United States of America\", \"United States of America\", \"United States of America\", \"United States of America\", \"United States of America\", \"United States of America\", \"United States of America\", \"United States of America\", \"United States of America\", \"United States of America\", \"United States of America\", \"United States of America\", \"United States of America\", \"United States of America\", \"United States of America\", \"United States of America\", \"United States of America\", \"United States of America\", \"United States of America\", \"United States of America\", \"United States of America\", \"United States of America\", \"United States of America\", \"United States of America\", \"United States of America\", \"United States of America\", \"United States of America\", \"United States of America\", \"United States of America\", \"United States of America\", \"United States of America\", \"United States of America\", \"United States of America\", \"United States of America\", \"United States of America\", \"United States of America\", \"United States of America\", \"United States of America\", \"United States of America\", \"United States of America\", \"United States of America\", \"United States of America\", \"United States of America\", \"United States of America\", \"United States of America\", \"United States of America\", \"United States of America\", \"United States of America\", \"United States of America\", \"United States of America\", \"United States of America\", \"United States of America\", \"United States of America\", \"United States of America\", \"United States of America\", \"United States of America\", \"United States of America\", \"United States of America\", \"United States of America\", \"United States of America\", \"United States of America\", \"United States of America\", \"United States of America\", \"United States of America\", \"United States of America\", \"United States of America\", \"United States of America\", \"United States of America\", \"United States of America\", \"United States of America\", \"United States of America\", \"United States of America\", \"United States of America\"], \"legendgroup\": \"United States of America\", \"line\": {\"color\": \"#FFA15A\", \"dash\": \"solid\"}, \"mode\": \"lines\", \"name\": \"United States of America\", \"orientation\": \"v\", \"showlegend\": true, \"type\": \"scatter\", \"x\": [1906, 1912, 1914, 1919, 1923, 1925, 1927, 1929, 1930, 1931, 1932, 1933, 1934, 1936, 1937, 1938, 1939, 1943, 1944, 1945, 1946, 1948, 1949, 1950, 1951, 1952, 1953, 1954, 1955, 1956, 1958, 1959, 1960, 1961, 1962, 1964, 1965, 1966, 1967, 1968, 1969, 1970, 1971, 1972, 1974, 1975, 1976, 1977, 1978, 1979, 1980, 1981, 1982, 1983, 1984, 1985, 1986, 1987, 1988, 1989, 1990, 1992, 1993, 1994, 1995, 1996, 1997, 1998, 2000, 2001, 2002, 2003, 2004, 2005, 2006, 2007, 2008, 2009, 2010, 2011, 2012, 2013, 2014, 2015, 2016, 2017, 2018, 2019, 2020], \"xaxis\": \"x\", \"y\": [1, 2, 3, 4, 5, 6, 7, 8, 9, 11, 12, 13, 17, 19, 20, 21, 22, 23, 25, 26, 33, 34, 35, 38, 40, 41, 42, 47, 49, 51, 54, 56, 58, 60, 63, 65, 68, 70, 72, 75, 77, 80, 81, 89, 90, 94, 100, 103, 107, 110, 116, 119, 121, 123, 124, 128, 131, 133, 137, 141, 149, 151, 158, 162, 168, 173, 179, 183, 188, 196, 201, 205, 212, 217, 223, 226, 229, 235, 238, 244, 249, 254, 257, 258, 259, 265, 271, 274, 281], \"yaxis\": \"y\"}, {\"hovertemplate\": \"<b>%{hovertext}</b><br><br>birth_country_current=Venezuela<br>year=%{x}<br>prize=%{y}<extra></extra>\", \"hovertext\": [\"Venezuela\"], \"legendgroup\": \"Venezuela\", \"line\": {\"color\": \"#19d3f3\", \"dash\": \"solid\"}, \"mode\": \"lines\", \"name\": \"Venezuela\", \"orientation\": \"v\", \"showlegend\": true, \"type\": \"scatter\", \"x\": [1980], \"xaxis\": \"x\", \"y\": [1], \"yaxis\": \"y\"}, {\"hovertemplate\": \"<b>%{hovertext}</b><br><br>birth_country_current=Vietnam<br>year=%{x}<br>prize=%{y}<extra></extra>\", \"hovertext\": [\"Vietnam\"], \"legendgroup\": \"Vietnam\", \"line\": {\"color\": \"#FF6692\", \"dash\": \"solid\"}, \"mode\": \"lines\", \"name\": \"Vietnam\", \"orientation\": \"v\", \"showlegend\": true, \"type\": \"scatter\", \"x\": [1973], \"xaxis\": \"x\", \"y\": [1], \"yaxis\": \"y\"}, {\"hovertemplate\": \"<b>%{hovertext}</b><br><br>birth_country_current=Yemen<br>year=%{x}<br>prize=%{y}<extra></extra>\", \"hovertext\": [\"Yemen\"], \"legendgroup\": \"Yemen\", \"line\": {\"color\": \"#B6E880\", \"dash\": \"solid\"}, \"mode\": \"lines\", \"name\": \"Yemen\", \"orientation\": \"v\", \"showlegend\": true, \"type\": \"scatter\", \"x\": [2011], \"xaxis\": \"x\", \"y\": [1], \"yaxis\": \"y\"}, {\"hovertemplate\": \"<b>%{hovertext}</b><br><br>birth_country_current=Zimbabwe<br>year=%{x}<br>prize=%{y}<extra></extra>\", \"hovertext\": [\"Zimbabwe\"], \"legendgroup\": \"Zimbabwe\", \"line\": {\"color\": \"#FF97FF\", \"dash\": \"solid\"}, \"mode\": \"lines\", \"name\": \"Zimbabwe\", \"orientation\": \"v\", \"showlegend\": true, \"type\": \"scatter\", \"x\": [1960], \"xaxis\": \"x\", \"y\": [1], \"yaxis\": \"y\"}],                        {\"legend\": {\"title\": {\"text\": \"birth_country_current\"}, \"tracegroupgap\": 0}, \"template\": {\"data\": {\"bar\": [{\"error_x\": {\"color\": \"#2a3f5f\"}, \"error_y\": {\"color\": \"#2a3f5f\"}, \"marker\": {\"line\": {\"color\": \"#E5ECF6\", \"width\": 0.5}}, \"type\": \"bar\"}], \"barpolar\": [{\"marker\": {\"line\": {\"color\": \"#E5ECF6\", \"width\": 0.5}}, \"type\": \"barpolar\"}], \"carpet\": [{\"aaxis\": {\"endlinecolor\": \"#2a3f5f\", \"gridcolor\": \"white\", \"linecolor\": \"white\", \"minorgridcolor\": \"white\", \"startlinecolor\": \"#2a3f5f\"}, \"baxis\": {\"endlinecolor\": \"#2a3f5f\", \"gridcolor\": \"white\", \"linecolor\": \"white\", \"minorgridcolor\": \"white\", \"startlinecolor\": \"#2a3f5f\"}, \"type\": \"carpet\"}], \"choropleth\": [{\"colorbar\": {\"outlinewidth\": 0, \"ticks\": \"\"}, \"type\": \"choropleth\"}], \"contour\": [{\"colorbar\": {\"outlinewidth\": 0, \"ticks\": \"\"}, \"colorscale\": [[0.0, \"#0d0887\"], [0.1111111111111111, \"#46039f\"], [0.2222222222222222, \"#7201a8\"], [0.3333333333333333, \"#9c179e\"], [0.4444444444444444, \"#bd3786\"], [0.5555555555555556, \"#d8576b\"], [0.6666666666666666, \"#ed7953\"], [0.7777777777777778, \"#fb9f3a\"], [0.8888888888888888, \"#fdca26\"], [1.0, \"#f0f921\"]], \"type\": \"contour\"}], \"contourcarpet\": [{\"colorbar\": {\"outlinewidth\": 0, \"ticks\": \"\"}, \"type\": \"contourcarpet\"}], \"heatmap\": [{\"colorbar\": {\"outlinewidth\": 0, \"ticks\": \"\"}, \"colorscale\": [[0.0, \"#0d0887\"], [0.1111111111111111, \"#46039f\"], [0.2222222222222222, \"#7201a8\"], [0.3333333333333333, \"#9c179e\"], [0.4444444444444444, \"#bd3786\"], [0.5555555555555556, \"#d8576b\"], [0.6666666666666666, \"#ed7953\"], [0.7777777777777778, \"#fb9f3a\"], [0.8888888888888888, \"#fdca26\"], [1.0, \"#f0f921\"]], \"type\": \"heatmap\"}], \"heatmapgl\": [{\"colorbar\": {\"outlinewidth\": 0, \"ticks\": \"\"}, \"colorscale\": [[0.0, \"#0d0887\"], [0.1111111111111111, \"#46039f\"], [0.2222222222222222, \"#7201a8\"], [0.3333333333333333, \"#9c179e\"], [0.4444444444444444, \"#bd3786\"], [0.5555555555555556, \"#d8576b\"], [0.6666666666666666, \"#ed7953\"], [0.7777777777777778, \"#fb9f3a\"], [0.8888888888888888, \"#fdca26\"], [1.0, \"#f0f921\"]], \"type\": \"heatmapgl\"}], \"histogram\": [{\"marker\": {\"colorbar\": {\"outlinewidth\": 0, \"ticks\": \"\"}}, \"type\": \"histogram\"}], \"histogram2d\": [{\"colorbar\": {\"outlinewidth\": 0, \"ticks\": \"\"}, \"colorscale\": [[0.0, \"#0d0887\"], [0.1111111111111111, \"#46039f\"], [0.2222222222222222, \"#7201a8\"], [0.3333333333333333, \"#9c179e\"], [0.4444444444444444, \"#bd3786\"], [0.5555555555555556, \"#d8576b\"], [0.6666666666666666, \"#ed7953\"], [0.7777777777777778, \"#fb9f3a\"], [0.8888888888888888, \"#fdca26\"], [1.0, \"#f0f921\"]], \"type\": \"histogram2d\"}], \"histogram2dcontour\": [{\"colorbar\": {\"outlinewidth\": 0, \"ticks\": \"\"}, \"colorscale\": [[0.0, \"#0d0887\"], [0.1111111111111111, \"#46039f\"], [0.2222222222222222, \"#7201a8\"], [0.3333333333333333, \"#9c179e\"], [0.4444444444444444, \"#bd3786\"], [0.5555555555555556, \"#d8576b\"], [0.6666666666666666, \"#ed7953\"], [0.7777777777777778, \"#fb9f3a\"], [0.8888888888888888, \"#fdca26\"], [1.0, \"#f0f921\"]], \"type\": \"histogram2dcontour\"}], \"mesh3d\": [{\"colorbar\": {\"outlinewidth\": 0, \"ticks\": \"\"}, \"type\": \"mesh3d\"}], \"parcoords\": [{\"line\": {\"colorbar\": {\"outlinewidth\": 0, \"ticks\": \"\"}}, \"type\": \"parcoords\"}], \"pie\": [{\"automargin\": true, \"type\": \"pie\"}], \"scatter\": [{\"marker\": {\"colorbar\": {\"outlinewidth\": 0, \"ticks\": \"\"}}, \"type\": \"scatter\"}], \"scatter3d\": [{\"line\": {\"colorbar\": {\"outlinewidth\": 0, \"ticks\": \"\"}}, \"marker\": {\"colorbar\": {\"outlinewidth\": 0, \"ticks\": \"\"}}, \"type\": \"scatter3d\"}], \"scattercarpet\": [{\"marker\": {\"colorbar\": {\"outlinewidth\": 0, \"ticks\": \"\"}}, \"type\": \"scattercarpet\"}], \"scattergeo\": [{\"marker\": {\"colorbar\": {\"outlinewidth\": 0, \"ticks\": \"\"}}, \"type\": \"scattergeo\"}], \"scattergl\": [{\"marker\": {\"colorbar\": {\"outlinewidth\": 0, \"ticks\": \"\"}}, \"type\": \"scattergl\"}], \"scattermapbox\": [{\"marker\": {\"colorbar\": {\"outlinewidth\": 0, \"ticks\": \"\"}}, \"type\": \"scattermapbox\"}], \"scatterpolar\": [{\"marker\": {\"colorbar\": {\"outlinewidth\": 0, \"ticks\": \"\"}}, \"type\": \"scatterpolar\"}], \"scatterpolargl\": [{\"marker\": {\"colorbar\": {\"outlinewidth\": 0, \"ticks\": \"\"}}, \"type\": \"scatterpolargl\"}], \"scatterternary\": [{\"marker\": {\"colorbar\": {\"outlinewidth\": 0, \"ticks\": \"\"}}, \"type\": \"scatterternary\"}], \"surface\": [{\"colorbar\": {\"outlinewidth\": 0, \"ticks\": \"\"}, \"colorscale\": [[0.0, \"#0d0887\"], [0.1111111111111111, \"#46039f\"], [0.2222222222222222, \"#7201a8\"], [0.3333333333333333, \"#9c179e\"], [0.4444444444444444, \"#bd3786\"], [0.5555555555555556, \"#d8576b\"], [0.6666666666666666, \"#ed7953\"], [0.7777777777777778, \"#fb9f3a\"], [0.8888888888888888, \"#fdca26\"], [1.0, \"#f0f921\"]], \"type\": \"surface\"}], \"table\": [{\"cells\": {\"fill\": {\"color\": \"#EBF0F8\"}, \"line\": {\"color\": \"white\"}}, \"header\": {\"fill\": {\"color\": \"#C8D4E3\"}, \"line\": {\"color\": \"white\"}}, \"type\": \"table\"}]}, \"layout\": {\"annotationdefaults\": {\"arrowcolor\": \"#2a3f5f\", \"arrowhead\": 0, \"arrowwidth\": 1}, \"autotypenumbers\": \"strict\", \"coloraxis\": {\"colorbar\": {\"outlinewidth\": 0, \"ticks\": \"\"}}, \"colorscale\": {\"diverging\": [[0, \"#8e0152\"], [0.1, \"#c51b7d\"], [0.2, \"#de77ae\"], [0.3, \"#f1b6da\"], [0.4, \"#fde0ef\"], [0.5, \"#f7f7f7\"], [0.6, \"#e6f5d0\"], [0.7, \"#b8e186\"], [0.8, \"#7fbc41\"], [0.9, \"#4d9221\"], [1, \"#276419\"]], \"sequential\": [[0.0, \"#0d0887\"], [0.1111111111111111, \"#46039f\"], [0.2222222222222222, \"#7201a8\"], [0.3333333333333333, \"#9c179e\"], [0.4444444444444444, \"#bd3786\"], [0.5555555555555556, \"#d8576b\"], [0.6666666666666666, \"#ed7953\"], [0.7777777777777778, \"#fb9f3a\"], [0.8888888888888888, \"#fdca26\"], [1.0, \"#f0f921\"]], \"sequentialminus\": [[0.0, \"#0d0887\"], [0.1111111111111111, \"#46039f\"], [0.2222222222222222, \"#7201a8\"], [0.3333333333333333, \"#9c179e\"], [0.4444444444444444, \"#bd3786\"], [0.5555555555555556, \"#d8576b\"], [0.6666666666666666, \"#ed7953\"], [0.7777777777777778, \"#fb9f3a\"], [0.8888888888888888, \"#fdca26\"], [1.0, \"#f0f921\"]]}, \"colorway\": [\"#636efa\", \"#EF553B\", \"#00cc96\", \"#ab63fa\", \"#FFA15A\", \"#19d3f3\", \"#FF6692\", \"#B6E880\", \"#FF97FF\", \"#FECB52\"], \"font\": {\"color\": \"#2a3f5f\"}, \"geo\": {\"bgcolor\": \"white\", \"lakecolor\": \"white\", \"landcolor\": \"#E5ECF6\", \"showlakes\": true, \"showland\": true, \"subunitcolor\": \"white\"}, \"hoverlabel\": {\"align\": \"left\"}, \"hovermode\": \"closest\", \"mapbox\": {\"style\": \"light\"}, \"paper_bgcolor\": \"white\", \"plot_bgcolor\": \"#E5ECF6\", \"polar\": {\"angularaxis\": {\"gridcolor\": \"white\", \"linecolor\": \"white\", \"ticks\": \"\"}, \"bgcolor\": \"#E5ECF6\", \"radialaxis\": {\"gridcolor\": \"white\", \"linecolor\": \"white\", \"ticks\": \"\"}}, \"scene\": {\"xaxis\": {\"backgroundcolor\": \"#E5ECF6\", \"gridcolor\": \"white\", \"gridwidth\": 2, \"linecolor\": \"white\", \"showbackground\": true, \"ticks\": \"\", \"zerolinecolor\": \"white\"}, \"yaxis\": {\"backgroundcolor\": \"#E5ECF6\", \"gridcolor\": \"white\", \"gridwidth\": 2, \"linecolor\": \"white\", \"showbackground\": true, \"ticks\": \"\", \"zerolinecolor\": \"white\"}, \"zaxis\": {\"backgroundcolor\": \"#E5ECF6\", \"gridcolor\": \"white\", \"gridwidth\": 2, \"linecolor\": \"white\", \"showbackground\": true, \"ticks\": \"\", \"zerolinecolor\": \"white\"}}, \"shapedefaults\": {\"line\": {\"color\": \"#2a3f5f\"}}, \"ternary\": {\"aaxis\": {\"gridcolor\": \"white\", \"linecolor\": \"white\", \"ticks\": \"\"}, \"baxis\": {\"gridcolor\": \"white\", \"linecolor\": \"white\", \"ticks\": \"\"}, \"bgcolor\": \"#E5ECF6\", \"caxis\": {\"gridcolor\": \"white\", \"linecolor\": \"white\", \"ticks\": \"\"}}, \"title\": {\"x\": 0.05}, \"xaxis\": {\"automargin\": true, \"gridcolor\": \"white\", \"linecolor\": \"white\", \"ticks\": \"\", \"title\": {\"standoff\": 15}, \"zerolinecolor\": \"white\", \"zerolinewidth\": 2}, \"yaxis\": {\"automargin\": true, \"gridcolor\": \"white\", \"linecolor\": \"white\", \"ticks\": \"\", \"title\": {\"standoff\": 15}, \"zerolinecolor\": \"white\", \"zerolinewidth\": 2}}}, \"title\": {\"text\": \"Number of Prizes Won by Each Country Over Time\"}, \"xaxis\": {\"anchor\": \"y\", \"domain\": [0.0, 1.0], \"title\": {\"text\": \"Year\"}}, \"yaxis\": {\"anchor\": \"x\", \"domain\": [0.0, 1.0], \"title\": {\"text\": \"Number of Prizes\"}}},                        {\"responsive\": true}                    ).then(function(){\n",
       "                            \n",
       "var gd = document.getElementById('d0b72c72-12ae-4e86-82f9-4edb811ab346');\n",
       "var x = new MutationObserver(function (mutations, observer) {{\n",
       "        var display = window.getComputedStyle(gd).display;\n",
       "        if (!display || display === 'none') {{\n",
       "            console.log([gd, 'removed!']);\n",
       "            Plotly.purge(gd);\n",
       "            observer.disconnect();\n",
       "        }}\n",
       "}});\n",
       "\n",
       "// Listen for the removal of the full notebook cells\n",
       "var notebookContainer = gd.closest('#notebook-container');\n",
       "if (notebookContainer) {{\n",
       "    x.observe(notebookContainer, {childList: true});\n",
       "}}\n",
       "\n",
       "// Listen for the clearing of the current output cell\n",
       "var outputEl = gd.closest('.output');\n",
       "if (outputEl) {{\n",
       "    x.observe(outputEl, {childList: true});\n",
       "}}\n",
       "\n",
       "                        })                };                });            </script>        </div>"
      ]
     },
     "metadata": {},
     "output_type": "display_data"
    }
   ],
   "source": [
    "over_time = px.line(cumulative_prizes, \n",
    "                    x='year', \n",
    "                    y='prize', \n",
    "                    color='birth_country_current', \n",
    "                    hover_name='birth_country_current', \n",
    "                    title='Number of Prizes Won by Each Country Over Time')\n",
    "over_time.update_layout(xaxis_title='Year',\n",
    "                        yaxis_title='Number of Prizes')\n",
    "over_time.show()"
   ]
  },
  {
   "cell_type": "markdown",
   "metadata": {
    "id": "J7WUUZpUo7Mj"
   },
   "source": [
    "# What are the Top Research Organisations?\n",
    "\n",
    "**Challenge**: Create a bar chart showing the organisations affiliated with the Nobel laureates. It should looks something like this:\n",
    "\n",
    "<img src=https://i.imgur.com/zZihj2p.png width=600>\n",
    "\n",
    "* Which organisations make up the top 20?\n",
    "* How many Nobel prize winners are affiliated with the University of Chicago and Harvard University?"
   ]
  },
  {
   "cell_type": "code",
   "execution_count": null,
   "metadata": {
    "id": "2jdCXcqcGCxL"
   },
   "outputs": [],
   "source": []
  },
  {
   "cell_type": "code",
   "execution_count": null,
   "metadata": {
    "id": "Db3Zll65GDQd"
   },
   "outputs": [],
   "source": []
  },
  {
   "cell_type": "code",
   "execution_count": null,
   "metadata": {
    "id": "rRDeI_jjGDII"
   },
   "outputs": [],
   "source": []
  },
  {
   "cell_type": "code",
   "execution_count": null,
   "metadata": {
    "id": "zH4Bko6UGEc3"
   },
   "outputs": [],
   "source": []
  },
  {
   "cell_type": "code",
   "execution_count": null,
   "metadata": {
    "id": "C_wDWepRGCpL"
   },
   "outputs": [],
   "source": []
  },
  {
   "cell_type": "markdown",
   "metadata": {
    "id": "d9AXIRyNo7Mp"
   },
   "source": [
    "# Which Cities Make the Most Discoveries? \n",
    "\n",
    "Where do major discoveries take place?  \n",
    "\n",
    "**Challenge**: \n",
    "* Create another plotly bar chart graphing the top 20 organisation cities of the research institutions associated with a Nobel laureate. \n",
    "* Where is the number one hotspot for discoveries in the world?\n",
    "* Which city in Europe has had the most discoveries?"
   ]
  },
  {
   "cell_type": "code",
   "execution_count": null,
   "metadata": {
    "id": "sHYI5FLAGFRh"
   },
   "outputs": [],
   "source": []
  },
  {
   "cell_type": "code",
   "execution_count": null,
   "metadata": {
    "id": "rsI7xC0sGFOb"
   },
   "outputs": [],
   "source": []
  },
  {
   "cell_type": "markdown",
   "metadata": {
    "id": "R6UQrcixo7Mm"
   },
   "source": [
    "# Where are Nobel Laureates Born? Chart the Laureate Birth Cities \n",
    "\n",
    "**Challenge**: \n",
    "* Create a plotly bar chart graphing the top 20 birth cities of Nobel laureates. \n",
    "* Use a named colour scale called `Plasma` for the chart.\n",
    "* What percentage of the United States prizes came from Nobel laureates born in New York? \n",
    "* How many Nobel laureates were born in London, Paris and Vienna? \n",
    "* Out of the top 5 cities, how many are in the United States?\n"
   ]
  },
  {
   "cell_type": "code",
   "execution_count": null,
   "metadata": {
    "id": "JukPm21GGG9i"
   },
   "outputs": [],
   "source": []
  },
  {
   "cell_type": "code",
   "execution_count": null,
   "metadata": {
    "id": "t14pn2kxGG2C"
   },
   "outputs": [],
   "source": []
  },
  {
   "cell_type": "markdown",
   "metadata": {
    "id": "YN6KxT5oo7Mq"
   },
   "source": [
    "# Plotly Sunburst Chart: Combine Country, City, and Organisation\n",
    "\n",
    "**Challenge**: \n",
    "\n",
    "* Create a DataFrame that groups the number of prizes by organisation. \n",
    "* Then use the [plotly documentation to create a sunburst chart](https://plotly.com/python/sunburst-charts/)\n",
    "* Click around in your chart, what do you notice about Germany and France? \n",
    "\n",
    "\n",
    "Here's what you're aiming for:\n",
    "\n",
    "<img src=https://i.imgur.com/cemX4m5.png width=300>\n",
    "\n"
   ]
  },
  {
   "cell_type": "code",
   "execution_count": null,
   "metadata": {
    "id": "jGOx7MxCGI20"
   },
   "outputs": [],
   "source": []
  },
  {
   "cell_type": "code",
   "execution_count": null,
   "metadata": {
    "id": "l1DPxFgRGJBg"
   },
   "outputs": [],
   "source": []
  },
  {
   "cell_type": "code",
   "execution_count": null,
   "metadata": {
    "id": "BJQoljdqGIu3"
   },
   "outputs": [],
   "source": []
  },
  {
   "cell_type": "markdown",
   "metadata": {
    "id": "PW4jvWFWo7Mv"
   },
   "source": [
    "# Patterns in the Laureate Age at the Time of the Award\n",
    "\n",
    "How Old Are the Laureates When the Win the Prize?\n",
    "\n",
    "**Challenge**: Calculate the age of the laureate in the year of the ceremony and add this as a column called `winning_age` to the `df_data` DataFrame. Hint: you can use [this](https://pandas.pydata.org/pandas-docs/stable/reference/api/pandas.Series.dt.html) to help you. \n",
    "\n"
   ]
  },
  {
   "cell_type": "code",
   "execution_count": null,
   "metadata": {
    "id": "2f4JpfUCGLd2"
   },
   "outputs": [],
   "source": []
  },
  {
   "cell_type": "code",
   "execution_count": null,
   "metadata": {
    "id": "jHkFqlGnGLnf"
   },
   "outputs": [],
   "source": []
  },
  {
   "cell_type": "code",
   "execution_count": null,
   "metadata": {
    "id": "-Ooq0xoPGLV_"
   },
   "outputs": [],
   "source": []
  },
  {
   "cell_type": "markdown",
   "metadata": {
    "dc": {
     "key": "66"
    },
    "id": "09344hnCo7My",
    "run_control": {
     "frozen": true
    },
    "tags": [
     "context"
    ]
   },
   "source": [
    "### Who were the oldest and youngest winners?\n",
    "\n",
    "**Challenge**: \n",
    "* What are the names of the youngest and oldest Nobel laureate? \n",
    "* What did they win the prize for?\n",
    "* What is the average age of a winner?\n",
    "* 75% of laureates are younger than what age when they receive the prize?\n",
    "* Use Seaborn to [create histogram](https://seaborn.pydata.org/generated/seaborn.histplot.html) to visualise the distribution of laureate age at the time of winning. Experiment with the number of `bins` to see how the visualisation changes."
   ]
  },
  {
   "cell_type": "code",
   "execution_count": null,
   "metadata": {
    "id": "IzGfeUyNGNcR"
   },
   "outputs": [],
   "source": []
  },
  {
   "cell_type": "code",
   "execution_count": null,
   "metadata": {
    "id": "inN6ggCUGNUy"
   },
   "outputs": [],
   "source": []
  },
  {
   "cell_type": "markdown",
   "metadata": {
    "id": "UQxMUPddo6fo"
   },
   "source": [
    "### Descriptive Statistics for the Laureate Age at Time of Award\n",
    "\n",
    "* Calculate the descriptive statistics for the age at the time of the award. \n",
    "* Then visualise the distribution in the form of a histogram using [Seaborn's .histplot() function](https://seaborn.pydata.org/generated/seaborn.histplot.html).\n",
    "* Experiment with the `bin` size. Try 10, 20, 30, and 50.  "
   ]
  },
  {
   "cell_type": "code",
   "execution_count": null,
   "metadata": {
    "id": "6vlp5S0WGO98"
   },
   "outputs": [],
   "source": []
  },
  {
   "cell_type": "code",
   "execution_count": null,
   "metadata": {
    "id": "P6cAIrB5GO24"
   },
   "outputs": [],
   "source": []
  },
  {
   "cell_type": "markdown",
   "metadata": {
    "id": "gljdi8sxpkg7"
   },
   "source": [
    "### Age at Time of Award throughout History\n",
    "\n",
    "Are Nobel laureates being nominated later in life than before? Have the ages of laureates at the time of the award increased or decreased over time?\n",
    "\n",
    "**Challenge**\n",
    "\n",
    "* Use Seaborn to [create a .regplot](https://seaborn.pydata.org/generated/seaborn.regplot.html?highlight=regplot#seaborn.regplot) with a trendline.\n",
    "* Set the `lowess` parameter to `True` to show a moving average of the linear fit.\n",
    "* According to the best fit line, how old were Nobel laureates in the years 1900-1940 when they were awarded the prize?\n",
    "* According to the best fit line, what age would it predict for a Nobel laureate in 2020?\n"
   ]
  },
  {
   "cell_type": "code",
   "execution_count": null,
   "metadata": {
    "id": "AjUdtyB9GQ9w"
   },
   "outputs": [],
   "source": []
  },
  {
   "cell_type": "code",
   "execution_count": null,
   "metadata": {
    "id": "B_NsO6aaGQzu"
   },
   "outputs": [],
   "source": []
  },
  {
   "cell_type": "markdown",
   "metadata": {
    "dc": {
     "key": "59"
    },
    "id": "CPFMftF9o7M5",
    "run_control": {
     "frozen": true
    },
    "tags": [
     "context"
    ]
   },
   "source": [
    "### Winning Age Across the Nobel Prize Categories\n",
    "\n",
    "How does the age of laureates vary by category? \n",
    "\n",
    "* Use Seaborn's [`.boxplot()`](https://seaborn.pydata.org/generated/seaborn.boxplot.html?highlight=boxplot#seaborn.boxplot) to show how the mean, quartiles, max, and minimum values vary across categories. Which category has the longest \"whiskers\"? \n",
    "* In which prize category are the average winners the oldest?\n",
    "* In which prize category are the average winners the youngest?"
   ]
  },
  {
   "cell_type": "code",
   "execution_count": null,
   "metadata": {
    "id": "mbpG0Kj5GSxg"
   },
   "outputs": [],
   "source": []
  },
  {
   "cell_type": "code",
   "execution_count": null,
   "metadata": {
    "id": "WiGT3CmuGSqp"
   },
   "outputs": [],
   "source": []
  },
  {
   "cell_type": "markdown",
   "metadata": {
    "id": "M9qE0P4-8i5L"
   },
   "source": [
    "**Challenge**\n",
    "* Now use Seaborn's [`.lmplot()`](https://seaborn.pydata.org/generated/seaborn.lmplot.html?highlight=lmplot#seaborn.lmplot) and the `row` parameter to create 6 separate charts for each prize category. Again set `lowess` to `True`.\n",
    "* What are the winning age trends in each category? \n",
    "* Which category has the age trending up and which category has the age trending down? \n",
    "* Is this `.lmplot()` telling a different story from the `.boxplot()`?\n",
    "* Create another chart with Seaborn. This time use `.lmplot()` to put all 6 categories on the same chart using the `hue` parameter. \n"
   ]
  },
  {
   "cell_type": "code",
   "execution_count": null,
   "metadata": {
    "id": "HcdLGWC7GUb7"
   },
   "outputs": [],
   "source": []
  },
  {
   "cell_type": "code",
   "execution_count": null,
   "metadata": {
    "id": "8HwP_swVGUiq"
   },
   "outputs": [],
   "source": []
  },
  {
   "cell_type": "code",
   "execution_count": null,
   "metadata": {
    "id": "Ml9w1jFjGUTi"
   },
   "outputs": [],
   "source": []
  },
  {
   "cell_type": "code",
   "execution_count": null,
   "metadata": {
    "id": "PJD0-Opko7M_"
   },
   "outputs": [],
   "source": []
  },
  {
   "cell_type": "code",
   "execution_count": null,
   "metadata": {
    "id": "9F9f_2HZo7NA"
   },
   "outputs": [],
   "source": []
  }
 ],
 "metadata": {
  "colab": {
   "name": "Nobel Prize Analysis (start).ipynb",
   "provenance": []
  },
  "kernelspec": {
   "display_name": "Python 3",
   "language": "python",
   "name": "python3"
  },
  "language_info": {
   "codemirror_mode": {
    "name": "ipython",
    "version": 3
   },
   "file_extension": ".py",
   "mimetype": "text/x-python",
   "name": "python",
   "nbconvert_exporter": "python",
   "pygments_lexer": "ipython3",
   "version": "3.8.5"
  }
 },
 "nbformat": 4,
 "nbformat_minor": 1
}
